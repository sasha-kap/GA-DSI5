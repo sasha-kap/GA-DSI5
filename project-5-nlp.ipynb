{
 "cells": [
  {
   "cell_type": "markdown",
   "metadata": {},
   "source": [
    "<img src=\"http://imgur.com/1ZcRyrc.png\" style=\"float: left; margin: 15px; height: 80px\">\n",
    "\n",
    "# Project 5\n",
    "\n",
    "\n",
    "## NLP and Machine Learning on [travel.statsexchange.com](http://travel.stackexchange.com/) data\n",
    "\n",
    "---\n",
    "\n",
    "In Project 7 you'll be doing NLP and machine learning on post data from stackexchange's travel subdomain. \n",
    "\n",
    "This project is setup like a mini Kaggle competition. You are given the training data and when projects are submitted your model will be tested on the held-out testing data. There will be prizes for the people who build models that perform best on the held out test set!\n",
    "\n",
    "---\n",
    "\n",
    "## Notes on the data\n",
    "\n",
    "The data is again compressed into the `.7z` file format to save space. There are 6 .csv files and one readme file that contains some information on the fields.\n",
    "\n",
    "    posts_train.csv\n",
    "    comments_train.csv\n",
    "    users.csv\n",
    "    badges.csv\n",
    "    votes_train.csv\n",
    "    tags.csv\n",
    "    readme.txt\n",
    "    \n",
    "The data is located in your datasets folder:\n",
    "\n",
    "    DSI-SF-2/datasets/stack_exchange_travel.7z\n",
    "    \n",
    "If you're interested in where this data came from and where to get more data from other stackexchange subdomains, see here:\n",
    "\n",
    "https://ia800500.us.archive.org/22/items/stackexchange/readme.txt\n",
    "\n",
    "\n",
    "### Recommended Utilities for .7z\n",
    "\n",
    "- For OSX [Keka](http://www.kekaosx.com/en/) or [The Unarchiver](http://wakaba.c3.cx/s/apps/unarchiver.html). \n",
    "- For Windows [7-zip](http://www.7-zip.org/) is the standard. \n",
    "- For Linux try the `p7zip` utility.  `sudo apt-get install p7zip`.\n",
    "\n"
   ]
  },
  {
   "cell_type": "markdown",
   "metadata": {},
   "source": [
    "<img src=\"http://imgur.com/l5NasQj.png\" style=\"float: left; margin: 25px 15px 0px 0px; height: 25px\">\n",
    "\n",
    "### 1. Use LDA to find what topics are discussed on travel.stackexchange.com.\n",
    "\n",
    "---\n",
    "\n",
    "Text can be found in the posts and the comments datasets. The `ParentId` column in the posts dataset indicates what the \"question\" post was for a given post. Comment text can be merged onto the post they are part of with the `PostId` field.\n",
    "\n",
    "The text may have some HTML tags. BeautifulSoup has convenient ways to get rid of markup or extract text if you need to. You can also parse the strings yourself if you like.\n",
    "\n",
    "The tags dataset has the \"tags\" that the users have officially given the post.\n",
    "\n",
    "**1.1 Implement LDA against the text features of the dataset(s).**\n",
    "\n",
    "- This can be posts or a combination of posts and comments if you want more power.\n",
    "- Find optimal **K/num_topics**.\n",
    "\n",
    "**1.2 Compare your topics to the tags. Do the LDA topics make sense? How do they compare to the tags?**\n"
   ]
  },
  {
   "cell_type": "code",
   "execution_count": 1,
   "metadata": {
    "collapsed": false
   },
   "outputs": [],
   "source": [
    "from gensim import corpora, models, matutils\n",
    "from sklearn.feature_extraction.text import CountVectorizer, TfidfVectorizer\n",
    "from collections import defaultdict\n",
    "import pandas as pd\n",
    "import seaborn as sns"
   ]
  },
  {
   "cell_type": "code",
   "execution_count": 150,
   "metadata": {
    "collapsed": true
   },
   "outputs": [],
   "source": [
    "comments = pd.read_csv('/Users/sashakapralov/Desktop/DSI-SF-5-Working/datasets/stack_exchange_travel/comments_train.csv')\n",
    "posts = pd.read_csv('/Users/sashakapralov/Desktop/DSI-SF-5-Working/datasets/stack_exchange_travel/posts_train.csv')\n",
    "tags = pd.read_csv('/Users/sashakapralov/Desktop/DSI-SF-5-Working/datasets/stack_exchange_travel/tags.csv')"
   ]
  },
  {
   "cell_type": "code",
   "execution_count": 151,
   "metadata": {
    "collapsed": false
   },
   "outputs": [
    {
     "data": {
      "text/html": [
       "<div>\n",
       "<table border=\"1\" class=\"dataframe\">\n",
       "  <thead>\n",
       "    <tr style=\"text-align: right;\">\n",
       "      <th></th>\n",
       "      <th>Count</th>\n",
       "      <th>ExcerptPostId</th>\n",
       "      <th>Id</th>\n",
       "      <th>TagName</th>\n",
       "      <th>WikiPostId</th>\n",
       "    </tr>\n",
       "  </thead>\n",
       "  <tbody>\n",
       "    <tr>\n",
       "      <th>0</th>\n",
       "      <td>75</td>\n",
       "      <td>2138.0</td>\n",
       "      <td>1</td>\n",
       "      <td>cruising</td>\n",
       "      <td>2137.0</td>\n",
       "    </tr>\n",
       "    <tr>\n",
       "      <th>1</th>\n",
       "      <td>39</td>\n",
       "      <td>357.0</td>\n",
       "      <td>2</td>\n",
       "      <td>caribbean</td>\n",
       "      <td>356.0</td>\n",
       "    </tr>\n",
       "    <tr>\n",
       "      <th>2</th>\n",
       "      <td>31</td>\n",
       "      <td>319.0</td>\n",
       "      <td>4</td>\n",
       "      <td>vacations</td>\n",
       "      <td>318.0</td>\n",
       "    </tr>\n",
       "    <tr>\n",
       "      <th>3</th>\n",
       "      <td>6</td>\n",
       "      <td>14548.0</td>\n",
       "      <td>6</td>\n",
       "      <td>amazon-river</td>\n",
       "      <td>14547.0</td>\n",
       "    </tr>\n",
       "    <tr>\n",
       "      <th>4</th>\n",
       "      <td>74</td>\n",
       "      <td>1792.0</td>\n",
       "      <td>8</td>\n",
       "      <td>romania</td>\n",
       "      <td>1791.0</td>\n",
       "    </tr>\n",
       "  </tbody>\n",
       "</table>\n",
       "</div>"
      ],
      "text/plain": [
       "   Count  ExcerptPostId  Id       TagName  WikiPostId\n",
       "0     75         2138.0   1      cruising      2137.0\n",
       "1     39          357.0   2     caribbean       356.0\n",
       "2     31          319.0   4     vacations       318.0\n",
       "3      6        14548.0   6  amazon-river     14547.0\n",
       "4     74         1792.0   8       romania      1791.0"
      ]
     },
     "execution_count": 151,
     "metadata": {},
     "output_type": "execute_result"
    }
   ],
   "source": [
    "tags.head()"
   ]
  },
  {
   "cell_type": "code",
   "execution_count": 193,
   "metadata": {
    "collapsed": false
   },
   "outputs": [
    {
     "data": {
      "text/plain": [
       "(1606, 5)"
      ]
     },
     "execution_count": 193,
     "metadata": {},
     "output_type": "execute_result"
    }
   ],
   "source": [
    "tags.shape"
   ]
  },
  {
   "cell_type": "code",
   "execution_count": 152,
   "metadata": {
    "collapsed": false
   },
   "outputs": [
    {
     "data": {
      "text/plain": [
       "1606"
      ]
     },
     "execution_count": 152,
     "metadata": {},
     "output_type": "execute_result"
    }
   ],
   "source": [
    "tags.TagName.unique().size"
   ]
  },
  {
   "cell_type": "code",
   "execution_count": 194,
   "metadata": {
    "collapsed": false
   },
   "outputs": [
    {
     "data": {
      "text/plain": [
       "1391"
      ]
     },
     "execution_count": 194,
     "metadata": {},
     "output_type": "execute_result"
    }
   ],
   "source": [
    "tags.ExcerptPostId.unique().size"
   ]
  },
  {
   "cell_type": "code",
   "execution_count": 195,
   "metadata": {
    "collapsed": false
   },
   "outputs": [
    {
     "data": {
      "text/plain": [
       "1391"
      ]
     },
     "execution_count": 195,
     "metadata": {},
     "output_type": "execute_result"
    }
   ],
   "source": [
    "tags.WikiPostId.unique().size"
   ]
  },
  {
   "cell_type": "code",
   "execution_count": 153,
   "metadata": {
    "collapsed": false
   },
   "outputs": [
    {
     "data": {
      "text/plain": [
       "array([  1.,  nan])"
      ]
     },
     "execution_count": 153,
     "metadata": {},
     "output_type": "execute_result"
    }
   ],
   "source": [
    "(tags.ExcerptPostId - tags.WikiPostId).unique()"
   ]
  },
  {
   "cell_type": "code",
   "execution_count": 154,
   "metadata": {
    "collapsed": false
   },
   "outputs": [
    {
     "data": {
      "text/plain": [
       "216"
      ]
     },
     "execution_count": 154,
     "metadata": {},
     "output_type": "execute_result"
    }
   ],
   "source": [
    "tags.ExcerptPostId.isnull().sum()"
   ]
  },
  {
   "cell_type": "code",
   "execution_count": 155,
   "metadata": {
    "collapsed": false
   },
   "outputs": [
    {
     "data": {
      "text/plain": [
       "216"
      ]
     },
     "execution_count": 155,
     "metadata": {},
     "output_type": "execute_result"
    }
   ],
   "source": [
    "tags.WikiPostId.isnull().sum()"
   ]
  },
  {
   "cell_type": "code",
   "execution_count": 156,
   "metadata": {
    "collapsed": false
   },
   "outputs": [
    {
     "data": {
      "text/html": [
       "<div>\n",
       "<table border=\"1\" class=\"dataframe\">\n",
       "  <thead>\n",
       "    <tr style=\"text-align: right;\">\n",
       "      <th></th>\n",
       "      <th>CreationDate</th>\n",
       "      <th>Id</th>\n",
       "      <th>PostId</th>\n",
       "      <th>Score</th>\n",
       "      <th>Text</th>\n",
       "      <th>UserDisplayName</th>\n",
       "      <th>UserId</th>\n",
       "    </tr>\n",
       "  </thead>\n",
       "  <tbody>\n",
       "    <tr>\n",
       "      <th>0</th>\n",
       "      <td>2011-06-21T20:25:14.257</td>\n",
       "      <td>1</td>\n",
       "      <td>1</td>\n",
       "      <td>0</td>\n",
       "      <td>To help with the cruise line question: Where a...</td>\n",
       "      <td>NaN</td>\n",
       "      <td>12.0</td>\n",
       "    </tr>\n",
       "    <tr>\n",
       "      <th>1</th>\n",
       "      <td>2011-06-21T20:27:35.300</td>\n",
       "      <td>2</td>\n",
       "      <td>1</td>\n",
       "      <td>0</td>\n",
       "      <td>Toronto, Ontario. We can fly out of anywhere t...</td>\n",
       "      <td>NaN</td>\n",
       "      <td>9.0</td>\n",
       "    </tr>\n",
       "    <tr>\n",
       "      <th>2</th>\n",
       "      <td>2011-06-21T20:32:23.687</td>\n",
       "      <td>3</td>\n",
       "      <td>1</td>\n",
       "      <td>3</td>\n",
       "      <td>\"Best\" for what?  Please read [this page](http...</td>\n",
       "      <td>NaN</td>\n",
       "      <td>20.0</td>\n",
       "    </tr>\n",
       "    <tr>\n",
       "      <th>3</th>\n",
       "      <td>2011-06-21T20:42:08.330</td>\n",
       "      <td>9</td>\n",
       "      <td>25</td>\n",
       "      <td>0</td>\n",
       "      <td>Are you in the UK? If so, would be helpful to ...</td>\n",
       "      <td>NaN</td>\n",
       "      <td>30.0</td>\n",
       "    </tr>\n",
       "    <tr>\n",
       "      <th>4</th>\n",
       "      <td>2011-06-21T20:44:09.990</td>\n",
       "      <td>12</td>\n",
       "      <td>26</td>\n",
       "      <td>3</td>\n",
       "      <td>Where are you starting from, and what sort of ...</td>\n",
       "      <td>NaN</td>\n",
       "      <td>26.0</td>\n",
       "    </tr>\n",
       "  </tbody>\n",
       "</table>\n",
       "</div>"
      ],
      "text/plain": [
       "              CreationDate  Id  PostId  Score  \\\n",
       "0  2011-06-21T20:25:14.257   1       1      0   \n",
       "1  2011-06-21T20:27:35.300   2       1      0   \n",
       "2  2011-06-21T20:32:23.687   3       1      3   \n",
       "3  2011-06-21T20:42:08.330   9      25      0   \n",
       "4  2011-06-21T20:44:09.990  12      26      3   \n",
       "\n",
       "                                                Text UserDisplayName  UserId  \n",
       "0  To help with the cruise line question: Where a...             NaN    12.0  \n",
       "1  Toronto, Ontario. We can fly out of anywhere t...             NaN     9.0  \n",
       "2  \"Best\" for what?  Please read [this page](http...             NaN    20.0  \n",
       "3  Are you in the UK? If so, would be helpful to ...             NaN    30.0  \n",
       "4  Where are you starting from, and what sort of ...             NaN    26.0  "
      ]
     },
     "execution_count": 156,
     "metadata": {},
     "output_type": "execute_result"
    }
   ],
   "source": [
    "comments.head()"
   ]
  },
  {
   "cell_type": "code",
   "execution_count": 157,
   "metadata": {
    "collapsed": false
   },
   "outputs": [
    {
     "data": {
      "text/plain": [
       "array([    1,    25,    26, ..., 71181, 71190, 71212])"
      ]
     },
     "execution_count": 157,
     "metadata": {},
     "output_type": "execute_result"
    }
   ],
   "source": [
    "comments.PostId.unique()"
   ]
  },
  {
   "cell_type": "code",
   "execution_count": 158,
   "metadata": {
    "collapsed": false
   },
   "outputs": [
    {
     "data": {
      "text/plain": [
       "(81506, 7)"
      ]
     },
     "execution_count": 158,
     "metadata": {},
     "output_type": "execute_result"
    }
   ],
   "source": [
    "comments.shape"
   ]
  },
  {
   "cell_type": "code",
   "execution_count": 159,
   "metadata": {
    "collapsed": false
   },
   "outputs": [
    {
     "data": {
      "text/plain": [
       "Index([u'AcceptedAnswerId', u'AnswerCount', u'Body', u'ClosedDate',\n",
       "       u'CommentCount', u'CommunityOwnedDate', u'CreationDate',\n",
       "       u'FavoriteCount', u'Id', u'LastActivityDate', u'LastEditDate',\n",
       "       u'LastEditorDisplayName', u'LastEditorUserId', u'OwnerDisplayName',\n",
       "       u'OwnerUserId', u'ParentId', u'PostTypeId', u'Score', u'Tags', u'Title',\n",
       "       u'ViewCount'],\n",
       "      dtype='object')"
      ]
     },
     "execution_count": 159,
     "metadata": {},
     "output_type": "execute_result"
    }
   ],
   "source": [
    "posts.columns"
   ]
  },
  {
   "cell_type": "code",
   "execution_count": 160,
   "metadata": {
    "collapsed": false
   },
   "outputs": [
    {
     "data": {
      "text/plain": [
       "(41289, 21)"
      ]
     },
     "execution_count": 160,
     "metadata": {},
     "output_type": "execute_result"
    }
   ],
   "source": [
    "posts.shape"
   ]
  },
  {
   "cell_type": "code",
   "execution_count": 161,
   "metadata": {
    "collapsed": false
   },
   "outputs": [
    {
     "data": {
      "text/plain": [
       "AcceptedAnswerId         float64\n",
       "AnswerCount              float64\n",
       "Body                      object\n",
       "ClosedDate                object\n",
       "CommentCount               int64\n",
       "CommunityOwnedDate        object\n",
       "CreationDate              object\n",
       "FavoriteCount            float64\n",
       "Id                         int64\n",
       "LastActivityDate          object\n",
       "LastEditDate              object\n",
       "LastEditorDisplayName     object\n",
       "LastEditorUserId         float64\n",
       "OwnerDisplayName          object\n",
       "OwnerUserId              float64\n",
       "ParentId                 float64\n",
       "PostTypeId                 int64\n",
       "Score                      int64\n",
       "Tags                      object\n",
       "Title                     object\n",
       "ViewCount                float64\n",
       "dtype: object"
      ]
     },
     "execution_count": 161,
     "metadata": {},
     "output_type": "execute_result"
    }
   ],
   "source": [
    "posts.dtypes"
   ]
  },
  {
   "cell_type": "code",
   "execution_count": 162,
   "metadata": {
    "collapsed": false
   },
   "outputs": [],
   "source": [
    "posts = posts[['Body','Id','ParentId','PostTypeId','Score','Tags','Title']]"
   ]
  },
  {
   "cell_type": "code",
   "execution_count": 163,
   "metadata": {
    "collapsed": false
   },
   "outputs": [
    {
     "data": {
      "text/plain": [
       "0    <p>My fiancée and I are looking for a good Car...\n",
       "1    <p>Singapore Airlines has an all-business clas...\n",
       "2    <p>Another definition question that interested...\n",
       "3    <p>Can anyone suggest the best way to get from...\n",
       "4    <p>We are considering visiting Argentina for u...\n",
       "Name: Body, dtype: object"
      ]
     },
     "execution_count": 163,
     "metadata": {},
     "output_type": "execute_result"
    }
   ],
   "source": [
    "posts.Body.head()"
   ]
  },
  {
   "cell_type": "code",
   "execution_count": 164,
   "metadata": {
    "collapsed": false
   },
   "outputs": [
    {
     "data": {
      "text/plain": [
       "\"<p>My fianc\\xc3\\xa9e and I are looking for a good Caribbean cruise in October and were wondering which islands are best to see and which Cruise line to take?</p>\\n\\n<p>It seems like a lot of the cruises don't run in this month due to Hurricane season so I'm looking for other good options.</p>\\n\\n<p><strong>EDIT</strong> We'll be travelling in 2012.</p>\\n\""
      ]
     },
     "execution_count": 164,
     "metadata": {},
     "output_type": "execute_result"
    }
   ],
   "source": [
    "posts.Body[0]"
   ]
  },
  {
   "cell_type": "code",
   "execution_count": 165,
   "metadata": {
    "collapsed": false
   },
   "outputs": [
    {
     "data": {
      "text/plain": [
       "array([1, 2, 5, 4, 7, 6])"
      ]
     },
     "execution_count": 165,
     "metadata": {},
     "output_type": "execute_result"
    }
   ],
   "source": [
    "posts.PostTypeId.unique()"
   ]
  },
  {
   "cell_type": "code",
   "execution_count": 166,
   "metadata": {
    "collapsed": false
   },
   "outputs": [
    {
     "data": {
      "text/plain": [
       "2    23967\n",
       "1    13988\n",
       "5     1656\n",
       "4     1656\n",
       "6       18\n",
       "7        4\n",
       "Name: PostTypeId, dtype: int64"
      ]
     },
     "execution_count": 166,
     "metadata": {},
     "output_type": "execute_result"
    }
   ],
   "source": [
    "posts.PostTypeId.value_counts()"
   ]
  },
  {
   "cell_type": "code",
   "execution_count": 225,
   "metadata": {
    "collapsed": false
   },
   "outputs": [
    {
     "data": {
      "text/html": [
       "<div>\n",
       "<table border=\"1\" class=\"dataframe\">\n",
       "  <thead>\n",
       "    <tr style=\"text-align: right;\">\n",
       "      <th></th>\n",
       "      <th>Body</th>\n",
       "      <th>PostId</th>\n",
       "      <th>ParentId</th>\n",
       "      <th>PostTypeId</th>\n",
       "      <th>Score</th>\n",
       "      <th>Tags</th>\n",
       "      <th>Title</th>\n",
       "      <th>Body_clean</th>\n",
       "    </tr>\n",
       "  </thead>\n",
       "  <tbody>\n",
       "    <tr>\n",
       "      <th>91</th>\n",
       "      <td>&lt;h3&gt;&lt;img src=\"http://i.stack.imgur.com/Q6l0V.p...</td>\n",
       "      <td>157</td>\n",
       "      <td>NaN</td>\n",
       "      <td>5</td>\n",
       "      <td>0</td>\n",
       "      <td>NaN</td>\n",
       "      <td>NaN</td>\n",
       "      <td>[ United States of America (USA), A large coun...</td>\n",
       "    </tr>\n",
       "    <tr>\n",
       "      <th>93</th>\n",
       "      <td>&lt;p&gt;&lt;a href=\"http://en.wikipedia.org/wiki/Antar...</td>\n",
       "      <td>163</td>\n",
       "      <td>NaN</td>\n",
       "      <td>5</td>\n",
       "      <td>0</td>\n",
       "      <td>NaN</td>\n",
       "      <td>NaN</td>\n",
       "      <td>[Southernmost continent and mostly covered in ...</td>\n",
       "    </tr>\n",
       "    <tr>\n",
       "      <th>148</th>\n",
       "      <td>NaN</td>\n",
       "      <td>242</td>\n",
       "      <td>NaN</td>\n",
       "      <td>5</td>\n",
       "      <td>0</td>\n",
       "      <td>NaN</td>\n",
       "      <td>NaN</td>\n",
       "      <td>[nan]</td>\n",
       "    </tr>\n",
       "    <tr>\n",
       "      <th>156</th>\n",
       "      <td>NaN</td>\n",
       "      <td>252</td>\n",
       "      <td>NaN</td>\n",
       "      <td>5</td>\n",
       "      <td>0</td>\n",
       "      <td>NaN</td>\n",
       "      <td>NaN</td>\n",
       "      <td>[nan]</td>\n",
       "    </tr>\n",
       "    <tr>\n",
       "      <th>158</th>\n",
       "      <td>&lt;p&gt;&lt;img src=\"http://i.stack.imgur.com/p9b0Y.jp...</td>\n",
       "      <td>254</td>\n",
       "      <td>NaN</td>\n",
       "      <td>5</td>\n",
       "      <td>0</td>\n",
       "      <td>NaN</td>\n",
       "      <td>NaN</td>\n",
       "      <td>[, ]</td>\n",
       "    </tr>\n",
       "    <tr>\n",
       "      <th>160</th>\n",
       "      <td>&lt;p&gt;Practice of creating pictures about some ev...</td>\n",
       "      <td>256</td>\n",
       "      <td>NaN</td>\n",
       "      <td>5</td>\n",
       "      <td>0</td>\n",
       "      <td>NaN</td>\n",
       "      <td>NaN</td>\n",
       "      <td>[Practice of creating pictures about some even...</td>\n",
       "    </tr>\n",
       "    <tr>\n",
       "      <th>163</th>\n",
       "      <td>NaN</td>\n",
       "      <td>259</td>\n",
       "      <td>NaN</td>\n",
       "      <td>5</td>\n",
       "      <td>0</td>\n",
       "      <td>NaN</td>\n",
       "      <td>NaN</td>\n",
       "      <td>[nan]</td>\n",
       "    </tr>\n",
       "    <tr>\n",
       "      <th>182</th>\n",
       "      <td>NaN</td>\n",
       "      <td>280</td>\n",
       "      <td>NaN</td>\n",
       "      <td>5</td>\n",
       "      <td>0</td>\n",
       "      <td>NaN</td>\n",
       "      <td>NaN</td>\n",
       "      <td>[nan]</td>\n",
       "    </tr>\n",
       "    <tr>\n",
       "      <th>185</th>\n",
       "      <td>&lt;p&gt;Use this tag when you want to travel by tra...</td>\n",
       "      <td>283</td>\n",
       "      <td>NaN</td>\n",
       "      <td>5</td>\n",
       "      <td>0</td>\n",
       "      <td>NaN</td>\n",
       "      <td>NaN</td>\n",
       "      <td>[Use this tag when you want to travel by train...</td>\n",
       "    </tr>\n",
       "    <tr>\n",
       "      <th>187</th>\n",
       "      <td>&lt;p&gt;For questions relating to the topic of Euro...</td>\n",
       "      <td>285</td>\n",
       "      <td>NaN</td>\n",
       "      <td>5</td>\n",
       "      <td>0</td>\n",
       "      <td>NaN</td>\n",
       "      <td>NaN</td>\n",
       "      <td>[For questions relating to the topic of Europe...</td>\n",
       "    </tr>\n",
       "    <tr>\n",
       "      <th>192</th>\n",
       "      <td>&lt;p&gt;A country in northern Eurasia which is the ...</td>\n",
       "      <td>293</td>\n",
       "      <td>NaN</td>\n",
       "      <td>5</td>\n",
       "      <td>0</td>\n",
       "      <td>NaN</td>\n",
       "      <td>NaN</td>\n",
       "      <td>[A country in northern Eurasia which is the la...</td>\n",
       "    </tr>\n",
       "    <tr>\n",
       "      <th>207</th>\n",
       "      <td>&lt;p&gt;A visa is a token giving rights to apply to...</td>\n",
       "      <td>310</td>\n",
       "      <td>NaN</td>\n",
       "      <td>5</td>\n",
       "      <td>0</td>\n",
       "      <td>NaN</td>\n",
       "      <td>NaN</td>\n",
       "      <td>[A visa is a token giving rights to apply to e...</td>\n",
       "    </tr>\n",
       "    <tr>\n",
       "      <th>209</th>\n",
       "      <td>NaN</td>\n",
       "      <td>312</td>\n",
       "      <td>NaN</td>\n",
       "      <td>5</td>\n",
       "      <td>0</td>\n",
       "      <td>NaN</td>\n",
       "      <td>NaN</td>\n",
       "      <td>[nan]</td>\n",
       "    </tr>\n",
       "    <tr>\n",
       "      <th>211</th>\n",
       "      <td>NaN</td>\n",
       "      <td>314</td>\n",
       "      <td>NaN</td>\n",
       "      <td>5</td>\n",
       "      <td>0</td>\n",
       "      <td>NaN</td>\n",
       "      <td>NaN</td>\n",
       "      <td>[nan]</td>\n",
       "    </tr>\n",
       "    <tr>\n",
       "      <th>213</th>\n",
       "      <td>NaN</td>\n",
       "      <td>316</td>\n",
       "      <td>NaN</td>\n",
       "      <td>5</td>\n",
       "      <td>0</td>\n",
       "      <td>NaN</td>\n",
       "      <td>NaN</td>\n",
       "      <td>[nan]</td>\n",
       "    </tr>\n",
       "    <tr>\n",
       "      <th>215</th>\n",
       "      <td>NaN</td>\n",
       "      <td>318</td>\n",
       "      <td>NaN</td>\n",
       "      <td>5</td>\n",
       "      <td>0</td>\n",
       "      <td>NaN</td>\n",
       "      <td>NaN</td>\n",
       "      <td>[nan]</td>\n",
       "    </tr>\n",
       "    <tr>\n",
       "      <th>217</th>\n",
       "      <td>NaN</td>\n",
       "      <td>320</td>\n",
       "      <td>NaN</td>\n",
       "      <td>5</td>\n",
       "      <td>0</td>\n",
       "      <td>NaN</td>\n",
       "      <td>NaN</td>\n",
       "      <td>[nan]</td>\n",
       "    </tr>\n",
       "    <tr>\n",
       "      <th>219</th>\n",
       "      <td>NaN</td>\n",
       "      <td>322</td>\n",
       "      <td>NaN</td>\n",
       "      <td>5</td>\n",
       "      <td>0</td>\n",
       "      <td>NaN</td>\n",
       "      <td>NaN</td>\n",
       "      <td>[nan]</td>\n",
       "    </tr>\n",
       "    <tr>\n",
       "      <th>221</th>\n",
       "      <td>&lt;p&gt;Number of bags, cases and containers which ...</td>\n",
       "      <td>324</td>\n",
       "      <td>NaN</td>\n",
       "      <td>5</td>\n",
       "      <td>0</td>\n",
       "      <td>NaN</td>\n",
       "      <td>NaN</td>\n",
       "      <td>[Number of bags, cases and containers which ho...</td>\n",
       "    </tr>\n",
       "    <tr>\n",
       "      <th>223</th>\n",
       "      <td>&lt;p&gt;From the Wikipedia article, &lt;a href=\"http:/...</td>\n",
       "      <td>326</td>\n",
       "      <td>NaN</td>\n",
       "      <td>5</td>\n",
       "      <td>0</td>\n",
       "      <td>NaN</td>\n",
       "      <td>NaN</td>\n",
       "      <td>[From the Wikipedia article, Ferry:, , A ferry...</td>\n",
       "    </tr>\n",
       "    <tr>\n",
       "      <th>227</th>\n",
       "      <td>&lt;p&gt;The region between &lt;a href=\"/questions/tagg...</td>\n",
       "      <td>331</td>\n",
       "      <td>NaN</td>\n",
       "      <td>5</td>\n",
       "      <td>0</td>\n",
       "      <td>NaN</td>\n",
       "      <td>NaN</td>\n",
       "      <td>[The region between usa in north-america and c...</td>\n",
       "    </tr>\n",
       "    <tr>\n",
       "      <th>230</th>\n",
       "      <td>&lt;p&gt;The region consisting of the countries &lt;a h...</td>\n",
       "      <td>334</td>\n",
       "      <td>NaN</td>\n",
       "      <td>5</td>\n",
       "      <td>0</td>\n",
       "      <td>NaN</td>\n",
       "      <td>NaN</td>\n",
       "      <td>[The region consisting of the countries georgi...</td>\n",
       "    </tr>\n",
       "    <tr>\n",
       "      <th>232</th>\n",
       "      <td>&lt;p&gt;This tag should be used for questions aroun...</td>\n",
       "      <td>336</td>\n",
       "      <td>NaN</td>\n",
       "      <td>5</td>\n",
       "      <td>0</td>\n",
       "      <td>NaN</td>\n",
       "      <td>NaN</td>\n",
       "      <td>[This tag should be used for questions around ...</td>\n",
       "    </tr>\n",
       "    <tr>\n",
       "      <th>234</th>\n",
       "      <td>&lt;p&gt;It is the seventh-largest country by geogra...</td>\n",
       "      <td>339</td>\n",
       "      <td>NaN</td>\n",
       "      <td>5</td>\n",
       "      <td>0</td>\n",
       "      <td>NaN</td>\n",
       "      <td>NaN</td>\n",
       "      <td>[It is the seventh-largest country by geograph...</td>\n",
       "    </tr>\n",
       "    <tr>\n",
       "      <th>236</th>\n",
       "      <td>&lt;p&gt;A country in the Caucasus region bordering ...</td>\n",
       "      <td>341</td>\n",
       "      <td>NaN</td>\n",
       "      <td>5</td>\n",
       "      <td>0</td>\n",
       "      <td>NaN</td>\n",
       "      <td>NaN</td>\n",
       "      <td>[A country in the Caucasus region bordering tu...</td>\n",
       "    </tr>\n",
       "    <tr>\n",
       "      <th>238</th>\n",
       "      <td>&lt;p&gt;&lt;a href=\"http://en.wikipedia.org/wiki/Alask...</td>\n",
       "      <td>343</td>\n",
       "      <td>NaN</td>\n",
       "      <td>5</td>\n",
       "      <td>0</td>\n",
       "      <td>NaN</td>\n",
       "      <td>NaN</td>\n",
       "      <td>[Alaska is the largest state in the United Sta...</td>\n",
       "    </tr>\n",
       "    <tr>\n",
       "      <th>240</th>\n",
       "      <td>NaN</td>\n",
       "      <td>345</td>\n",
       "      <td>NaN</td>\n",
       "      <td>5</td>\n",
       "      <td>0</td>\n",
       "      <td>NaN</td>\n",
       "      <td>NaN</td>\n",
       "      <td>[nan]</td>\n",
       "    </tr>\n",
       "    <tr>\n",
       "      <th>246</th>\n",
       "      <td>&lt;p&gt;From the Wikipedia article, &lt;a href=\"http:/...</td>\n",
       "      <td>352</td>\n",
       "      <td>NaN</td>\n",
       "      <td>5</td>\n",
       "      <td>0</td>\n",
       "      <td>NaN</td>\n",
       "      <td>NaN</td>\n",
       "      <td>[From the Wikipedia article, Language barrier:...</td>\n",
       "    </tr>\n",
       "    <tr>\n",
       "      <th>248</th>\n",
       "      <td>&lt;p&gt;For questions that are general to all of So...</td>\n",
       "      <td>354</td>\n",
       "      <td>NaN</td>\n",
       "      <td>5</td>\n",
       "      <td>0</td>\n",
       "      <td>NaN</td>\n",
       "      <td>NaN</td>\n",
       "      <td>[For questions that are general to all of Sout...</td>\n",
       "    </tr>\n",
       "    <tr>\n",
       "      <th>250</th>\n",
       "      <td>&lt;p&gt;The Caribbean is a region that consists of ...</td>\n",
       "      <td>356</td>\n",
       "      <td>NaN</td>\n",
       "      <td>5</td>\n",
       "      <td>0</td>\n",
       "      <td>NaN</td>\n",
       "      <td>NaN</td>\n",
       "      <td>[The Caribbean is a region that consists of th...</td>\n",
       "    </tr>\n",
       "    <tr>\n",
       "      <th>...</th>\n",
       "      <td>...</td>\n",
       "      <td>...</td>\n",
       "      <td>...</td>\n",
       "      <td>...</td>\n",
       "      <td>...</td>\n",
       "      <td>...</td>\n",
       "      <td>...</td>\n",
       "      <td>...</td>\n",
       "    </tr>\n",
       "    <tr>\n",
       "      <th>38296</th>\n",
       "      <td>&lt;p&gt;Brunei is a sovereign state located on the ...</td>\n",
       "      <td>65683</td>\n",
       "      <td>NaN</td>\n",
       "      <td>5</td>\n",
       "      <td>0</td>\n",
       "      <td>NaN</td>\n",
       "      <td>NaN</td>\n",
       "      <td>[Brunei is a sovereign state located on the no...</td>\n",
       "    </tr>\n",
       "    <tr>\n",
       "      <th>38366</th>\n",
       "      <td>NaN</td>\n",
       "      <td>65789</td>\n",
       "      <td>NaN</td>\n",
       "      <td>5</td>\n",
       "      <td>0</td>\n",
       "      <td>NaN</td>\n",
       "      <td>NaN</td>\n",
       "      <td>[nan]</td>\n",
       "    </tr>\n",
       "    <tr>\n",
       "      <th>38380</th>\n",
       "      <td>&lt;p&gt;Refugees status is a special status recogni...</td>\n",
       "      <td>65820</td>\n",
       "      <td>NaN</td>\n",
       "      <td>5</td>\n",
       "      <td>0</td>\n",
       "      <td>NaN</td>\n",
       "      <td>NaN</td>\n",
       "      <td>[Refugees status is a special status recognize...</td>\n",
       "    </tr>\n",
       "    <tr>\n",
       "      <th>38398</th>\n",
       "      <td>&lt;p&gt;&lt;strong&gt;Riyadh&lt;/strong&gt; (الرياض) is the cap...</td>\n",
       "      <td>65863</td>\n",
       "      <td>NaN</td>\n",
       "      <td>5</td>\n",
       "      <td>0</td>\n",
       "      <td>NaN</td>\n",
       "      <td>NaN</td>\n",
       "      <td>[Riyadh (الرياض) is the capital of and largest...</td>\n",
       "    </tr>\n",
       "    <tr>\n",
       "      <th>38401</th>\n",
       "      <td>&lt;p&gt;&lt;strong&gt;Karachi&lt;/strong&gt; (کراچی‎) is the la...</td>\n",
       "      <td>65866</td>\n",
       "      <td>NaN</td>\n",
       "      <td>5</td>\n",
       "      <td>0</td>\n",
       "      <td>NaN</td>\n",
       "      <td>NaN</td>\n",
       "      <td>[Karachi (کراچی‎) is the largest city, main se...</td>\n",
       "    </tr>\n",
       "    <tr>\n",
       "      <th>38403</th>\n",
       "      <td>&lt;p&gt;Additional links for Bahamian citizens:&lt;/p&gt;...</td>\n",
       "      <td>65868</td>\n",
       "      <td>NaN</td>\n",
       "      <td>5</td>\n",
       "      <td>0</td>\n",
       "      <td>NaN</td>\n",
       "      <td>NaN</td>\n",
       "      <td>[Additional links for Bahamian citizens:, , Ap...</td>\n",
       "    </tr>\n",
       "    <tr>\n",
       "      <th>38405</th>\n",
       "      <td>&lt;p&gt;&lt;strong&gt;Maui&lt;/strong&gt; is the second largest...</td>\n",
       "      <td>65872</td>\n",
       "      <td>NaN</td>\n",
       "      <td>5</td>\n",
       "      <td>0</td>\n",
       "      <td>NaN</td>\n",
       "      <td>NaN</td>\n",
       "      <td>[Maui is the second largest and third most-pop...</td>\n",
       "    </tr>\n",
       "    <tr>\n",
       "      <th>38408</th>\n",
       "      <td>&lt;p&gt;&lt;strong&gt;Universal Studios&lt;/strong&gt; is the c...</td>\n",
       "      <td>65876</td>\n",
       "      <td>NaN</td>\n",
       "      <td>5</td>\n",
       "      <td>0</td>\n",
       "      <td>NaN</td>\n",
       "      <td>NaN</td>\n",
       "      <td>[Universal Studios is the common name for amus...</td>\n",
       "    </tr>\n",
       "    <tr>\n",
       "      <th>38410</th>\n",
       "      <td>&lt;p&gt;&lt;strong&gt;New Jersey&lt;/strong&gt;, the fourth sma...</td>\n",
       "      <td>65878</td>\n",
       "      <td>NaN</td>\n",
       "      <td>5</td>\n",
       "      <td>0</td>\n",
       "      <td>NaN</td>\n",
       "      <td>NaN</td>\n",
       "      <td>[New Jersey, the fourth smallest but eleventh ...</td>\n",
       "    </tr>\n",
       "    <tr>\n",
       "      <th>38460</th>\n",
       "      <td>&lt;p&gt;&lt;a href=\"https://en.wikipedia.org/wiki/Kili...</td>\n",
       "      <td>65976</td>\n",
       "      <td>NaN</td>\n",
       "      <td>5</td>\n",
       "      <td>0</td>\n",
       "      <td>NaN</td>\n",
       "      <td>NaN</td>\n",
       "      <td>[Kilimanjaro International Airport (KIA) (IATA...</td>\n",
       "    </tr>\n",
       "    <tr>\n",
       "      <th>38498</th>\n",
       "      <td>&lt;p&gt;Hurum is a municipality in Buskerud county,...</td>\n",
       "      <td>66036</td>\n",
       "      <td>NaN</td>\n",
       "      <td>5</td>\n",
       "      <td>0</td>\n",
       "      <td>NaN</td>\n",
       "      <td>NaN</td>\n",
       "      <td>[Hurum is a municipality in Buskerud county, N...</td>\n",
       "    </tr>\n",
       "    <tr>\n",
       "      <th>38500</th>\n",
       "      <td>&lt;p&gt;Beggars are people who do ask for money or ...</td>\n",
       "      <td>66038</td>\n",
       "      <td>NaN</td>\n",
       "      <td>5</td>\n",
       "      <td>0</td>\n",
       "      <td>NaN</td>\n",
       "      <td>NaN</td>\n",
       "      <td>[Beggars are people who do ask for money or go...</td>\n",
       "    </tr>\n",
       "    <tr>\n",
       "      <th>38502</th>\n",
       "      <td>&lt;p&gt;Antwerp is a city in the northern part of B...</td>\n",
       "      <td>66040</td>\n",
       "      <td>NaN</td>\n",
       "      <td>5</td>\n",
       "      <td>0</td>\n",
       "      <td>NaN</td>\n",
       "      <td>NaN</td>\n",
       "      <td>[Antwerp is a city in the northern part of Bel...</td>\n",
       "    </tr>\n",
       "    <tr>\n",
       "      <th>38504</th>\n",
       "      <td>&lt;p&gt;Booking.com is an online accommodation book...</td>\n",
       "      <td>66042</td>\n",
       "      <td>NaN</td>\n",
       "      <td>5</td>\n",
       "      <td>0</td>\n",
       "      <td>NaN</td>\n",
       "      <td>NaN</td>\n",
       "      <td>[Booking.com is an online accommodation bookin...</td>\n",
       "    </tr>\n",
       "    <tr>\n",
       "      <th>38506</th>\n",
       "      <td>&lt;p&gt;Reviews tell people what to expect when the...</td>\n",
       "      <td>66044</td>\n",
       "      <td>NaN</td>\n",
       "      <td>5</td>\n",
       "      <td>0</td>\n",
       "      <td>NaN</td>\n",
       "      <td>NaN</td>\n",
       "      <td>[Reviews tell people what to expect when they ...</td>\n",
       "    </tr>\n",
       "    <tr>\n",
       "      <th>38516</th>\n",
       "      <td>&lt;p&gt;In several countries people get reductions ...</td>\n",
       "      <td>66061</td>\n",
       "      <td>NaN</td>\n",
       "      <td>5</td>\n",
       "      <td>0</td>\n",
       "      <td>NaN</td>\n",
       "      <td>NaN</td>\n",
       "      <td>[In several countries people get reductions wh...</td>\n",
       "    </tr>\n",
       "    <tr>\n",
       "      <th>38891</th>\n",
       "      <td>&lt;p&gt;The scope of this tag also includes decepti...</td>\n",
       "      <td>66622</td>\n",
       "      <td>NaN</td>\n",
       "      <td>5</td>\n",
       "      <td>0</td>\n",
       "      <td>NaN</td>\n",
       "      <td>NaN</td>\n",
       "      <td>[The scope of this tag also includes deception...</td>\n",
       "    </tr>\n",
       "    <tr>\n",
       "      <th>39073</th>\n",
       "      <td>NaN</td>\n",
       "      <td>66887</td>\n",
       "      <td>NaN</td>\n",
       "      <td>5</td>\n",
       "      <td>0</td>\n",
       "      <td>NaN</td>\n",
       "      <td>NaN</td>\n",
       "      <td>[nan]</td>\n",
       "    </tr>\n",
       "    <tr>\n",
       "      <th>39261</th>\n",
       "      <td>NaN</td>\n",
       "      <td>67171</td>\n",
       "      <td>NaN</td>\n",
       "      <td>5</td>\n",
       "      <td>0</td>\n",
       "      <td>NaN</td>\n",
       "      <td>NaN</td>\n",
       "      <td>[nan]</td>\n",
       "    </tr>\n",
       "    <tr>\n",
       "      <th>39294</th>\n",
       "      <td>&lt;p&gt;&lt;a href=\"https://en.wikipedia.org/wiki/Van_...</td>\n",
       "      <td>67228</td>\n",
       "      <td>NaN</td>\n",
       "      <td>5</td>\n",
       "      <td>0</td>\n",
       "      <td>NaN</td>\n",
       "      <td>NaN</td>\n",
       "      <td>[The Van Gogh Museum is an art museum in Amste...</td>\n",
       "    </tr>\n",
       "    <tr>\n",
       "      <th>39481</th>\n",
       "      <td>&lt;p&gt;Aruba is an island in the Caribbean sea, re...</td>\n",
       "      <td>67524</td>\n",
       "      <td>NaN</td>\n",
       "      <td>5</td>\n",
       "      <td>0</td>\n",
       "      <td>NaN</td>\n",
       "      <td>NaN</td>\n",
       "      <td>[Aruba is an island in the Caribbean sea, rela...</td>\n",
       "    </tr>\n",
       "    <tr>\n",
       "      <th>39621</th>\n",
       "      <td>&lt;p&gt;Questions tagged with this Tag are about th...</td>\n",
       "      <td>67738</td>\n",
       "      <td>NaN</td>\n",
       "      <td>5</td>\n",
       "      <td>0</td>\n",
       "      <td>NaN</td>\n",
       "      <td>NaN</td>\n",
       "      <td>[Questions tagged with this Tag are about the ...</td>\n",
       "    </tr>\n",
       "    <tr>\n",
       "      <th>39775</th>\n",
       "      <td>&lt;p&gt;&lt;a href=\"https://en.wikipedia.org/wiki/Clim...</td>\n",
       "      <td>67975</td>\n",
       "      <td>NaN</td>\n",
       "      <td>5</td>\n",
       "      <td>0</td>\n",
       "      <td>NaN</td>\n",
       "      <td>NaN</td>\n",
       "      <td>[Climbing is the activity of using one's hands...</td>\n",
       "    </tr>\n",
       "    <tr>\n",
       "      <th>39914</th>\n",
       "      <td>NaN</td>\n",
       "      <td>68195</td>\n",
       "      <td>NaN</td>\n",
       "      <td>5</td>\n",
       "      <td>0</td>\n",
       "      <td>NaN</td>\n",
       "      <td>NaN</td>\n",
       "      <td>[nan]</td>\n",
       "    </tr>\n",
       "    <tr>\n",
       "      <th>40716</th>\n",
       "      <td>NaN</td>\n",
       "      <td>69419</td>\n",
       "      <td>NaN</td>\n",
       "      <td>5</td>\n",
       "      <td>0</td>\n",
       "      <td>NaN</td>\n",
       "      <td>NaN</td>\n",
       "      <td>[nan]</td>\n",
       "    </tr>\n",
       "    <tr>\n",
       "      <th>40749</th>\n",
       "      <td>&lt;p&gt;&lt;a href=\"https://www.bourgognefranchecomte....</td>\n",
       "      <td>69462</td>\n",
       "      <td>NaN</td>\n",
       "      <td>5</td>\n",
       "      <td>0</td>\n",
       "      <td>NaN</td>\n",
       "      <td>NaN</td>\n",
       "      <td>[Burgundy is a province in France whose histor...</td>\n",
       "    </tr>\n",
       "    <tr>\n",
       "      <th>40782</th>\n",
       "      <td>NaN</td>\n",
       "      <td>69503</td>\n",
       "      <td>NaN</td>\n",
       "      <td>5</td>\n",
       "      <td>0</td>\n",
       "      <td>NaN</td>\n",
       "      <td>NaN</td>\n",
       "      <td>[nan]</td>\n",
       "    </tr>\n",
       "    <tr>\n",
       "      <th>40909</th>\n",
       "      <td>&lt;p&gt;&lt;a href=\"https://www.tsa.gov/tsa-precheck\" ...</td>\n",
       "      <td>69680</td>\n",
       "      <td>NaN</td>\n",
       "      <td>5</td>\n",
       "      <td>0</td>\n",
       "      <td>NaN</td>\n",
       "      <td>NaN</td>\n",
       "      <td>[TSA Precheck is a trusted traveler program of...</td>\n",
       "    </tr>\n",
       "    <tr>\n",
       "      <th>41245</th>\n",
       "      <td>NaN</td>\n",
       "      <td>71151</td>\n",
       "      <td>NaN</td>\n",
       "      <td>5</td>\n",
       "      <td>0</td>\n",
       "      <td>NaN</td>\n",
       "      <td>NaN</td>\n",
       "      <td>[nan]</td>\n",
       "    </tr>\n",
       "    <tr>\n",
       "      <th>41274</th>\n",
       "      <td>NaN</td>\n",
       "      <td>71193</td>\n",
       "      <td>NaN</td>\n",
       "      <td>5</td>\n",
       "      <td>0</td>\n",
       "      <td>NaN</td>\n",
       "      <td>NaN</td>\n",
       "      <td>[nan]</td>\n",
       "    </tr>\n",
       "  </tbody>\n",
       "</table>\n",
       "<p>1656 rows × 8 columns</p>\n",
       "</div>"
      ],
      "text/plain": [
       "                                                    Body  PostId  ParentId  \\\n",
       "91     <h3><img src=\"http://i.stack.imgur.com/Q6l0V.p...     157       NaN   \n",
       "93     <p><a href=\"http://en.wikipedia.org/wiki/Antar...     163       NaN   \n",
       "148                                                  NaN     242       NaN   \n",
       "156                                                  NaN     252       NaN   \n",
       "158    <p><img src=\"http://i.stack.imgur.com/p9b0Y.jp...     254       NaN   \n",
       "160    <p>Practice of creating pictures about some ev...     256       NaN   \n",
       "163                                                  NaN     259       NaN   \n",
       "182                                                  NaN     280       NaN   \n",
       "185    <p>Use this tag when you want to travel by tra...     283       NaN   \n",
       "187    <p>For questions relating to the topic of Euro...     285       NaN   \n",
       "192    <p>A country in northern Eurasia which is the ...     293       NaN   \n",
       "207    <p>A visa is a token giving rights to apply to...     310       NaN   \n",
       "209                                                  NaN     312       NaN   \n",
       "211                                                  NaN     314       NaN   \n",
       "213                                                  NaN     316       NaN   \n",
       "215                                                  NaN     318       NaN   \n",
       "217                                                  NaN     320       NaN   \n",
       "219                                                  NaN     322       NaN   \n",
       "221    <p>Number of bags, cases and containers which ...     324       NaN   \n",
       "223    <p>From the Wikipedia article, <a href=\"http:/...     326       NaN   \n",
       "227    <p>The region between <a href=\"/questions/tagg...     331       NaN   \n",
       "230    <p>The region consisting of the countries <a h...     334       NaN   \n",
       "232    <p>This tag should be used for questions aroun...     336       NaN   \n",
       "234    <p>It is the seventh-largest country by geogra...     339       NaN   \n",
       "236    <p>A country in the Caucasus region bordering ...     341       NaN   \n",
       "238    <p><a href=\"http://en.wikipedia.org/wiki/Alask...     343       NaN   \n",
       "240                                                  NaN     345       NaN   \n",
       "246    <p>From the Wikipedia article, <a href=\"http:/...     352       NaN   \n",
       "248    <p>For questions that are general to all of So...     354       NaN   \n",
       "250    <p>The Caribbean is a region that consists of ...     356       NaN   \n",
       "...                                                  ...     ...       ...   \n",
       "38296  <p>Brunei is a sovereign state located on the ...   65683       NaN   \n",
       "38366                                                NaN   65789       NaN   \n",
       "38380  <p>Refugees status is a special status recogni...   65820       NaN   \n",
       "38398  <p><strong>Riyadh</strong> (الرياض) is the cap...   65863       NaN   \n",
       "38401  <p><strong>Karachi</strong> (کراچی‎) is the la...   65866       NaN   \n",
       "38403  <p>Additional links for Bahamian citizens:</p>...   65868       NaN   \n",
       "38405  <p><strong>Maui</strong> is the second largest...   65872       NaN   \n",
       "38408  <p><strong>Universal Studios</strong> is the c...   65876       NaN   \n",
       "38410  <p><strong>New Jersey</strong>, the fourth sma...   65878       NaN   \n",
       "38460  <p><a href=\"https://en.wikipedia.org/wiki/Kili...   65976       NaN   \n",
       "38498  <p>Hurum is a municipality in Buskerud county,...   66036       NaN   \n",
       "38500  <p>Beggars are people who do ask for money or ...   66038       NaN   \n",
       "38502  <p>Antwerp is a city in the northern part of B...   66040       NaN   \n",
       "38504  <p>Booking.com is an online accommodation book...   66042       NaN   \n",
       "38506  <p>Reviews tell people what to expect when the...   66044       NaN   \n",
       "38516  <p>In several countries people get reductions ...   66061       NaN   \n",
       "38891  <p>The scope of this tag also includes decepti...   66622       NaN   \n",
       "39073                                                NaN   66887       NaN   \n",
       "39261                                                NaN   67171       NaN   \n",
       "39294  <p><a href=\"https://en.wikipedia.org/wiki/Van_...   67228       NaN   \n",
       "39481  <p>Aruba is an island in the Caribbean sea, re...   67524       NaN   \n",
       "39621  <p>Questions tagged with this Tag are about th...   67738       NaN   \n",
       "39775  <p><a href=\"https://en.wikipedia.org/wiki/Clim...   67975       NaN   \n",
       "39914                                                NaN   68195       NaN   \n",
       "40716                                                NaN   69419       NaN   \n",
       "40749  <p><a href=\"https://www.bourgognefranchecomte....   69462       NaN   \n",
       "40782                                                NaN   69503       NaN   \n",
       "40909  <p><a href=\"https://www.tsa.gov/tsa-precheck\" ...   69680       NaN   \n",
       "41245                                                NaN   71151       NaN   \n",
       "41274                                                NaN   71193       NaN   \n",
       "\n",
       "       PostTypeId  Score Tags Title  \\\n",
       "91              5      0  NaN   NaN   \n",
       "93              5      0  NaN   NaN   \n",
       "148             5      0  NaN   NaN   \n",
       "156             5      0  NaN   NaN   \n",
       "158             5      0  NaN   NaN   \n",
       "160             5      0  NaN   NaN   \n",
       "163             5      0  NaN   NaN   \n",
       "182             5      0  NaN   NaN   \n",
       "185             5      0  NaN   NaN   \n",
       "187             5      0  NaN   NaN   \n",
       "192             5      0  NaN   NaN   \n",
       "207             5      0  NaN   NaN   \n",
       "209             5      0  NaN   NaN   \n",
       "211             5      0  NaN   NaN   \n",
       "213             5      0  NaN   NaN   \n",
       "215             5      0  NaN   NaN   \n",
       "217             5      0  NaN   NaN   \n",
       "219             5      0  NaN   NaN   \n",
       "221             5      0  NaN   NaN   \n",
       "223             5      0  NaN   NaN   \n",
       "227             5      0  NaN   NaN   \n",
       "230             5      0  NaN   NaN   \n",
       "232             5      0  NaN   NaN   \n",
       "234             5      0  NaN   NaN   \n",
       "236             5      0  NaN   NaN   \n",
       "238             5      0  NaN   NaN   \n",
       "240             5      0  NaN   NaN   \n",
       "246             5      0  NaN   NaN   \n",
       "248             5      0  NaN   NaN   \n",
       "250             5      0  NaN   NaN   \n",
       "...           ...    ...  ...   ...   \n",
       "38296           5      0  NaN   NaN   \n",
       "38366           5      0  NaN   NaN   \n",
       "38380           5      0  NaN   NaN   \n",
       "38398           5      0  NaN   NaN   \n",
       "38401           5      0  NaN   NaN   \n",
       "38403           5      0  NaN   NaN   \n",
       "38405           5      0  NaN   NaN   \n",
       "38408           5      0  NaN   NaN   \n",
       "38410           5      0  NaN   NaN   \n",
       "38460           5      0  NaN   NaN   \n",
       "38498           5      0  NaN   NaN   \n",
       "38500           5      0  NaN   NaN   \n",
       "38502           5      0  NaN   NaN   \n",
       "38504           5      0  NaN   NaN   \n",
       "38506           5      0  NaN   NaN   \n",
       "38516           5      0  NaN   NaN   \n",
       "38891           5      0  NaN   NaN   \n",
       "39073           5      0  NaN   NaN   \n",
       "39261           5      0  NaN   NaN   \n",
       "39294           5      0  NaN   NaN   \n",
       "39481           5      0  NaN   NaN   \n",
       "39621           5      0  NaN   NaN   \n",
       "39775           5      0  NaN   NaN   \n",
       "39914           5      0  NaN   NaN   \n",
       "40716           5      0  NaN   NaN   \n",
       "40749           5      0  NaN   NaN   \n",
       "40782           5      0  NaN   NaN   \n",
       "40909           5      0  NaN   NaN   \n",
       "41245           5      0  NaN   NaN   \n",
       "41274           5      0  NaN   NaN   \n",
       "\n",
       "                                              Body_clean  \n",
       "91     [ United States of America (USA), A large coun...  \n",
       "93     [Southernmost continent and mostly covered in ...  \n",
       "148                                                [nan]  \n",
       "156                                                [nan]  \n",
       "158                                                 [, ]  \n",
       "160    [Practice of creating pictures about some even...  \n",
       "163                                                [nan]  \n",
       "182                                                [nan]  \n",
       "185    [Use this tag when you want to travel by train...  \n",
       "187    [For questions relating to the topic of Europe...  \n",
       "192    [A country in northern Eurasia which is the la...  \n",
       "207    [A visa is a token giving rights to apply to e...  \n",
       "209                                                [nan]  \n",
       "211                                                [nan]  \n",
       "213                                                [nan]  \n",
       "215                                                [nan]  \n",
       "217                                                [nan]  \n",
       "219                                                [nan]  \n",
       "221    [Number of bags, cases and containers which ho...  \n",
       "223    [From the Wikipedia article, Ferry:, , A ferry...  \n",
       "227    [The region between usa in north-america and c...  \n",
       "230    [The region consisting of the countries georgi...  \n",
       "232    [This tag should be used for questions around ...  \n",
       "234    [It is the seventh-largest country by geograph...  \n",
       "236    [A country in the Caucasus region bordering tu...  \n",
       "238    [Alaska is the largest state in the United Sta...  \n",
       "240                                                [nan]  \n",
       "246    [From the Wikipedia article, Language barrier:...  \n",
       "248    [For questions that are general to all of Sout...  \n",
       "250    [The Caribbean is a region that consists of th...  \n",
       "...                                                  ...  \n",
       "38296  [Brunei is a sovereign state located on the no...  \n",
       "38366                                              [nan]  \n",
       "38380  [Refugees status is a special status recognize...  \n",
       "38398  [Riyadh (الرياض) is the capital of and largest...  \n",
       "38401  [Karachi (کراچی‎) is the largest city, main se...  \n",
       "38403  [Additional links for Bahamian citizens:, , Ap...  \n",
       "38405  [Maui is the second largest and third most-pop...  \n",
       "38408  [Universal Studios is the common name for amus...  \n",
       "38410  [New Jersey, the fourth smallest but eleventh ...  \n",
       "38460  [Kilimanjaro International Airport (KIA) (IATA...  \n",
       "38498  [Hurum is a municipality in Buskerud county, N...  \n",
       "38500  [Beggars are people who do ask for money or go...  \n",
       "38502  [Antwerp is a city in the northern part of Bel...  \n",
       "38504  [Booking.com is an online accommodation bookin...  \n",
       "38506  [Reviews tell people what to expect when they ...  \n",
       "38516  [In several countries people get reductions wh...  \n",
       "38891  [The scope of this tag also includes deception...  \n",
       "39073                                              [nan]  \n",
       "39261                                              [nan]  \n",
       "39294  [The Van Gogh Museum is an art museum in Amste...  \n",
       "39481  [Aruba is an island in the Caribbean sea, rela...  \n",
       "39621  [Questions tagged with this Tag are about the ...  \n",
       "39775  [Climbing is the activity of using one's hands...  \n",
       "39914                                              [nan]  \n",
       "40716                                              [nan]  \n",
       "40749  [Burgundy is a province in France whose histor...  \n",
       "40782                                              [nan]  \n",
       "40909  [TSA Precheck is a trusted traveler program of...  \n",
       "41245                                              [nan]  \n",
       "41274                                              [nan]  \n",
       "\n",
       "[1656 rows x 8 columns]"
      ]
     },
     "execution_count": 225,
     "metadata": {},
     "output_type": "execute_result"
    }
   ],
   "source": [
    "posts[posts.PostTypeId == 5]"
   ]
  },
  {
   "cell_type": "code",
   "execution_count": 167,
   "metadata": {
    "collapsed": false
   },
   "outputs": [
    {
     "data": {
      "text/plain": [
       "array([    1,     4,     5, ..., 71208, 71209, 71212])"
      ]
     },
     "execution_count": 167,
     "metadata": {},
     "output_type": "execute_result"
    }
   ],
   "source": [
    "posts.Id.unique()"
   ]
  },
  {
   "cell_type": "code",
   "execution_count": 168,
   "metadata": {
    "collapsed": true
   },
   "outputs": [],
   "source": [
    "posts.rename(columns={'Id': 'PostId'}, inplace=True)"
   ]
  },
  {
   "cell_type": "code",
   "execution_count": 169,
   "metadata": {
    "collapsed": false
   },
   "outputs": [
    {
     "data": {
      "text/plain": [
       "41288    <p>When you enter one of the three micro-state...\n",
       "Name: Body, dtype: object"
      ]
     },
     "execution_count": 169,
     "metadata": {},
     "output_type": "execute_result"
    }
   ],
   "source": [
    "posts[posts.PostId == 71212].Body"
   ]
  },
  {
   "cell_type": "code",
   "execution_count": 170,
   "metadata": {
    "collapsed": false
   },
   "outputs": [
    {
     "data": {
      "text/plain": [
       "81500    I *assume* that the same logic applies to Disn...\n",
       "81502    I am somewhat skeptical about that assumption....\n",
       "81504    @AndrewLazarus, that would make a great questi...\n",
       "Name: Text, dtype: object"
      ]
     },
     "execution_count": 170,
     "metadata": {},
     "output_type": "execute_result"
    }
   ],
   "source": [
    "comments[comments.PostId == 71212].Text"
   ]
  },
  {
   "cell_type": "code",
   "execution_count": 171,
   "metadata": {
    "collapsed": true
   },
   "outputs": [],
   "source": [
    "comments.rename(columns={'Text': 'CommentText'}, inplace=True)"
   ]
  },
  {
   "cell_type": "code",
   "execution_count": 172,
   "metadata": {
    "collapsed": false
   },
   "outputs": [
    {
     "data": {
      "text/plain": [
       "Index([u'CreationDate', u'Id', u'PostId', u'Score', u'CommentText',\n",
       "       u'UserDisplayName', u'UserId'],\n",
       "      dtype='object')"
      ]
     },
     "execution_count": 172,
     "metadata": {},
     "output_type": "execute_result"
    }
   ],
   "source": [
    "comments.columns"
   ]
  },
  {
   "cell_type": "code",
   "execution_count": 173,
   "metadata": {
    "collapsed": false
   },
   "outputs": [],
   "source": [
    "comments = comments[['PostId','CommentText']]"
   ]
  },
  {
   "cell_type": "code",
   "execution_count": 174,
   "metadata": {
    "collapsed": true
   },
   "outputs": [],
   "source": [
    "posts_comments = pd.merge(posts, comments, on='PostId')"
   ]
  },
  {
   "cell_type": "code",
   "execution_count": 175,
   "metadata": {
    "collapsed": false
   },
   "outputs": [
    {
     "data": {
      "text/plain": [
       "(81506, 8)"
      ]
     },
     "execution_count": 175,
     "metadata": {},
     "output_type": "execute_result"
    }
   ],
   "source": [
    "posts_comments.shape"
   ]
  },
  {
   "cell_type": "code",
   "execution_count": 176,
   "metadata": {
    "collapsed": false
   },
   "outputs": [
    {
     "data": {
      "text/html": [
       "<div>\n",
       "<table border=\"1\" class=\"dataframe\">\n",
       "  <thead>\n",
       "    <tr style=\"text-align: right;\">\n",
       "      <th></th>\n",
       "      <th>Body</th>\n",
       "      <th>PostId</th>\n",
       "      <th>ParentId</th>\n",
       "      <th>PostTypeId</th>\n",
       "      <th>Score</th>\n",
       "      <th>Tags</th>\n",
       "      <th>Title</th>\n",
       "      <th>CommentText</th>\n",
       "    </tr>\n",
       "  </thead>\n",
       "  <tbody>\n",
       "    <tr>\n",
       "      <th>0</th>\n",
       "      <td>&lt;p&gt;My fiancée and I are looking for a good Car...</td>\n",
       "      <td>1</td>\n",
       "      <td>NaN</td>\n",
       "      <td>1</td>\n",
       "      <td>8</td>\n",
       "      <td>&lt;caribbean&gt;&lt;cruising&gt;&lt;vacations&gt;</td>\n",
       "      <td>What are some Caribbean cruises for October?</td>\n",
       "      <td>To help with the cruise line question: Where a...</td>\n",
       "    </tr>\n",
       "    <tr>\n",
       "      <th>1</th>\n",
       "      <td>&lt;p&gt;My fiancée and I are looking for a good Car...</td>\n",
       "      <td>1</td>\n",
       "      <td>NaN</td>\n",
       "      <td>1</td>\n",
       "      <td>8</td>\n",
       "      <td>&lt;caribbean&gt;&lt;cruising&gt;&lt;vacations&gt;</td>\n",
       "      <td>What are some Caribbean cruises for October?</td>\n",
       "      <td>Toronto, Ontario. We can fly out of anywhere t...</td>\n",
       "    </tr>\n",
       "    <tr>\n",
       "      <th>2</th>\n",
       "      <td>&lt;p&gt;My fiancée and I are looking for a good Car...</td>\n",
       "      <td>1</td>\n",
       "      <td>NaN</td>\n",
       "      <td>1</td>\n",
       "      <td>8</td>\n",
       "      <td>&lt;caribbean&gt;&lt;cruising&gt;&lt;vacations&gt;</td>\n",
       "      <td>What are some Caribbean cruises for October?</td>\n",
       "      <td>\"Best\" for what?  Please read [this page](http...</td>\n",
       "    </tr>\n",
       "    <tr>\n",
       "      <th>3</th>\n",
       "      <td>&lt;p&gt;My fiancée and I are looking for a good Car...</td>\n",
       "      <td>1</td>\n",
       "      <td>NaN</td>\n",
       "      <td>1</td>\n",
       "      <td>8</td>\n",
       "      <td>&lt;caribbean&gt;&lt;cruising&gt;&lt;vacations&gt;</td>\n",
       "      <td>What are some Caribbean cruises for October?</td>\n",
       "      <td>What do you want out of a cruise? To relax on ...</td>\n",
       "    </tr>\n",
       "    <tr>\n",
       "      <th>4</th>\n",
       "      <td>&lt;p&gt;Singapore Airlines has an all-business clas...</td>\n",
       "      <td>4</td>\n",
       "      <td>NaN</td>\n",
       "      <td>1</td>\n",
       "      <td>8</td>\n",
       "      <td>&lt;loyalty-programs&gt;&lt;routes&gt;&lt;ewr&gt;&lt;singapore-airl...</td>\n",
       "      <td>Does Singapore Airlines offer any reward seats...</td>\n",
       "      <td>This route (as well as LAX-SIN) is being cance...</td>\n",
       "    </tr>\n",
       "  </tbody>\n",
       "</table>\n",
       "</div>"
      ],
      "text/plain": [
       "                                                Body  PostId  ParentId  \\\n",
       "0  <p>My fiancée and I are looking for a good Car...       1       NaN   \n",
       "1  <p>My fiancée and I are looking for a good Car...       1       NaN   \n",
       "2  <p>My fiancée and I are looking for a good Car...       1       NaN   \n",
       "3  <p>My fiancée and I are looking for a good Car...       1       NaN   \n",
       "4  <p>Singapore Airlines has an all-business clas...       4       NaN   \n",
       "\n",
       "   PostTypeId  Score                                               Tags  \\\n",
       "0           1      8                   <caribbean><cruising><vacations>   \n",
       "1           1      8                   <caribbean><cruising><vacations>   \n",
       "2           1      8                   <caribbean><cruising><vacations>   \n",
       "3           1      8                   <caribbean><cruising><vacations>   \n",
       "4           1      8  <loyalty-programs><routes><ewr><singapore-airl...   \n",
       "\n",
       "                                               Title  \\\n",
       "0       What are some Caribbean cruises for October?   \n",
       "1       What are some Caribbean cruises for October?   \n",
       "2       What are some Caribbean cruises for October?   \n",
       "3       What are some Caribbean cruises for October?   \n",
       "4  Does Singapore Airlines offer any reward seats...   \n",
       "\n",
       "                                         CommentText  \n",
       "0  To help with the cruise line question: Where a...  \n",
       "1  Toronto, Ontario. We can fly out of anywhere t...  \n",
       "2  \"Best\" for what?  Please read [this page](http...  \n",
       "3  What do you want out of a cruise? To relax on ...  \n",
       "4  This route (as well as LAX-SIN) is being cance...  "
      ]
     },
     "execution_count": 176,
     "metadata": {},
     "output_type": "execute_result"
    }
   ],
   "source": [
    "posts_comments.head()"
   ]
  },
  {
   "cell_type": "code",
   "execution_count": 2,
   "metadata": {
    "collapsed": true
   },
   "outputs": [],
   "source": [
    "from bs4 import BeautifulSoup"
   ]
  },
  {
   "cell_type": "code",
   "execution_count": 206,
   "metadata": {
    "collapsed": false
   },
   "outputs": [],
   "source": [
    "# Remove HTML from \"Body\" column\n",
    "posts_comments[\"Body_clean\"] = posts_comments[\"Body\"].map(lambda x: BeautifulSoup(str(x),\"html.parser\").get_text())"
   ]
  },
  {
   "cell_type": "code",
   "execution_count": 207,
   "metadata": {
    "collapsed": false
   },
   "outputs": [
    {
     "data": {
      "text/plain": [
       "u\"I'm planning on taking the trans-Siberian / trans-Mongolian from Moscow to Beijing via Ulaan Bataar next year and I'd like some advice on how best to organise the visa situation. \\nI'm a British citizen, partner is Swedish. We'll need visas for Russia, China and Mongolia. Seeing as you can only book the train tickets like 3 months in advance and you need to get all the visas together in that time as well, the process seems likely to be a bit complicated. Especially if you end up getting declined for a visa. \\nWhat is the best process or method for obtaining the visas (in which country order) and is there any kind of trustworthy service that will do it for me? If I go through a service, what happens if one of my visas is declined?\\n\""
      ]
     },
     "execution_count": 207,
     "metadata": {},
     "output_type": "execute_result"
    }
   ],
   "source": [
    "posts_comments.Body_clean[8]"
   ]
  },
  {
   "cell_type": "code",
   "execution_count": 192,
   "metadata": {
    "collapsed": false
   },
   "outputs": [
    {
     "data": {
      "text/plain": [
       "'If at all possible, save yourself the hassle of applying for a Russian Visa through the Russian embassy in Ulan Bator, Mongolia'"
      ]
     },
     "execution_count": 192,
     "metadata": {},
     "output_type": "execute_result"
    }
   ],
   "source": [
    "posts_comments.CommentText[8]"
   ]
  },
  {
   "cell_type": "code",
   "execution_count": 221,
   "metadata": {
    "collapsed": false
   },
   "outputs": [],
   "source": [
    "import sys\n",
    "reload(sys)\n",
    "sys.setdefaultencoding('utf8')"
   ]
  },
  {
   "cell_type": "code",
   "execution_count": 231,
   "metadata": {
    "collapsed": false
   },
   "outputs": [],
   "source": [
    "#COMBINE POST AND COMMENT TEXT INTO ONE COLUMN\n",
    "posts_comments['AllText'] = posts_comments[['Body_clean', 'CommentText']].apply(lambda x: ''.join(x), axis=1)"
   ]
  },
  {
   "cell_type": "code",
   "execution_count": 232,
   "metadata": {
    "collapsed": false
   },
   "outputs": [
    {
     "data": {
      "text/plain": [
       "u\"I'm planning on taking the trans-Siberian / trans-Mongolian from Moscow to Beijing via Ulaan Bataar next year and I'd like some advice on how best to organise the visa situation. \\nI'm a British citizen, partner is Swedish. We'll need visas for Russia, China and Mongolia. Seeing as you can only book the train tickets like 3 months in advance and you need to get all the visas together in that time as well, the process seems likely to be a bit complicated. Especially if you end up getting declined for a visa. \\nWhat is the best process or method for obtaining the visas (in which country order) and is there any kind of trustworthy service that will do it for me? If I go through a service, what happens if one of my visas is declined?\\nIf at all possible, save yourself the hassle of applying for a Russian Visa through the Russian embassy in Ulan Bator, Mongolia\""
      ]
     },
     "execution_count": 232,
     "metadata": {},
     "output_type": "execute_result"
    }
   ],
   "source": [
    "posts_comments.AllText[8]"
   ]
  },
  {
   "cell_type": "code",
   "execution_count": 229,
   "metadata": {
    "collapsed": false
   },
   "outputs": [],
   "source": [
    "from sklearn.feature_extraction.text import ENGLISH_STOP_WORDS\n",
    "stop_words = list(ENGLISH_STOP_WORDS)\n",
    "print stop_words"
   ]
  },
  {
   "cell_type": "code",
   "execution_count": 233,
   "metadata": {
    "collapsed": false
   },
   "outputs": [
    {
     "data": {
      "text/plain": [
       "{u'constan\\u021ba': 23526,\n",
       " u'vang': 78426,\n",
       " u'localizer': 47254,\n",
       " u'gemmologist': 35583,\n",
       " u'woods': 81419,\n",
       " u'spiders': 69585,\n",
       " u'3027622187': 4623,\n",
       " u'hanging': 37830,\n",
       " u'woody': 81425,\n",
       " u'trawling': 75488,\n",
       " u'comically': 22672,\n",
       " u'localized': 47253,\n",
       " u'regularize': 62561,\n",
       " u'disobeying': 27716,\n",
       " u'canes': 19664,\n",
       " u'kawasakis': 44275,\n",
       " u'reclear': 62048,\n",
       " u'chanthaburi': 20823,\n",
       " u'refunding': 62441,\n",
       " u'caned': 19663,\n",
       " u'crossbar': 24766,\n",
       " u'beusselstr': 16692,\n",
       " u'touristed': 74844,\n",
       " u'user4550': 78049,\n",
       " u'wikiloc': 81011,\n",
       " u'touristen': 74845,\n",
       " u'bratislava': 18123,\n",
       " u'replaces': 63047,\n",
       " u'makemytrip': 48302,\n",
       " u'bringing': 18347,\n",
       " u'wooded': 81412,\n",
       " u'goresbrook': 36453,\n",
       " u'grueling': 37057,\n",
       " u'wooden': 81413,\n",
       " u'wednesday': 80509,\n",
       " u'circuitry': 21677,\n",
       " u'crossrate': 24788,\n",
       " u'salacgriva': 65239,\n",
       " u'330ml': 4928,\n",
       " u'bbqs': 16007,\n",
       " u'chiasso': 21192,\n",
       " u'thrace': 73863,\n",
       " u'maytham': 49216,\n",
       " u'targu': 72663,\n",
       " u'geocahe': 35698,\n",
       " u'snuggles': 68842,\n",
       " u'0050': 77,\n",
       " u'shorthaul': 67496,\n",
       " u'270': 4056,\n",
       " u'271': 4070,\n",
       " u'targo': 72661,\n",
       " u'273': 4081,\n",
       " u'16709': 1919,\n",
       " u'275': 4103,\n",
       " u'sh1t': 67023,\n",
       " u'e1398776958719': 29236,\n",
       " u'278': 4121,\n",
       " u'279': 4128,\n",
       " u'tumen': 76049,\n",
       " u'kid1': 44616,\n",
       " u'kid2': 44617,\n",
       " u'errors': 30983,\n",
       " u'02006r0562': 165,\n",
       " u'hp': 39590,\n",
       " u'amazzing': 12326,\n",
       " u'100015': 511,\n",
       " u'\\u0441\\u043f\\u043e\\u0440\\u0442\\u0438\\u0432\\u043d\\u0438\\u0445': 83298,\n",
       " u'designing': 26750,\n",
       " u'numeral': 53893,\n",
       " u'27a': 4138,\n",
       " u'27b': 4144,\n",
       " u'probabilidad': 59850,\n",
       " u'aktivnyj': 11759,\n",
       " u'27j': 4147,\n",
       " u'perforations': 57277,\n",
       " u'affiliates': 11170,\n",
       " u'rautatientori': 61684,\n",
       " u'\\u304a\\u3057\\u308a': 83519,\n",
       " u'27s': 4152,\n",
       " u'affiliated': 11169,\n",
       " u'quark': 60957,\n",
       " u'identit\\xe4t': 40290,\n",
       " u'laegern': 45627,\n",
       " u'kids': 44635,\n",
       " u'742889': 8003,\n",
       " u'senior_ages': 66680,\n",
       " u'blowpipes': 17372,\n",
       " u'deferring': 26186,\n",
       " u'controversy': 23803,\n",
       " u'\\u3054\\u307c\\u3046\\u5dfb\\u304d': 83526,\n",
       " u'millihour': 50246,\n",
       " u'spotty': 69733,\n",
       " u'_would_': 9901,\n",
       " u'topography': 74681,\n",
       " u'projection': 60054,\n",
       " u'squatties': 69838,\n",
       " u'_knowledge_': 9515,\n",
       " u'steri': 70415,\n",
       " u'battisti': 15941,\n",
       " u'orangist': 55051,\n",
       " u'gasteiz': 35341,\n",
       " u'stern': 70428,\n",
       " u'dnd': 28071,\n",
       " u'agassi': 11279,\n",
       " u'dnf': 28072,\n",
       " u'dna': 28069,\n",
       " u'pegging': 57081,\n",
       " u'user1264727': 77958,\n",
       " u'ontstaan': 54835,\n",
       " u'insecurity': 41665,\n",
       " u'dni': 28073,\n",
       " u'inevitable': 41296,\n",
       " u'dnt': 28080,\n",
       " u'_wouldn': 9902,\n",
       " u'dns': 28079,\n",
       " u'dnr': 28077,\n",
       " u'bosporus': 17868,\n",
       " u'voyageur': 79754,\n",
       " u'sermons': 66828,\n",
       " u'duals': 28881,\n",
       " u'rentalterms': 62964,\n",
       " u'cardholders_': 19864,\n",
       " u'populations': 58838,\n",
       " u'watercolor': 80273,\n",
       " u'french_polynesia': 34490,\n",
       " u'yahoo': 81973,\n",
       " u'yolculuk': 82216,\n",
       " u'boorman': 17756,\n",
       " u'8aug12': 8641,\n",
       " u'avml': 14877,\n",
       " u'zvdki': 82776,\n",
       " u'intake': 41832,\n",
       " u'morally': 51206,\n",
       " u'phang': 57610,\n",
       " u'wang': 80097,\n",
       " u'wand': 80072,\n",
       " u'pints': 58053,\n",
       " u'wani': 80100,\n",
       " u'wann': 80105,\n",
       " u'domes': 28236,\n",
       " u'titanium': 74299,\n",
       " u'want': 80109,\n",
       " u'railticketsto': 61395,\n",
       " u'pinto': 58052,\n",
       " u'travel': 75363,\n",
       " u'copious': 23997,\n",
       " u'airlocks': 11597,\n",
       " u'ambala': 12328,\n",
       " u'peseur': 57498,\n",
       " u'b004dp4ue0': 15079,\n",
       " u'gouge': 36505,\n",
       " u'20act': 3005,\n",
       " u'18r': 2316,\n",
       " u'uselessness': 77943,\n",
       " u'40326': 5742,\n",
       " u'assimilated': 14127,\n",
       " u'roflcopters': 64295,\n",
       " u'septendecillion': 66777,\n",
       " u'europeforvisitors': 31410,\n",
       " u'dinosaurs': 27358,\n",
       " u'wrong': 81654,\n",
       " u'calidad': 19409,\n",
       " u'rijksmusuem': 63946,\n",
       " u'sentencing': 66724,\n",
       " u'assimilates': 14128,\n",
       " u'18s': 2317,\n",
       " u'menlo': 49660,\n",
       " u'corvara': 24157,\n",
       " u'donnee_appel': 28312,\n",
       " u'disengaging': 27633,\n",
       " u'snugly': 68844,\n",
       " u'welcomed': 80595,\n",
       " u'concurrence': 23157,\n",
       " u'stoicism': 70577,\n",
       " u'concurrency': 23158,\n",
       " u'wekes': 80586,\n",
       " u'nidarosdomen': 53101,\n",
       " u'activating': 10686,\n",
       " u'grzegorz': 37083,\n",
       " u'_und_verkehrsverb': 9846,\n",
       " u'fir': 33224,\n",
       " u'uow': 77677,\n",
       " u'dunoon': 29012,\n",
       " u'fit': 33312,\n",
       " u'lifeline': 46755,\n",
       " u'screaming': 66139,\n",
       " u'fix': 33338,\n",
       " u'discourse': 27571,\n",
       " u'uob': 77671,\n",
       " u'50419': 6601,\n",
       " u'fif': 33035,\n",
       " u'fig': 33042,\n",
       " u'fid': 33005,\n",
       " u'fie': 33018,\n",
       " u'reentered': 62306,\n",
       " u'shinawatra': 67304,\n",
       " u'\\u0627\\u0628\\u062f': 83391,\n",
       " u'fin': 33127,\n",
       " u'bankrupts': 15643,\n",
       " u'fil': 33068,\n",
       " u'uol': 77673,\n",
       " u'chawton': 20990,\n",
       " u'vouchers': 79737,\n",
       " u'2127089': 3278,\n",
       " u'shivan': 67391,\n",
       " u'effects': 29705,\n",
       " u'sova': 69283,\n",
       " u'chicago_ohare': 21202,\n",
       " u'60906': 7317,\n",
       " u'viaticum': 78980,\n",
       " u'lucern': 47716,\n",
       " u'srdceafriky': 69878,\n",
       " u'disconnection': 27550,\n",
       " u'ingria': 41488,\n",
       " u'timeout': 74173,\n",
       " u'archeologically': 13535,\n",
       " u'verkehrsverbund': 78796,\n",
       " u'_personally_': 9657,\n",
       " u'wierzbicka': 80981,\n",
       " u'zuid': 82752,\n",
       " u'parasites': 56372,\n",
       " u'sas_summary': 65593,\n",
       " u'novices': 53729,\n",
       " u'absolves': 10308,\n",
       " u'forwarding': 34154,\n",
       " u'chiffonn\\xe9': 21224,\n",
       " u'omanian': 54686,\n",
       " u'indiscretion': 41219,\n",
       " u'enviroment': 30754,\n",
       " u'dirvers': 27443,\n",
       " u'adapt': 10751,\n",
       " u'idioimagers': 40303,\n",
       " u'cementery': 20490,\n",
       " u'abbott': 10137,\n",
       " u'asami': 13939,\n",
       " u'averseness': 14845,\n",
       " u'3x10kg': 5681,\n",
       " u'underfoot': 76922,\n",
       " u'cornavin': 24059,\n",
       " u'm\\xe9xican': 52029,\n",
       " u'estimate': 31185,\n",
       " u'6qf': 7799,\n",
       " u'chlorine': 21362,\n",
       " u'processor': 59911,\n",
       " u'sys': 72148,\n",
       " u'dgs': 27008,\n",
       " u'immunities': 40697,\n",
       " u'disturbed': 27911,\n",
       " u'ineffectively': 41276,\n",
       " u'selfs': 66592,\n",
       " u'90cm': 8733,\n",
       " u'old_': 54603,\n",
       " u'polyprops': 58730,\n",
       " u'megabytes': 49502,\n",
       " u'workaway': 81472,\n",
       " u'baardkopperud': 15168,\n",
       " u'oldham': 54611,\n",
       " u'olds': 54617,\n",
       " u'renovated': 62943,\n",
       " u'casamance': 20084,\n",
       " u'duidelijk': 28952,\n",
       " u'lanaken': 45742,\n",
       " u'needed': 52664,\n",
       " u'master': 49003,\n",
       " u'fuzziness': 34949,\n",
       " u'genesis': 35649,\n",
       " u'rewards': 63692,\n",
       " u'carousel': 19974,\n",
       " u'fjb91': 33354,\n",
       " u'terrorjustiz': 73317,\n",
       " u'suomenlinna': 71510,\n",
       " u'3dgoogle': 5594,\n",
       " u'mutilated': 51882,\n",
       " u'untergrund': 77588,\n",
       " u'positively': 58969,\n",
       " u'ahmed': 11415,\n",
       " u'802870': 8310,\n",
       " u'ferien': 32854,\n",
       " u'272': 4074,\n",
       " u'ahmet': 11419,\n",
       " u'klasson': 44876,\n",
       " u'feeling': 32773,\n",
       " u'ilara': 40473,\n",
       " u'kalitta': 43986,\n",
       " u'woldgang': 81362,\n",
       " u'reurn': 63600,\n",
       " u'15703': 1746,\n",
       " u'6815': 7673,\n",
       " u'consenting': 23436,\n",
       " u'\\u043a\\u0430\\u0436\\u0434\\u043e\\u0433\\u043e': 83081,\n",
       " u'bogan': 17549,\n",
       " u'lamphong': 45732,\n",
       " u'themepark': 73602,\n",
       " u'germoir': 35810,\n",
       " u'birght': 17007,\n",
       " u'affairs': 11156,\n",
       " u'vgn': 78938,\n",
       " u'credentialed': 24603,\n",
       " u'courier': 24356,\n",
       " u'paramedics': 56349,\n",
       " u'burdigalam': 18859,\n",
       " u'pnuts': 58508,\n",
       " u'shipments': 67342,\n",
       " u'unknow': 77299,\n",
       " u'pelting': 57114,\n",
       " u'diminishing': 27317,\n",
       " u'resonates': 63336,\n",
       " u'simplify': 67927,\n",
       " u'icloud': 40198,\n",
       " u'1h20min': 2601,\n",
       " u'belasting_van_personenautos_en_motorrijwielen_bpm': 16320,\n",
       " u'tect': 72985,\n",
       " u'nettle': 52838,\n",
       " u'kiyv': 44847,\n",
       " u'teco': 72983,\n",
       " u'tech': 72941,\n",
       " u'fugitives': 34769,\n",
       " u'caledoniansleeper': 19390,\n",
       " u'hastings': 38065,\n",
       " u'saying': 65743,\n",
       " u'padded': 55960,\n",
       " u'i1703': 40012,\n",
       " u'tempted': 73156,\n",
       " u'jonworth': 43542,\n",
       " u'quickdraws': 61074,\n",
       " u'eingestellt': 29816,\n",
       " u'hounded': 39513,\n",
       " u'vindictive': 79198,\n",
       " u'geofenced': 35707,\n",
       " u'clicked': 22036,\n",
       " u'ebven': 29452,\n",
       " u'055747': 281,\n",
       " u'30330': 4629,\n",
       " u'30333': 4630,\n",
       " u'wundermap': 81703,\n",
       " u'24months': 3783,\n",
       " u'auspost': 14581,\n",
       " u'plate': 58303,\n",
       " u'platf': 58309,\n",
       " u'venez': 78675,\n",
       " u'plata': 58299,\n",
       " u'iata': 40089,\n",
       " u'uighurs': 76558,\n",
       " u'firenze': 33243,\n",
       " u'caribe': 19922,\n",
       " u'altogether': 12253,\n",
       " u'rugged': 64768,\n",
       " u'platz': 58327,\n",
       " u'hotel_california': 39462,\n",
       " u'droning': 28763,\n",
       " u'asiapacific': 14006,\n",
       " u'jaguar': 42906,\n",
       " u'optimise': 55010,\n",
       " u'distracting': 27886,\n",
       " u'nicely': 53059,\n",
       " u'patch': 56729,\n",
       " u'72157613106185877': 7917,\n",
       " u'premiereclasse': 59472,\n",
       " u'precluding': 59356,\n",
       " u'\\xe9change': 82830,\n",
       " u'lot_': 47566,\n",
       " u'zahlen': 82429,\n",
       " u'pinot': 58045,\n",
       " u'etix': 31274,\n",
       " u'happycow': 37894,\n",
       " u'lots': 47572,\n",
       " u'irr': 42470,\n",
       " u'irs': 42511,\n",
       " u'deanmacgregor': 25911,\n",
       " u'nexus_prog': 52990,\n",
       " u'iddsearch': 40242,\n",
       " u'loti': 47569,\n",
       " u'conductive': 23210,\n",
       " u'ira': 42400,\n",
       " u'lota': 47567,\n",
       " u'irc': 42426,\n",
       " u'cordoned': 24042,\n",
       " u'ire': 42431,\n",
       " u'razor_blade_rec': 61726,\n",
       " u'requisites': 63174,\n",
       " u'letting': 46545,\n",
       " u'extend': 32025,\n",
       " u'nature': 52455,\n",
       " u'extent': 32041,\n",
       " u'airflot': 11555,\n",
       " u'friendlyish': 34560,\n",
       " u'airflow': 11556,\n",
       " u'sleepiest': 68392,\n",
       " u'ir4': 42398,\n",
       " u'3637422': 5240,\n",
       " u'journeysbyrail': 43600,\n",
       " u'1month': 2645,\n",
       " u'iparm\\u0171v\\xe9szeti': 42362,\n",
       " u'beneluxtrain': 16462,\n",
       " u'ji\\u01d4di\\xe0n': 43371,\n",
       " u'wearying': 80439,\n",
       " u'fondled': 33859,\n",
       " u'minuses': 50415,\n",
       " u'escalade': 31021,\n",
       " u'fra': 34241,\n",
       " u'frg': 34532,\n",
       " u'stayinkiev': 70292,\n",
       " u'131313': 1300,\n",
       " u'traeng': 75005,\n",
       " u'icarus74': 40150,\n",
       " u'fri': 34533,\n",
       " u'fro': 34618,\n",
       " u'finsbury': 33219,\n",
       " u'bothers': 17894,\n",
       " u'canrailpass': 19710,\n",
       " u'fry': 34705,\n",
       " u'giessen': 35960,\n",
       " u'sheung': 67253,\n",
       " u'spip': 69615,\n",
       " u'spit': 69625,\n",
       " u'regua': 62550,\n",
       " u'opentopomap': 54913,\n",
       " u'doubts': 28435,\n",
       " u'regus': 62580,\n",
       " u'spin': 69608,\n",
       " u'propellants': 60146,\n",
       " u'wildcat': 81038,\n",
       " u'goethestrasse': 36321,\n",
       " u'administrative': 10883,\n",
       " u'amazonsmile': 12324,\n",
       " u'contingencies': 23705,\n",
       " u'professionally': 59982,\n",
       " u'fr2': 34237,\n",
       " u'misconstrued': 50492,\n",
       " u'1672': 1920,\n",
       " u'l\\xf6tschberg': 47925,\n",
       " u'goppenstein': 36440,\n",
       " u'prnewswire': 59844,\n",
       " u'umsteigen': 76695,\n",
       " u'unor': 77384,\n",
       " u'canoeing': 19697,\n",
       " u'desti': 26797,\n",
       " u'embargos': 30141,\n",
       " u'conditioned': 23180,\n",
       " u'conditioner': 23181,\n",
       " u'20child': 3053,\n",
       " u'5050': 6605,\n",
       " u'ogni': 54520,\n",
       " u'hone': 39224,\n",
       " u'hond': 39219,\n",
       " u'hong': 39240,\n",
       " u'mailservices': 48231,\n",
       " u'portobello': 58919,\n",
       " u'honk': 39251,\n",
       " u'democracies': 26408,\n",
       " u'spews': 69559,\n",
       " u'sr_1_13': 69871,\n",
       " u'visitations': 79385,\n",
       " u'prash': 59268,\n",
       " u'0077162': 88,\n",
       " u'hu\\u0101yu\\xe1n': 39866,\n",
       " u'terminalen': 73256,\n",
       " u'flipflops': 33574,\n",
       " u'inr1000': 41639,\n",
       " u'6413180': 7497,\n",
       " u'frenchmen': 34495,\n",
       " u'w\\xfcrttemberg': 81758,\n",
       " u'18898': 2283,\n",
       " u'promille': 60079,\n",
       " u'mikerobins': 50166,\n",
       " u'75in': 8068,\n",
       " u'calpol': 19457,\n",
       " u'naturey': 52459,\n",
       " u'academic': 10371,\n",
       " u'academia': 10370,\n",
       " u'dirtying': 27442,\n",
       " u'corporate': 24085,\n",
       " u'massaging': 48983,\n",
       " u'pdc': 56957,\n",
       " u'zfbh': 82569,\n",
       " u'bellow': 16395,\n",
       " u'willesden': 81079,\n",
       " u'absurdities': 10325,\n",
       " u'golden': 36347,\n",
       " u'bigboytravel': 16838,\n",
       " u'1237565036782': 1125,\n",
       " u'stnk': 70555,\n",
       " u'dtac': 28859,\n",
       " u'immeadiately': 40635,\n",
       " u'hah': 37571,\n",
       " u'hai': 37581,\n",
       " u'haj': 37623,\n",
       " u'hal': 37635,\n",
       " u'ham': 37689,\n",
       " u'han': 37739,\n",
       " u'hao': 37865,\n",
       " u'haa': 37469,\n",
       " u'grownupplayground': 37036,\n",
       " u'advancement': 10989,\n",
       " u'hag': 37551,\n",
       " u'hay': 38167,\n",
       " u'haz': 38181,\n",
       " u'duffel': 28940,\n",
       " u'har': 37899,\n",
       " u'hat': 38068,\n",
       " u'hau': 38094,\n",
       " u'hav': 38124,\n",
       " u'ingine': 41467,\n",
       " u'municipal': 51752,\n",
       " u'elders': 29917,\n",
       " u'unequivocally': 77077,\n",
       " u'objective': 54155,\n",
       " u'indicative': 41191,\n",
       " u'alghoul': 11935,\n",
       " u'nonconsecutive': 53421,\n",
       " u'sleuthing': 68413,\n",
       " u'fallcolour': 32376,\n",
       " u'semi': 66626,\n",
       " u'jerome_k': 43214,\n",
       " u'article383': 13850,\n",
       " u'identidade': 40261,\n",
       " u'article384': 13851,\n",
       " u'vatanpour': 78515,\n",
       " u'8030': 8311,\n",
       " u'crowd': 24807,\n",
       " u'czech': 25332,\n",
       " u'mosques': 51309,\n",
       " u'pergentian': 57291,\n",
       " u'crown': 24819,\n",
       " u'\\u043f\\u043e\\u0440\\u044f\\u0434\\u043e\\u043a': 83197,\n",
       " u'captive': 19803,\n",
       " u'emphases': 30275,\n",
       " u'popilia': 58810,\n",
       " u'mismatching': 50546,\n",
       " u'swoooosh': 72039,\n",
       " u'iwzhr': 42810,\n",
       " u'perchance': 57252,\n",
       " u'naural': 52473,\n",
       " u'fablicating': 32203,\n",
       " u'congolaises': 23334,\n",
       " u'completly': 22966,\n",
       " u'expresslanes': 32004,\n",
       " u'shwebo': 67649,\n",
       " u'magheramorne': 48141,\n",
       " u'4m12': 6501,\n",
       " u'4m13': 6502,\n",
       " u'_check': 9302,\n",
       " u'4m17': 6504,\n",
       " u'starring': 70168,\n",
       " u'4m18': 6505,\n",
       " u'_reverse_': 9712,\n",
       " u'visitng': 79408,\n",
       " u'benches': 16435,\n",
       " u'powerized': 59164,\n",
       " u'vonage': 79678,\n",
       " u'acov': 10635,\n",
       " u'dyson': 29178,\n",
       " u'honeymoon': 39232,\n",
       " u'alexandria_': 11907,\n",
       " u'avalaible': 14812,\n",
       " u'marshals': 48877,\n",
       " u'mangos': 48523,\n",
       " u'shoots': 67441,\n",
       " u'whwh': 80925,\n",
       " u'despised': 26784,\n",
       " u'fabric': 32204,\n",
       " u'raped': 61575,\n",
       " u'uk_border_agency': 76572,\n",
       " u'greggs': 36848,\n",
       " u'16006': 1822,\n",
       " u'carrieziegler': 20015,\n",
       " u'rapes': 61576,\n",
       " u'vicen\\xe7': 79001,\n",
       " u'avocados': 14880,\n",
       " u'factsandfigures': 32259,\n",
       " u'evous': 31577,\n",
       " u'perfumes': 57288,\n",
       " u'spurting': 69803,\n",
       " u'buttoning': 19071,\n",
       " u'lancaster_warehouse1000407': 45746,\n",
       " u'denoting': 26481,\n",
       " u'thesaurus': 73683,\n",
       " u'modern\\xb9': 50857,\n",
       " u'gummistopfer': 37294,\n",
       " u'incinerator': 40992,\n",
       " u'\\u043c\\u043e\\u0436\\u0435\\u0442': 83117,\n",
       " u'msg00426': 51557,\n",
       " u'congratulations': 23341,\n",
       " u'panettone': 56186,\n",
       " u'transport\\xe9s': 75305,\n",
       " u'largish': 45916,\n",
       " u'caretera': 19902,\n",
       " u'istocno': 42669,\n",
       " u'1600s': 1825,\n",
       " u'7444km': 8011,\n",
       " u'nicest': 53062,\n",
       " u'soldering': 68992,\n",
       " u'mercurynews': 49728,\n",
       " u'cntraveler': 22256,\n",
       " u'unregular': 77477,\n",
       " u'30m': 4727,\n",
       " u'relabelling': 62699,\n",
       " u'passenger': 56620,\n",
       " u'64005': 7487,\n",
       " u'disgrace': 27636,\n",
       " u'moderne': 50849,\n",
       " u'64000': 7486,\n",
       " u'the_americas': 73515,\n",
       " u'altmont': 12249,\n",
       " u'emiliadelizia': 30224,\n",
       " u'rechecking': 62001,\n",
       " u'bedsheet': 16185,\n",
       " u'trinkaus': 75680,\n",
       " u'togavgang': 74465,\n",
       " u'altona': 12254,\n",
       " u'kyrygzstan': 45487,\n",
       " u'itallians': 42699,\n",
       " u'cambodia': 19484,\n",
       " u'pasadena': 56571,\n",
       " u'publich': 60467,\n",
       " u'crowne': 24820,\n",
       " u'5933': 7137,\n",
       " u'lars': 45933,\n",
       " u'palms': 56120,\n",
       " u'foyers': 34216,\n",
       " u'suwon': 71835,\n",
       " u'palmy': 56122,\n",
       " u'moresby': 51232,\n",
       " u'20130405': 2835,\n",
       " u'yellowstone': 82103,\n",
       " u'smelling': 68602,\n",
       " u'lorek': 47533,\n",
       " u'hawker': 38162,\n",
       " u'explosions': 31968,\n",
       " u'loren': 47534,\n",
       " u'_count': 9329,\n",
       " u'hypoallergenic': 39941,\n",
       " u'42170': 5864,\n",
       " u'mononym': 51061,\n",
       " u'tsuharesu': 75938,\n",
       " u'swiched': 71969,\n",
       " u'12201': 1091,\n",
       " u'ship_batteries': 67334,\n",
       " u'childs': 21244,\n",
       " u'chain': 20706,\n",
       " u'20betroffenen': 3030,\n",
       " u'preapproval': 59303,\n",
       " u'search_string': 66308,\n",
       " u'ohchr': 54524,\n",
       " u'annnnnd': 12865,\n",
       " u'ingroup': 41489,\n",
       " u'serially': 66821,\n",
       " u'junfou': 43751,\n",
       " u'chair': 20712,\n",
       " u'chais': 20717,\n",
       " u'verkehrs\\xfcberwachungsma\\xdfnahmen': 78799,\n",
       " u'27s_republic_of': 4161,\n",
       " u'macht': 48040,\n",
       " u'machu': 48042,\n",
       " u'3693017': 5288,\n",
       " u'amplification': 12496,\n",
       " u'snotty': 68789,\n",
       " u'freelance': 34425,\n",
       " u'8869': 8594,\n",
       " u'windfarms': 81131,\n",
       " u'balled': 15484,\n",
       " u'favourite': 32657,\n",
       " u'\\u5916\\u51fa': 83671,\n",
       " u'macho': 48039,\n",
       " u'oversight': 55709,\n",
       " u'machi': 48030,\n",
       " u'26834': 4015,\n",
       " u'windshields': 81151,\n",
       " u'paychecks': 56880,\n",
       " u'jerk': 43204,\n",
       " u'minuts': 50422,\n",
       " u'lard': 45902,\n",
       " u'olympus': 54675,\n",
       " u'staaying': 69950,\n",
       " u'embark': 30142,\n",
       " u'gloomy': 36191,\n",
       " u'crackdowns': 24485,\n",
       " u'rechargable': 61992,\n",
       " u'exact': 31598,\n",
       " u'001017733': 47,\n",
       " u'minute': 50416,\n",
       " u'oudoubted': 55361,\n",
       " u'promjene': 60090,\n",
       " u'colombi': 22556,\n",
       " u'skewed': 68173,\n",
       " u'gscott': 37096,\n",
       " u'skewer': 68174,\n",
       " u'daratha': 25623,\n",
       " u'anfangsverdacht': 12724,\n",
       " u'dryburgh': 28816,\n",
       " u'hindered': 38836,\n",
       " u'\\u0438\\u043c\\u0435': 83073,\n",
       " u'copyrighted': 24018,\n",
       " u'wikified': 81007,\n",
       " u'chopping': 21408,\n",
       " u'bastardisation': 15883,\n",
       " u'ogled': 54519,\n",
       " u'billetter': 16908,\n",
       " u'bagging': 15339,\n",
       " u'antwerp': 13067,\n",
       " u'celebrated': 20449,\n",
       " u'891105': 8609,\n",
       " u'300': 4574,\n",
       " u'364m': 5252,\n",
       " u'l\\xf6vtunn': 47926,\n",
       " u'geography': 35719,\n",
       " u'celebrates': 20450,\n",
       " u'souk': 69210,\n",
       " u'unintentionally': 77227,\n",
       " u'zrh': 82726,\n",
       " u'drafted': 28559,\n",
       " u'303': 4627,\n",
       " u'oldies': 54613,\n",
       " u'facus': 32269,\n",
       " u'climbs': 22067,\n",
       " u'honour': 39266,\n",
       " u'yoyogi': 82288,\n",
       " u'topicality': 74668,\n",
       " u'20secure': 3203,\n",
       " u'visarestrictions': 79345,\n",
       " u'exporail': 31976,\n",
       " u'owuld': 55811,\n",
       " u'address': 10798,\n",
       " u'dwindling': 29139,\n",
       " u'blunter': 17416,\n",
       " u'0642747': 310,\n",
       " u'impacted': 40709,\n",
       " u'cette': 20641,\n",
       " u'broyh': 18487,\n",
       " u'20ingles_2008': 3128,\n",
       " u'queue': 61058,\n",
       " u'snowbirds': 68797,\n",
       " u'sprouted': 69791,\n",
       " u'septimer': 66779,\n",
       " u'influx': 41379,\n",
       " u'catsa': 20251,\n",
       " u'raise': 61421,\n",
       " u'wv1': 81712,\n",
       " u'randoms': 61530,\n",
       " u'23715': 3626,\n",
       " u'ibnlive': 40122,\n",
       " u'undergone': 76927,\n",
       " u'northen': 53572,\n",
       " u'handbags': 37751,\n",
       " u'perished': 57322,\n",
       " u'hyatt': 39885,\n",
       " u'optimize': 55015,\n",
       " u'opposed': 54979,\n",
       " u'authoruzed': 14671,\n",
       " u'_free_': 9428,\n",
       " u'perisher': 57323,\n",
       " u'reglementation': 62535,\n",
       " u'wvp': 81714,\n",
       " u'termas': 73246,\n",
       " u'approving': 13380,\n",
       " u'consoles': 23494,\n",
       " u'termal': 73245,\n",
       " u'lowercase': 47633,\n",
       " u'_having': 9458,\n",
       " u'kartasofia': 44177,\n",
       " u'hellenic': 38443,\n",
       " u'valorem': 78384,\n",
       " u'following': 33847,\n",
       " u'munroe': 51763,\n",
       " u'sunrays': 71497,\n",
       " u'acad\\xe9mie': 10378,\n",
       " u'mailboxes': 48219,\n",
       " u'douane': 28415,\n",
       " u'mottershead': 51396,\n",
       " u'verkehrslage': 78793,\n",
       " u'munros': 51765,\n",
       " u'listens': 47060,\n",
       " u'56781': 6996,\n",
       " u'litre': 47096,\n",
       " u'passazhirrechtrans': 56608,\n",
       " u'thanking': 73483,\n",
       " u'extensions': 32038,\n",
       " u'pezzoli': 57583,\n",
       " u'consolidator': 23500,\n",
       " u'meddles': 49403,\n",
       " u'teavana': 72938,\n",
       " u'trainlink': 75066,\n",
       " u'convincingly': 23890,\n",
       " u'fueled': 34751,\n",
       " u'laxative': 46106,\n",
       " u'17792': 2087,\n",
       " u'rastamans': 61622,\n",
       " u'surfing': 71707,\n",
       " u'jonnie': 43534,\n",
       " u'pollachi': 58688,\n",
       " u'kodachrome': 45033,\n",
       " u'travllers': 75483,\n",
       " u'inhabiting': 41502,\n",
       " u'remoter': 62872,\n",
       " u'subsisting': 71165,\n",
       " u'skirmish': 68244,\n",
       " u'_austria_': 9241,\n",
       " u'multiusage': 51724,\n",
       " u'bchetty': 16025,\n",
       " u'webpage': 80485,\n",
       " u'professors': 59988,\n",
       " u'opentour': 54914,\n",
       " u'multipath': 51703,\n",
       " u'mucaho': 51602,\n",
       " u'disconnect': 27547,\n",
       " u'jic': 43317,\n",
       " u'jin': 43336,\n",
       " u'greeks': 36811,\n",
       " u'flatshare': 33446,\n",
       " u'r3000': 61193,\n",
       " u'techie': 72949,\n",
       " u'jiu': 43363,\n",
       " u'tulu': 76041,\n",
       " u'denfert': 26450,\n",
       " u'nsb': 53791,\n",
       " u'modestly': 50860,\n",
       " u'_your': 9912,\n",
       " u'18561': 2230,\n",
       " u'cr\\xe9dito': 24914,\n",
       " u'overpowering': 55671,\n",
       " u'excrementation': 31698,\n",
       " u'aprox': 13411,\n",
       " u'sorted': 69182,\n",
       " u'gramms': 36645,\n",
       " u'thalis': 73458,\n",
       " u'cushman_': 25172,\n",
       " u'harasses': 37911,\n",
       " u'121c7917ad22': 1088,\n",
       " u'reflagged': 62365,\n",
       " u'didn': 27147,\n",
       " u'_you_': 9909,\n",
       " u'cushmans': 25173,\n",
       " u'calabasas': 19353,\n",
       " u'longest_train_journeys': 47440,\n",
       " u'instability': 41725,\n",
       " u'r_23885': 61209,\n",
       " u'quarter': 60964,\n",
       " u'quartet': 60967,\n",
       " u'antiveeranna': 13044,\n",
       " u'honduras': 39223,\n",
       " u'bursting': 18937,\n",
       " u'almer\\xeda': 12125,\n",
       " u'steven': 70444,\n",
       " u'caldo': 19386,\n",
       " u'cafayate': 19310,\n",
       " u'swizterland': 72033,\n",
       " u'entering': 30634,\n",
       " u'skinnyj': 68228,\n",
       " u'incidents_and_accidents': 40991,\n",
       " u'salads': 65242,\n",
       " u'disasters': 27498,\n",
       " u'hollyrood': 39134,\n",
       " u'zendo': 82541,\n",
       " u'seriously': 66824,\n",
       " u'verriere': 78829,\n",
       " u'topcoder': 74660,\n",
       " u'dharmshala': 27022,\n",
       " u'eastport': 29383,\n",
       " u'incentives': 40973,\n",
       " u'balade': 15437,\n",
       " u'snooker': 68770,\n",
       " u'crazies': 24564,\n",
       " u'crazier': 24563,\n",
       " u'grandma': 36667,\n",
       " u'byte': 19156,\n",
       " u'bootloader': 17775,\n",
       " u'svalbard': 71849,\n",
       " u'workmanship': 81487,\n",
       " u'hamel': 37700,\n",
       " u'modest': 50859,\n",
       " u'einzelf\\xe4llen': 29839,\n",
       " u'kalkalpen': 43988,\n",
       " u'quibble': 61068,\n",
       " u'socking': 68908,\n",
       " u'condradict': 23199,\n",
       " u'mcelvar': 49272,\n",
       " u'hemorrhoids': 38504,\n",
       " u'22206732': 3431,\n",
       " u'lachlan': 45591,\n",
       " u'groomers': 36974,\n",
       " u'chensiyuan': 21121,\n",
       " u'spoken': 69669,\n",
       " u'\\u0444\\u043e\\u0442\\u043e\\u0444\\u043e\\u043d\\u0434': 83350,\n",
       " u'spokes': 69670,\n",
       " u'periodical': 57307,\n",
       " u'tamara': 72508,\n",
       " u'freedom_of_religion_in_saudi_arabia': 34414,\n",
       " u'200usd': 2799,\n",
       " u'affords': 11198,\n",
       " u'liebeck': 46723,\n",
       " u'backseat': 15248,\n",
       " u'uuee': 78194,\n",
       " u'\\u043d\\u0435\\u043d\\u0430\\u0432\\u044f\\u0437\\u0447\\u0438\\u0432\\u044b\\u0439': 83140,\n",
       " u'suffixing': 71302,\n",
       " u'cherbourg': 21131,\n",
       " u'surges': 71717,\n",
       " u'snatch': 68716,\n",
       " u'trott': 75795,\n",
       " u'visitkorea': 79404,\n",
       " u'arround': 13801,\n",
       " u'portside': 58933,\n",
       " u'absorbs': 10315,\n",
       " u'dsd_x173': 28839,\n",
       " u'surged': 71712,\n",
       " u'56631': 6991,\n",
       " u'l\\xf6wengraben': 47927,\n",
       " u'2442553': 3717,\n",
       " u'crossroads': 24790,\n",
       " u'travelinfo': 75411,\n",
       " u'lillies': 46847,\n",
       " u'inmediatly': 41576,\n",
       " u'wandering': 80080,\n",
       " u'proactive': 59847,\n",
       " u'emek': 30190,\n",
       " u'aldersgate': 11864,\n",
       " u'torsoed': 74740,\n",
       " u'turned': 76152,\n",
       " u'jewels': 43290,\n",
       " u'auroral': 14550,\n",
       " u'auroras': 14551,\n",
       " u'4760': 6277,\n",
       " u'scandinavianstuff': 65805,\n",
       " u'uberian': 76450,\n",
       " u'burundi': 18943,\n",
       " u'4768': 6281,\n",
       " u'borough': 17848,\n",
       " u'\\u043f\\u043e\\u0441\\u0442\\u0443\\u043f\\u0438\\u0432\\u0448\\u0430\\u044f': 83199,\n",
       " u'whispernet': 80853,\n",
       " u'greipurs': 36854,\n",
       " u'zoe': 82669,\n",
       " u'fashionable': 32567,\n",
       " u'coliseum': 22478,\n",
       " u'zon': 82687,\n",
       " u'zoo': 82701,\n",
       " u'andrekr': 12664,\n",
       " u'perdre': 57261,\n",
       " u'norsklua': 53552,\n",
       " u'zou': 82718,\n",
       " u'rxofi': 64941,\n",
       " u'anually': 13074,\n",
       " u'plattform': 58323,\n",
       " u'opposite': 54982,\n",
       " u'discerning': 27515,\n",
       " u'\\u77f3\\u9f99\\u8def\\u7ad9': 83798,\n",
       " u'ecolodge': 29507,\n",
       " u'9h15': 9086,\n",
       " u'concorses': 23148,\n",
       " u'what_are_you_looking_for': 80762,\n",
       " u'aokiko': 13126,\n",
       " u'car_museums_in_japan': 19816,\n",
       " u'gpsies': 36566,\n",
       " u'touchy': 74801,\n",
       " u'jitters': 43362,\n",
       " u'messier': 49799,\n",
       " u'touche': 74793,\n",
       " u'koyasan': 45204,\n",
       " u'agoraphobe': 11354,\n",
       " u'luxexpress': 47856,\n",
       " u'wynn': 81748,\n",
       " u'rondstruinen': 64394,\n",
       " u'imagines': 40573,\n",
       " u'friction': 34538,\n",
       " u'sannita': 65483,\n",
       " u'dgmq': 27006,\n",
       " u'\\u0443\\u043a\\u0430\\u0437\\u044b\\u0432\\u0430\\u0435\\u0442\\u0441\\u044f': 83327,\n",
       " u'inconsistent': 41059,\n",
       " u'andrawaag': 12655,\n",
       " u'imagined': 40571,\n",
       " u't\\xfaria': 76391,\n",
       " u'firstgroup': 33271,\n",
       " u'recomended': 62080,\n",
       " u'unpractical': 77423,\n",
       " u'transact': 75141,\n",
       " u'aimlessly': 11470,\n",
       " u'permissable': 57358,\n",
       " u'woodbury': 81411,\n",
       " u'jiankou': 43313,\n",
       " u'offlimits': 54475,\n",
       " u'extranjeros': 32080,\n",
       " u'sakunavoyage': 65232,\n",
       " u'etcetera': 31218,\n",
       " u'partnered': 56555,\n",
       " u'trappist': 75327,\n",
       " u'keenly': 44339,\n",
       " u'allocates': 12076,\n",
       " u'upfaring': 77696,\n",
       " u'grotquesely': 36995,\n",
       " u'questionaires': 61042,\n",
       " u'hotness': 39490,\n",
       " u'visitorsinsurancereviews': 79418,\n",
       " u'check_in___gepaeck': 21035,\n",
       " u'noisier': 53369,\n",
       " u'attenuated': 14399,\n",
       " u'airfares': 11549,\n",
       " u'reydsingar': 63712,\n",
       " u'hvarinfo': 39872,\n",
       " u'airlifts': 11572,\n",
       " u'832': 8417,\n",
       " u'833': 8420,\n",
       " u'830': 8412,\n",
       " ...}"
      ]
     },
     "execution_count": 233,
     "metadata": {},
     "output_type": "execute_result"
    }
   ],
   "source": [
    "vectorizer = CountVectorizer(stop_words=stop_words)\n",
    "X = vectorizer.fit_transform(posts_comments['AllText'])\n",
    "\n",
    "vectorizer.vocabulary_"
   ]
  },
  {
   "cell_type": "code",
   "execution_count": 238,
   "metadata": {
    "collapsed": false
   },
   "outputs": [
    {
     "data": {
      "text/plain": [
       "83943"
      ]
     },
     "execution_count": 238,
     "metadata": {},
     "output_type": "execute_result"
    }
   ],
   "source": [
    "len(vectorizer.vocabulary_.keys())"
   ]
  },
  {
   "cell_type": "code",
   "execution_count": 243,
   "metadata": {
    "collapsed": false
   },
   "outputs": [],
   "source": [
    "documents = posts_comments.AllText"
   ]
  },
  {
   "cell_type": "code",
   "execution_count": 245,
   "metadata": {
    "collapsed": true
   },
   "outputs": [],
   "source": [
    "import re"
   ]
  },
  {
   "cell_type": "code",
   "execution_count": 246,
   "metadata": {
    "collapsed": false
   },
   "outputs": [],
   "source": [
    "# remove words that appear only once\n",
    "frequency = defaultdict(int)\n",
    "\n",
    "for text in documents:\n",
    "    for token in re.split('\\s', text):\n",
    "        frequency[token] += 1\n",
    "\n",
    "texts = [[token for token in text.split() if frequency[token] > 1 and token not in stop_words]\n",
    "          for text in documents]\n",
    "\n",
    "# Create gensim dictionary object\n",
    "dictionary = corpora.Dictionary(texts)\n",
    "\n",
    "# Create corpus matrix\n",
    "corpus = [dictionary.doc2bow(text) for text in texts]"
   ]
  },
  {
   "cell_type": "code",
   "execution_count": 266,
   "metadata": {
    "collapsed": false
   },
   "outputs": [],
   "source": [
    "lda = models.ldamodel.LdaModel(\n",
    "    corpus = corpus,\n",
    "    id2word=dictionary,\n",
    "    num_topics = 5,\n",
    "    passes = 2)"
   ]
  },
  {
   "cell_type": "code",
   "execution_count": 283,
   "metadata": {
    "collapsed": false
   },
   "outputs": [
    {
     "data": {
      "text/plain": [
       "[(0,\n",
       "  u'0.011*\"flight\" + 0.010*\"ticket\" + 0.009*\"The\" + 0.008*\"train\" + 0.008*\"-\" + 0.006*\"tickets\" + 0.006*\"If\" + 0.006*\"airport\" + 0.005*\"flights\" + 0.005*\"airline\"'),\n",
       " (1,\n",
       "  u'0.008*\"The\" + 0.007*\"If\" + 0.007*\"use\" + 0.006*\"I\" + 0.005*\"it\\'s\" + 0.005*\"In\" + 0.004*\"just\" + 0.004*\"You\" + 0.004*\"people\" + 0.004*\"card\"'),\n",
       " (2,\n",
       "  u'0.112*\"I\" + 0.011*\"I\\'m\" + 0.007*\"just\" + 0.007*\"like\" + 0.007*\"know\" + 0.006*\"want\" + 0.006*\"time\" + 0.005*\"question\" + 0.005*\"don\\'t\" + 0.005*\"Is\"'),\n",
       " (3,\n",
       "  u'0.009*\"The\" + 0.006*\"-\" + 0.005*\"people\" + 0.005*\"like\" + 0.004*\"it\\'s\" + 0.003*\"There\" + 0.003*\"In\" + 0.003*\"places\" + 0.003*\"English\" + 0.003*\"good\"'),\n",
       " (4,\n",
       "  u'0.020*\"visa\" + 0.010*\"passport\" + 0.009*\"I\" + 0.009*\"UK\" + 0.008*\"The\" + 0.008*\"Schengen\" + 0.008*\"US\" + 0.007*\"need\" + 0.006*\"country\" + 0.005*\"travel\"')]"
      ]
     },
     "execution_count": 283,
     "metadata": {},
     "output_type": "execute_result"
    }
   ],
   "source": [
    "lda.print_topics()"
   ]
  },
  {
   "cell_type": "code",
   "execution_count": 286,
   "metadata": {
    "collapsed": false
   },
   "outputs": [
    {
     "data": {
      "text/plain": [
       "<visas><schengen>                 120\n",
       "<visas>                            64\n",
       "<visas><uk>                        64\n",
       "<air-travel>                       61\n",
       "<schengen>                         45\n",
       "<visas><usa>                       29\n",
       "<passports>                        20\n",
       "<transit>                          20\n",
       "<air-travel><luggage>              17\n",
       "<customs-and-immigration>          17\n",
       "<luggage>                          17\n",
       "<air-travel><tickets>              16\n",
       "<visas><usa><b1-b2-visas>          15\n",
       "<usa>                              14\n",
       "<visas><transit>                   14\n",
       "<visas><china>                     14\n",
       "<air-travel><health>               14\n",
       "<usa><b1-b2-visas>                 13\n",
       "<usa><customs-and-immigration>     13\n",
       "<visas><uk><visa-refusal>          12\n",
       "Name: Tags, dtype: int64"
      ]
     },
     "execution_count": 286,
     "metadata": {},
     "output_type": "execute_result"
    }
   ],
   "source": [
    "posts.Tags.value_counts().nlargest(20)"
   ]
  },
  {
   "cell_type": "markdown",
   "metadata": {},
   "source": [
    "#### Schengen Visas (last topic) and Flight/ticket/train/airline (first topic) make sense and correspond to some of the most frequent tags. "
   ]
  },
  {
   "cell_type": "markdown",
   "metadata": {},
   "source": [
    "<img src=\"http://imgur.com/l5NasQj.png\" style=\"float: left; margin: 25px 15px 0px 0px; height: 25px\">\n",
    "\n",
    "### 2. What makes an answer likely to be \"accepted\"?\n",
    "\n",
    "---\n",
    "\n",
    "**2.1 Build a model to predict whether a post will be marked as the answer.**\n",
    "\n",
    "- This is a classification problem.\n",
    "- You're free to use any of the machine learning algorithms or techniques we have learned in class to build the best model you can.\n",
    "- NLP will be very useful here for pulling out useful and relevant features from the data. \n",
    "- Though not required, using bagging and boosting models like Random Forests and Gradient Boosted Trees will _probably_ get you the highest performance on the test data (but who knows!).\n",
    "\n",
    "\n",
    "**2.2 Evaluate the performance of your classifier with a confusion matrix and accuracy. Explain how your model is performing.**\n",
    "\n",
    "**2.3 Plot either a ROC curve or precision-recall curve (or both!) and explain what they tell you about your model.**\n",
    "\n",
    "NOTE: You should only be predicting this for `PostTypeID=2` posts, which are the \"answer\" posts. This doesn't mean, however, that you can't or shouldn't use the parent questions as predictors!\n"
   ]
  },
  {
   "cell_type": "code",
   "execution_count": 3,
   "metadata": {
    "collapsed": false
   },
   "outputs": [],
   "source": [
    "posts2 = pd.read_csv('/Users/sashakapralov/Desktop/DSI-SF-5-Working/datasets/stack_exchange_travel/posts_train.csv')"
   ]
  },
  {
   "cell_type": "code",
   "execution_count": 4,
   "metadata": {
    "collapsed": false
   },
   "outputs": [
    {
     "data": {
      "text/plain": [
       "Index([u'AcceptedAnswerId', u'AnswerCount', u'Body', u'ClosedDate',\n",
       "       u'CommentCount', u'CommunityOwnedDate', u'CreationDate',\n",
       "       u'FavoriteCount', u'Id', u'LastActivityDate', u'LastEditDate',\n",
       "       u'LastEditorDisplayName', u'LastEditorUserId', u'OwnerDisplayName',\n",
       "       u'OwnerUserId', u'ParentId', u'PostTypeId', u'Score', u'Tags', u'Title',\n",
       "       u'ViewCount'],\n",
       "      dtype='object')"
      ]
     },
     "execution_count": 4,
     "metadata": {},
     "output_type": "execute_result"
    }
   ],
   "source": [
    "posts2.columns"
   ]
  },
  {
   "cell_type": "code",
   "execution_count": 5,
   "metadata": {
    "collapsed": false
   },
   "outputs": [],
   "source": [
    "#identify question posts with identifiers of accepted answers\n",
    "qs_w_acc_ans = posts2[posts2.AcceptedAnswerId.notnull()]\n",
    "#take accepted answer ID and question text columns\n",
    "qs_w_acc_ans = qs_w_acc_ans[['AcceptedAnswerId','Body']]\n",
    "#rename columns\n",
    "qs_w_acc_ans.rename(columns={'Body': 'QBody', 'AcceptedAnswerId': 'Id'}, inplace=True)\n",
    "#add column that will identify accepted answers\n",
    "qs_w_acc_ans['Accepted'] = 1"
   ]
  },
  {
   "cell_type": "code",
   "execution_count": 6,
   "metadata": {
    "collapsed": true
   },
   "outputs": [],
   "source": [
    "#extract all answer posts\n",
    "all_answers = posts2[posts2.PostTypeId == 2]"
   ]
  },
  {
   "cell_type": "code",
   "execution_count": 7,
   "metadata": {
    "collapsed": false
   },
   "outputs": [],
   "source": [
    "#merge accepted answer IDs and corresponding questions with full set of answers\n",
    "all_answers = pd.merge(all_answers, qs_w_acc_ans, how='left', on='Id')"
   ]
  },
  {
   "cell_type": "code",
   "execution_count": 8,
   "metadata": {
    "collapsed": true
   },
   "outputs": [],
   "source": [
    "#mark non-accepted answers as such\n",
    "all_answers.Accepted.fillna(0, inplace=True)"
   ]
  },
  {
   "cell_type": "code",
   "execution_count": 9,
   "metadata": {
    "collapsed": false
   },
   "outputs": [
    {
     "data": {
      "text/plain": [
       "0.0    17451\n",
       "1.0     6516\n",
       "Name: Accepted, dtype: int64"
      ]
     },
     "execution_count": 9,
     "metadata": {},
     "output_type": "execute_result"
    }
   ],
   "source": [
    "all_answers.Accepted.value_counts()"
   ]
  },
  {
   "cell_type": "code",
   "execution_count": 10,
   "metadata": {
    "collapsed": false
   },
   "outputs": [
    {
     "data": {
      "text/plain": [
       "AcceptedAnswerId         float64\n",
       "AnswerCount              float64\n",
       "Body                      object\n",
       "ClosedDate                object\n",
       "CommentCount               int64\n",
       "CommunityOwnedDate        object\n",
       "CreationDate              object\n",
       "FavoriteCount            float64\n",
       "Id                         int64\n",
       "LastActivityDate          object\n",
       "LastEditDate              object\n",
       "LastEditorDisplayName     object\n",
       "LastEditorUserId         float64\n",
       "OwnerDisplayName          object\n",
       "OwnerUserId              float64\n",
       "ParentId                 float64\n",
       "PostTypeId                 int64\n",
       "Score                      int64\n",
       "Tags                      object\n",
       "Title                     object\n",
       "ViewCount                float64\n",
       "QBody                     object\n",
       "Accepted                 float64\n",
       "dtype: object"
      ]
     },
     "execution_count": 10,
     "metadata": {},
     "output_type": "execute_result"
    }
   ],
   "source": [
    "all_answers.dtypes"
   ]
  },
  {
   "cell_type": "code",
   "execution_count": 11,
   "metadata": {
    "collapsed": false
   },
   "outputs": [],
   "source": [
    "all_answers.Accepted = all_answers.Accepted.astype(int)"
   ]
  },
  {
   "cell_type": "code",
   "execution_count": 12,
   "metadata": {
    "collapsed": false
   },
   "outputs": [
    {
     "data": {
      "text/plain": [
       "(23967, 23)"
      ]
     },
     "execution_count": 12,
     "metadata": {},
     "output_type": "execute_result"
    }
   ],
   "source": [
    "all_answers.shape"
   ]
  },
  {
   "cell_type": "code",
   "execution_count": 13,
   "metadata": {
    "collapsed": false
   },
   "outputs": [],
   "source": [
    "# Remove HTML from \"QBody\" column\n",
    "all_answers[\"QBody\"] = all_answers[\"QBody\"].map(lambda x: BeautifulSoup(str(x),\"html.parser\").get_text())"
   ]
  },
  {
   "cell_type": "code",
   "execution_count": 14,
   "metadata": {
    "collapsed": true
   },
   "outputs": [],
   "source": [
    "# Remove HTML from \"Body\" column\n",
    "all_answers[\"Body\"] = all_answers[\"Body\"].map(lambda x: BeautifulSoup(str(x),\"html.parser\").get_text())"
   ]
  },
  {
   "cell_type": "code",
   "execution_count": 15,
   "metadata": {
    "collapsed": true
   },
   "outputs": [],
   "source": [
    "#COMBINE QUESTION AND ANSWER TEXT INTO ONE COLUMN\n",
    "all_answers['AllText'] = all_answers[['Body', 'QBody']].apply(lambda x: ''.join(x), axis=1)"
   ]
  },
  {
   "cell_type": "code",
   "execution_count": 16,
   "metadata": {
    "collapsed": true
   },
   "outputs": [],
   "source": [
    "all_answers.AllText = all_answers.AllText.apply(lambda x: x.replace('\\n',' '))"
   ]
  },
  {
   "cell_type": "code",
   "execution_count": 17,
   "metadata": {
    "collapsed": false
   },
   "outputs": [
    {
     "data": {
      "text/plain": [
       "23967"
      ]
     },
     "execution_count": 17,
     "metadata": {},
     "output_type": "execute_result"
    }
   ],
   "source": [
    "all_answers.AllText.size"
   ]
  },
  {
   "cell_type": "code",
   "execution_count": 18,
   "metadata": {
    "collapsed": false
   },
   "outputs": [
    {
     "data": {
      "text/plain": [
       "u\"While Europe does have per country operators, there are some operators that will provide very low roaming rates. I've not tried any of them though, and not all of them cover the whole of Europe yet. Be aware that some countries (such as the UK) have a very competitive Pay As You Go market with very cheap flexible sims available with bundled data etc, while other countries, such as France, are a lot less competitive.  Possible Duplicate: What are the best ways to avoid data roaming fees when travelling abroad?   Is where any default cheap mobile provider across Europe? I want to buy sim-card in one country (East or Nord Europe), and use it in other (West Europe). Is it possible? \""
      ]
     },
     "execution_count": 18,
     "metadata": {},
     "output_type": "execute_result"
    }
   ],
   "source": [
    "all_answers.AllText[22]"
   ]
  },
  {
   "cell_type": "code",
   "execution_count": 19,
   "metadata": {
    "collapsed": true
   },
   "outputs": [],
   "source": [
    "from sklearn.linear_model import LogisticRegression\n",
    "from sklearn.feature_extraction.text import CountVectorizer, TfidfVectorizer"
   ]
  },
  {
   "cell_type": "code",
   "execution_count": 20,
   "metadata": {
    "collapsed": false
   },
   "outputs": [],
   "source": [
    "X_text_col = all_answers['AllText']\n",
    "\n",
    "# Preprocess text data to Tfidf\n",
    "vect = TfidfVectorizer(stop_words='english',ngram_range=(1,2),min_df=10,max_df=100)\n",
    "X_text = vect.fit_transform(X_text_col)"
   ]
  },
  {
   "cell_type": "code",
   "execution_count": 21,
   "metadata": {
    "collapsed": false
   },
   "outputs": [
    {
     "data": {
      "text/plain": [
       "(23967, 22611)"
      ]
     },
     "execution_count": 21,
     "metadata": {},
     "output_type": "execute_result"
    }
   ],
   "source": [
    "X_text.shape"
   ]
  },
  {
   "cell_type": "code",
   "execution_count": 22,
   "metadata": {
    "collapsed": false
   },
   "outputs": [],
   "source": [
    "X_txt = X_text.toarray()"
   ]
  },
  {
   "cell_type": "code",
   "execution_count": 23,
   "metadata": {
    "collapsed": false
   },
   "outputs": [
    {
     "data": {
      "text/plain": [
       "(23967, 22611)"
      ]
     },
     "execution_count": 23,
     "metadata": {},
     "output_type": "execute_result"
    }
   ],
   "source": [
    "X_txt.shape"
   ]
  },
  {
   "cell_type": "code",
   "execution_count": 24,
   "metadata": {
    "collapsed": false
   },
   "outputs": [
    {
     "data": {
      "text/plain": [
       "0    11341\n",
       "1     4190\n",
       "2     2955\n",
       "3     1807\n",
       "4     1134\n",
       "5      764\n",
       "6      553\n",
       "7      367\n",
       "8      238\n",
       "9      150\n",
       "Name: CommentCount, dtype: int64"
      ]
     },
     "execution_count": 24,
     "metadata": {},
     "output_type": "execute_result"
    }
   ],
   "source": [
    "all_answers.CommentCount.value_counts().nlargest(10)"
   ]
  },
  {
   "cell_type": "code",
   "execution_count": 25,
   "metadata": {
    "collapsed": false
   },
   "outputs": [
    {
     "data": {
      "text/plain": [
       "(23967,)"
      ]
     },
     "execution_count": 25,
     "metadata": {},
     "output_type": "execute_result"
    }
   ],
   "source": [
    "X_nontext = all_answers['CommentCount'].values\n",
    "X_nontext.shape"
   ]
  },
  {
   "cell_type": "code",
   "execution_count": 26,
   "metadata": {
    "collapsed": false
   },
   "outputs": [],
   "source": [
    "X_nontxt = X_nontext.reshape(23967,1)"
   ]
  },
  {
   "cell_type": "code",
   "execution_count": 27,
   "metadata": {
    "collapsed": true
   },
   "outputs": [],
   "source": [
    "import numpy as np"
   ]
  },
  {
   "cell_type": "code",
   "execution_count": 28,
   "metadata": {
    "collapsed": false
   },
   "outputs": [],
   "source": [
    "X = np.concatenate((X_txt, X_nontxt), axis=1)"
   ]
  },
  {
   "cell_type": "code",
   "execution_count": 29,
   "metadata": {
    "collapsed": false
   },
   "outputs": [
    {
     "data": {
      "text/plain": [
       "(23967,)"
      ]
     },
     "execution_count": 29,
     "metadata": {},
     "output_type": "execute_result"
    }
   ],
   "source": [
    "Y = all_answers.Accepted.values\n",
    "Y.shape"
   ]
  },
  {
   "cell_type": "code",
   "execution_count": 30,
   "metadata": {
    "collapsed": true
   },
   "outputs": [],
   "source": [
    "Y_vls = Y.reshape(23967,1)"
   ]
  },
  {
   "cell_type": "code",
   "execution_count": 31,
   "metadata": {
    "collapsed": false
   },
   "outputs": [
    {
     "name": "stderr",
     "output_type": "stream",
     "text": [
      "/Users/sashakapralov/anaconda/envs/dsi/lib/python2.7/site-packages/sklearn/cross_validation.py:44: DeprecationWarning: This module was deprecated in version 0.18 in favor of the model_selection module into which all the refactored classes and functions are moved. Also note that the interface of the new CV iterators are different from that of this module. This module will be removed in 0.20.\n",
      "  \"This module will be removed in 0.20.\", DeprecationWarning)\n"
     ]
    }
   ],
   "source": [
    "from sklearn.metrics import accuracy_score, precision_score, recall_score, f1_score, classification_report\n",
    "from sklearn.metrics import confusion_matrix, roc_curve, auc, precision_recall_curve, average_precision_score\n",
    "from sklearn.model_selection import KFold\n",
    "from sklearn.preprocessing import scale, MinMaxScaler, normalize\n",
    "from sklearn.linear_model import LogisticRegression\n",
    "from sklearn.ensemble import RandomForestClassifier, GradientBoostingClassifier\n",
    "from sklearn.model_selection import cross_val_score\n",
    "from sklearn.model_selection import GridSearchCV\n",
    "from sklearn.cross_validation import cross_val_score, StratifiedKFold\n",
    "from sklearn.preprocessing import StandardScaler"
   ]
  },
  {
   "cell_type": "code",
   "execution_count": 56,
   "metadata": {
    "collapsed": false
   },
   "outputs": [
    {
     "name": "stdout",
     "output_type": "stream",
     "text": [
      " Logistic Regression:\n",
      "[0.74556830031282584, 0.74024619236386402, 0.73857709159190488, 0.74650532025871064, 0.74441894429376176]\n",
      "0.743063169764\n",
      "Baseline accuracy: 0.271873826511\n"
     ]
    }
   ],
   "source": [
    "cv_indices = StratifiedKFold(Y, n_folds = 5, random_state=1234)\n",
    "logreg = LogisticRegression()\n",
    "lr_scores = []\n",
    "\n",
    "for train_inds, test_inds in cv_indices:\n",
    "    \n",
    "    Xtr, ytr = X[train_inds, :], Y[train_inds]\n",
    "    Xte, yte = X[test_inds, :], Y[test_inds]\n",
    "    \n",
    "    logreg.fit(Xtr, ytr)\n",
    "    lr_scores.append(logreg.score(Xte, yte))\n",
    "    \n",
    "print 'Logistic Regression:'\n",
    "print lr_scores\n",
    "print np.mean(lr_scores)\n",
    "print 'Baseline accuracy:', np.mean(Y)"
   ]
  },
  {
   "cell_type": "code",
   "execution_count": null,
   "metadata": {
    "collapsed": false
   },
   "outputs": [
    {
     "name": "stdout",
     "output_type": "stream",
     "text": [
      "Fitting 5 folds for each of 20 candidates, totalling 100 fits\n"
     ]
    }
   ],
   "source": [
    "ss = StandardScaler()\n",
    "Xn = ss.fit_transform(X)\n",
    "lr_params = {\n",
    "    'penalty':['l1','l2'],\n",
    "    'solver':['liblinear'],\n",
    "    'C':np.linspace(0.0001, 1000, 10)\n",
    "}\n",
    "lr_gs = GridSearchCV(LogisticRegression(), lr_params, cv=5, verbose=1)\n",
    "lr_gs.fit(Xn, Y)\n",
    "print lr_gs.best_params_\n",
    "best_lr = lr_gs.best_estimator_"
   ]
  },
  {
   "cell_type": "markdown",
   "metadata": {
    "collapsed": true
   },
   "source": [
    "<img src=\"http://imgur.com/l5NasQj.png\" style=\"float: left; margin: 25px 15px 0px 0px; height: 25px\">\n",
    "\n",
    "### 3. What is the score of a post?\n",
    "\n",
    "---\n",
    "\n",
    "**3.1 Build a model that predicts the score of a post.**\n",
    "\n",
    "- This is a regression problem now. \n",
    "- You can and should be predicting score for both \"question\" and \"answer\" posts, so keep them both in your dataset.\n",
    "- Again, use any techniques that you think will get you the best model.\n",
    "\n",
    "**3.2 Evaluate the performance of your model with cross-validation and report the results.**\n",
    "\n",
    "**3.3 What is important for determining the score of a post, if anything?**\n"
   ]
  },
  {
   "cell_type": "code",
   "execution_count": 63,
   "metadata": {
    "collapsed": false
   },
   "outputs": [],
   "source": []
  },
  {
   "cell_type": "markdown",
   "metadata": {},
   "source": [
    "<img src=\"http://imgur.com/l5NasQj.png\" style=\"float: left; margin: 25px 15px 0px 0px; height: 25px\">\n",
    "\n",
    "### 4. How many views does a post have?\n",
    "\n",
    "---\n",
    "\n",
    "**4.1 Build a model that predicts the number of views a post has.**\n",
    "\n",
    "- This is another regression problem. \n",
    "- Predict the views for all posts, not just the \"answer\" posts.\n",
    "\n",
    "**4.2 Evaluate the performance of your model with cross-validation and report the results.**\n",
    "\n",
    "**4.3 What is important for the number of views a post has, if anything?**"
   ]
  },
  {
   "cell_type": "code",
   "execution_count": null,
   "metadata": {
    "collapsed": true
   },
   "outputs": [],
   "source": []
  },
  {
   "cell_type": "markdown",
   "metadata": {},
   "source": [
    "<img src=\"http://imgur.com/l5NasQj.png\" style=\"float: left; margin: 25px 15px 0px 0px; height: 25px\">\n",
    "\n",
    "### 5. Build a pipeline or other code to automate evaluation of your models on the test data.\n",
    "\n",
    "---\n",
    "\n",
    "Now that you've constructed your three predictive models, build a pipeline or code that can easily load up the raw testing data and evaluate your models on it.\n",
    "\n",
    "The testing data that is held out is in the same raw format as the training data you have. _Any cleaning and preprocessing that you did on the training data will need to be done on the testing data as well!_\n",
    "\n",
    "This is a good opportunity to practice building pipelines, but you're not required to. Custom functions and classes are fine as long as they are able to process and test the new data.\n"
   ]
  },
  {
   "cell_type": "code",
   "execution_count": null,
   "metadata": {
    "collapsed": true
   },
   "outputs": [],
   "source": []
  },
  {
   "cell_type": "markdown",
   "metadata": {},
   "source": [
    "<img src=\"http://imgur.com/xDpSobf.png\" style=\"float: left; margin: 25px 15px 0px 0px; height: 25px\">\n",
    "\n",
    "## 6. Lets Model - Tournament for stock market predictions\n",
    "\n",
    ">Start this section of the project by downloading the train and test datasets from the following site: https://numer.ai/rules\n",
    "\n",
    "> - The data set is clean, your goal is to develop a classification model(s) \n",
    "> - Report all the results including log loss, and other coefficients you consider iteresting"
   ]
  },
  {
   "cell_type": "code",
   "execution_count": null,
   "metadata": {
    "collapsed": true
   },
   "outputs": [],
   "source": []
  }
 ],
 "metadata": {
  "anaconda-cloud": {},
  "kernelspec": {
   "display_name": "Python [conda env:dsi]",
   "language": "python",
   "name": "conda-env-dsi-py"
  },
  "language_info": {
   "codemirror_mode": {
    "name": "ipython",
    "version": 2
   },
   "file_extension": ".py",
   "mimetype": "text/x-python",
   "name": "python",
   "nbconvert_exporter": "python",
   "pygments_lexer": "ipython2",
   "version": "2.7.12"
  }
 },
 "nbformat": 4,
 "nbformat_minor": 0
}
