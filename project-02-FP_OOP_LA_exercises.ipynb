{
 "cells": [
  {
   "cell_type": "markdown",
   "metadata": {},
   "source": [
    "## Functional & Object Oriented Programming "
   ]
  },
  {
   "cell_type": "markdown",
   "metadata": {},
   "source": [
    "### Functional Programming in Python\n",
    "In class, we briefly explored the Functional Programming in Python through lambda functions, map, filter, iterators, generators, and deocrators. This note will review those ideas. "
   ]
  },
  {
   "cell_type": "markdown",
   "metadata": {},
   "source": [
    "#### Lambda Functions \n"
   ]
  },
  {
   "cell_type": "markdown",
   "metadata": {
    "collapsed": false
   },
   "source": [
    "Exercise : For this exercise solve the following problem on Hackerrank and post your solution in the cell below\n",
    "\n",
    "[Validating Email addresses with a Filter](https://www.hackerrank.com/contests/pythonista-practice-session/challenges/validate-list-of-email-address-with-filter)\n"
   ]
  },
  {
   "cell_type": "code",
   "execution_count": null,
   "metadata": {
    "collapsed": false
   },
   "outputs": [],
   "source": [
    "#SOLUTION:\n",
    "\n",
    "import re\n",
    "\n",
    "#Valid email addresses must follow these rules:\n",
    "#It must have the username@websitename.extension format type.\n",
    "#The username can only contain letters, digits, dashes and underscores.\n",
    "#The website name can only have letters and digits.\n",
    "#The maximum length of the extension is 3. \n",
    "\n",
    "def fun(s):\n",
    "    # return True if s is a valid email, else return False\n",
    "    return re.match('[a-zA-Z0-9_-]+@[a-zA-Z0-9]+\\.\\w{1,3}\\b', s) != None\n",
    "\n",
    "def filter_mail(emails):\n",
    "    return filter(fun, emails)\n",
    "\n",
    "if __name__ == '__main__':\n",
    "    n = int(raw_input())\n",
    "    emails = []\n",
    "    for _ in range(n):\n",
    "        emails.append(raw_input())\n",
    "\n",
    "    filtered_emails = filter_mail(emails)\n",
    "    filtered_emails.sort()\n",
    "    print filtered_emails"
   ]
  },
  {
   "cell_type": "code",
   "execution_count": null,
   "metadata": {
    "collapsed": false
   },
   "outputs": [],
   "source": [
    "#FOR TESTING\n",
    "\n",
    "import re\n",
    "\n",
    "def fun(s):\n",
    "    return re.match('[a-zA-Z0-9_-]+@[a-zA-Z0-9]+\\.\\w{1,3}', s) != None\n",
    "\n",
    "def filter_mail(emails):\n",
    "    return filter(fun, emails)\n",
    "\n",
    "emails = ['dheeraj-234@gmail.com','itsallcrap','harsh_1234@rediff.in','kunal_shin@iop.az','matt23@@india.in']\n",
    "#emails = ['its@gmail.com1','mike13445@yahoomail9.server','rase23@ha_ch.com','daniyal@gmail.coma','thatisit@thatisit']\n",
    "\n",
    "filtered_emails = filter_mail(emails)\n",
    "filtered_emails.sort()\n",
    "print filtered_emails"
   ]
  },
  {
   "cell_type": "markdown",
   "metadata": {},
   "source": [
    "#### Generators\n",
    "\n",
    "Exercise :\n",
    "Write a infinite generator that successively yields the triangle numbers 0, 1, 3, 6, 10, ...\n",
    "\n",
    "[Triangle Numbers](https://en.wikipedia.org/wiki/Triangular_number)"
   ]
  },
  {
   "cell_type": "code",
   "execution_count": 1,
   "metadata": {
    "collapsed": false
   },
   "outputs": [
    {
     "data": {
      "text/plain": [
       "28"
      ]
     },
     "execution_count": 1,
     "metadata": {},
     "output_type": "execute_result"
    }
   ],
   "source": [
    "### Generators\n",
    "\"\"\"\n",
    "Exercise :\n",
    "Write a infinite generator that successively yields the triangle numbers 0, 1, 3, 6, 10, ...\n",
    "\n",
    "Triangle Numbers : https://en.wikipedia.org/wiki/Triangular_number\n",
    "\"\"\"\n",
    "def generate_triangles():\n",
    "    n = 0\n",
    "    while True:\n",
    "        tri_num = sum(range(n))\n",
    "        if n != 0:\n",
    "            yield tri_num\n",
    "        n +=1\n",
    "\n",
    "tri = generate_triangles()\n",
    "next(tri)\n",
    "next(tri)\n",
    "next(tri)\n",
    "next(tri)\n",
    "next(tri)\n",
    "next(tri)\n",
    "next(tri)\n",
    "next(tri)"
   ]
  },
  {
   "cell_type": "code",
   "execution_count": 2,
   "metadata": {
    "collapsed": false
   },
   "outputs": [
    {
     "name": "stdout",
     "output_type": "stream",
     "text": [
      "0\n",
      "1\n",
      "3\n",
      "6\n",
      "10\n",
      "15\n"
     ]
    }
   ],
   "source": [
    "\"\"\"\n",
    "Use your generator to write a function triangles_under(n) that prints out all triangle\n",
    "numbers strictly less than the parameter n.\n",
    "\n",
    "\"\"\"\n",
    "def triangles_under(n):\n",
    "    for f in generate_triangles():\n",
    "        if f >= n:\n",
    "            break\n",
    "        print f\n",
    "\n",
    "triangles_under(20)"
   ]
  },
  {
   "cell_type": "markdown",
   "metadata": {},
   "source": [
    "#### Decorators \n",
    "Exercise : Standardize Mobile Numbers using Decorators\n",
    "\n",
    "Make a list of the mobile numbers and pass it to a function that sorts the array \n",
    "in ascending order. Make a decorator that standardizes the mobile numbers and \n",
    "apply it to the function.\n",
    "\n",
    "Input : Take a list of mobile numbers. Sort them in ascending order then print them in \n",
    "the standard format shown below:\n",
    "    \n",
    "    +1 xxx xxx xxxx\n",
    "\n",
    "The given mobile numbers may have +1, 1 or 0 written before the actual digit number. \n",
    "Alternatively, there may not be any prefix at all. \n",
    "\n",
    "Sample Input : \n",
    "    06502505121\n",
    "    +19658764040\n",
    "\n",
    "Sample output :\n",
    "    +1 650 250 5121\n",
    "    +1 965 876 4040\n"
   ]
  },
  {
   "cell_type": "code",
   "execution_count": 3,
   "metadata": {
    "collapsed": false
   },
   "outputs": [
    {
     "name": "stdout",
     "output_type": "stream",
     "text": [
      "+1 650 250 5121\n",
      "+1 965 876 4040\n"
     ]
    }
   ],
   "source": [
    "l = ['06502505121','+19658764040']\n",
    "\n",
    "def wrapper(f):\n",
    "    def fun(l):\n",
    "        output = []\n",
    "        for number in l:\n",
    "            result = '+1' + ' ' + number[-10:-7] + ' ' + number[-7:-4] + ' ' + number[-4:]\n",
    "            output.append(result)\n",
    "        return f(output)\n",
    "    return fun\n",
    "\n",
    "@wrapper\n",
    "def sort_phone(l):\n",
    "    print '\\n'.join(sorted(l))\n",
    "    \n",
    "sort_phone(l)"
   ]
  },
  {
   "cell_type": "markdown",
   "metadata": {},
   "source": [
    "### Object Oriented Programming in Python"
   ]
  },
  {
   "cell_type": "markdown",
   "metadata": {},
   "source": [
    "#### Exercise 1: "
   ]
  },
  {
   "cell_type": "code",
   "execution_count": null,
   "metadata": {
    "collapsed": true
   },
   "outputs": [],
   "source": [
    "# Before compiling the following code snippets, write down what\n",
    "# each individual call will return in an inline comment. \n",
    "# If you think it returns an error, why would it be the case. \n",
    " \n",
    "\n",
    "class Account(object):\n",
    "    interest = 0.02\n",
    "    def __init__(self, account_holder):\n",
    "        self.balance = 0\n",
    "        self.holder = account_holder\n",
    "    def deposit(self, amount):\n",
    "        self.balance = self.balance + amount\n",
    "        print(\"Yes!\")\n",
    "        \n",
    "a = Account(\"Billy\") #This will return ojbect 'a' of Account class\n",
    "\n",
    "a.account_holder #This will return an error 'a' does not have method or attribute 'account_holder'\n",
    "\n",
    "Account.holder #This will return an error as Account should be replaced with object's name ('a')\n",
    "\n",
    "Account.interest #This will return 0.02, as interest is a class variable that does not require instantiation\n",
    "\n",
    "a.interest #This will return 0.02\n",
    "\n",
    "Account.interest = 0.03 \n",
    "a.interest  #This will return 0.02 as a object has already been instantiated with interest having a value of 0.02\n",
    "\n",
    "a.deposit(1000) #This will assign value of 1000 to balance attribute and will print Yes!\n",
    "\n",
    "a.balance  #If this is run without the previous line, it will return 0.  Otherwise, it will return 1000"
   ]
  },
  {
   "cell_type": "markdown",
   "metadata": {},
   "source": [
    "#### Exercise 2: Timed Key Value Store \n",
    "\n",
    "At a high-level, we'll be building a key-value store (think Dictionary or HashMap) that has a get method that takes an optional second parameter as a time object in Python to return the most recent value before that period in time. If no key-value pair was added to the map before that period in time, return None.\n",
    "\n",
    "For consistency’s sake, let’s call this class TimedKVStore and put it into a file called kv_store.py\n",
    "\n",
    "You’ll need some sort of time object to track when key-value pairs are getting added to this map. Consider using the time module from Python Docs\n",
    "\n",
    "To give you an idea of how this class works, this is what should happen after you implement TimedKVStore.\n",
    "\n"
   ]
  },
  {
   "cell_type": "code",
   "execution_count": 4,
   "metadata": {
    "collapsed": true
   },
   "outputs": [],
   "source": [
    "from collections import defaultdict\n",
    "import time"
   ]
  },
  {
   "cell_type": "code",
   "execution_count": 7,
   "metadata": {
    "collapsed": true
   },
   "outputs": [],
   "source": [
    "class TimedKVStore(object):\n",
    "    \n",
    "    def __init__(self):\n",
    "        self.dict = defaultdict(list)\n",
    "\n",
    "    def put(self, key, value):\n",
    "        self.dict[key].append([value, time.time()])\n",
    "\n",
    "    def get(self, key, time=0):\n",
    "        val = 0\n",
    "        if time:\n",
    "            for x in self.dict[key]:\n",
    "                if self.dict[key][val][1] < time:\n",
    "                    return self.dict[key][val][0]\n",
    "                val += 1\n",
    "            return None\n",
    "        return self.dict[key][len(self.dict['1']) - 1][0]"
   ]
  },
  {
   "cell_type": "code",
   "execution_count": 8,
   "metadata": {
    "collapsed": false
   },
   "outputs": [
    {
     "name": "stdout",
     "output_type": "stream",
     "text": [
      "1.1\n",
      "1\n",
      "None\n"
     ]
    }
   ],
   "source": [
    "d = TimedKVStore()\n",
    "\n",
    "t0 = time.time()\n",
    "d.put(\"1\", 1)\n",
    "\n",
    "t1 = time.time()\n",
    "d.put(\"1\", 1.1)\n",
    "\n",
    "print d.get(\"1\")\n",
    "#Output : 1.1\n",
    "        \n",
    "print d.get(\"1\", t1)\n",
    "#Output : 1\n",
    "    \n",
    "print d.get(\"1\", t0)\n",
    "#Output : None"
   ]
  },
  {
   "cell_type": "markdown",
   "metadata": {
    "collapsed": true
   },
   "source": [
    "#### Exercise 3 : \n",
    "For this problem you will be creating a class and apply OOP priciples to it. The problem is divided into two parts.\n",
    "\n",
    "#### 1. PART 1: \n",
    "* Define a Rocket() class.\n",
    "* Define the __init__() method. Let your __init__() method accept x and y values for the initial position of the rocket. Make sure the default behavior is to position the rocket at (0,0).\n",
    "* Define the move_rocket() method. The method should accept an amount to move (x,y)\n",
    "* Create a Rocket object. Move the rocket around, printing its position after each move.\n",
    "* Create a small fleet of rockets. Move several of them around, and print their final positions to prove that each rocket can move independently of the other rockets.\n",
    "* Define the get_distance() method. The method should accept a Rocket object, and calculate the distance between the current rocket and the rocket that is passed into the method.\n",
    "* Use the get_distance() method to print the distances between several of the rockets in your fleet.\n",
    "\n",
    "#### 2. PART 2 : Applying Inheritance\n",
    "* Define a class SpaceShuttle() which extends class Rocket()\n",
    "* Add more attributes that are particular to space shuttles such as maximum number of flights, capability of supporting spacewalks, and capability of docking with the ISS.\n",
    "* Add a method to the class, that relates to shuttle behavior. This method could simply print a statement, such as \"Docking with the ISS,\" for a dock_ISS() method.\n",
    "* Create a Shuttle object with these attributes, and then call your new method.\n",
    "\n",
    "Hints/Notes :\n",
    "* You can use the Euclidean distance to calculate the distances between different Rocket objects\n",
    "\n",
    "    - Euclidean distance((x, y), (a, b)) = √(x - a)² + (y - b)²\n",
    "\n"
   ]
  },
  {
   "cell_type": "code",
   "execution_count": 9,
   "metadata": {
    "collapsed": true
   },
   "outputs": [],
   "source": [
    "import math"
   ]
  },
  {
   "cell_type": "code",
   "execution_count": 10,
   "metadata": {
    "collapsed": false
   },
   "outputs": [
    {
     "name": "stdout",
     "output_type": "stream",
     "text": [
      "0 0\n",
      "3 5\n"
     ]
    }
   ],
   "source": [
    "class Rocket(object):\n",
    "    \n",
    "    def __init__(self,x=0,y=0):\n",
    "        self.x = x\n",
    "        self.y = y\n",
    "    \n",
    "    def move_rocket(self,move_amount):\n",
    "        self.x += move_amount[0]\n",
    "        self.y += move_amount[1]\n",
    "        \n",
    "    def get_distance(self, other):\n",
    "        distance = math.sqrt((self.x-other.x)**2+(self.y-other.y)**2)\n",
    "        return distance\n",
    "        \n",
    "Rocket1 = Rocket()\n",
    "print Rocket1.x, Rocket1.y\n",
    "Rocket1.move_rocket((3,5))\n",
    "print Rocket1.x, Rocket1.y"
   ]
  },
  {
   "cell_type": "code",
   "execution_count": 11,
   "metadata": {
    "collapsed": false
   },
   "outputs": [
    {
     "name": "stdout",
     "output_type": "stream",
     "text": [
      "5 4\n",
      "13 -2\n",
      "-5 11\n"
     ]
    }
   ],
   "source": [
    "Rocket2 = Rocket(4,1)\n",
    "Rocket3 = Rocket(9,3)\n",
    "Rocket4 = Rocket(2,8)\n",
    "\n",
    "Rocket2.move_rocket((1,3))\n",
    "print Rocket2.x, Rocket2.y\n",
    "\n",
    "Rocket3.move_rocket((4,-5))\n",
    "print Rocket3.x, Rocket3.y\n",
    "\n",
    "Rocket4.move_rocket((-7,3))\n",
    "print Rocket4.x, Rocket4.y"
   ]
  },
  {
   "cell_type": "code",
   "execution_count": 12,
   "metadata": {
    "collapsed": false
   },
   "outputs": [
    {
     "name": "stdout",
     "output_type": "stream",
     "text": [
      "12.2065556157\n"
     ]
    }
   ],
   "source": [
    "print Rocket1.get_distance(Rocket3)"
   ]
  },
  {
   "cell_type": "code",
   "execution_count": 13,
   "metadata": {
    "collapsed": false
   },
   "outputs": [
    {
     "name": "stdout",
     "output_type": "stream",
     "text": [
      "22.2036033112\n"
     ]
    }
   ],
   "source": [
    "print Rocket4.get_distance(Rocket3)"
   ]
  },
  {
   "cell_type": "code",
   "execution_count": 14,
   "metadata": {
    "collapsed": false
   },
   "outputs": [
    {
     "name": "stdout",
     "output_type": "stream",
     "text": [
      "0 0\n",
      "Docking with the ISS\n",
      "5.83095189485\n"
     ]
    }
   ],
   "source": [
    "class SpaceShuttle(Rocket):\n",
    "    \n",
    "    def __init__(self, x=0, y=0, max_flights=20,support_spacewalks=\"Y\",able_to_dock=\"Y\"):\n",
    "        super(SpaceShuttle, self).__init__(x, y)\n",
    "        self.max_flights = max_flights\n",
    "        self.support_spacewalks = support_spacewalks\n",
    "        self.able_to_dock = able_to_dock\n",
    "        \n",
    "    def dock_ISS(self):\n",
    "        print \"Docking with the ISS\"\n",
    "    \n",
    "Shuttle = SpaceShuttle()\n",
    "print Shuttle.x, Shuttle.y\n",
    "Shuttle.dock_ISS()\n",
    "print Shuttle.get_distance(Rocket1)"
   ]
  },
  {
   "cell_type": "markdown",
   "metadata": {},
   "source": [
    "### Linear Algebra Review\n",
    "\n",
    "Exercise: Read through and review [Stanford's Linear Algebra Review](http://cs229.stanford.edu/section/cs229-linalg.pdf) \n",
    "\n",
    "\n",
    "Exercise : Go through videos : \n",
    "[Chapter 7 ,Chapter 9 , Chapter 10 , Chapter 11](https://www.youtube.com/playlist?list=PLZHQObOWTQDPD3MizzM2xVFitgF8hE_ab) and try to derive the algorithmic complexity of each vector and matrix operation. \n"
   ]
  },
  {
   "cell_type": "code",
   "execution_count": null,
   "metadata": {
    "collapsed": true
   },
   "outputs": [],
   "source": []
  }
 ],
 "metadata": {
  "anaconda-cloud": {},
  "kernelspec": {
   "display_name": "Python [conda env:dsi]",
   "language": "python",
   "name": "conda-env-dsi-py"
  },
  "language_info": {
   "codemirror_mode": {
    "name": "ipython",
    "version": 2
   },
   "file_extension": ".py",
   "mimetype": "text/x-python",
   "name": "python",
   "nbconvert_exporter": "python",
   "pygments_lexer": "ipython2",
   "version": "2.7.12"
  }
 },
 "nbformat": 4,
 "nbformat_minor": 1
}
