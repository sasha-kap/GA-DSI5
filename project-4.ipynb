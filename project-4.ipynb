{
 "cells": [
  {
   "cell_type": "markdown",
   "metadata": {},
   "source": [
    "<img src=\"http://imgur.com/1ZcRyrc.png\" style=\"float: left; margin: 15px; height: 80px\">\n",
    "\n",
    "# Project 4: Classification with Yelp, SGD, OOP"
   ]
  },
  {
   "cell_type": "markdown",
   "metadata": {},
   "source": [
    "## Yelp\n",
    "\n",
    "---\n",
    "\n",
    "In this project you will be investigating a small version of the [Yelp challenge dataset](https://www.yelp.com/dataset_challenge). You'll practice using classification algorithms, cross-validation, gridsearching – all that good stuff.\n",
    "\n",
    "---\n",
    "\n",
    "### The data\n",
    "\n",
    "There are 5 individual .csv files that have the information, zipped into .7z format like with the SF data last project. The dataset is located in your datasets folder:\n",
    "\n",
    "    DSI-SF-2/datasets/yelp_arizona_data.7z\n",
    "\n",
    "The columns in each are:\n",
    "\n",
    "    businesses_small_parsed.csv\n",
    "        business_id: unique business identifier\n",
    "        name: name of the business\n",
    "        review_count: number of reviews per business\n",
    "        city: city business resides in\n",
    "        stars: average rating\n",
    "        categories: categories the business falls into (can be one or multiple)\n",
    "        latitude\n",
    "        longitude\n",
    "        neighborhoods: neighborhoods business belongs to\n",
    "        variable: \"property\" of the business (a tag)\n",
    "        value: True/False for the property\n",
    "        \n",
    "    reviews_small_nlp_parsed.csv\n",
    "        user_id: unique user identifier\n",
    "        review_id: unique review identifier\n",
    "        votes.cool: how many thought the review was \"cool\"\n",
    "        business_id: unique business id the review is for\n",
    "        votes.funny: how many thought the review was funny\n",
    "        stars: rating given\n",
    "        date: date of review\n",
    "        votes.useful: how many thought the review was useful\n",
    "        ... 100 columns of counts of most common 2 word phrases that appear in reviews in this review\n",
    "        \n",
    "    users_small_parsed.csv\n",
    "        yelping_since: signup date\n",
    "        compliments.plain: # of compliments \"plain\"\n",
    "        review_count: # of reviews:\n",
    "        compliments.cute: total # of compliments \"cute\"\n",
    "        compliments.writer: # of compliments \"writer\"\n",
    "        compliments.note: # of compliments \"note\" (not sure what this is)\n",
    "        compliments.hot: # of compliments \"hot\" (?)\n",
    "        compliments.cool: # of compliments \"cool\"\n",
    "        compliments.profile: # of compliments \"profile\"\n",
    "        average_stars: average rating\n",
    "        compliments.more: # of compliments \"more\"\n",
    "        elite: years considered \"elite\"\n",
    "        name: user's name\n",
    "        user_id: unique user id\n",
    "        votes.cool: # of votes \"cool\"\n",
    "        compliments.list: # of compliments \"list\"\n",
    "        votes.funny: # of compliments \"funny\"\n",
    "        compliments.photos: # of compliments \"photos\"\n",
    "        compliments.funny: # of compliments \"funny\"\n",
    "        votes.useful: # of votes \"useful\"\n",
    "       \n",
    "    checkins_small_parsed.csv\n",
    "        business_id: unique business identifier\n",
    "        variable: day-time identifier of checkins (0-0 is Sunday 0:00 - 1:00am,  for example)\n",
    "        value: # of checkins at that time\n",
    "    \n",
    "    tips_small_nlp_parsed.csv\n",
    "        user_id: unique user identifier\n",
    "        business_id: unique business identifier\n",
    "        likes: likes that the tip has\n",
    "        date: date of tip\n",
    "        ... 100 columns of counts of most common 2 word phrases that appear in tips in this tip\n",
    "\n",
    "The reviews and tips datasets in particular have parsed \"NLP\" columns with counts of 2-word phrases in that review or tip (a \"tip\", it seems, is some kind of smaller review).\n",
    "\n",
    "The user dataset has a lot of columns of counts of different compliments and votes. I'm not sure whether the compliments or votes are _by_ the user or _for_ the user.\n",
    "\n",
    "---\n",
    "\n",
    "If you look at the website, or the full data, you'll see I have removed pieces of the data and cut it down quite a bit. This is to simplify it for this project. Specifically, business are limited to be in these cities:\n",
    "\n",
    "    Phoenix\n",
    "    Surprise\n",
    "    Las Vegas\n",
    "    Waterloo\n",
    "\n",
    "Apparently there is a city called \"Surprise\" in Arizona. \n",
    "\n",
    "Businesses are also restricted to at least be in one of the following categories, because I thought the mix of them was funny:\n",
    "\n",
    "    Airports\n",
    "    Breakfast & Brunch\n",
    "    Bubble Tea\n",
    "    Burgers\n",
    "    Bars\n",
    "    Bakeries\n",
    "    Breweries\n",
    "    Cafes\n",
    "    Candy Stores\n",
    "    Comedy Clubs\n",
    "    Courthouses\n",
    "    Dance Clubs\n",
    "    Fast Food\n",
    "    Museums\n",
    "    Tattoo\n",
    "    Vape Shops\n",
    "    Yoga\n",
    "    \n",
    "---\n",
    "\n",
    "### Project requirements\n",
    "\n",
    "**You will be performing 4 different sections of analysis, like in the last project.**\n",
    "\n",
    "Remember that classification targets are categorical and regression targets are continuous variables."
   ]
  },
  {
   "cell_type": "code",
   "execution_count": 7,
   "metadata": {
    "collapsed": true
   },
   "outputs": [],
   "source": [
    "import matplotlib.pyplot as plt\n",
    "import numpy as np\n",
    "import pandas as pd\n",
    "import seaborn as sns\n",
    "import scipy.stats as stats\n",
    "\n",
    "plt.style.use('fivethirtyeight')\n",
    "\n",
    "from ipywidgets import *\n",
    "from IPython.display import display\n",
    "\n",
    "%matplotlib inline\n",
    "%config InlineBackend.figure_format = 'retina'"
   ]
  },
  {
   "cell_type": "code",
   "execution_count": 108,
   "metadata": {
    "collapsed": false
   },
   "outputs": [],
   "source": [
    "from sklearn.metrics import roc_curve, auc\n",
    "from sklearn.model_selection import train_test_split, StratifiedKFold\n",
    "from sklearn.metrics import accuracy_score, precision_score, recall_score,f1_score \n",
    "from sklearn.metrics import confusion_matrix, roc_curve, auc, precision_recall_curve, average_precision_score\n",
    "from sklearn.model_selection import KFold\n",
    "from sklearn.preprocessing import scale, MinMaxScaler, normalize\n",
    "from sklearn.neighbors import KNeighborsClassifier\n",
    "from sklearn.linear_model import LogisticRegression\n",
    "from sklearn.utils import shuffle\n",
    "from sklearn.preprocessing import StandardScaler\n",
    "from sklearn.model_selection import GridSearchCV\n",
    "from sklearn.model_selection import cross_val_score, StratifiedKFold"
   ]
  },
  {
   "cell_type": "markdown",
   "metadata": {},
   "source": [
    "<img src=\"http://imgur.com/l5NasQj.png\" style=\"float: left; margin: 25px 15px 0px 0px; height: 25px\">\n",
    "\n",
    "## 1. Constructing a \"profile\" for Las Vegas\n",
    "\n",
    "---\n",
    "\n",
    "Yelp is interested in building out what they are calling \"profiles\" for cities. They want you to start with just Las Vegas to see what a prototype of this would look like. Essentially, they want to know what makes Las Vegas distinct from the other four.\n",
    "\n",
    "Use the data you have to predict Las Vegas from the other variables you have. You should not be predicting the city from any kind of location data or other data perfectly associated with that city (or another city).\n",
    "\n",
    "You may use any classification algorithm you deem appropriate, or even multiple models. You should:\n",
    "\n",
    "1. Build at least one model predicting Las Vegas vs. the other cities.\n",
    "- Validate your model(s).\n",
    "- Interpret and visualize, in some way, the results.\n",
    "- Write up a \"profile\" for Las Vegas. This should be a writeup converting your findings from the model(s) into a human-readable description of the city."
   ]
  },
  {
   "cell_type": "code",
   "execution_count": 151,
   "metadata": {
    "collapsed": false
   },
   "outputs": [],
   "source": [
    "business = pd.read_csv('~/Desktop/DSI-SF-5-Working/datasets/yelp_arizona_data/businesses_small_parsed.csv')"
   ]
  },
  {
   "cell_type": "code",
   "execution_count": 4,
   "metadata": {
    "collapsed": true
   },
   "outputs": [],
   "source": [
    "checkins = pd.read_csv('~/Desktop/DSI-SF-5-Working/datasets/yelp_arizona_data/checkins_small_parsed.csv')"
   ]
  },
  {
   "cell_type": "code",
   "execution_count": 222,
   "metadata": {
    "collapsed": true
   },
   "outputs": [],
   "source": [
    "reviews = pd.read_csv('~/Desktop/DSI-SF-5-Working/datasets/yelp_arizona_data/reviews_small_nlp_parsed.csv')"
   ]
  },
  {
   "cell_type": "code",
   "execution_count": 223,
   "metadata": {
    "collapsed": true
   },
   "outputs": [],
   "source": [
    "tips = pd.read_csv('~/Desktop/DSI-SF-5-Working/datasets/yelp_arizona_data/tips_small_nlp_parsed.csv')"
   ]
  },
  {
   "cell_type": "code",
   "execution_count": 83,
   "metadata": {
    "collapsed": false
   },
   "outputs": [],
   "source": [
    "users = pd.read_csv('~/Desktop/DSI-SF-5-Working/datasets/yelp_arizona_data/users_small_parsed.csv')"
   ]
  },
  {
   "cell_type": "code",
   "execution_count": 152,
   "metadata": {
    "collapsed": false
   },
   "outputs": [
    {
     "name": "stdout",
     "output_type": "stream",
     "text": [
      "(152832, 11)\n",
      "Index([u'business_id', u'name', u'review_count', u'city', u'stars',\n",
      "       u'categories', u'latitude', u'longitude', u'neighborhoods', u'variable',\n",
      "       u'value'],\n",
      "      dtype='object')\n"
     ]
    },
    {
     "data": {
      "text/html": [
       "<div>\n",
       "<table border=\"1\" class=\"dataframe\">\n",
       "  <thead>\n",
       "    <tr style=\"text-align: right;\">\n",
       "      <th></th>\n",
       "      <th>business_id</th>\n",
       "      <th>name</th>\n",
       "      <th>review_count</th>\n",
       "      <th>city</th>\n",
       "      <th>stars</th>\n",
       "      <th>categories</th>\n",
       "      <th>latitude</th>\n",
       "      <th>longitude</th>\n",
       "      <th>neighborhoods</th>\n",
       "      <th>variable</th>\n",
       "      <th>value</th>\n",
       "    </tr>\n",
       "  </thead>\n",
       "  <tbody>\n",
       "    <tr>\n",
       "      <th>0</th>\n",
       "      <td>EmzaQR5hQlF0WIl24NxAZA</td>\n",
       "      <td>Sky Lounge</td>\n",
       "      <td>25</td>\n",
       "      <td>Phoenix</td>\n",
       "      <td>2.5</td>\n",
       "      <td>['American (New)', 'Nightlife', 'Dance Clubs',...</td>\n",
       "      <td>33.448399</td>\n",
       "      <td>-112.071702</td>\n",
       "      <td>[]</td>\n",
       "      <td>attributes.Ambience.divey</td>\n",
       "      <td>False</td>\n",
       "    </tr>\n",
       "    <tr>\n",
       "      <th>1</th>\n",
       "      <td>SiwN7f0N4bs4ZtPc4yPgiA</td>\n",
       "      <td>Palazzo</td>\n",
       "      <td>19</td>\n",
       "      <td>Phoenix</td>\n",
       "      <td>3.0</td>\n",
       "      <td>['Bars', 'Nightlife', 'Dance Clubs']</td>\n",
       "      <td>33.455885</td>\n",
       "      <td>-112.074177</td>\n",
       "      <td>[]</td>\n",
       "      <td>attributes.Ambience.divey</td>\n",
       "      <td>False</td>\n",
       "    </tr>\n",
       "    <tr>\n",
       "      <th>2</th>\n",
       "      <td>e5kc0CQ4R-PCCDgb274gSg</td>\n",
       "      <td>Canyon Cafe</td>\n",
       "      <td>238</td>\n",
       "      <td>Phoenix</td>\n",
       "      <td>3.5</td>\n",
       "      <td>['Cafes', 'Mexican', 'Tex-Mex', 'Restaurants']</td>\n",
       "      <td>33.452154</td>\n",
       "      <td>-112.068620</td>\n",
       "      <td>[]</td>\n",
       "      <td>attributes.Ambience.divey</td>\n",
       "      <td>False</td>\n",
       "    </tr>\n",
       "    <tr>\n",
       "      <th>3</th>\n",
       "      <td>neGAQFkBNI8-rpPBLBzNkw</td>\n",
       "      <td>Taco Bell</td>\n",
       "      <td>10</td>\n",
       "      <td>Phoenix</td>\n",
       "      <td>4.0</td>\n",
       "      <td>['Fast Food', 'Mexican', 'Tex-Mex', 'Restauran...</td>\n",
       "      <td>33.465440</td>\n",
       "      <td>-112.069090</td>\n",
       "      <td>[]</td>\n",
       "      <td>attributes.Ambience.divey</td>\n",
       "      <td>False</td>\n",
       "    </tr>\n",
       "    <tr>\n",
       "      <th>4</th>\n",
       "      <td>45puCRQ6Vh_IIAy7kkfFDQ</td>\n",
       "      <td>Majerle's Sports Grill</td>\n",
       "      <td>205</td>\n",
       "      <td>Phoenix</td>\n",
       "      <td>3.5</td>\n",
       "      <td>['Bars', 'Restaurants', 'American (Traditional...</td>\n",
       "      <td>33.448465</td>\n",
       "      <td>-112.071257</td>\n",
       "      <td>[]</td>\n",
       "      <td>attributes.Ambience.divey</td>\n",
       "      <td>False</td>\n",
       "    </tr>\n",
       "  </tbody>\n",
       "</table>\n",
       "</div>"
      ],
      "text/plain": [
       "              business_id                    name  review_count     city  \\\n",
       "0  EmzaQR5hQlF0WIl24NxAZA              Sky Lounge            25  Phoenix   \n",
       "1  SiwN7f0N4bs4ZtPc4yPgiA                 Palazzo            19  Phoenix   \n",
       "2  e5kc0CQ4R-PCCDgb274gSg             Canyon Cafe           238  Phoenix   \n",
       "3  neGAQFkBNI8-rpPBLBzNkw               Taco Bell            10  Phoenix   \n",
       "4  45puCRQ6Vh_IIAy7kkfFDQ  Majerle's Sports Grill           205  Phoenix   \n",
       "\n",
       "   stars                                         categories   latitude  \\\n",
       "0    2.5  ['American (New)', 'Nightlife', 'Dance Clubs',...  33.448399   \n",
       "1    3.0               ['Bars', 'Nightlife', 'Dance Clubs']  33.455885   \n",
       "2    3.5     ['Cafes', 'Mexican', 'Tex-Mex', 'Restaurants']  33.452154   \n",
       "3    4.0  ['Fast Food', 'Mexican', 'Tex-Mex', 'Restauran...  33.465440   \n",
       "4    3.5  ['Bars', 'Restaurants', 'American (Traditional...  33.448465   \n",
       "\n",
       "    longitude neighborhoods                   variable  value  \n",
       "0 -112.071702            []  attributes.Ambience.divey  False  \n",
       "1 -112.074177            []  attributes.Ambience.divey  False  \n",
       "2 -112.068620            []  attributes.Ambience.divey  False  \n",
       "3 -112.069090            []  attributes.Ambience.divey  False  \n",
       "4 -112.071257            []  attributes.Ambience.divey  False  "
      ]
     },
     "execution_count": 152,
     "metadata": {},
     "output_type": "execute_result"
    }
   ],
   "source": [
    "print business.shape\n",
    "print business.columns\n",
    "\n",
    "business.head()"
   ]
  },
  {
   "cell_type": "code",
   "execution_count": 153,
   "metadata": {
    "collapsed": false
   },
   "outputs": [],
   "source": [
    "categories = business.categories.apply(eval)\n",
    "business_copy = business.copy()\n",
    "business_copy['categories'] = categories\n",
    "#unique_categories = set(list(itertools.chain(*categories.tolist())))"
   ]
  },
  {
   "cell_type": "code",
   "execution_count": 154,
   "metadata": {
    "collapsed": false
   },
   "outputs": [
    {
     "name": "stdout",
     "output_type": "stream",
     "text": [
      "<class 'pandas.core.series.Series'>\n"
     ]
    }
   ],
   "source": [
    "print type(categories)"
   ]
  },
  {
   "cell_type": "code",
   "execution_count": 155,
   "metadata": {
    "collapsed": false
   },
   "outputs": [
    {
     "data": {
      "text/html": [
       "<div>\n",
       "<table border=\"1\" class=\"dataframe\">\n",
       "  <thead>\n",
       "    <tr style=\"text-align: right;\">\n",
       "      <th></th>\n",
       "      <th>business_id</th>\n",
       "      <th>name</th>\n",
       "      <th>review_count</th>\n",
       "      <th>city</th>\n",
       "      <th>stars</th>\n",
       "      <th>categories</th>\n",
       "      <th>latitude</th>\n",
       "      <th>longitude</th>\n",
       "      <th>neighborhoods</th>\n",
       "      <th>variable</th>\n",
       "      <th>value</th>\n",
       "    </tr>\n",
       "  </thead>\n",
       "  <tbody>\n",
       "    <tr>\n",
       "      <th>0</th>\n",
       "      <td>EmzaQR5hQlF0WIl24NxAZA</td>\n",
       "      <td>Sky Lounge</td>\n",
       "      <td>25</td>\n",
       "      <td>Phoenix</td>\n",
       "      <td>2.5</td>\n",
       "      <td>[American (New), Nightlife, Dance Clubs, Resta...</td>\n",
       "      <td>33.448399</td>\n",
       "      <td>-112.071702</td>\n",
       "      <td>[]</td>\n",
       "      <td>attributes.Ambience.divey</td>\n",
       "      <td>False</td>\n",
       "    </tr>\n",
       "    <tr>\n",
       "      <th>1</th>\n",
       "      <td>SiwN7f0N4bs4ZtPc4yPgiA</td>\n",
       "      <td>Palazzo</td>\n",
       "      <td>19</td>\n",
       "      <td>Phoenix</td>\n",
       "      <td>3.0</td>\n",
       "      <td>[Bars, Nightlife, Dance Clubs]</td>\n",
       "      <td>33.455885</td>\n",
       "      <td>-112.074177</td>\n",
       "      <td>[]</td>\n",
       "      <td>attributes.Ambience.divey</td>\n",
       "      <td>False</td>\n",
       "    </tr>\n",
       "    <tr>\n",
       "      <th>2</th>\n",
       "      <td>e5kc0CQ4R-PCCDgb274gSg</td>\n",
       "      <td>Canyon Cafe</td>\n",
       "      <td>238</td>\n",
       "      <td>Phoenix</td>\n",
       "      <td>3.5</td>\n",
       "      <td>[Cafes, Mexican, Tex-Mex, Restaurants]</td>\n",
       "      <td>33.452154</td>\n",
       "      <td>-112.068620</td>\n",
       "      <td>[]</td>\n",
       "      <td>attributes.Ambience.divey</td>\n",
       "      <td>False</td>\n",
       "    </tr>\n",
       "    <tr>\n",
       "      <th>3</th>\n",
       "      <td>neGAQFkBNI8-rpPBLBzNkw</td>\n",
       "      <td>Taco Bell</td>\n",
       "      <td>10</td>\n",
       "      <td>Phoenix</td>\n",
       "      <td>4.0</td>\n",
       "      <td>[Fast Food, Mexican, Tex-Mex, Restaurants]</td>\n",
       "      <td>33.465440</td>\n",
       "      <td>-112.069090</td>\n",
       "      <td>[]</td>\n",
       "      <td>attributes.Ambience.divey</td>\n",
       "      <td>False</td>\n",
       "    </tr>\n",
       "    <tr>\n",
       "      <th>4</th>\n",
       "      <td>45puCRQ6Vh_IIAy7kkfFDQ</td>\n",
       "      <td>Majerle's Sports Grill</td>\n",
       "      <td>205</td>\n",
       "      <td>Phoenix</td>\n",
       "      <td>3.5</td>\n",
       "      <td>[Bars, Restaurants, American (Traditional), Sp...</td>\n",
       "      <td>33.448465</td>\n",
       "      <td>-112.071257</td>\n",
       "      <td>[]</td>\n",
       "      <td>attributes.Ambience.divey</td>\n",
       "      <td>False</td>\n",
       "    </tr>\n",
       "  </tbody>\n",
       "</table>\n",
       "</div>"
      ],
      "text/plain": [
       "              business_id                    name  review_count     city  \\\n",
       "0  EmzaQR5hQlF0WIl24NxAZA              Sky Lounge            25  Phoenix   \n",
       "1  SiwN7f0N4bs4ZtPc4yPgiA                 Palazzo            19  Phoenix   \n",
       "2  e5kc0CQ4R-PCCDgb274gSg             Canyon Cafe           238  Phoenix   \n",
       "3  neGAQFkBNI8-rpPBLBzNkw               Taco Bell            10  Phoenix   \n",
       "4  45puCRQ6Vh_IIAy7kkfFDQ  Majerle's Sports Grill           205  Phoenix   \n",
       "\n",
       "   stars                                         categories   latitude  \\\n",
       "0    2.5  [American (New), Nightlife, Dance Clubs, Resta...  33.448399   \n",
       "1    3.0                     [Bars, Nightlife, Dance Clubs]  33.455885   \n",
       "2    3.5             [Cafes, Mexican, Tex-Mex, Restaurants]  33.452154   \n",
       "3    4.0         [Fast Food, Mexican, Tex-Mex, Restaurants]  33.465440   \n",
       "4    3.5  [Bars, Restaurants, American (Traditional), Sp...  33.448465   \n",
       "\n",
       "    longitude neighborhoods                   variable  value  \n",
       "0 -112.071702            []  attributes.Ambience.divey  False  \n",
       "1 -112.074177            []  attributes.Ambience.divey  False  \n",
       "2 -112.068620            []  attributes.Ambience.divey  False  \n",
       "3 -112.069090            []  attributes.Ambience.divey  False  \n",
       "4 -112.071257            []  attributes.Ambience.divey  False  "
      ]
     },
     "execution_count": 155,
     "metadata": {},
     "output_type": "execute_result"
    }
   ],
   "source": [
    "business_copy.head()"
   ]
  },
  {
   "cell_type": "code",
   "execution_count": 156,
   "metadata": {
    "collapsed": false
   },
   "outputs": [
    {
     "name": "stdout",
     "output_type": "stream",
     "text": [
      "0    [American (New), Nightlife, Dance Clubs, Resta...\n",
      "1                       [Bars, Nightlife, Dance Clubs]\n",
      "2               [Cafes, Mexican, Tex-Mex, Restaurants]\n",
      "3           [Fast Food, Mexican, Tex-Mex, Restaurants]\n",
      "4    [Bars, Restaurants, American (Traditional), Sp...\n",
      "Name: categories, dtype: object\n"
     ]
    }
   ],
   "source": [
    "print business_copy.categories.head()"
   ]
  },
  {
   "cell_type": "code",
   "execution_count": 157,
   "metadata": {
    "collapsed": false
   },
   "outputs": [],
   "source": [
    "#simplified list of categories\n",
    "given_cats = ['Airports', 'Breakfast & Brunch', 'Bubble Tea', 'Burgers', 'Bars', 'Bakeries', 'Breweries',\n",
    "             'Cafes', 'Candy Stores', 'Comedy Clubs', 'Courthouses', 'Dance Clubs', 'Fast Food', \n",
    "             'Museums', 'Tattoo', 'Vape Shops', 'Yoga']\n",
    "\n",
    "    \n",
    "for cat in given_cats:\n",
    "    business_copy[cat] = business_copy['categories'].apply(lambda x: cat in x)"
   ]
  },
  {
   "cell_type": "code",
   "execution_count": 14,
   "metadata": {
    "collapsed": false
   },
   "outputs": [
    {
     "data": {
      "text/html": [
       "<div>\n",
       "<table border=\"1\" class=\"dataframe\">\n",
       "  <thead>\n",
       "    <tr style=\"text-align: right;\">\n",
       "      <th></th>\n",
       "      <th>business_id</th>\n",
       "      <th>name</th>\n",
       "      <th>review_count</th>\n",
       "      <th>city</th>\n",
       "      <th>stars</th>\n",
       "      <th>categories</th>\n",
       "      <th>latitude</th>\n",
       "      <th>longitude</th>\n",
       "      <th>neighborhoods</th>\n",
       "      <th>variable</th>\n",
       "      <th>...</th>\n",
       "      <th>Cafes</th>\n",
       "      <th>Candy Stores</th>\n",
       "      <th>Comedy Clubs</th>\n",
       "      <th>Courthouses</th>\n",
       "      <th>Dance Clubs</th>\n",
       "      <th>Fast Food</th>\n",
       "      <th>Museums</th>\n",
       "      <th>Tattoo</th>\n",
       "      <th>Vape Shops</th>\n",
       "      <th>Yoga</th>\n",
       "    </tr>\n",
       "  </thead>\n",
       "  <tbody>\n",
       "    <tr>\n",
       "      <th>0</th>\n",
       "      <td>EmzaQR5hQlF0WIl24NxAZA</td>\n",
       "      <td>Sky Lounge</td>\n",
       "      <td>25</td>\n",
       "      <td>Phoenix</td>\n",
       "      <td>2.5</td>\n",
       "      <td>[American (New), Nightlife, Dance Clubs, Resta...</td>\n",
       "      <td>33.448399</td>\n",
       "      <td>-112.071702</td>\n",
       "      <td>[]</td>\n",
       "      <td>attributes.Ambience.divey</td>\n",
       "      <td>...</td>\n",
       "      <td>False</td>\n",
       "      <td>False</td>\n",
       "      <td>False</td>\n",
       "      <td>False</td>\n",
       "      <td>True</td>\n",
       "      <td>False</td>\n",
       "      <td>False</td>\n",
       "      <td>False</td>\n",
       "      <td>False</td>\n",
       "      <td>False</td>\n",
       "    </tr>\n",
       "    <tr>\n",
       "      <th>1</th>\n",
       "      <td>SiwN7f0N4bs4ZtPc4yPgiA</td>\n",
       "      <td>Palazzo</td>\n",
       "      <td>19</td>\n",
       "      <td>Phoenix</td>\n",
       "      <td>3.0</td>\n",
       "      <td>[Bars, Nightlife, Dance Clubs]</td>\n",
       "      <td>33.455885</td>\n",
       "      <td>-112.074177</td>\n",
       "      <td>[]</td>\n",
       "      <td>attributes.Ambience.divey</td>\n",
       "      <td>...</td>\n",
       "      <td>False</td>\n",
       "      <td>False</td>\n",
       "      <td>False</td>\n",
       "      <td>False</td>\n",
       "      <td>True</td>\n",
       "      <td>False</td>\n",
       "      <td>False</td>\n",
       "      <td>False</td>\n",
       "      <td>False</td>\n",
       "      <td>False</td>\n",
       "    </tr>\n",
       "    <tr>\n",
       "      <th>2</th>\n",
       "      <td>e5kc0CQ4R-PCCDgb274gSg</td>\n",
       "      <td>Canyon Cafe</td>\n",
       "      <td>238</td>\n",
       "      <td>Phoenix</td>\n",
       "      <td>3.5</td>\n",
       "      <td>[Cafes, Mexican, Tex-Mex, Restaurants]</td>\n",
       "      <td>33.452154</td>\n",
       "      <td>-112.068620</td>\n",
       "      <td>[]</td>\n",
       "      <td>attributes.Ambience.divey</td>\n",
       "      <td>...</td>\n",
       "      <td>True</td>\n",
       "      <td>False</td>\n",
       "      <td>False</td>\n",
       "      <td>False</td>\n",
       "      <td>False</td>\n",
       "      <td>False</td>\n",
       "      <td>False</td>\n",
       "      <td>False</td>\n",
       "      <td>False</td>\n",
       "      <td>False</td>\n",
       "    </tr>\n",
       "    <tr>\n",
       "      <th>3</th>\n",
       "      <td>neGAQFkBNI8-rpPBLBzNkw</td>\n",
       "      <td>Taco Bell</td>\n",
       "      <td>10</td>\n",
       "      <td>Phoenix</td>\n",
       "      <td>4.0</td>\n",
       "      <td>[Fast Food, Mexican, Tex-Mex, Restaurants]</td>\n",
       "      <td>33.465440</td>\n",
       "      <td>-112.069090</td>\n",
       "      <td>[]</td>\n",
       "      <td>attributes.Ambience.divey</td>\n",
       "      <td>...</td>\n",
       "      <td>False</td>\n",
       "      <td>False</td>\n",
       "      <td>False</td>\n",
       "      <td>False</td>\n",
       "      <td>False</td>\n",
       "      <td>True</td>\n",
       "      <td>False</td>\n",
       "      <td>False</td>\n",
       "      <td>False</td>\n",
       "      <td>False</td>\n",
       "    </tr>\n",
       "    <tr>\n",
       "      <th>4</th>\n",
       "      <td>45puCRQ6Vh_IIAy7kkfFDQ</td>\n",
       "      <td>Majerle's Sports Grill</td>\n",
       "      <td>205</td>\n",
       "      <td>Phoenix</td>\n",
       "      <td>3.5</td>\n",
       "      <td>[Bars, Restaurants, American (Traditional), Sp...</td>\n",
       "      <td>33.448465</td>\n",
       "      <td>-112.071257</td>\n",
       "      <td>[]</td>\n",
       "      <td>attributes.Ambience.divey</td>\n",
       "      <td>...</td>\n",
       "      <td>False</td>\n",
       "      <td>False</td>\n",
       "      <td>False</td>\n",
       "      <td>False</td>\n",
       "      <td>False</td>\n",
       "      <td>False</td>\n",
       "      <td>False</td>\n",
       "      <td>False</td>\n",
       "      <td>False</td>\n",
       "      <td>False</td>\n",
       "    </tr>\n",
       "  </tbody>\n",
       "</table>\n",
       "<p>5 rows × 28 columns</p>\n",
       "</div>"
      ],
      "text/plain": [
       "              business_id                    name  review_count     city  \\\n",
       "0  EmzaQR5hQlF0WIl24NxAZA              Sky Lounge            25  Phoenix   \n",
       "1  SiwN7f0N4bs4ZtPc4yPgiA                 Palazzo            19  Phoenix   \n",
       "2  e5kc0CQ4R-PCCDgb274gSg             Canyon Cafe           238  Phoenix   \n",
       "3  neGAQFkBNI8-rpPBLBzNkw               Taco Bell            10  Phoenix   \n",
       "4  45puCRQ6Vh_IIAy7kkfFDQ  Majerle's Sports Grill           205  Phoenix   \n",
       "\n",
       "   stars                                         categories   latitude  \\\n",
       "0    2.5  [American (New), Nightlife, Dance Clubs, Resta...  33.448399   \n",
       "1    3.0                     [Bars, Nightlife, Dance Clubs]  33.455885   \n",
       "2    3.5             [Cafes, Mexican, Tex-Mex, Restaurants]  33.452154   \n",
       "3    4.0         [Fast Food, Mexican, Tex-Mex, Restaurants]  33.465440   \n",
       "4    3.5  [Bars, Restaurants, American (Traditional), Sp...  33.448465   \n",
       "\n",
       "    longitude neighborhoods                   variable  ...    Cafes  \\\n",
       "0 -112.071702            []  attributes.Ambience.divey  ...    False   \n",
       "1 -112.074177            []  attributes.Ambience.divey  ...    False   \n",
       "2 -112.068620            []  attributes.Ambience.divey  ...     True   \n",
       "3 -112.069090            []  attributes.Ambience.divey  ...    False   \n",
       "4 -112.071257            []  attributes.Ambience.divey  ...    False   \n",
       "\n",
       "  Candy Stores Comedy Clubs Courthouses Dance Clubs Fast Food Museums Tattoo  \\\n",
       "0        False        False       False        True     False   False  False   \n",
       "1        False        False       False        True     False   False  False   \n",
       "2        False        False       False       False     False   False  False   \n",
       "3        False        False       False       False      True   False  False   \n",
       "4        False        False       False       False     False   False  False   \n",
       "\n",
       "  Vape Shops   Yoga  \n",
       "0      False  False  \n",
       "1      False  False  \n",
       "2      False  False  \n",
       "3      False  False  \n",
       "4      False  False  \n",
       "\n",
       "[5 rows x 28 columns]"
      ]
     },
     "execution_count": 14,
     "metadata": {},
     "output_type": "execute_result"
    }
   ],
   "source": [
    "business_copy.head()"
   ]
  },
  {
   "cell_type": "code",
   "execution_count": 158,
   "metadata": {
    "collapsed": false
   },
   "outputs": [
    {
     "data": {
      "text/plain": [
       "array(['attributes.Ambience.divey',\n",
       "       'attributes.Dietary Restrictions.vegan', 'attributes.Happy Hour',\n",
       "       'hours.Thursday.open', 'attributes.Order at Counter',\n",
       "       'attributes.BYOB', 'hours.Friday.open',\n",
       "       'attributes.Good For.latenight', 'attributes.Outdoor Seating',\n",
       "       'attributes.Alcohol', 'attributes.Ambience.classy',\n",
       "       'attributes.By Appointment Only', 'attributes.Parking.lot',\n",
       "       'attributes.Ambience.touristy', 'attributes.Corkage',\n",
       "       'hours.Tuesday.open', 'attributes.Good For.brunch',\n",
       "       'attributes.Waiter Service', 'hours.Monday.open',\n",
       "       'attributes.Parking.street', 'attributes.Ambience.hipster',\n",
       "       'attributes.BYOB/Corkage', 'attributes.Music.live',\n",
       "       'attributes.Dietary Restrictions.dairy-free',\n",
       "       'attributes.Music.background_music', 'attributes.Price Range',\n",
       "       'attributes.Good For.breakfast', 'attributes.Parking.garage',\n",
       "       'attributes.Music.karaoke', 'attributes.Good For Dancing',\n",
       "       'attributes.Accepts Credit Cards', 'hours.Friday.close',\n",
       "       'attributes.Good For.lunch', 'attributes.Parking.valet',\n",
       "       'attributes.Take-out', 'hours.Thursday.close',\n",
       "       'attributes.Good For.dessert', 'attributes.Music.video',\n",
       "       'attributes.Dietary Restrictions.halal',\n",
       "       'attributes.Takes Reservations', 'hours.Saturday.open',\n",
       "       'attributes.Ages Allowed', 'attributes.Ambience.trendy',\n",
       "       'attributes.Delivery', 'hours.Wednesday.close', 'attributes.Wi-Fi',\n",
       "       'open', 'attributes.Wheelchair Accessible',\n",
       "       'attributes.Dietary Restrictions.gluten-free',\n",
       "       'attributes.Dietary Restrictions.kosher', 'attributes.Caters',\n",
       "       'attributes.Ambience.intimate', 'attributes.Good For.dinner',\n",
       "       'attributes.Coat Check', 'hours.Monday.close',\n",
       "       'hours.Tuesday.close', 'hours.Saturday.close',\n",
       "       'attributes.Good for Kids', 'attributes.Parking.validated',\n",
       "       'hours.Sunday.open', 'attributes.Accepts Insurance',\n",
       "       'attributes.Music.dj', 'attributes.Dietary Restrictions.soy-free',\n",
       "       'attributes.Has TV', 'hours.Sunday.close',\n",
       "       'attributes.Ambience.casual', 'attributes.Dogs Allowed',\n",
       "       'attributes.Drive-Thru',\n",
       "       'attributes.Dietary Restrictions.vegetarian',\n",
       "       'hours.Wednesday.open', 'attributes.Noise Level',\n",
       "       'attributes.Smoking', 'attributes.Attire',\n",
       "       'attributes.Good For Groups', 'attributes.Open 24 Hours',\n",
       "       'attributes.Ambience.romantic', 'attributes.Music.jukebox',\n",
       "       'attributes.Ambience.upscale'], dtype=object)"
      ]
     },
     "execution_count": 158,
     "metadata": {},
     "output_type": "execute_result"
    }
   ],
   "source": [
    "business_copy.variable.unique()"
   ]
  },
  {
   "cell_type": "code",
   "execution_count": 159,
   "metadata": {
    "collapsed": true
   },
   "outputs": [],
   "source": [
    "def select_item_or_nan(x):\n",
    "    x = x.iloc[0]\n",
    "    if len(x) == 0:\n",
    "        return np.nan\n",
    "    else:\n",
    "        return x"
   ]
  },
  {
   "cell_type": "code",
   "execution_count": 170,
   "metadata": {
    "collapsed": false
   },
   "outputs": [],
   "source": [
    "business_wide = pd.pivot_table(business_copy,\n",
    "                               columns=['variable'],\n",
    "                               values='value',\n",
    "                               index=['business_id'],\n",
    "                               aggfunc=select_item_or_nan,\n",
    "                               fill_value=np.nan)"
   ]
  },
  {
   "cell_type": "code",
   "execution_count": 172,
   "metadata": {
    "collapsed": false
   },
   "outputs": [
    {
     "data": {
      "text/html": [
       "<div>\n",
       "<table border=\"1\" class=\"dataframe\">\n",
       "  <thead>\n",
       "    <tr style=\"text-align: right;\">\n",
       "      <th>variable</th>\n",
       "      <th>attributes.Accepts Credit Cards</th>\n",
       "      <th>attributes.Accepts Insurance</th>\n",
       "      <th>attributes.Ages Allowed</th>\n",
       "      <th>attributes.Alcohol</th>\n",
       "      <th>attributes.Ambience.casual</th>\n",
       "      <th>attributes.Ambience.classy</th>\n",
       "      <th>attributes.Ambience.divey</th>\n",
       "      <th>attributes.Ambience.hipster</th>\n",
       "      <th>attributes.Ambience.intimate</th>\n",
       "      <th>attributes.Ambience.romantic</th>\n",
       "      <th>...</th>\n",
       "      <th>hours.Saturday.open</th>\n",
       "      <th>hours.Sunday.close</th>\n",
       "      <th>hours.Sunday.open</th>\n",
       "      <th>hours.Thursday.close</th>\n",
       "      <th>hours.Thursday.open</th>\n",
       "      <th>hours.Tuesday.close</th>\n",
       "      <th>hours.Tuesday.open</th>\n",
       "      <th>hours.Wednesday.close</th>\n",
       "      <th>hours.Wednesday.open</th>\n",
       "      <th>open</th>\n",
       "    </tr>\n",
       "    <tr>\n",
       "      <th>business_id</th>\n",
       "      <th></th>\n",
       "      <th></th>\n",
       "      <th></th>\n",
       "      <th></th>\n",
       "      <th></th>\n",
       "      <th></th>\n",
       "      <th></th>\n",
       "      <th></th>\n",
       "      <th></th>\n",
       "      <th></th>\n",
       "      <th></th>\n",
       "      <th></th>\n",
       "      <th></th>\n",
       "      <th></th>\n",
       "      <th></th>\n",
       "      <th></th>\n",
       "      <th></th>\n",
       "      <th></th>\n",
       "      <th></th>\n",
       "      <th></th>\n",
       "      <th></th>\n",
       "    </tr>\n",
       "  </thead>\n",
       "  <tbody>\n",
       "    <tr>\n",
       "      <th>--jFTZmywe7StuZ2hEjxyA</th>\n",
       "      <td>True</td>\n",
       "      <td>NaN</td>\n",
       "      <td>NaN</td>\n",
       "      <td>none</td>\n",
       "      <td>NaN</td>\n",
       "      <td>NaN</td>\n",
       "      <td>NaN</td>\n",
       "      <td>NaN</td>\n",
       "      <td>NaN</td>\n",
       "      <td>NaN</td>\n",
       "      <td>...</td>\n",
       "      <td>NaN</td>\n",
       "      <td>NaN</td>\n",
       "      <td>NaN</td>\n",
       "      <td>NaN</td>\n",
       "      <td>NaN</td>\n",
       "      <td>NaN</td>\n",
       "      <td>NaN</td>\n",
       "      <td>NaN</td>\n",
       "      <td>NaN</td>\n",
       "      <td>True</td>\n",
       "    </tr>\n",
       "    <tr>\n",
       "      <th>-0HGqwlfw3I8nkJyMHxAsQ</th>\n",
       "      <td>True</td>\n",
       "      <td>NaN</td>\n",
       "      <td>NaN</td>\n",
       "      <td>none</td>\n",
       "      <td>NaN</td>\n",
       "      <td>NaN</td>\n",
       "      <td>NaN</td>\n",
       "      <td>NaN</td>\n",
       "      <td>NaN</td>\n",
       "      <td>NaN</td>\n",
       "      <td>...</td>\n",
       "      <td>NaN</td>\n",
       "      <td>NaN</td>\n",
       "      <td>NaN</td>\n",
       "      <td>NaN</td>\n",
       "      <td>NaN</td>\n",
       "      <td>NaN</td>\n",
       "      <td>NaN</td>\n",
       "      <td>NaN</td>\n",
       "      <td>NaN</td>\n",
       "      <td>True</td>\n",
       "    </tr>\n",
       "    <tr>\n",
       "      <th>-0VK5Z1BfUHUYq4PoBYNLw</th>\n",
       "      <td>True</td>\n",
       "      <td>NaN</td>\n",
       "      <td>NaN</td>\n",
       "      <td>full_bar</td>\n",
       "      <td>True</td>\n",
       "      <td>False</td>\n",
       "      <td>False</td>\n",
       "      <td>False</td>\n",
       "      <td>False</td>\n",
       "      <td>False</td>\n",
       "      <td>...</td>\n",
       "      <td>NaN</td>\n",
       "      <td>NaN</td>\n",
       "      <td>NaN</td>\n",
       "      <td>NaN</td>\n",
       "      <td>NaN</td>\n",
       "      <td>NaN</td>\n",
       "      <td>NaN</td>\n",
       "      <td>NaN</td>\n",
       "      <td>NaN</td>\n",
       "      <td>True</td>\n",
       "    </tr>\n",
       "    <tr>\n",
       "      <th>-0bUDim5OGuv8R0Qqq6J4A</th>\n",
       "      <td>True</td>\n",
       "      <td>NaN</td>\n",
       "      <td>NaN</td>\n",
       "      <td>NaN</td>\n",
       "      <td>NaN</td>\n",
       "      <td>NaN</td>\n",
       "      <td>NaN</td>\n",
       "      <td>NaN</td>\n",
       "      <td>NaN</td>\n",
       "      <td>NaN</td>\n",
       "      <td>...</td>\n",
       "      <td>NaN</td>\n",
       "      <td>NaN</td>\n",
       "      <td>NaN</td>\n",
       "      <td>NaN</td>\n",
       "      <td>NaN</td>\n",
       "      <td>NaN</td>\n",
       "      <td>NaN</td>\n",
       "      <td>NaN</td>\n",
       "      <td>NaN</td>\n",
       "      <td>False</td>\n",
       "    </tr>\n",
       "    <tr>\n",
       "      <th>-1bOb2izeJBZjHC7NWxiPA</th>\n",
       "      <td>True</td>\n",
       "      <td>NaN</td>\n",
       "      <td>NaN</td>\n",
       "      <td>none</td>\n",
       "      <td>True</td>\n",
       "      <td>False</td>\n",
       "      <td>False</td>\n",
       "      <td>False</td>\n",
       "      <td>False</td>\n",
       "      <td>False</td>\n",
       "      <td>...</td>\n",
       "      <td>06:30</td>\n",
       "      <td>14:30</td>\n",
       "      <td>06:30</td>\n",
       "      <td>14:30</td>\n",
       "      <td>06:30</td>\n",
       "      <td>14:30</td>\n",
       "      <td>06:30</td>\n",
       "      <td>14:30</td>\n",
       "      <td>06:30</td>\n",
       "      <td>True</td>\n",
       "    </tr>\n",
       "  </tbody>\n",
       "</table>\n",
       "<p>5 rows × 78 columns</p>\n",
       "</div>"
      ],
      "text/plain": [
       "variable               attributes.Accepts Credit Cards  \\\n",
       "business_id                                              \n",
       "--jFTZmywe7StuZ2hEjxyA                            True   \n",
       "-0HGqwlfw3I8nkJyMHxAsQ                            True   \n",
       "-0VK5Z1BfUHUYq4PoBYNLw                            True   \n",
       "-0bUDim5OGuv8R0Qqq6J4A                            True   \n",
       "-1bOb2izeJBZjHC7NWxiPA                            True   \n",
       "\n",
       "variable               attributes.Accepts Insurance attributes.Ages Allowed  \\\n",
       "business_id                                                                   \n",
       "--jFTZmywe7StuZ2hEjxyA                          NaN                     NaN   \n",
       "-0HGqwlfw3I8nkJyMHxAsQ                          NaN                     NaN   \n",
       "-0VK5Z1BfUHUYq4PoBYNLw                          NaN                     NaN   \n",
       "-0bUDim5OGuv8R0Qqq6J4A                          NaN                     NaN   \n",
       "-1bOb2izeJBZjHC7NWxiPA                          NaN                     NaN   \n",
       "\n",
       "variable               attributes.Alcohol attributes.Ambience.casual  \\\n",
       "business_id                                                            \n",
       "--jFTZmywe7StuZ2hEjxyA               none                        NaN   \n",
       "-0HGqwlfw3I8nkJyMHxAsQ               none                        NaN   \n",
       "-0VK5Z1BfUHUYq4PoBYNLw           full_bar                       True   \n",
       "-0bUDim5OGuv8R0Qqq6J4A                NaN                        NaN   \n",
       "-1bOb2izeJBZjHC7NWxiPA               none                       True   \n",
       "\n",
       "variable               attributes.Ambience.classy attributes.Ambience.divey  \\\n",
       "business_id                                                                   \n",
       "--jFTZmywe7StuZ2hEjxyA                        NaN                       NaN   \n",
       "-0HGqwlfw3I8nkJyMHxAsQ                        NaN                       NaN   \n",
       "-0VK5Z1BfUHUYq4PoBYNLw                      False                     False   \n",
       "-0bUDim5OGuv8R0Qqq6J4A                        NaN                       NaN   \n",
       "-1bOb2izeJBZjHC7NWxiPA                      False                     False   \n",
       "\n",
       "variable               attributes.Ambience.hipster  \\\n",
       "business_id                                          \n",
       "--jFTZmywe7StuZ2hEjxyA                         NaN   \n",
       "-0HGqwlfw3I8nkJyMHxAsQ                         NaN   \n",
       "-0VK5Z1BfUHUYq4PoBYNLw                       False   \n",
       "-0bUDim5OGuv8R0Qqq6J4A                         NaN   \n",
       "-1bOb2izeJBZjHC7NWxiPA                       False   \n",
       "\n",
       "variable               attributes.Ambience.intimate  \\\n",
       "business_id                                           \n",
       "--jFTZmywe7StuZ2hEjxyA                          NaN   \n",
       "-0HGqwlfw3I8nkJyMHxAsQ                          NaN   \n",
       "-0VK5Z1BfUHUYq4PoBYNLw                        False   \n",
       "-0bUDim5OGuv8R0Qqq6J4A                          NaN   \n",
       "-1bOb2izeJBZjHC7NWxiPA                        False   \n",
       "\n",
       "variable               attributes.Ambience.romantic  ...    \\\n",
       "business_id                                          ...     \n",
       "--jFTZmywe7StuZ2hEjxyA                          NaN  ...     \n",
       "-0HGqwlfw3I8nkJyMHxAsQ                          NaN  ...     \n",
       "-0VK5Z1BfUHUYq4PoBYNLw                        False  ...     \n",
       "-0bUDim5OGuv8R0Qqq6J4A                          NaN  ...     \n",
       "-1bOb2izeJBZjHC7NWxiPA                        False  ...     \n",
       "\n",
       "variable               hours.Saturday.open hours.Sunday.close  \\\n",
       "business_id                                                     \n",
       "--jFTZmywe7StuZ2hEjxyA                 NaN                NaN   \n",
       "-0HGqwlfw3I8nkJyMHxAsQ                 NaN                NaN   \n",
       "-0VK5Z1BfUHUYq4PoBYNLw                 NaN                NaN   \n",
       "-0bUDim5OGuv8R0Qqq6J4A                 NaN                NaN   \n",
       "-1bOb2izeJBZjHC7NWxiPA               06:30              14:30   \n",
       "\n",
       "variable               hours.Sunday.open hours.Thursday.close  \\\n",
       "business_id                                                     \n",
       "--jFTZmywe7StuZ2hEjxyA               NaN                  NaN   \n",
       "-0HGqwlfw3I8nkJyMHxAsQ               NaN                  NaN   \n",
       "-0VK5Z1BfUHUYq4PoBYNLw               NaN                  NaN   \n",
       "-0bUDim5OGuv8R0Qqq6J4A               NaN                  NaN   \n",
       "-1bOb2izeJBZjHC7NWxiPA             06:30                14:30   \n",
       "\n",
       "variable               hours.Thursday.open hours.Tuesday.close  \\\n",
       "business_id                                                      \n",
       "--jFTZmywe7StuZ2hEjxyA                 NaN                 NaN   \n",
       "-0HGqwlfw3I8nkJyMHxAsQ                 NaN                 NaN   \n",
       "-0VK5Z1BfUHUYq4PoBYNLw                 NaN                 NaN   \n",
       "-0bUDim5OGuv8R0Qqq6J4A                 NaN                 NaN   \n",
       "-1bOb2izeJBZjHC7NWxiPA               06:30               14:30   \n",
       "\n",
       "variable               hours.Tuesday.open hours.Wednesday.close  \\\n",
       "business_id                                                       \n",
       "--jFTZmywe7StuZ2hEjxyA                NaN                   NaN   \n",
       "-0HGqwlfw3I8nkJyMHxAsQ                NaN                   NaN   \n",
       "-0VK5Z1BfUHUYq4PoBYNLw                NaN                   NaN   \n",
       "-0bUDim5OGuv8R0Qqq6J4A                NaN                   NaN   \n",
       "-1bOb2izeJBZjHC7NWxiPA              06:30                 14:30   \n",
       "\n",
       "variable               hours.Wednesday.open   open  \n",
       "business_id                                         \n",
       "--jFTZmywe7StuZ2hEjxyA                  NaN   True  \n",
       "-0HGqwlfw3I8nkJyMHxAsQ                  NaN   True  \n",
       "-0VK5Z1BfUHUYq4PoBYNLw                  NaN   True  \n",
       "-0bUDim5OGuv8R0Qqq6J4A                  NaN  False  \n",
       "-1bOb2izeJBZjHC7NWxiPA                06:30   True  \n",
       "\n",
       "[5 rows x 78 columns]"
      ]
     },
     "execution_count": 172,
     "metadata": {},
     "output_type": "execute_result"
    }
   ],
   "source": [
    "business_wide.head()"
   ]
  },
  {
   "cell_type": "code",
   "execution_count": 173,
   "metadata": {
    "collapsed": false
   },
   "outputs": [],
   "source": [
    "business_wide.reset_index(level=0, inplace=True)"
   ]
  },
  {
   "cell_type": "code",
   "execution_count": 174,
   "metadata": {
    "collapsed": false
   },
   "outputs": [
    {
     "data": {
      "text/plain": [
       "Index([u'business_id', u'attributes.Accepts Credit Cards',\n",
       "       u'attributes.Accepts Insurance', u'attributes.Ages Allowed',\n",
       "       u'attributes.Alcohol', u'attributes.Ambience.casual',\n",
       "       u'attributes.Ambience.classy', u'attributes.Ambience.divey',\n",
       "       u'attributes.Ambience.hipster', u'attributes.Ambience.intimate',\n",
       "       u'attributes.Ambience.romantic', u'attributes.Ambience.touristy',\n",
       "       u'attributes.Ambience.trendy', u'attributes.Ambience.upscale',\n",
       "       u'attributes.Attire', u'attributes.BYOB', u'attributes.BYOB/Corkage',\n",
       "       u'attributes.By Appointment Only', u'attributes.Caters',\n",
       "       u'attributes.Coat Check', u'attributes.Corkage', u'attributes.Delivery',\n",
       "       u'attributes.Dietary Restrictions.dairy-free',\n",
       "       u'attributes.Dietary Restrictions.gluten-free',\n",
       "       u'attributes.Dietary Restrictions.halal',\n",
       "       u'attributes.Dietary Restrictions.kosher',\n",
       "       u'attributes.Dietary Restrictions.soy-free',\n",
       "       u'attributes.Dietary Restrictions.vegan',\n",
       "       u'attributes.Dietary Restrictions.vegetarian',\n",
       "       u'attributes.Dogs Allowed', u'attributes.Drive-Thru',\n",
       "       u'attributes.Good For Dancing', u'attributes.Good For Groups',\n",
       "       u'attributes.Good For.breakfast', u'attributes.Good For.brunch',\n",
       "       u'attributes.Good For.dessert', u'attributes.Good For.dinner',\n",
       "       u'attributes.Good For.latenight', u'attributes.Good For.lunch',\n",
       "       u'attributes.Good for Kids', u'attributes.Happy Hour',\n",
       "       u'attributes.Has TV', u'attributes.Music.background_music',\n",
       "       u'attributes.Music.dj', u'attributes.Music.jukebox',\n",
       "       u'attributes.Music.karaoke', u'attributes.Music.live',\n",
       "       u'attributes.Music.video', u'attributes.Noise Level',\n",
       "       u'attributes.Open 24 Hours', u'attributes.Order at Counter',\n",
       "       u'attributes.Outdoor Seating', u'attributes.Parking.garage',\n",
       "       u'attributes.Parking.lot', u'attributes.Parking.street',\n",
       "       u'attributes.Parking.valet', u'attributes.Parking.validated',\n",
       "       u'attributes.Price Range', u'attributes.Smoking',\n",
       "       u'attributes.Take-out', u'attributes.Takes Reservations',\n",
       "       u'attributes.Waiter Service', u'attributes.Wheelchair Accessible',\n",
       "       u'attributes.Wi-Fi', u'hours.Friday.close', u'hours.Friday.open',\n",
       "       u'hours.Monday.close', u'hours.Monday.open', u'hours.Saturday.close',\n",
       "       u'hours.Saturday.open', u'hours.Sunday.close', u'hours.Sunday.open',\n",
       "       u'hours.Thursday.close', u'hours.Thursday.open', u'hours.Tuesday.close',\n",
       "       u'hours.Tuesday.open', u'hours.Wednesday.close',\n",
       "       u'hours.Wednesday.open', u'open'],\n",
       "      dtype='object', name=u'variable')"
      ]
     },
     "execution_count": 174,
     "metadata": {},
     "output_type": "execute_result"
    }
   ],
   "source": [
    "business_wide.columns"
   ]
  },
  {
   "cell_type": "code",
   "execution_count": 165,
   "metadata": {
    "collapsed": false
   },
   "outputs": [],
   "source": [
    "business_main = business_copy.drop(['name','categories','latitude','longitude','neighborhoods','variable','value'], axis=1)"
   ]
  },
  {
   "cell_type": "code",
   "execution_count": 166,
   "metadata": {
    "collapsed": true
   },
   "outputs": [],
   "source": [
    "business_main = business_main.drop_duplicates()"
   ]
  },
  {
   "cell_type": "code",
   "execution_count": 167,
   "metadata": {
    "collapsed": false
   },
   "outputs": [
    {
     "data": {
      "text/plain": [
       "(4132, 21)"
      ]
     },
     "execution_count": 167,
     "metadata": {},
     "output_type": "execute_result"
    }
   ],
   "source": [
    "business_main.shape"
   ]
  },
  {
   "cell_type": "code",
   "execution_count": 175,
   "metadata": {
    "collapsed": false
   },
   "outputs": [
    {
     "data": {
      "text/plain": [
       "(4132, 99)"
      ]
     },
     "execution_count": 175,
     "metadata": {},
     "output_type": "execute_result"
    }
   ],
   "source": [
    "business_all = pd.merge(business_main, business_wide, on='business_id', how='inner')\n",
    "business_all.shape"
   ]
  },
  {
   "cell_type": "code",
   "execution_count": 179,
   "metadata": {
    "collapsed": false
   },
   "outputs": [
    {
     "data": {
      "text/plain": [
       "business_id                            0\n",
       "review_count                           0\n",
       "city                                   0\n",
       "stars                                  0\n",
       "Airports                               0\n",
       "Breakfast & Brunch                     0\n",
       "Bubble Tea                             0\n",
       "Burgers                                0\n",
       "Bars                                   0\n",
       "Bakeries                               0\n",
       "Breweries                              0\n",
       "Cafes                                  0\n",
       "Candy Stores                           0\n",
       "Comedy Clubs                           0\n",
       "Courthouses                            0\n",
       "Dance Clubs                            0\n",
       "Fast Food                              0\n",
       "Museums                                0\n",
       "Tattoo                                 0\n",
       "Vape Shops                             0\n",
       "Yoga                                   0\n",
       "attributes.Accepts Credit Cards      236\n",
       "attributes.Accepts Insurance        4125\n",
       "attributes.Ages Allowed             4031\n",
       "attributes.Alcohol                  1082\n",
       "attributes.Ambience.casual          1259\n",
       "attributes.Ambience.classy          1259\n",
       "attributes.Ambience.divey           1268\n",
       "attributes.Ambience.hipster         1261\n",
       "attributes.Ambience.intimate        1259\n",
       "                                    ... \n",
       "attributes.Open 24 Hours            4078\n",
       "attributes.Order at Counter         4070\n",
       "attributes.Outdoor Seating           865\n",
       "attributes.Parking.garage            705\n",
       "attributes.Parking.lot               705\n",
       "attributes.Parking.street            705\n",
       "attributes.Parking.valet             705\n",
       "attributes.Parking.validated         705\n",
       "attributes.Price Range               289\n",
       "attributes.Smoking                  2945\n",
       "attributes.Take-out                 1465\n",
       "attributes.Takes Reservations       1479\n",
       "attributes.Waiter Service           1772\n",
       "attributes.Wheelchair Accessible    2206\n",
       "attributes.Wi-Fi                    1956\n",
       "hours.Friday.close                  1614\n",
       "hours.Friday.open                   1614\n",
       "hours.Monday.close                  1807\n",
       "hours.Monday.open                   1807\n",
       "hours.Saturday.close                1668\n",
       "hours.Saturday.open                 1668\n",
       "hours.Sunday.close                  1938\n",
       "hours.Sunday.open                   1938\n",
       "hours.Thursday.close                1643\n",
       "hours.Thursday.open                 1643\n",
       "hours.Tuesday.close                 1699\n",
       "hours.Tuesday.open                  1699\n",
       "hours.Wednesday.close               1668\n",
       "hours.Wednesday.open                1668\n",
       "open                                   0\n",
       "dtype: int64"
      ]
     },
     "execution_count": 179,
     "metadata": {},
     "output_type": "execute_result"
    }
   ],
   "source": [
    "business_all.isnull().sum(axis=0)"
   ]
  },
  {
   "cell_type": "code",
   "execution_count": 180,
   "metadata": {
    "collapsed": false
   },
   "outputs": [
    {
     "data": {
      "text/plain": [
       "array(['True', 'False'], dtype=object)"
      ]
     },
     "execution_count": 180,
     "metadata": {},
     "output_type": "execute_result"
    }
   ],
   "source": [
    "business_all.open.unique()"
   ]
  },
  {
   "cell_type": "code",
   "execution_count": 196,
   "metadata": {
    "collapsed": false
   },
   "outputs": [],
   "source": [
    "#convert Open column values from False-True to 0-1\n",
    "business_all['open'] = business_all['open'].map({'True': 1, 'False': 0})"
   ]
  },
  {
   "cell_type": "code",
   "execution_count": 181,
   "metadata": {
    "collapsed": false
   },
   "outputs": [
    {
     "data": {
      "text/plain": [
       "array(['1.0', '2.0', '3.0', nan, '4.0'], dtype=object)"
      ]
     },
     "execution_count": 181,
     "metadata": {},
     "output_type": "execute_result"
    }
   ],
   "source": [
    "business_all['attributes.Price Range'].unique()"
   ]
  },
  {
   "cell_type": "code",
   "execution_count": 182,
   "metadata": {
    "collapsed": true
   },
   "outputs": [],
   "source": [
    "#replace Price Range missing values with 'unknown' category\n",
    "business_all.loc[business_all['attributes.Price Range'].isnull(), 'attributes.Price Range'] = 'unknown'"
   ]
  },
  {
   "cell_type": "code",
   "execution_count": 183,
   "metadata": {
    "collapsed": false
   },
   "outputs": [
    {
     "data": {
      "text/plain": [
       "1.0        1932\n",
       "2.0        1679\n",
       "unknown     289\n",
       "3.0         194\n",
       "4.0          38\n",
       "Name: attributes.Price Range, dtype: int64"
      ]
     },
     "execution_count": 183,
     "metadata": {},
     "output_type": "execute_result"
    }
   ],
   "source": [
    "business_all['attributes.Price Range'].value_counts()"
   ]
  },
  {
   "cell_type": "code",
   "execution_count": 185,
   "metadata": {
    "collapsed": false
   },
   "outputs": [],
   "source": [
    "#convert price range categories to dummies\n",
    "business_all = pd.get_dummies(business_all, columns=['attributes.Price Range'])"
   ]
  },
  {
   "cell_type": "code",
   "execution_count": 187,
   "metadata": {
    "collapsed": false
   },
   "outputs": [
    {
     "data": {
      "text/plain": [
       "array(['True', 'False', nan], dtype=object)"
      ]
     },
     "execution_count": 187,
     "metadata": {},
     "output_type": "execute_result"
    }
   ],
   "source": [
    "business_all['attributes.Accepts Credit Cards'].unique()"
   ]
  },
  {
   "cell_type": "code",
   "execution_count": 188,
   "metadata": {
    "collapsed": false
   },
   "outputs": [
    {
     "name": "stdout",
     "output_type": "stream",
     "text": [
      "0    True\n",
      "dtype: object\n"
     ]
    }
   ],
   "source": [
    "print business_all['attributes.Accepts Credit Cards'].mode()"
   ]
  },
  {
   "cell_type": "code",
   "execution_count": 193,
   "metadata": {
    "collapsed": false
   },
   "outputs": [],
   "source": [
    "#convert 'accepts credit cards' missing values to mode of column\n",
    "business_all['attributes.Accepts Credit Cards'].fillna(business_all['attributes.Accepts Credit Cards'].mode().ix[0], inplace=True)"
   ]
  },
  {
   "cell_type": "code",
   "execution_count": 194,
   "metadata": {
    "collapsed": false
   },
   "outputs": [
    {
     "data": {
      "text/plain": [
       "array(['True', 'False'], dtype=object)"
      ]
     },
     "execution_count": 194,
     "metadata": {},
     "output_type": "execute_result"
    }
   ],
   "source": [
    "business_all['attributes.Accepts Credit Cards'].unique()"
   ]
  },
  {
   "cell_type": "code",
   "execution_count": 197,
   "metadata": {
    "collapsed": true
   },
   "outputs": [],
   "source": [
    "#convert Accepts Credit Cards column values from False-True to 0-1\n",
    "business_all['attributes.Accepts Credit Cards'] = business_all['attributes.Accepts Credit Cards'].map({'True': 1, 'False': 0})"
   ]
  },
  {
   "cell_type": "code",
   "execution_count": 177,
   "metadata": {
    "collapsed": false
   },
   "outputs": [
    {
     "data": {
      "text/plain": [
       "Las Vegas    2570\n",
       "Phoenix      1412\n",
       "Surprise       77\n",
       "Waterloo       73\n",
       "Name: city, dtype: int64"
      ]
     },
     "execution_count": 177,
     "metadata": {},
     "output_type": "execute_result"
    }
   ],
   "source": [
    "business_all.city.value_counts()"
   ]
  },
  {
   "cell_type": "code",
   "execution_count": 198,
   "metadata": {
    "collapsed": true
   },
   "outputs": [],
   "source": [
    "#convert City values to binary values for Las Vegas or not Las Vegas\n",
    "business_all['city'] = np.where(business_all.city == 'Las Vegas', 1, 0)"
   ]
  },
  {
   "cell_type": "code",
   "execution_count": 199,
   "metadata": {
    "collapsed": false
   },
   "outputs": [
    {
     "data": {
      "text/plain": [
       "1    2570\n",
       "0    1562\n",
       "Name: city, dtype: int64"
      ]
     },
     "execution_count": 199,
     "metadata": {},
     "output_type": "execute_result"
    }
   ],
   "source": [
    "business_all.city.value_counts()"
   ]
  },
  {
   "cell_type": "code",
   "execution_count": 178,
   "metadata": {
    "collapsed": false
   },
   "outputs": [
    {
     "data": {
      "text/html": [
       "<div>\n",
       "<table border=\"1\" class=\"dataframe\">\n",
       "  <thead>\n",
       "    <tr style=\"text-align: right;\">\n",
       "      <th></th>\n",
       "      <th>review_count</th>\n",
       "      <th>stars</th>\n",
       "    </tr>\n",
       "  </thead>\n",
       "  <tbody>\n",
       "    <tr>\n",
       "      <th>count</th>\n",
       "      <td>4132.000000</td>\n",
       "      <td>4132.000000</td>\n",
       "    </tr>\n",
       "    <tr>\n",
       "      <th>mean</th>\n",
       "      <td>85.879961</td>\n",
       "      <td>3.484874</td>\n",
       "    </tr>\n",
       "    <tr>\n",
       "      <th>std</th>\n",
       "      <td>225.812625</td>\n",
       "      <td>0.837326</td>\n",
       "    </tr>\n",
       "    <tr>\n",
       "      <th>min</th>\n",
       "      <td>3.000000</td>\n",
       "      <td>1.000000</td>\n",
       "    </tr>\n",
       "    <tr>\n",
       "      <th>25%</th>\n",
       "      <td>8.000000</td>\n",
       "      <td>3.000000</td>\n",
       "    </tr>\n",
       "    <tr>\n",
       "      <th>50%</th>\n",
       "      <td>21.000000</td>\n",
       "      <td>3.500000</td>\n",
       "    </tr>\n",
       "    <tr>\n",
       "      <th>75%</th>\n",
       "      <td>69.000000</td>\n",
       "      <td>4.000000</td>\n",
       "    </tr>\n",
       "    <tr>\n",
       "      <th>max</th>\n",
       "      <td>5642.000000</td>\n",
       "      <td>5.000000</td>\n",
       "    </tr>\n",
       "  </tbody>\n",
       "</table>\n",
       "</div>"
      ],
      "text/plain": [
       "       review_count        stars\n",
       "count   4132.000000  4132.000000\n",
       "mean      85.879961     3.484874\n",
       "std      225.812625     0.837326\n",
       "min        3.000000     1.000000\n",
       "25%        8.000000     3.000000\n",
       "50%       21.000000     3.500000\n",
       "75%       69.000000     4.000000\n",
       "max     5642.000000     5.000000"
      ]
     },
     "execution_count": 178,
     "metadata": {},
     "output_type": "execute_result"
    }
   ],
   "source": [
    "business_all.describe()"
   ]
  },
  {
   "cell_type": "code",
   "execution_count": 200,
   "metadata": {
    "collapsed": true
   },
   "outputs": [],
   "source": [
    "#define target variable\n",
    "Y = business_all.city"
   ]
  },
  {
   "cell_type": "code",
   "execution_count": 202,
   "metadata": {
    "collapsed": false
   },
   "outputs": [
    {
     "data": {
      "text/plain": [
       "['attributes.Price Range_1.0',\n",
       " 'attributes.Price Range_2.0',\n",
       " 'attributes.Price Range_3.0',\n",
       " 'attributes.Price Range_4.0',\n",
       " 'attributes.Price Range_unknown']"
      ]
     },
     "execution_count": 202,
     "metadata": {},
     "output_type": "execute_result"
    }
   ],
   "source": [
    "#define X matrix\n",
    "price_cols = [col for col in list(business_all) if (col.startswith('attributes.Price'))]\n",
    "price_cols"
   ]
  },
  {
   "cell_type": "code",
   "execution_count": 210,
   "metadata": {
    "collapsed": true
   },
   "outputs": [],
   "source": [
    "for cat in given_cats:\n",
    "    business_all[cat] = business_all[cat].apply(lambda x: 1 if x == True else 0)"
   ]
  },
  {
   "cell_type": "code",
   "execution_count": 211,
   "metadata": {
    "collapsed": false
   },
   "outputs": [
    {
     "data": {
      "text/plain": [
       "['review_count',\n",
       " 'stars',\n",
       " 'attributes.Accepts Credit Cards',\n",
       " 'open',\n",
       " 'attributes.Price Range_1.0',\n",
       " 'attributes.Price Range_2.0',\n",
       " 'attributes.Price Range_3.0',\n",
       " 'attributes.Price Range_4.0',\n",
       " 'attributes.Price Range_unknown',\n",
       " 'Airports',\n",
       " 'Breakfast & Brunch',\n",
       " 'Bubble Tea',\n",
       " 'Burgers',\n",
       " 'Bars',\n",
       " 'Bakeries',\n",
       " 'Breweries',\n",
       " 'Cafes',\n",
       " 'Candy Stores',\n",
       " 'Comedy Clubs',\n",
       " 'Courthouses',\n",
       " 'Dance Clubs',\n",
       " 'Fast Food',\n",
       " 'Museums',\n",
       " 'Tattoo',\n",
       " 'Vape Shops',\n",
       " 'Yoga']"
      ]
     },
     "execution_count": 211,
     "metadata": {},
     "output_type": "execute_result"
    }
   ],
   "source": [
    "pred_columns = ['review_count','stars','attributes.Accepts Credit Cards','open'] + price_cols + given_cats\n",
    "pred_columns"
   ]
  },
  {
   "cell_type": "code",
   "execution_count": 212,
   "metadata": {
    "collapsed": true
   },
   "outputs": [],
   "source": [
    "X = business_all[pred_columns]"
   ]
  },
  {
   "cell_type": "code",
   "execution_count": 214,
   "metadata": {
    "collapsed": false
   },
   "outputs": [
    {
     "name": "stdout",
     "output_type": "stream",
     "text": [
      "[ 0.65054414  0.63966143  0.63075061  0.60290557  0.62469734]\n",
      "0.629711814634\n"
     ]
    }
   ],
   "source": [
    "logreg = LogisticRegression()\n",
    "logreg_scores = cross_val_score(logreg, X, Y, cv=5)\n",
    "print logreg_scores\n",
    "print np.mean(logreg_scores)"
   ]
  },
  {
   "cell_type": "markdown",
   "metadata": {},
   "source": [
    "Predicting whether a business is in Las Vegas or one of the other cities based on business category and the other variables listed above results in the 63.0% accuracy score."
   ]
  },
  {
   "cell_type": "code",
   "execution_count": 15,
   "metadata": {
    "collapsed": false
   },
   "outputs": [
    {
     "data": {
      "text/html": [
       "<div>\n",
       "<table border=\"1\" class=\"dataframe\">\n",
       "  <thead>\n",
       "    <tr style=\"text-align: right;\">\n",
       "      <th></th>\n",
       "      <th>user_id</th>\n",
       "      <th>business_id</th>\n",
       "      <th>likes</th>\n",
       "      <th>date</th>\n",
       "      <th>24 hours</th>\n",
       "      <th>amazing food</th>\n",
       "      <th>animal style</th>\n",
       "      <th>awesome food</th>\n",
       "      <th>awesome place</th>\n",
       "      <th>awesome service</th>\n",
       "      <th>...</th>\n",
       "      <th>service good</th>\n",
       "      <th>service great</th>\n",
       "      <th>slow service</th>\n",
       "      <th>staff friendly</th>\n",
       "      <th>staff great</th>\n",
       "      <th>steak eggs</th>\n",
       "      <th>super friendly</th>\n",
       "      <th>sweet potato</th>\n",
       "      <th>velvet pancakes</th>\n",
       "      <th>worth wait</th>\n",
       "    </tr>\n",
       "  </thead>\n",
       "  <tbody>\n",
       "    <tr>\n",
       "      <th>0</th>\n",
       "      <td>trdsekNRD-gIs50EBrScwA</td>\n",
       "      <td>EmzaQR5hQlF0WIl24NxAZA</td>\n",
       "      <td>0</td>\n",
       "      <td>2012-02-27</td>\n",
       "      <td>0</td>\n",
       "      <td>0</td>\n",
       "      <td>0</td>\n",
       "      <td>0</td>\n",
       "      <td>0</td>\n",
       "      <td>0</td>\n",
       "      <td>...</td>\n",
       "      <td>0</td>\n",
       "      <td>0</td>\n",
       "      <td>0</td>\n",
       "      <td>0</td>\n",
       "      <td>0</td>\n",
       "      <td>0</td>\n",
       "      <td>0</td>\n",
       "      <td>0</td>\n",
       "      <td>0</td>\n",
       "      <td>0</td>\n",
       "    </tr>\n",
       "    <tr>\n",
       "      <th>1</th>\n",
       "      <td>liIQCDzDTnvXc7X8twBIjg</td>\n",
       "      <td>EmzaQR5hQlF0WIl24NxAZA</td>\n",
       "      <td>0</td>\n",
       "      <td>2013-04-01</td>\n",
       "      <td>0</td>\n",
       "      <td>0</td>\n",
       "      <td>0</td>\n",
       "      <td>0</td>\n",
       "      <td>0</td>\n",
       "      <td>0</td>\n",
       "      <td>...</td>\n",
       "      <td>0</td>\n",
       "      <td>0</td>\n",
       "      <td>0</td>\n",
       "      <td>0</td>\n",
       "      <td>0</td>\n",
       "      <td>0</td>\n",
       "      <td>0</td>\n",
       "      <td>0</td>\n",
       "      <td>0</td>\n",
       "      <td>0</td>\n",
       "    </tr>\n",
       "    <tr>\n",
       "      <th>2</th>\n",
       "      <td>iW1ltQqq4GWAErobLiOv9w</td>\n",
       "      <td>EmzaQR5hQlF0WIl24NxAZA</td>\n",
       "      <td>0</td>\n",
       "      <td>2013-08-18</td>\n",
       "      <td>0</td>\n",
       "      <td>0</td>\n",
       "      <td>0</td>\n",
       "      <td>0</td>\n",
       "      <td>0</td>\n",
       "      <td>0</td>\n",
       "      <td>...</td>\n",
       "      <td>0</td>\n",
       "      <td>0</td>\n",
       "      <td>0</td>\n",
       "      <td>0</td>\n",
       "      <td>0</td>\n",
       "      <td>0</td>\n",
       "      <td>0</td>\n",
       "      <td>0</td>\n",
       "      <td>0</td>\n",
       "      <td>0</td>\n",
       "    </tr>\n",
       "    <tr>\n",
       "      <th>3</th>\n",
       "      <td>wiBTgZNmDKHDgeuKSxIMjQ</td>\n",
       "      <td>SiwN7f0N4bs4ZtPc4yPgiA</td>\n",
       "      <td>0</td>\n",
       "      <td>2011-02-11</td>\n",
       "      <td>0</td>\n",
       "      <td>0</td>\n",
       "      <td>0</td>\n",
       "      <td>0</td>\n",
       "      <td>0</td>\n",
       "      <td>0</td>\n",
       "      <td>...</td>\n",
       "      <td>0</td>\n",
       "      <td>0</td>\n",
       "      <td>0</td>\n",
       "      <td>0</td>\n",
       "      <td>0</td>\n",
       "      <td>0</td>\n",
       "      <td>0</td>\n",
       "      <td>0</td>\n",
       "      <td>0</td>\n",
       "      <td>0</td>\n",
       "    </tr>\n",
       "    <tr>\n",
       "      <th>4</th>\n",
       "      <td>wiBTgZNmDKHDgeuKSxIMjQ</td>\n",
       "      <td>SiwN7f0N4bs4ZtPc4yPgiA</td>\n",
       "      <td>0</td>\n",
       "      <td>2011-02-11</td>\n",
       "      <td>0</td>\n",
       "      <td>0</td>\n",
       "      <td>0</td>\n",
       "      <td>0</td>\n",
       "      <td>0</td>\n",
       "      <td>0</td>\n",
       "      <td>...</td>\n",
       "      <td>0</td>\n",
       "      <td>0</td>\n",
       "      <td>0</td>\n",
       "      <td>0</td>\n",
       "      <td>0</td>\n",
       "      <td>0</td>\n",
       "      <td>0</td>\n",
       "      <td>0</td>\n",
       "      <td>0</td>\n",
       "      <td>0</td>\n",
       "    </tr>\n",
       "  </tbody>\n",
       "</table>\n",
       "<p>5 rows × 104 columns</p>\n",
       "</div>"
      ],
      "text/plain": [
       "                  user_id             business_id  likes        date  \\\n",
       "0  trdsekNRD-gIs50EBrScwA  EmzaQR5hQlF0WIl24NxAZA      0  2012-02-27   \n",
       "1  liIQCDzDTnvXc7X8twBIjg  EmzaQR5hQlF0WIl24NxAZA      0  2013-04-01   \n",
       "2  iW1ltQqq4GWAErobLiOv9w  EmzaQR5hQlF0WIl24NxAZA      0  2013-08-18   \n",
       "3  wiBTgZNmDKHDgeuKSxIMjQ  SiwN7f0N4bs4ZtPc4yPgiA      0  2011-02-11   \n",
       "4  wiBTgZNmDKHDgeuKSxIMjQ  SiwN7f0N4bs4ZtPc4yPgiA      0  2011-02-11   \n",
       "\n",
       "   24 hours  amazing food  animal style  awesome food  awesome place  \\\n",
       "0         0             0             0             0              0   \n",
       "1         0             0             0             0              0   \n",
       "2         0             0             0             0              0   \n",
       "3         0             0             0             0              0   \n",
       "4         0             0             0             0              0   \n",
       "\n",
       "   awesome service     ...      service good  service great  slow service  \\\n",
       "0                0     ...                 0              0             0   \n",
       "1                0     ...                 0              0             0   \n",
       "2                0     ...                 0              0             0   \n",
       "3                0     ...                 0              0             0   \n",
       "4                0     ...                 0              0             0   \n",
       "\n",
       "   staff friendly  staff great  steak eggs  super friendly  sweet potato  \\\n",
       "0               0            0           0               0             0   \n",
       "1               0            0           0               0             0   \n",
       "2               0            0           0               0             0   \n",
       "3               0            0           0               0             0   \n",
       "4               0            0           0               0             0   \n",
       "\n",
       "   velvet pancakes  worth wait  \n",
       "0                0           0  \n",
       "1                0           0  \n",
       "2                0           0  \n",
       "3                0           0  \n",
       "4                0           0  \n",
       "\n",
       "[5 rows x 104 columns]"
      ]
     },
     "execution_count": 15,
     "metadata": {},
     "output_type": "execute_result"
    }
   ],
   "source": [
    "tips.head()"
   ]
  },
  {
   "cell_type": "code",
   "execution_count": 16,
   "metadata": {
    "collapsed": false
   },
   "outputs": [
    {
     "name": "stdout",
     "output_type": "stream",
     "text": [
      "(101991, 104) Index([u'user_id', u'business_id', u'likes', u'date', u'24 hours',\n",
      "       u'amazing food', u'animal style', u'awesome food', u'awesome place',\n",
      "       u'awesome service',\n",
      "       ...\n",
      "       u'service good', u'service great', u'slow service', u'staff friendly',\n",
      "       u'staff great', u'steak eggs', u'super friendly', u'sweet potato',\n",
      "       u'velvet pancakes', u'worth wait'],\n",
      "      dtype='object', length=104)\n"
     ]
    },
    {
     "data": {
      "text/html": [
       "<div>\n",
       "<table border=\"1\" class=\"dataframe\">\n",
       "  <thead>\n",
       "    <tr style=\"text-align: right;\">\n",
       "      <th></th>\n",
       "      <th>likes</th>\n",
       "      <th>24 hours</th>\n",
       "      <th>amazing food</th>\n",
       "      <th>animal style</th>\n",
       "      <th>awesome food</th>\n",
       "      <th>awesome place</th>\n",
       "      <th>awesome service</th>\n",
       "      <th>beef hash</th>\n",
       "      <th>beer selection</th>\n",
       "      <th>best breakfast</th>\n",
       "      <th>...</th>\n",
       "      <th>service good</th>\n",
       "      <th>service great</th>\n",
       "      <th>slow service</th>\n",
       "      <th>staff friendly</th>\n",
       "      <th>staff great</th>\n",
       "      <th>steak eggs</th>\n",
       "      <th>super friendly</th>\n",
       "      <th>sweet potato</th>\n",
       "      <th>velvet pancakes</th>\n",
       "      <th>worth wait</th>\n",
       "    </tr>\n",
       "  </thead>\n",
       "  <tbody>\n",
       "    <tr>\n",
       "      <th>count</th>\n",
       "      <td>101991.000000</td>\n",
       "      <td>101991.000000</td>\n",
       "      <td>101991.000000</td>\n",
       "      <td>101991.000000</td>\n",
       "      <td>101991.000000</td>\n",
       "      <td>101991.000000</td>\n",
       "      <td>101991.000000</td>\n",
       "      <td>101991.000000</td>\n",
       "      <td>101991.000000</td>\n",
       "      <td>101991.000000</td>\n",
       "      <td>...</td>\n",
       "      <td>101991.000000</td>\n",
       "      <td>101991.000000</td>\n",
       "      <td>101991.000000</td>\n",
       "      <td>101991.000000</td>\n",
       "      <td>101991.000000</td>\n",
       "      <td>101991.000000</td>\n",
       "      <td>101991.000000</td>\n",
       "      <td>101991.000000</td>\n",
       "      <td>101991.000000</td>\n",
       "      <td>101991.000000</td>\n",
       "    </tr>\n",
       "    <tr>\n",
       "      <th>mean</th>\n",
       "      <td>0.015403</td>\n",
       "      <td>0.001481</td>\n",
       "      <td>0.002432</td>\n",
       "      <td>0.002128</td>\n",
       "      <td>0.002226</td>\n",
       "      <td>0.001304</td>\n",
       "      <td>0.001245</td>\n",
       "      <td>0.001245</td>\n",
       "      <td>0.002216</td>\n",
       "      <td>0.002275</td>\n",
       "      <td>...</td>\n",
       "      <td>0.002373</td>\n",
       "      <td>0.004167</td>\n",
       "      <td>0.001883</td>\n",
       "      <td>0.001549</td>\n",
       "      <td>0.001441</td>\n",
       "      <td>0.001500</td>\n",
       "      <td>0.001471</td>\n",
       "      <td>0.002549</td>\n",
       "      <td>0.002039</td>\n",
       "      <td>0.001784</td>\n",
       "    </tr>\n",
       "    <tr>\n",
       "      <th>std</th>\n",
       "      <td>0.137377</td>\n",
       "      <td>0.038449</td>\n",
       "      <td>0.049251</td>\n",
       "      <td>0.047544</td>\n",
       "      <td>0.047332</td>\n",
       "      <td>0.036088</td>\n",
       "      <td>0.035266</td>\n",
       "      <td>0.035543</td>\n",
       "      <td>0.047229</td>\n",
       "      <td>0.047640</td>\n",
       "      <td>...</td>\n",
       "      <td>0.048854</td>\n",
       "      <td>0.064570</td>\n",
       "      <td>0.043347</td>\n",
       "      <td>0.039329</td>\n",
       "      <td>0.037937</td>\n",
       "      <td>0.039206</td>\n",
       "      <td>0.038322</td>\n",
       "      <td>0.050620</td>\n",
       "      <td>0.045114</td>\n",
       "      <td>0.042206</td>\n",
       "    </tr>\n",
       "    <tr>\n",
       "      <th>min</th>\n",
       "      <td>0.000000</td>\n",
       "      <td>0.000000</td>\n",
       "      <td>0.000000</td>\n",
       "      <td>0.000000</td>\n",
       "      <td>0.000000</td>\n",
       "      <td>0.000000</td>\n",
       "      <td>0.000000</td>\n",
       "      <td>0.000000</td>\n",
       "      <td>0.000000</td>\n",
       "      <td>0.000000</td>\n",
       "      <td>...</td>\n",
       "      <td>0.000000</td>\n",
       "      <td>0.000000</td>\n",
       "      <td>0.000000</td>\n",
       "      <td>0.000000</td>\n",
       "      <td>0.000000</td>\n",
       "      <td>0.000000</td>\n",
       "      <td>0.000000</td>\n",
       "      <td>0.000000</td>\n",
       "      <td>0.000000</td>\n",
       "      <td>0.000000</td>\n",
       "    </tr>\n",
       "    <tr>\n",
       "      <th>25%</th>\n",
       "      <td>0.000000</td>\n",
       "      <td>0.000000</td>\n",
       "      <td>0.000000</td>\n",
       "      <td>0.000000</td>\n",
       "      <td>0.000000</td>\n",
       "      <td>0.000000</td>\n",
       "      <td>0.000000</td>\n",
       "      <td>0.000000</td>\n",
       "      <td>0.000000</td>\n",
       "      <td>0.000000</td>\n",
       "      <td>...</td>\n",
       "      <td>0.000000</td>\n",
       "      <td>0.000000</td>\n",
       "      <td>0.000000</td>\n",
       "      <td>0.000000</td>\n",
       "      <td>0.000000</td>\n",
       "      <td>0.000000</td>\n",
       "      <td>0.000000</td>\n",
       "      <td>0.000000</td>\n",
       "      <td>0.000000</td>\n",
       "      <td>0.000000</td>\n",
       "    </tr>\n",
       "    <tr>\n",
       "      <th>50%</th>\n",
       "      <td>0.000000</td>\n",
       "      <td>0.000000</td>\n",
       "      <td>0.000000</td>\n",
       "      <td>0.000000</td>\n",
       "      <td>0.000000</td>\n",
       "      <td>0.000000</td>\n",
       "      <td>0.000000</td>\n",
       "      <td>0.000000</td>\n",
       "      <td>0.000000</td>\n",
       "      <td>0.000000</td>\n",
       "      <td>...</td>\n",
       "      <td>0.000000</td>\n",
       "      <td>0.000000</td>\n",
       "      <td>0.000000</td>\n",
       "      <td>0.000000</td>\n",
       "      <td>0.000000</td>\n",
       "      <td>0.000000</td>\n",
       "      <td>0.000000</td>\n",
       "      <td>0.000000</td>\n",
       "      <td>0.000000</td>\n",
       "      <td>0.000000</td>\n",
       "    </tr>\n",
       "    <tr>\n",
       "      <th>75%</th>\n",
       "      <td>0.000000</td>\n",
       "      <td>0.000000</td>\n",
       "      <td>0.000000</td>\n",
       "      <td>0.000000</td>\n",
       "      <td>0.000000</td>\n",
       "      <td>0.000000</td>\n",
       "      <td>0.000000</td>\n",
       "      <td>0.000000</td>\n",
       "      <td>0.000000</td>\n",
       "      <td>0.000000</td>\n",
       "      <td>...</td>\n",
       "      <td>0.000000</td>\n",
       "      <td>0.000000</td>\n",
       "      <td>0.000000</td>\n",
       "      <td>0.000000</td>\n",
       "      <td>0.000000</td>\n",
       "      <td>0.000000</td>\n",
       "      <td>0.000000</td>\n",
       "      <td>0.000000</td>\n",
       "      <td>0.000000</td>\n",
       "      <td>0.000000</td>\n",
       "    </tr>\n",
       "    <tr>\n",
       "      <th>max</th>\n",
       "      <td>9.000000</td>\n",
       "      <td>1.000000</td>\n",
       "      <td>1.000000</td>\n",
       "      <td>2.000000</td>\n",
       "      <td>2.000000</td>\n",
       "      <td>1.000000</td>\n",
       "      <td>1.000000</td>\n",
       "      <td>2.000000</td>\n",
       "      <td>2.000000</td>\n",
       "      <td>1.000000</td>\n",
       "      <td>...</td>\n",
       "      <td>2.000000</td>\n",
       "      <td>2.000000</td>\n",
       "      <td>1.000000</td>\n",
       "      <td>1.000000</td>\n",
       "      <td>1.000000</td>\n",
       "      <td>2.000000</td>\n",
       "      <td>1.000000</td>\n",
       "      <td>2.000000</td>\n",
       "      <td>1.000000</td>\n",
       "      <td>1.000000</td>\n",
       "    </tr>\n",
       "  </tbody>\n",
       "</table>\n",
       "<p>8 rows × 101 columns</p>\n",
       "</div>"
      ],
      "text/plain": [
       "               likes       24 hours   amazing food   animal style  \\\n",
       "count  101991.000000  101991.000000  101991.000000  101991.000000   \n",
       "mean        0.015403       0.001481       0.002432       0.002128   \n",
       "std         0.137377       0.038449       0.049251       0.047544   \n",
       "min         0.000000       0.000000       0.000000       0.000000   \n",
       "25%         0.000000       0.000000       0.000000       0.000000   \n",
       "50%         0.000000       0.000000       0.000000       0.000000   \n",
       "75%         0.000000       0.000000       0.000000       0.000000   \n",
       "max         9.000000       1.000000       1.000000       2.000000   \n",
       "\n",
       "        awesome food  awesome place  awesome service      beef hash  \\\n",
       "count  101991.000000  101991.000000    101991.000000  101991.000000   \n",
       "mean        0.002226       0.001304         0.001245       0.001245   \n",
       "std         0.047332       0.036088         0.035266       0.035543   \n",
       "min         0.000000       0.000000         0.000000       0.000000   \n",
       "25%         0.000000       0.000000         0.000000       0.000000   \n",
       "50%         0.000000       0.000000         0.000000       0.000000   \n",
       "75%         0.000000       0.000000         0.000000       0.000000   \n",
       "max         2.000000       1.000000         1.000000       2.000000   \n",
       "\n",
       "       beer selection  best breakfast      ...         service good  \\\n",
       "count   101991.000000   101991.000000      ...        101991.000000   \n",
       "mean         0.002216        0.002275      ...             0.002373   \n",
       "std          0.047229        0.047640      ...             0.048854   \n",
       "min          0.000000        0.000000      ...             0.000000   \n",
       "25%          0.000000        0.000000      ...             0.000000   \n",
       "50%          0.000000        0.000000      ...             0.000000   \n",
       "75%          0.000000        0.000000      ...             0.000000   \n",
       "max          2.000000        1.000000      ...             2.000000   \n",
       "\n",
       "       service great   slow service  staff friendly    staff great  \\\n",
       "count  101991.000000  101991.000000   101991.000000  101991.000000   \n",
       "mean        0.004167       0.001883        0.001549       0.001441   \n",
       "std         0.064570       0.043347        0.039329       0.037937   \n",
       "min         0.000000       0.000000        0.000000       0.000000   \n",
       "25%         0.000000       0.000000        0.000000       0.000000   \n",
       "50%         0.000000       0.000000        0.000000       0.000000   \n",
       "75%         0.000000       0.000000        0.000000       0.000000   \n",
       "max         2.000000       1.000000        1.000000       1.000000   \n",
       "\n",
       "          steak eggs  super friendly   sweet potato  velvet pancakes  \\\n",
       "count  101991.000000   101991.000000  101991.000000    101991.000000   \n",
       "mean        0.001500        0.001471       0.002549         0.002039   \n",
       "std         0.039206        0.038322       0.050620         0.045114   \n",
       "min         0.000000        0.000000       0.000000         0.000000   \n",
       "25%         0.000000        0.000000       0.000000         0.000000   \n",
       "50%         0.000000        0.000000       0.000000         0.000000   \n",
       "75%         0.000000        0.000000       0.000000         0.000000   \n",
       "max         2.000000        1.000000       2.000000         1.000000   \n",
       "\n",
       "          worth wait  \n",
       "count  101991.000000  \n",
       "mean        0.001784  \n",
       "std         0.042206  \n",
       "min         0.000000  \n",
       "25%         0.000000  \n",
       "50%         0.000000  \n",
       "75%         0.000000  \n",
       "max         1.000000  \n",
       "\n",
       "[8 rows x 101 columns]"
      ]
     },
     "execution_count": 16,
     "metadata": {},
     "output_type": "execute_result"
    }
   ],
   "source": [
    "print tips.shape, tips.columns\n",
    "tips.describe()"
   ]
  },
  {
   "cell_type": "code",
   "execution_count": 17,
   "metadata": {
    "collapsed": false
   },
   "outputs": [
    {
     "name": "stdout",
     "output_type": "stream",
     "text": [
      "Index([u'user_id', u'review_id', u'votes.cool', u'business_id', u'votes.funny',\n",
      "       u'stars', u'date', u'votes.useful', u'10 minutes', u'15 minutes',\n",
      "       ...\n",
      "       u'service great', u'staff friendly', u'super friendly', u'sweet potato',\n",
      "       u'tasted like', u'time vegas', u'try place', u've seen', u've tried',\n",
      "       u'wait staff'],\n",
      "      dtype='object', length=108) (322398, 108)\n"
     ]
    },
    {
     "data": {
      "text/html": [
       "<div>\n",
       "<table border=\"1\" class=\"dataframe\">\n",
       "  <thead>\n",
       "    <tr style=\"text-align: right;\">\n",
       "      <th></th>\n",
       "      <th>user_id</th>\n",
       "      <th>review_id</th>\n",
       "      <th>votes.cool</th>\n",
       "      <th>business_id</th>\n",
       "      <th>votes.funny</th>\n",
       "      <th>stars</th>\n",
       "      <th>date</th>\n",
       "      <th>votes.useful</th>\n",
       "      <th>10 minutes</th>\n",
       "      <th>15 minutes</th>\n",
       "      <th>...</th>\n",
       "      <th>service great</th>\n",
       "      <th>staff friendly</th>\n",
       "      <th>super friendly</th>\n",
       "      <th>sweet potato</th>\n",
       "      <th>tasted like</th>\n",
       "      <th>time vegas</th>\n",
       "      <th>try place</th>\n",
       "      <th>ve seen</th>\n",
       "      <th>ve tried</th>\n",
       "      <th>wait staff</th>\n",
       "    </tr>\n",
       "  </thead>\n",
       "  <tbody>\n",
       "    <tr>\n",
       "      <th>0</th>\n",
       "      <td>o_LCYay4uo5N4eq3U5pbrQ</td>\n",
       "      <td>biEOCicjWlibF26pNLvhcw</td>\n",
       "      <td>0</td>\n",
       "      <td>EmzaQR5hQlF0WIl24NxAZA</td>\n",
       "      <td>0</td>\n",
       "      <td>3</td>\n",
       "      <td>2007-09-14</td>\n",
       "      <td>1</td>\n",
       "      <td>0</td>\n",
       "      <td>0</td>\n",
       "      <td>...</td>\n",
       "      <td>0</td>\n",
       "      <td>0</td>\n",
       "      <td>0</td>\n",
       "      <td>0</td>\n",
       "      <td>0</td>\n",
       "      <td>0</td>\n",
       "      <td>0</td>\n",
       "      <td>0</td>\n",
       "      <td>0</td>\n",
       "      <td>0</td>\n",
       "    </tr>\n",
       "    <tr>\n",
       "      <th>1</th>\n",
       "      <td>sEWeeq41k4ohBz4jS_iGRw</td>\n",
       "      <td>tOhOHUAS7XJch7a_HW5Csw</td>\n",
       "      <td>3</td>\n",
       "      <td>EmzaQR5hQlF0WIl24NxAZA</td>\n",
       "      <td>12</td>\n",
       "      <td>2</td>\n",
       "      <td>2008-04-21</td>\n",
       "      <td>3</td>\n",
       "      <td>0</td>\n",
       "      <td>0</td>\n",
       "      <td>...</td>\n",
       "      <td>0</td>\n",
       "      <td>0</td>\n",
       "      <td>0</td>\n",
       "      <td>0</td>\n",
       "      <td>0</td>\n",
       "      <td>0</td>\n",
       "      <td>0</td>\n",
       "      <td>0</td>\n",
       "      <td>0</td>\n",
       "      <td>0</td>\n",
       "    </tr>\n",
       "    <tr>\n",
       "      <th>2</th>\n",
       "      <td>1AqEqmmVHgYCuzcMrF4h2g</td>\n",
       "      <td>2aGafu-x7onydGoDgDfeQQ</td>\n",
       "      <td>0</td>\n",
       "      <td>EmzaQR5hQlF0WIl24NxAZA</td>\n",
       "      <td>2</td>\n",
       "      <td>2</td>\n",
       "      <td>2009-11-16</td>\n",
       "      <td>0</td>\n",
       "      <td>0</td>\n",
       "      <td>0</td>\n",
       "      <td>...</td>\n",
       "      <td>0</td>\n",
       "      <td>0</td>\n",
       "      <td>0</td>\n",
       "      <td>0</td>\n",
       "      <td>0</td>\n",
       "      <td>0</td>\n",
       "      <td>0</td>\n",
       "      <td>0</td>\n",
       "      <td>0</td>\n",
       "      <td>0</td>\n",
       "    </tr>\n",
       "    <tr>\n",
       "      <th>3</th>\n",
       "      <td>pv82zTlB5Txsu2Pusu__FA</td>\n",
       "      <td>CY4SWiYcUZTWS_T_cGaGPA</td>\n",
       "      <td>4</td>\n",
       "      <td>EmzaQR5hQlF0WIl24NxAZA</td>\n",
       "      <td>9</td>\n",
       "      <td>2</td>\n",
       "      <td>2010-08-16</td>\n",
       "      <td>6</td>\n",
       "      <td>0</td>\n",
       "      <td>0</td>\n",
       "      <td>...</td>\n",
       "      <td>0</td>\n",
       "      <td>0</td>\n",
       "      <td>0</td>\n",
       "      <td>0</td>\n",
       "      <td>0</td>\n",
       "      <td>0</td>\n",
       "      <td>0</td>\n",
       "      <td>0</td>\n",
       "      <td>0</td>\n",
       "      <td>0</td>\n",
       "    </tr>\n",
       "    <tr>\n",
       "      <th>4</th>\n",
       "      <td>jlr3OBS1_Y3Lqa-H3-FR1g</td>\n",
       "      <td>VCKytaG-_YkxmQosH4E0jw</td>\n",
       "      <td>0</td>\n",
       "      <td>EmzaQR5hQlF0WIl24NxAZA</td>\n",
       "      <td>1</td>\n",
       "      <td>4</td>\n",
       "      <td>2010-12-04</td>\n",
       "      <td>0</td>\n",
       "      <td>0</td>\n",
       "      <td>0</td>\n",
       "      <td>...</td>\n",
       "      <td>0</td>\n",
       "      <td>0</td>\n",
       "      <td>0</td>\n",
       "      <td>0</td>\n",
       "      <td>0</td>\n",
       "      <td>0</td>\n",
       "      <td>0</td>\n",
       "      <td>0</td>\n",
       "      <td>0</td>\n",
       "      <td>0</td>\n",
       "    </tr>\n",
       "  </tbody>\n",
       "</table>\n",
       "<p>5 rows × 108 columns</p>\n",
       "</div>"
      ],
      "text/plain": [
       "                  user_id               review_id  votes.cool  \\\n",
       "0  o_LCYay4uo5N4eq3U5pbrQ  biEOCicjWlibF26pNLvhcw           0   \n",
       "1  sEWeeq41k4ohBz4jS_iGRw  tOhOHUAS7XJch7a_HW5Csw           3   \n",
       "2  1AqEqmmVHgYCuzcMrF4h2g  2aGafu-x7onydGoDgDfeQQ           0   \n",
       "3  pv82zTlB5Txsu2Pusu__FA  CY4SWiYcUZTWS_T_cGaGPA           4   \n",
       "4  jlr3OBS1_Y3Lqa-H3-FR1g  VCKytaG-_YkxmQosH4E0jw           0   \n",
       "\n",
       "              business_id  votes.funny  stars        date  votes.useful  \\\n",
       "0  EmzaQR5hQlF0WIl24NxAZA            0      3  2007-09-14             1   \n",
       "1  EmzaQR5hQlF0WIl24NxAZA           12      2  2008-04-21             3   \n",
       "2  EmzaQR5hQlF0WIl24NxAZA            2      2  2009-11-16             0   \n",
       "3  EmzaQR5hQlF0WIl24NxAZA            9      2  2010-08-16             6   \n",
       "4  EmzaQR5hQlF0WIl24NxAZA            1      4  2010-12-04             0   \n",
       "\n",
       "   10 minutes  15 minutes     ...      service great  staff friendly  \\\n",
       "0           0           0     ...                  0               0   \n",
       "1           0           0     ...                  0               0   \n",
       "2           0           0     ...                  0               0   \n",
       "3           0           0     ...                  0               0   \n",
       "4           0           0     ...                  0               0   \n",
       "\n",
       "   super friendly  sweet potato  tasted like  time vegas  try place  ve seen  \\\n",
       "0               0             0            0           0          0        0   \n",
       "1               0             0            0           0          0        0   \n",
       "2               0             0            0           0          0        0   \n",
       "3               0             0            0           0          0        0   \n",
       "4               0             0            0           0          0        0   \n",
       "\n",
       "   ve tried  wait staff  \n",
       "0         0           0  \n",
       "1         0           0  \n",
       "2         0           0  \n",
       "3         0           0  \n",
       "4         0           0  \n",
       "\n",
       "[5 rows x 108 columns]"
      ]
     },
     "execution_count": 17,
     "metadata": {},
     "output_type": "execute_result"
    }
   ],
   "source": [
    "print reviews.columns, reviews.shape\n",
    "reviews.head()"
   ]
  },
  {
   "cell_type": "code",
   "execution_count": 18,
   "metadata": {
    "collapsed": false
   },
   "outputs": [
    {
     "name": "stdout",
     "output_type": "stream",
     "text": [
      "(144206, 21) Index([u'yelping_since', u'compliments.plain', u'review_count',\n",
      "       u'compliments.cute', u'compliments.writer', u'fans',\n",
      "       u'compliments.note', u'compliments.hot', u'compliments.cool',\n",
      "       u'compliments.profile', u'average_stars', u'compliments.more', u'elite',\n",
      "       u'name', u'user_id', u'votes.cool', u'compliments.list', u'votes.funny',\n",
      "       u'compliments.photos', u'compliments.funny', u'votes.useful'],\n",
      "      dtype='object')\n"
     ]
    },
    {
     "data": {
      "text/html": [
       "<div>\n",
       "<table border=\"1\" class=\"dataframe\">\n",
       "  <thead>\n",
       "    <tr style=\"text-align: right;\">\n",
       "      <th></th>\n",
       "      <th>yelping_since</th>\n",
       "      <th>compliments.plain</th>\n",
       "      <th>review_count</th>\n",
       "      <th>compliments.cute</th>\n",
       "      <th>compliments.writer</th>\n",
       "      <th>fans</th>\n",
       "      <th>compliments.note</th>\n",
       "      <th>compliments.hot</th>\n",
       "      <th>compliments.cool</th>\n",
       "      <th>compliments.profile</th>\n",
       "      <th>...</th>\n",
       "      <th>compliments.more</th>\n",
       "      <th>elite</th>\n",
       "      <th>name</th>\n",
       "      <th>user_id</th>\n",
       "      <th>votes.cool</th>\n",
       "      <th>compliments.list</th>\n",
       "      <th>votes.funny</th>\n",
       "      <th>compliments.photos</th>\n",
       "      <th>compliments.funny</th>\n",
       "      <th>votes.useful</th>\n",
       "    </tr>\n",
       "  </thead>\n",
       "  <tbody>\n",
       "    <tr>\n",
       "      <th>0</th>\n",
       "      <td>2004-10</td>\n",
       "      <td>959.0</td>\n",
       "      <td>1274</td>\n",
       "      <td>206.0</td>\n",
       "      <td>327.0</td>\n",
       "      <td>1179</td>\n",
       "      <td>611.0</td>\n",
       "      <td>1094.0</td>\n",
       "      <td>1642.0</td>\n",
       "      <td>116.0</td>\n",
       "      <td>...</td>\n",
       "      <td>134.0</td>\n",
       "      <td>[2005, 2006, 2007, 2008, 2009, 2010, 2011, 201...</td>\n",
       "      <td>Jeremy</td>\n",
       "      <td>rpOyqD_893cqmDAtJLbdog</td>\n",
       "      <td>11093</td>\n",
       "      <td>38.0</td>\n",
       "      <td>7681</td>\n",
       "      <td>330.0</td>\n",
       "      <td>580.0</td>\n",
       "      <td>14199</td>\n",
       "    </tr>\n",
       "    <tr>\n",
       "      <th>1</th>\n",
       "      <td>2004-10</td>\n",
       "      <td>89.0</td>\n",
       "      <td>442</td>\n",
       "      <td>23.0</td>\n",
       "      <td>24.0</td>\n",
       "      <td>100</td>\n",
       "      <td>83.0</td>\n",
       "      <td>101.0</td>\n",
       "      <td>145.0</td>\n",
       "      <td>9.0</td>\n",
       "      <td>...</td>\n",
       "      <td>19.0</td>\n",
       "      <td>[2005, 2006, 2007, 2008, 2009, 2010, 2011, 201...</td>\n",
       "      <td>Michael</td>\n",
       "      <td>4U9kSBLuBDU391x6bxU-YA</td>\n",
       "      <td>732</td>\n",
       "      <td>4.0</td>\n",
       "      <td>908</td>\n",
       "      <td>24.0</td>\n",
       "      <td>120.0</td>\n",
       "      <td>1483</td>\n",
       "    </tr>\n",
       "    <tr>\n",
       "      <th>2</th>\n",
       "      <td>2004-10</td>\n",
       "      <td>2.0</td>\n",
       "      <td>66</td>\n",
       "      <td>2.0</td>\n",
       "      <td>2.0</td>\n",
       "      <td>4</td>\n",
       "      <td>1.0</td>\n",
       "      <td>1.0</td>\n",
       "      <td>1.0</td>\n",
       "      <td>NaN</td>\n",
       "      <td>...</td>\n",
       "      <td>1.0</td>\n",
       "      <td>[2005]</td>\n",
       "      <td>Katherine</td>\n",
       "      <td>SIBCL7HBkrP4llolm4SC2A</td>\n",
       "      <td>13</td>\n",
       "      <td>NaN</td>\n",
       "      <td>11</td>\n",
       "      <td>NaN</td>\n",
       "      <td>NaN</td>\n",
       "      <td>34</td>\n",
       "    </tr>\n",
       "    <tr>\n",
       "      <th>3</th>\n",
       "      <td>2004-10</td>\n",
       "      <td>5.0</td>\n",
       "      <td>101</td>\n",
       "      <td>1.0</td>\n",
       "      <td>3.0</td>\n",
       "      <td>7</td>\n",
       "      <td>3.0</td>\n",
       "      <td>5.0</td>\n",
       "      <td>4.0</td>\n",
       "      <td>1.0</td>\n",
       "      <td>...</td>\n",
       "      <td>2.0</td>\n",
       "      <td>[]</td>\n",
       "      <td>Nader</td>\n",
       "      <td>UTS9XcT14H2ZscRIf0MYHQ</td>\n",
       "      <td>49</td>\n",
       "      <td>NaN</td>\n",
       "      <td>53</td>\n",
       "      <td>1.0</td>\n",
       "      <td>8.0</td>\n",
       "      <td>243</td>\n",
       "    </tr>\n",
       "    <tr>\n",
       "      <th>4</th>\n",
       "      <td>2004-10</td>\n",
       "      <td>104.0</td>\n",
       "      <td>983</td>\n",
       "      <td>82.0</td>\n",
       "      <td>17.0</td>\n",
       "      <td>78</td>\n",
       "      <td>85.0</td>\n",
       "      <td>265.0</td>\n",
       "      <td>212.0</td>\n",
       "      <td>9.0</td>\n",
       "      <td>...</td>\n",
       "      <td>16.0</td>\n",
       "      <td>[2005, 2006, 2007, 2008, 2010, 2011, 2012]</td>\n",
       "      <td>Helen</td>\n",
       "      <td>ZWOj6LmzwGvMDh-A85EOtA</td>\n",
       "      <td>1928</td>\n",
       "      <td>3.0</td>\n",
       "      <td>1109</td>\n",
       "      <td>57.0</td>\n",
       "      <td>70.0</td>\n",
       "      <td>2404</td>\n",
       "    </tr>\n",
       "  </tbody>\n",
       "</table>\n",
       "<p>5 rows × 21 columns</p>\n",
       "</div>"
      ],
      "text/plain": [
       "  yelping_since  compliments.plain  review_count  compliments.cute  \\\n",
       "0       2004-10              959.0          1274             206.0   \n",
       "1       2004-10               89.0           442              23.0   \n",
       "2       2004-10                2.0            66               2.0   \n",
       "3       2004-10                5.0           101               1.0   \n",
       "4       2004-10              104.0           983              82.0   \n",
       "\n",
       "   compliments.writer  fans  compliments.note  compliments.hot  \\\n",
       "0               327.0  1179             611.0           1094.0   \n",
       "1                24.0   100              83.0            101.0   \n",
       "2                 2.0     4               1.0              1.0   \n",
       "3                 3.0     7               3.0              5.0   \n",
       "4                17.0    78              85.0            265.0   \n",
       "\n",
       "   compliments.cool  compliments.profile      ...       compliments.more  \\\n",
       "0            1642.0                116.0      ...                  134.0   \n",
       "1             145.0                  9.0      ...                   19.0   \n",
       "2               1.0                  NaN      ...                    1.0   \n",
       "3               4.0                  1.0      ...                    2.0   \n",
       "4             212.0                  9.0      ...                   16.0   \n",
       "\n",
       "                                               elite       name  \\\n",
       "0  [2005, 2006, 2007, 2008, 2009, 2010, 2011, 201...     Jeremy   \n",
       "1  [2005, 2006, 2007, 2008, 2009, 2010, 2011, 201...    Michael   \n",
       "2                                             [2005]  Katherine   \n",
       "3                                                 []      Nader   \n",
       "4         [2005, 2006, 2007, 2008, 2010, 2011, 2012]      Helen   \n",
       "\n",
       "                  user_id votes.cool  compliments.list  votes.funny  \\\n",
       "0  rpOyqD_893cqmDAtJLbdog      11093              38.0         7681   \n",
       "1  4U9kSBLuBDU391x6bxU-YA        732               4.0          908   \n",
       "2  SIBCL7HBkrP4llolm4SC2A         13               NaN           11   \n",
       "3  UTS9XcT14H2ZscRIf0MYHQ         49               NaN           53   \n",
       "4  ZWOj6LmzwGvMDh-A85EOtA       1928               3.0         1109   \n",
       "\n",
       "   compliments.photos  compliments.funny  votes.useful  \n",
       "0               330.0              580.0         14199  \n",
       "1                24.0              120.0          1483  \n",
       "2                 NaN                NaN            34  \n",
       "3                 1.0                8.0           243  \n",
       "4                57.0               70.0          2404  \n",
       "\n",
       "[5 rows x 21 columns]"
      ]
     },
     "execution_count": 18,
     "metadata": {},
     "output_type": "execute_result"
    }
   ],
   "source": [
    "print users.shape, users.columns\n",
    "users.head()"
   ]
  },
  {
   "cell_type": "markdown",
   "metadata": {},
   "source": [
    "<img src=\"http://imgur.com/l5NasQj.png\" style=\"float: left; margin: 25px 15px 0px 0px; height: 25px\">\n",
    "\n",
    "## 2. Different categories of ratings\n",
    "\n",
    "---\n",
    "\n",
    "Yelp is finally ready to admit that their rating system sucks. No one cares about the ratings, they just use the site to find out what's nearby. The ratings are simply too unreliable for people. \n",
    "\n",
    "Yelp hypothesizes that this is, in fact, because different people tend to give their ratings based on different things. They believe that perhaps some people always base their ratings on quality of food, others on service, and perhaps other categories as well. \n",
    "\n",
    "1. Do some users tend to talk about service more than others in reviews/tips? Divide up the tips/reviews into more \"service-focused\" ones and those less concerned with service.\n",
    "2. Create two new ratings for businesses: ratings from just the service-focused reviews and ratings from the non-service reviews.\n",
    "3. Construct a regression model for each of the two ratings. They should use the same predictor variables (of your choice). \n",
    "4. Validate the performance of the models.\n",
    "5. Do the models coefficients differ at all? What does this tell you about the hypothesis that there are in fact two different kinds of ratings?"
   ]
  },
  {
   "cell_type": "code",
   "execution_count": 224,
   "metadata": {
    "collapsed": false
   },
   "outputs": [
    {
     "data": {
      "text/plain": [
       "(424389, 165)"
      ]
     },
     "execution_count": 224,
     "metadata": {},
     "output_type": "execute_result"
    }
   ],
   "source": [
    "#combine tips and reviews data\n",
    "tips_reviews = pd.concat([tips, reviews])\n",
    "tips_reviews.shape"
   ]
  },
  {
   "cell_type": "code",
   "execution_count": 225,
   "metadata": {
    "collapsed": false
   },
   "outputs": [
    {
     "data": {
      "text/html": [
       "<div>\n",
       "<table border=\"1\" class=\"dataframe\">\n",
       "  <thead>\n",
       "    <tr style=\"text-align: right;\">\n",
       "      <th></th>\n",
       "      <th>10 minutes</th>\n",
       "      <th>15 minutes</th>\n",
       "      <th>20 minutes</th>\n",
       "      <th>24 hours</th>\n",
       "      <th>30 minutes</th>\n",
       "      <th>amazing food</th>\n",
       "      <th>animal style</th>\n",
       "      <th>awesome food</th>\n",
       "      <th>awesome place</th>\n",
       "      <th>awesome service</th>\n",
       "      <th>...</th>\n",
       "      <th>try place</th>\n",
       "      <th>user_id</th>\n",
       "      <th>ve seen</th>\n",
       "      <th>ve tried</th>\n",
       "      <th>velvet pancakes</th>\n",
       "      <th>votes.cool</th>\n",
       "      <th>votes.funny</th>\n",
       "      <th>votes.useful</th>\n",
       "      <th>wait staff</th>\n",
       "      <th>worth wait</th>\n",
       "    </tr>\n",
       "  </thead>\n",
       "  <tbody>\n",
       "    <tr>\n",
       "      <th>0</th>\n",
       "      <td>NaN</td>\n",
       "      <td>NaN</td>\n",
       "      <td>NaN</td>\n",
       "      <td>0.0</td>\n",
       "      <td>NaN</td>\n",
       "      <td>0.0</td>\n",
       "      <td>0.0</td>\n",
       "      <td>0.0</td>\n",
       "      <td>0.0</td>\n",
       "      <td>0.0</td>\n",
       "      <td>...</td>\n",
       "      <td>NaN</td>\n",
       "      <td>trdsekNRD-gIs50EBrScwA</td>\n",
       "      <td>NaN</td>\n",
       "      <td>NaN</td>\n",
       "      <td>0.0</td>\n",
       "      <td>NaN</td>\n",
       "      <td>NaN</td>\n",
       "      <td>NaN</td>\n",
       "      <td>NaN</td>\n",
       "      <td>0.0</td>\n",
       "    </tr>\n",
       "    <tr>\n",
       "      <th>1</th>\n",
       "      <td>NaN</td>\n",
       "      <td>NaN</td>\n",
       "      <td>NaN</td>\n",
       "      <td>0.0</td>\n",
       "      <td>NaN</td>\n",
       "      <td>0.0</td>\n",
       "      <td>0.0</td>\n",
       "      <td>0.0</td>\n",
       "      <td>0.0</td>\n",
       "      <td>0.0</td>\n",
       "      <td>...</td>\n",
       "      <td>NaN</td>\n",
       "      <td>liIQCDzDTnvXc7X8twBIjg</td>\n",
       "      <td>NaN</td>\n",
       "      <td>NaN</td>\n",
       "      <td>0.0</td>\n",
       "      <td>NaN</td>\n",
       "      <td>NaN</td>\n",
       "      <td>NaN</td>\n",
       "      <td>NaN</td>\n",
       "      <td>0.0</td>\n",
       "    </tr>\n",
       "    <tr>\n",
       "      <th>2</th>\n",
       "      <td>NaN</td>\n",
       "      <td>NaN</td>\n",
       "      <td>NaN</td>\n",
       "      <td>0.0</td>\n",
       "      <td>NaN</td>\n",
       "      <td>0.0</td>\n",
       "      <td>0.0</td>\n",
       "      <td>0.0</td>\n",
       "      <td>0.0</td>\n",
       "      <td>0.0</td>\n",
       "      <td>...</td>\n",
       "      <td>NaN</td>\n",
       "      <td>iW1ltQqq4GWAErobLiOv9w</td>\n",
       "      <td>NaN</td>\n",
       "      <td>NaN</td>\n",
       "      <td>0.0</td>\n",
       "      <td>NaN</td>\n",
       "      <td>NaN</td>\n",
       "      <td>NaN</td>\n",
       "      <td>NaN</td>\n",
       "      <td>0.0</td>\n",
       "    </tr>\n",
       "    <tr>\n",
       "      <th>3</th>\n",
       "      <td>NaN</td>\n",
       "      <td>NaN</td>\n",
       "      <td>NaN</td>\n",
       "      <td>0.0</td>\n",
       "      <td>NaN</td>\n",
       "      <td>0.0</td>\n",
       "      <td>0.0</td>\n",
       "      <td>0.0</td>\n",
       "      <td>0.0</td>\n",
       "      <td>0.0</td>\n",
       "      <td>...</td>\n",
       "      <td>NaN</td>\n",
       "      <td>wiBTgZNmDKHDgeuKSxIMjQ</td>\n",
       "      <td>NaN</td>\n",
       "      <td>NaN</td>\n",
       "      <td>0.0</td>\n",
       "      <td>NaN</td>\n",
       "      <td>NaN</td>\n",
       "      <td>NaN</td>\n",
       "      <td>NaN</td>\n",
       "      <td>0.0</td>\n",
       "    </tr>\n",
       "    <tr>\n",
       "      <th>4</th>\n",
       "      <td>NaN</td>\n",
       "      <td>NaN</td>\n",
       "      <td>NaN</td>\n",
       "      <td>0.0</td>\n",
       "      <td>NaN</td>\n",
       "      <td>0.0</td>\n",
       "      <td>0.0</td>\n",
       "      <td>0.0</td>\n",
       "      <td>0.0</td>\n",
       "      <td>0.0</td>\n",
       "      <td>...</td>\n",
       "      <td>NaN</td>\n",
       "      <td>wiBTgZNmDKHDgeuKSxIMjQ</td>\n",
       "      <td>NaN</td>\n",
       "      <td>NaN</td>\n",
       "      <td>0.0</td>\n",
       "      <td>NaN</td>\n",
       "      <td>NaN</td>\n",
       "      <td>NaN</td>\n",
       "      <td>NaN</td>\n",
       "      <td>0.0</td>\n",
       "    </tr>\n",
       "  </tbody>\n",
       "</table>\n",
       "<p>5 rows × 165 columns</p>\n",
       "</div>"
      ],
      "text/plain": [
       "   10 minutes  15 minutes  20 minutes  24 hours  30 minutes  amazing food  \\\n",
       "0         NaN         NaN         NaN       0.0         NaN           0.0   \n",
       "1         NaN         NaN         NaN       0.0         NaN           0.0   \n",
       "2         NaN         NaN         NaN       0.0         NaN           0.0   \n",
       "3         NaN         NaN         NaN       0.0         NaN           0.0   \n",
       "4         NaN         NaN         NaN       0.0         NaN           0.0   \n",
       "\n",
       "   animal style  awesome food  awesome place  awesome service     ...      \\\n",
       "0           0.0           0.0            0.0              0.0     ...       \n",
       "1           0.0           0.0            0.0              0.0     ...       \n",
       "2           0.0           0.0            0.0              0.0     ...       \n",
       "3           0.0           0.0            0.0              0.0     ...       \n",
       "4           0.0           0.0            0.0              0.0     ...       \n",
       "\n",
       "   try place                 user_id  ve seen  ve tried  velvet pancakes  \\\n",
       "0        NaN  trdsekNRD-gIs50EBrScwA      NaN       NaN              0.0   \n",
       "1        NaN  liIQCDzDTnvXc7X8twBIjg      NaN       NaN              0.0   \n",
       "2        NaN  iW1ltQqq4GWAErobLiOv9w      NaN       NaN              0.0   \n",
       "3        NaN  wiBTgZNmDKHDgeuKSxIMjQ      NaN       NaN              0.0   \n",
       "4        NaN  wiBTgZNmDKHDgeuKSxIMjQ      NaN       NaN              0.0   \n",
       "\n",
       "   votes.cool  votes.funny  votes.useful  wait staff  worth wait  \n",
       "0         NaN          NaN           NaN         NaN         0.0  \n",
       "1         NaN          NaN           NaN         NaN         0.0  \n",
       "2         NaN          NaN           NaN         NaN         0.0  \n",
       "3         NaN          NaN           NaN         NaN         0.0  \n",
       "4         NaN          NaN           NaN         NaN         0.0  \n",
       "\n",
       "[5 rows x 165 columns]"
      ]
     },
     "execution_count": 225,
     "metadata": {},
     "output_type": "execute_result"
    }
   ],
   "source": [
    "tips_reviews.head()"
   ]
  },
  {
   "cell_type": "markdown",
   "metadata": {},
   "source": [
    "APPROACH: Classify reviews as service-focused if the total number of words across \"common 2-word combinations\" in service-related columns is larger than the total number of words across other columns.  Otherwise, classify reviews as non-service reviews."
   ]
  },
  {
   "cell_type": "code",
   "execution_count": 226,
   "metadata": {
    "collapsed": false
   },
   "outputs": [],
   "source": [
    "#create a list of all columns in tips and reviews datasets\n",
    "columns_list = list(tips_reviews.columns)"
   ]
  },
  {
   "cell_type": "code",
   "execution_count": 227,
   "metadata": {
    "collapsed": false
   },
   "outputs": [
    {
     "data": {
      "text/plain": [
       "['10 minutes',\n",
       " '15 minutes',\n",
       " '20 minutes',\n",
       " '24 hours',\n",
       " '30 minutes',\n",
       " 'amazing food',\n",
       " 'animal style',\n",
       " 'awesome food',\n",
       " 'awesome place',\n",
       " 'awesome service',\n",
       " 'bar food',\n",
       " 'beef hash',\n",
       " 'beer selection',\n",
       " 'best breakfast',\n",
       " 'best burger',\n",
       " 'best burgers',\n",
       " 'best place',\n",
       " 'best ve',\n",
       " 'bloody mary',\n",
       " 'bottle service',\n",
       " 'business_id',\n",
       " 'carne asada',\n",
       " 'cheese fries',\n",
       " 'chicken waffles',\n",
       " 'come early',\n",
       " 'cool place',\n",
       " 'corned beef',\n",
       " 'customer service',\n",
       " 'dance floor',\n",
       " 'date',\n",
       " 'decided try',\n",
       " 'definitely come',\n",
       " 'definitely recommend',\n",
       " 'delicious food',\n",
       " 'didn want',\n",
       " 'don come',\n",
       " 'don forget',\n",
       " 'don know',\n",
       " 'don like',\n",
       " 'don think',\n",
       " 'don want',\n",
       " 'eggs benedict',\n",
       " 'excellent food',\n",
       " 'excellent service',\n",
       " 'fast food',\n",
       " 'fast service',\n",
       " 'favorite place',\n",
       " 'feel like',\n",
       " 'felt like',\n",
       " 'fish chips',\n",
       " 'food amazing',\n",
       " 'food awesome',\n",
       " 'food came',\n",
       " 'food delicious',\n",
       " 'food drinks',\n",
       " 'food good',\n",
       " 'food great',\n",
       " 'food just',\n",
       " 'food service',\n",
       " 'free wifi',\n",
       " 'french fries',\n",
       " 'french toast',\n",
       " 'friday night',\n",
       " 'fried chicken',\n",
       " 'friendly service',\n",
       " 'friendly staff',\n",
       " 'gluten free',\n",
       " 'good food',\n",
       " 'good place',\n",
       " 'good service',\n",
       " 'good thing',\n",
       " 'good time',\n",
       " 'great atmosphere',\n",
       " 'great beer',\n",
       " 'great breakfast',\n",
       " 'great burgers',\n",
       " 'great customer',\n",
       " 'great drinks',\n",
       " 'great experience',\n",
       " 'great food',\n",
       " 'great happy',\n",
       " 'great place',\n",
       " 'great prices',\n",
       " 'great service',\n",
       " 'great spot',\n",
       " 'great staff',\n",
       " 'great time',\n",
       " 'grilled cheese',\n",
       " 'guest list',\n",
       " 'happy birthday',\n",
       " 'happy hour',\n",
       " 'hash browns',\n",
       " 'highly recommend',\n",
       " 'hip hop',\n",
       " 'ice cream',\n",
       " 'just like',\n",
       " 'just ok',\n",
       " 'just right',\n",
       " 'las vegas',\n",
       " 'late night',\n",
       " 'like place',\n",
       " 'likes',\n",
       " 'little bit',\n",
       " 'live music',\n",
       " 'long time',\n",
       " 'long wait',\n",
       " 'looked like',\n",
       " 'looks like',\n",
       " 'love food',\n",
       " 'love love',\n",
       " 'love place',\n",
       " 'mac cheese',\n",
       " 'make sure',\n",
       " 'mashed potatoes',\n",
       " 'medium rare',\n",
       " 'minutes later',\n",
       " 'new favorite',\n",
       " 'new york',\n",
       " 'nice place',\n",
       " 'nom nom',\n",
       " 'onion rings',\n",
       " 'open 24',\n",
       " 'place awesome',\n",
       " 'place eat',\n",
       " 'place good',\n",
       " 'place great',\n",
       " 'place just',\n",
       " 'potato fries',\n",
       " 'pretty good',\n",
       " 'prime rib',\n",
       " 'quality food',\n",
       " 'really enjoyed',\n",
       " 'really good',\n",
       " 'really like',\n",
       " 'really nice',\n",
       " 'recommend place',\n",
       " 'red velvet',\n",
       " 'review_id',\n",
       " 'right away',\n",
       " 'saturday night',\n",
       " 'second time',\n",
       " 'service excellent',\n",
       " 'service food',\n",
       " 'service friendly',\n",
       " 'service good',\n",
       " 'service great',\n",
       " 'slow service',\n",
       " 'staff friendly',\n",
       " 'staff great',\n",
       " 'stars',\n",
       " 'steak eggs',\n",
       " 'super friendly',\n",
       " 'sweet potato',\n",
       " 'tasted like',\n",
       " 'time vegas',\n",
       " 'try place',\n",
       " 'user_id',\n",
       " 've seen',\n",
       " 've tried',\n",
       " 'velvet pancakes',\n",
       " 'votes.cool',\n",
       " 'votes.funny',\n",
       " 'votes.useful',\n",
       " 'wait staff',\n",
       " 'worth wait']"
      ]
     },
     "execution_count": 227,
     "metadata": {},
     "output_type": "execute_result"
    }
   ],
   "source": [
    "columns_list"
   ]
  },
  {
   "cell_type": "code",
   "execution_count": 228,
   "metadata": {
    "collapsed": true
   },
   "outputs": [],
   "source": [
    "#create list of service-focused words that can be used to identify service-related columns\n",
    "service_words = ['service','staff','wait','friendly','customer','minutes','hours']"
   ]
  },
  {
   "cell_type": "code",
   "execution_count": 229,
   "metadata": {
    "collapsed": true
   },
   "outputs": [],
   "source": [
    "#convert list of column names in the Reviews dataframe to Series\n",
    "all_columns = pd.Series(reviews.columns)"
   ]
  },
  {
   "cell_type": "code",
   "execution_count": 230,
   "metadata": {
    "collapsed": false
   },
   "outputs": [
    {
     "data": {
      "text/plain": [
       "['10 minutes',\n",
       " '15 minutes',\n",
       " '20 minutes',\n",
       " '30 minutes',\n",
       " 'bottle service',\n",
       " 'customer service',\n",
       " 'food service',\n",
       " 'friendly staff',\n",
       " 'good service',\n",
       " 'great service',\n",
       " 'minutes later',\n",
       " 'service excellent',\n",
       " 'service food',\n",
       " 'service friendly',\n",
       " 'service good',\n",
       " 'service great',\n",
       " 'staff friendly',\n",
       " 'super friendly',\n",
       " 'wait staff']"
      ]
     },
     "execution_count": 230,
     "metadata": {},
     "output_type": "execute_result"
    }
   ],
   "source": [
    "#create list of column names that contain service-focused words\n",
    "service_cols = list(all_columns[all_columns.str.contains('|'.join(service_words))])\n",
    "service_cols"
   ]
  },
  {
   "cell_type": "code",
   "execution_count": 231,
   "metadata": {
    "collapsed": true
   },
   "outputs": [],
   "source": [
    "#add column to Reviews dataframe that sums up values across columns names with service-focused words\n",
    "reviews['service_sum'] = reviews[service_cols].sum(axis=1)"
   ]
  },
  {
   "cell_type": "code",
   "execution_count": 232,
   "metadata": {
    "collapsed": false
   },
   "outputs": [
    {
     "data": {
      "text/plain": [
       "count    322398.000000\n",
       "mean          0.285740\n",
       "std           0.608746\n",
       "min           0.000000\n",
       "25%           0.000000\n",
       "50%           0.000000\n",
       "75%           0.000000\n",
       "max          13.000000\n",
       "Name: service_sum, dtype: float64"
      ]
     },
     "execution_count": 232,
     "metadata": {},
     "output_type": "execute_result"
    }
   ],
   "source": [
    "reviews.service_sum.describe()"
   ]
  },
  {
   "cell_type": "code",
   "execution_count": 233,
   "metadata": {
    "collapsed": false
   },
   "outputs": [],
   "source": [
    "#create subset of reviews dataset so a total count of words in \"common 2-word combination\" columns can be calculated\n",
    "reviews_sub = reviews.drop(['business_id','user_id','votes.cool','review_id','votes.funny','date','votes.useful',\n",
    "                           'stars','service_sum'], axis=1)"
   ]
  },
  {
   "cell_type": "code",
   "execution_count": 234,
   "metadata": {
    "collapsed": false
   },
   "outputs": [
    {
     "data": {
      "text/plain": [
       "Index([u'10 minutes', u'15 minutes', u'20 minutes', u'30 minutes', u'bar food',\n",
       "       u'beer selection', u'best ve', u'bloody mary', u'bottle service',\n",
       "       u'chicken waffles', u'customer service', u'dance floor', u'decided try',\n",
       "       u'definitely come', u'definitely recommend', u'didn want', u'don know',\n",
       "       u'don like', u'don think', u'don want', u'eggs benedict', u'fast food',\n",
       "       u'feel like', u'felt like', u'fish chips', u'food amazing',\n",
       "       u'food came', u'food delicious', u'food good', u'food great',\n",
       "       u'food just', u'food service', u'french fries', u'french toast',\n",
       "       u'friday night', u'fried chicken', u'friendly staff', u'good food',\n",
       "       u'good place', u'good service', u'good thing', u'good time',\n",
       "       u'great atmosphere', u'great experience', u'great food', u'great place',\n",
       "       u'great service', u'great time', u'happy hour', u'hash browns',\n",
       "       u'highly recommend', u'hip hop', u'ice cream', u'just like', u'just ok',\n",
       "       u'just right', u'las vegas', u'late night', u'like place',\n",
       "       u'little bit', u'long time', u'looked like', u'looks like',\n",
       "       u'love place', u'mac cheese', u'make sure', u'mashed potatoes',\n",
       "       u'medium rare', u'minutes later', u'new york', u'onion rings',\n",
       "       u'place good', u'place great', u'place just', u'potato fries',\n",
       "       u'pretty good', u'quality food', u'really enjoyed', u'really good',\n",
       "       u'really like', u'really nice', u'recommend place', u'red velvet',\n",
       "       u'right away', u'saturday night', u'second time', u'service excellent',\n",
       "       u'service food', u'service friendly', u'service good', u'service great',\n",
       "       u'staff friendly', u'super friendly', u'sweet potato', u'tasted like',\n",
       "       u'time vegas', u'try place', u've seen', u've tried', u'wait staff'],\n",
       "      dtype='object')"
      ]
     },
     "execution_count": 234,
     "metadata": {},
     "output_type": "execute_result"
    }
   ],
   "source": [
    "reviews_sub.columns"
   ]
  },
  {
   "cell_type": "code",
   "execution_count": 235,
   "metadata": {
    "collapsed": false
   },
   "outputs": [],
   "source": [
    "reviews_sub['all_sum'] = reviews_sub.sum(axis=1)"
   ]
  },
  {
   "cell_type": "code",
   "execution_count": 236,
   "metadata": {
    "collapsed": false
   },
   "outputs": [
    {
     "data": {
      "text/plain": [
       "count    322398.000000\n",
       "mean          1.460614\n",
       "std           1.621319\n",
       "min           0.000000\n",
       "25%           0.000000\n",
       "50%           1.000000\n",
       "75%           2.000000\n",
       "max          27.000000\n",
       "Name: all_sum, dtype: float64"
      ]
     },
     "execution_count": 236,
     "metadata": {},
     "output_type": "execute_result"
    }
   ],
   "source": [
    "reviews_sub.all_sum.describe()"
   ]
  },
  {
   "cell_type": "code",
   "execution_count": 237,
   "metadata": {
    "collapsed": false
   },
   "outputs": [
    {
     "data": {
      "text/plain": [
       "0    0\n",
       "1    0\n",
       "2    0\n",
       "3    0\n",
       "4    1\n",
       "Name: all_sum, dtype: int64"
      ]
     },
     "execution_count": 237,
     "metadata": {},
     "output_type": "execute_result"
    }
   ],
   "source": [
    "reviews_sub = reviews_sub['all_sum']\n",
    "reviews_sub.head()"
   ]
  },
  {
   "cell_type": "code",
   "execution_count": 238,
   "metadata": {
    "collapsed": true
   },
   "outputs": [],
   "source": [
    "reviews = pd.concat([reviews, reviews_sub], axis=1)"
   ]
  },
  {
   "cell_type": "code",
   "execution_count": 240,
   "metadata": {
    "collapsed": false
   },
   "outputs": [],
   "source": [
    "#calculate total words based on non-service columns\n",
    "reviews['non_service_sum'] = reviews.all_sum - reviews.service_sum"
   ]
  },
  {
   "cell_type": "code",
   "execution_count": 241,
   "metadata": {
    "collapsed": true
   },
   "outputs": [],
   "source": [
    "#define reviews as either service-focused or not\n",
    "reviews['service_focused'] = (reviews.service_sum > reviews.non_service_sum)"
   ]
  },
  {
   "cell_type": "code",
   "execution_count": 242,
   "metadata": {
    "collapsed": false
   },
   "outputs": [
    {
     "data": {
      "text/plain": [
       "False    293689\n",
       "True      28709\n",
       "Name: service_focused, dtype: int64"
      ]
     },
     "execution_count": 242,
     "metadata": {},
     "output_type": "execute_result"
    }
   ],
   "source": [
    "reviews.service_focused.value_counts()"
   ]
  },
  {
   "cell_type": "code",
   "execution_count": 245,
   "metadata": {
    "collapsed": false
   },
   "outputs": [
    {
     "data": {
      "text/html": [
       "<div>\n",
       "<table border=\"1\" class=\"dataframe\">\n",
       "  <thead>\n",
       "    <tr style=\"text-align: right;\">\n",
       "      <th>service_focused</th>\n",
       "      <th>False</th>\n",
       "      <th>True</th>\n",
       "      <th>All</th>\n",
       "    </tr>\n",
       "    <tr>\n",
       "      <th>stars</th>\n",
       "      <th></th>\n",
       "      <th></th>\n",
       "      <th></th>\n",
       "    </tr>\n",
       "  </thead>\n",
       "  <tbody>\n",
       "    <tr>\n",
       "      <th>1</th>\n",
       "      <td>26976</td>\n",
       "      <td>4474</td>\n",
       "      <td>31450</td>\n",
       "    </tr>\n",
       "    <tr>\n",
       "      <th>2</th>\n",
       "      <td>26760</td>\n",
       "      <td>2939</td>\n",
       "      <td>29699</td>\n",
       "    </tr>\n",
       "    <tr>\n",
       "      <th>3</th>\n",
       "      <td>43563</td>\n",
       "      <td>3602</td>\n",
       "      <td>47165</td>\n",
       "    </tr>\n",
       "    <tr>\n",
       "      <th>4</th>\n",
       "      <td>87588</td>\n",
       "      <td>7030</td>\n",
       "      <td>94618</td>\n",
       "    </tr>\n",
       "    <tr>\n",
       "      <th>5</th>\n",
       "      <td>108802</td>\n",
       "      <td>10664</td>\n",
       "      <td>119466</td>\n",
       "    </tr>\n",
       "    <tr>\n",
       "      <th>All</th>\n",
       "      <td>293689</td>\n",
       "      <td>28709</td>\n",
       "      <td>322398</td>\n",
       "    </tr>\n",
       "  </tbody>\n",
       "</table>\n",
       "</div>"
      ],
      "text/plain": [
       "service_focused   False   True     All\n",
       "stars                                 \n",
       "1                 26976   4474   31450\n",
       "2                 26760   2939   29699\n",
       "3                 43563   3602   47165\n",
       "4                 87588   7030   94618\n",
       "5                108802  10664  119466\n",
       "All              293689  28709  322398"
      ]
     },
     "execution_count": 245,
     "metadata": {},
     "output_type": "execute_result"
    }
   ],
   "source": [
    "pd.crosstab(reviews.stars, reviews.service_focused, margins=True)"
   ]
  },
  {
   "cell_type": "code",
   "execution_count": 247,
   "metadata": {
    "collapsed": false
   },
   "outputs": [],
   "source": [
    "service_reviews = reviews[reviews.service_focused == True]\n",
    "non_service_reviews = reviews[reviews.service_focused == False]"
   ]
  },
  {
   "cell_type": "code",
   "execution_count": 250,
   "metadata": {
    "collapsed": false
   },
   "outputs": [
    {
     "data": {
      "text/plain": [
       "Index([u'user_id', u'review_id', u'votes.cool', u'business_id', u'votes.funny',\n",
       "       u'stars', u'date', u'votes.useful', u'10 minutes', u'15 minutes',\n",
       "       ...\n",
       "       u'tasted like', u'time vegas', u'try place', u've seen', u've tried',\n",
       "       u'wait staff', u'service_sum', u'all_sum', u'non_service_sum',\n",
       "       u'service_focused'],\n",
       "      dtype='object', length=112)"
      ]
     },
     "execution_count": 250,
     "metadata": {},
     "output_type": "execute_result"
    }
   ],
   "source": [
    "service_reviews.columns"
   ]
  },
  {
   "cell_type": "code",
   "execution_count": 251,
   "metadata": {
    "collapsed": true
   },
   "outputs": [],
   "source": [
    "Y_s = service_reviews.stars"
   ]
  },
  {
   "cell_type": "code",
   "execution_count": 252,
   "metadata": {
    "collapsed": true
   },
   "outputs": [],
   "source": [
    "pred_cols = ['votes.cool','votes.funny','votes.useful']\n",
    "X_s = service_reviews[pred_cols]"
   ]
  },
  {
   "cell_type": "code",
   "execution_count": 253,
   "metadata": {
    "collapsed": false
   },
   "outputs": [
    {
     "name": "stdout",
     "output_type": "stream",
     "text": [
      "[ 0.3917813   0.38812467  0.39602926  0.39881574  0.40843353]\n",
      "0.396636899847\n"
     ]
    }
   ],
   "source": [
    "logreg = LogisticRegression()\n",
    "logreg_scores = cross_val_score(logreg, X_s, Y_s, cv=5)\n",
    "print logreg_scores\n",
    "print np.mean(logreg_scores)"
   ]
  },
  {
   "cell_type": "code",
   "execution_count": 255,
   "metadata": {
    "collapsed": false
   },
   "outputs": [
    {
     "data": {
      "text/plain": [
       "LogisticRegression(C=1.0, class_weight=None, dual=False, fit_intercept=True,\n",
       "          intercept_scaling=1, max_iter=100, multi_class='ovr', n_jobs=1,\n",
       "          penalty='l2', random_state=None, solver='liblinear', tol=0.0001,\n",
       "          verbose=0, warm_start=False)"
      ]
     },
     "execution_count": 255,
     "metadata": {},
     "output_type": "execute_result"
    }
   ],
   "source": [
    "X_train, X_test, Y_train, Y_test =  train_test_split(X_s, Y_s, test_size = 0.2, random_state=1234)\n",
    "logreg = LogisticRegression()\n",
    "logreg.fit(X_train, Y_train)"
   ]
  },
  {
   "cell_type": "code",
   "execution_count": 256,
   "metadata": {
    "collapsed": false
   },
   "outputs": [
    {
     "data": {
      "text/html": [
       "<div>\n",
       "<table border=\"1\" class=\"dataframe\">\n",
       "  <thead>\n",
       "    <tr style=\"text-align: right;\">\n",
       "      <th></th>\n",
       "      <th>abs_coef</th>\n",
       "      <th>coef</th>\n",
       "      <th>variable</th>\n",
       "    </tr>\n",
       "  </thead>\n",
       "  <tbody>\n",
       "    <tr>\n",
       "      <th>0</th>\n",
       "      <td>1.165414</td>\n",
       "      <td>-1.165414</td>\n",
       "      <td>votes.cool</td>\n",
       "    </tr>\n",
       "    <tr>\n",
       "      <th>1</th>\n",
       "      <td>0.475824</td>\n",
       "      <td>0.475824</td>\n",
       "      <td>votes.funny</td>\n",
       "    </tr>\n",
       "    <tr>\n",
       "      <th>2</th>\n",
       "      <td>0.449474</td>\n",
       "      <td>0.449474</td>\n",
       "      <td>votes.useful</td>\n",
       "    </tr>\n",
       "  </tbody>\n",
       "</table>\n",
       "</div>"
      ],
      "text/plain": [
       "   abs_coef      coef      variable\n",
       "0  1.165414 -1.165414    votes.cool\n",
       "1  0.475824  0.475824   votes.funny\n",
       "2  0.449474  0.449474  votes.useful"
      ]
     },
     "execution_count": 256,
     "metadata": {},
     "output_type": "execute_result"
    }
   ],
   "source": [
    "#PRINT OUT LIST OF MOST IMPORTANT PREDICTORS\n",
    "coefs = pd.DataFrame({'coef':logreg.coef_[0], 'abs_coef':np.abs(logreg.coef_[0]),\n",
    "                      'variable':[col for col in X_s.columns]})\n",
    "coefs.sort_values('abs_coef', ascending=False, inplace=True)\n",
    "coefs"
   ]
  },
  {
   "cell_type": "code",
   "execution_count": 257,
   "metadata": {
    "collapsed": true
   },
   "outputs": [],
   "source": [
    "#repeat regression on non-service-focused reviews\n",
    "Y_ns = non_service_reviews.stars\n",
    "X_ns = non_service_reviews[pred_cols]"
   ]
  },
  {
   "cell_type": "code",
   "execution_count": 258,
   "metadata": {
    "collapsed": false
   },
   "outputs": [
    {
     "name": "stdout",
     "output_type": "stream",
     "text": [
      "[ 0.37601294  0.3758491   0.37629814  0.37971602  0.38288273]\n",
      "0.37815178359\n"
     ]
    }
   ],
   "source": [
    "logreg_scores = cross_val_score(logreg, X_ns, Y_ns, cv=5)\n",
    "print logreg_scores\n",
    "print np.mean(logreg_scores)"
   ]
  },
  {
   "cell_type": "code",
   "execution_count": 259,
   "metadata": {
    "collapsed": false
   },
   "outputs": [
    {
     "data": {
      "text/plain": [
       "LogisticRegression(C=1.0, class_weight=None, dual=False, fit_intercept=True,\n",
       "          intercept_scaling=1, max_iter=100, multi_class='ovr', n_jobs=1,\n",
       "          penalty='l2', random_state=None, solver='liblinear', tol=0.0001,\n",
       "          verbose=0, warm_start=False)"
      ]
     },
     "execution_count": 259,
     "metadata": {},
     "output_type": "execute_result"
    }
   ],
   "source": [
    "X_train, X_test, Y_train, Y_test =  train_test_split(X_ns, Y_ns, test_size = 0.2, random_state=1234)\n",
    "logreg = LogisticRegression()\n",
    "logreg.fit(X_train, Y_train)"
   ]
  },
  {
   "cell_type": "code",
   "execution_count": 260,
   "metadata": {
    "collapsed": false
   },
   "outputs": [
    {
     "data": {
      "text/html": [
       "<div>\n",
       "<table border=\"1\" class=\"dataframe\">\n",
       "  <thead>\n",
       "    <tr style=\"text-align: right;\">\n",
       "      <th></th>\n",
       "      <th>abs_coef</th>\n",
       "      <th>coef</th>\n",
       "      <th>variable</th>\n",
       "    </tr>\n",
       "  </thead>\n",
       "  <tbody>\n",
       "    <tr>\n",
       "      <th>0</th>\n",
       "      <td>1.101925</td>\n",
       "      <td>-1.101925</td>\n",
       "      <td>votes.cool</td>\n",
       "    </tr>\n",
       "    <tr>\n",
       "      <th>1</th>\n",
       "      <td>0.419258</td>\n",
       "      <td>0.419258</td>\n",
       "      <td>votes.funny</td>\n",
       "    </tr>\n",
       "    <tr>\n",
       "      <th>2</th>\n",
       "      <td>0.358743</td>\n",
       "      <td>0.358743</td>\n",
       "      <td>votes.useful</td>\n",
       "    </tr>\n",
       "  </tbody>\n",
       "</table>\n",
       "</div>"
      ],
      "text/plain": [
       "   abs_coef      coef      variable\n",
       "0  1.101925 -1.101925    votes.cool\n",
       "1  0.419258  0.419258   votes.funny\n",
       "2  0.358743  0.358743  votes.useful"
      ]
     },
     "execution_count": 260,
     "metadata": {},
     "output_type": "execute_result"
    }
   ],
   "source": [
    "coefs = pd.DataFrame({'coef':logreg.coef_[0], 'abs_coef':np.abs(logreg.coef_[0]),\n",
    "                      'variable':[col for col in X_ns.columns]})\n",
    "coefs.sort_values('abs_coef', ascending=False, inplace=True)\n",
    "coefs"
   ]
  },
  {
   "cell_type": "markdown",
   "metadata": {},
   "source": [
    "Coefficients differ somewhat between the two models, which suggests that service-focused and non-service-focused reviews share differ characteristics and their star ratings measure different things."
   ]
  },
  {
   "cell_type": "markdown",
   "metadata": {},
   "source": [
    "<img src=\"http://imgur.com/l5NasQj.png\" style=\"float: left; margin: 25px 15px 0px 0px; height: 25px\">\n",
    "\n",
    "## 3. Identifying \"elite\" users\n",
    "\n",
    "---\n",
    "\n",
    "Yelp, though having their own formula for determining whether a user is elite or not, is interested in delving deeper into what differentiates an elite user from a normal user at a broader level.\n",
    "\n",
    "Use a classification model to predict whether a user is elite or not. Note that users can be elite in some years and not in others.\n",
    "\n",
    "1. What things predict well whether a user is elite or not?\n",
    "- Validate the model.\n",
    "- If you were to remove the \"counts\" metrics for users (reviews, votes, compliments), what distinguishes an elite user, if anything? Validate the model and compare it to the one with the count variables.\n",
    "- Think of a way to visually represent your results in a compelling way.\n",
    "- Give a brief write-up of your findings.\n"
   ]
  },
  {
   "cell_type": "code",
   "execution_count": 84,
   "metadata": {
    "collapsed": false
   },
   "outputs": [
    {
     "data": {
      "text/plain": [
       "array(['[2005, 2006, 2007, 2008, 2009, 2010, 2011, 2012, 2013, 2014, 2015]',\n",
       "       '[2005]', '[]', '[2005, 2006, 2007, 2008, 2010, 2011, 2012]',\n",
       "       '[2012, 2013, 2014, 2015]', '[2013]', '[2013, 2014, 2015]',\n",
       "       '[2014, 2015]', '[2008, 2009, 2010, 2011]',\n",
       "       '[2011, 2012, 2013, 2014, 2015]', '[2010, 2011, 2012, 2013]',\n",
       "       '[2006, 2007, 2008]', '[2009, 2010]', '[2012, 2013, 2014]',\n",
       "       '[2015]', '[2009, 2010, 2011, 2012, 2013, 2014, 2015]',\n",
       "       '[2009, 2010, 2011, 2012]', '[2011, 2012]', '[2010, 2011]',\n",
       "       '[2007]', '[2008, 2009, 2010, 2011, 2012, 2013, 2014, 2015]',\n",
       "       '[2006, 2007, 2008, 2009]', '[2010]',\n",
       "       '[2010, 2011, 2012, 2013, 2014, 2015]', '[2013, 2014]',\n",
       "       '[2010, 2011, 2012]', '[2011, 2012, 2013]',\n",
       "       '[2006, 2007, 2009, 2010]', '[2006]', '[2011]', '[2005, 2006]',\n",
       "       '[2012, 2013]', '[2014]', '[2005, 2006, 2007]',\n",
       "       '[2005, 2006, 2007, 2008, 2009, 2010, 2011, 2012]',\n",
       "       '[2009, 2010, 2011]', '[2010, 2012]', '[2011, 2012, 2013, 2014]',\n",
       "       '[2006, 2007, 2008, 2009, 2010]', '[2008, 2009]', '[2009]',\n",
       "       '[2008, 2009, 2010, 2011, 2012, 2013]', '[2008]',\n",
       "       '[2009, 2010, 2014, 2015]', '[2012]',\n",
       "       '[2006, 2007, 2008, 2009, 2010, 2011, 2012, 2013, 2014, 2015]',\n",
       "       '[2006, 2007]', '[2005, 2006, 2007, 2008, 2009, 2010, 2011]',\n",
       "       '[2007, 2014, 2015]', '[2005, 2006, 2007, 2008]',\n",
       "       '[2010, 2011, 2012, 2013, 2014]',\n",
       "       '[2005, 2006, 2007, 2008, 2009, 2010, 2011, 2012, 2013, 2014]',\n",
       "       '[2007, 2008, 2009, 2014]',\n",
       "       '[2006, 2007, 2010, 2011, 2012, 2013, 2014, 2015]',\n",
       "       '[2007, 2008, 2009, 2010, 2011, 2012, 2013, 2014]',\n",
       "       '[2006, 2007, 2008, 2009, 2010, 2011]', '[2009, 2011]',\n",
       "       '[2005, 2006, 2007, 2008, 2009, 2010, 2011, 2012, 2013]',\n",
       "       '[2007, 2008, 2009, 2010, 2011, 2012]',\n",
       "       '[2007, 2008, 2009, 2010, 2011, 2012, 2013, 2014, 2015]',\n",
       "       '[2010, 2011, 2015]', '[2005, 2006, 2007, 2008, 2009, 2011, 2012]',\n",
       "       '[2006, 2007, 2008, 2009, 2010, 2011, 2012]', '[2013, 2015]',\n",
       "       '[2005, 2006, 2007, 2008, 2009, 2010]', '[2011, 2013, 2014, 2015]',\n",
       "       '[2009, 2014, 2015]', '[2009, 2010, 2011, 2012, 2013, 2014]',\n",
       "       '[2006, 2007, 2012]',\n",
       "       '[2006, 2007, 2009, 2010, 2011, 2012, 2013, 2014, 2015]',\n",
       "       '[2006, 2007, 2008, 2013, 2014, 2015]',\n",
       "       '[2005, 2006, 2007, 2008, 2009]', '[2007, 2011]',\n",
       "       '[2006, 2007, 2008, 2009, 2010, 2011, 2012, 2013]',\n",
       "       '[2006, 2008, 2009, 2010, 2011, 2012, 2013, 2014, 2015]',\n",
       "       '[2007, 2008, 2009, 2010, 2011]', '[2007, 2008, 2009, 2010]',\n",
       "       '[2007, 2008, 2009]', '[2010, 2011, 2012, 2015]',\n",
       "       '[2007, 2008, 2009, 2010, 2011, 2012, 2013]',\n",
       "       '[2009, 2010, 2011, 2013, 2014, 2015]', '[2007, 2008]',\n",
       "       '[2006, 2010, 2011, 2012, 2013, 2014, 2015]',\n",
       "       '[2007, 2008, 2009, 2010, 2011, 2015]', '[2012, 2014, 2015]',\n",
       "       '[2007, 2009, 2010, 2011, 2012, 2013, 2014, 2015]',\n",
       "       '[2006, 2007, 2008, 2011]',\n",
       "       '[2006, 2007, 2008, 2009, 2010, 2011, 2012, 2015]',\n",
       "       '[2008, 2009, 2013]', '[2006, 2007, 2009, 2010, 2011]',\n",
       "       '[2006, 2007, 2010]', '[2008, 2009, 2010, 2011, 2012]',\n",
       "       '[2010, 2011, 2012, 2013, 2015]', '[2006, 2007, 2012, 2013, 2014]',\n",
       "       '[2008, 2009, 2010]', '[2009, 2012]', '[2010, 2011, 2014, 2015]',\n",
       "       '[2011, 2013]', '[2008, 2009, 2010, 2012, 2013]',\n",
       "       '[2007, 2009, 2010, 2011, 2012]',\n",
       "       '[2007, 2008, 2010, 2011, 2012, 2013, 2014, 2015]',\n",
       "       '[2005, 2006, 2007, 2013, 2014, 2015]', '[2006, 2007, 2008, 2010]',\n",
       "       '[2012, 2015]', '[2008, 2009, 2010, 2011, 2012, 2013, 2014]',\n",
       "       '[2010, 2011, 2012, 2014]', '[2008, 2012, 2013, 2014, 2015]',\n",
       "       '[2009, 2010, 2011, 2012, 2013]', '[2012, 2013, 2015]',\n",
       "       '[2006, 2007, 2011, 2012, 2013, 2014, 2015]',\n",
       "       '[2006, 2007, 2008, 2010, 2011, 2012, 2013, 2014, 2015]',\n",
       "       '[2007, 2008, 2010]', '[2007, 2009]', '[2008, 2010, 2011]',\n",
       "       '[2010, 2011, 2012, 2014, 2015]', '[2009, 2010, 2011, 2014, 2015]',\n",
       "       '[2008, 2010]', '[2006, 2007, 2008, 2009, 2010, 2011, 2013]',\n",
       "       '[2007, 2009, 2010]', '[2008, 2013, 2014, 2015]',\n",
       "       '[2006, 2007, 2009, 2010, 2011, 2012]',\n",
       "       '[2006, 2007, 2008, 2009, 2010, 2012, 2013]',\n",
       "       '[2006, 2007, 2008, 2009, 2014, 2015]', '[2006, 2008, 2009, 2010]',\n",
       "       '[2009, 2010, 2011, 2015]', '[2006, 2007, 2011, 2012]',\n",
       "       '[2010, 2015]',\n",
       "       '[2006, 2007, 2008, 2009, 2010, 2011, 2012, 2013, 2014]',\n",
       "       '[2006, 2007, 2008, 2009, 2012, 2013, 2014, 2015]',\n",
       "       '[2008, 2009, 2010, 2011, 2015]',\n",
       "       '[2006, 2007, 2008, 2009, 2010, 2011, 2014, 2015]',\n",
       "       '[2007, 2008, 2010, 2011, 2012]',\n",
       "       '[2006, 2007, 2008, 2009, 2010, 2012, 2013, 2014, 2015]',\n",
       "       '[2006, 2007, 2008, 2009, 2010, 2011, 2013, 2014, 2015]',\n",
       "       '[2007, 2010, 2011, 2012, 2013, 2014]', '[2006, 2007, 2009]',\n",
       "       '[2009, 2010, 2011, 2012, 2014, 2015]', '[2009, 2010, 2014]',\n",
       "       '[2007, 2009, 2010, 2011]', '[2007, 2013, 2014]',\n",
       "       '[2007, 2008, 2012]', '[2009, 2010, 2012]',\n",
       "       '[2008, 2010, 2011, 2012, 2013, 2014, 2015]',\n",
       "       '[2007, 2008, 2009, 2011]', '[2010, 2013, 2014]',\n",
       "       '[2007, 2008, 2009, 2010, 2012, 2013, 2014, 2015]',\n",
       "       '[2010, 2012, 2013, 2014, 2015]', '[2008, 2010, 2011, 2012, 2013]',\n",
       "       '[2007, 2008, 2009, 2011, 2012, 2013, 2014]',\n",
       "       '[2006, 2007, 2009, 2014, 2015]',\n",
       "       '[2007, 2008, 2009, 2010, 2012, 2013, 2014]', '[2007, 2014]',\n",
       "       '[2010, 2013, 2014, 2015]', '[2009, 2010, 2013]',\n",
       "       '[2008, 2010, 2011, 2012, 2013, 2014]',\n",
       "       '[2006, 2012, 2013, 2014, 2015]', '[2007, 2008, 2013, 2014]',\n",
       "       '[2011, 2013, 2015]', '[2007, 2011, 2012, 2013]',\n",
       "       '[2009, 2011, 2012, 2013, 2014, 2015]', '[2007, 2008, 2015]',\n",
       "       '[2008, 2011, 2012]', '[2007, 2008, 2009, 2012, 2013, 2014, 2015]',\n",
       "       '[2008, 2009, 2010, 2013, 2014]', '[2007, 2008, 2010, 2011]',\n",
       "       '[2007, 2008, 2009, 2010, 2011, 2013, 2014, 2015]',\n",
       "       '[2007, 2008, 2013]', '[2007, 2008, 2009, 2010, 2011, 2012, 2015]',\n",
       "       '[2007, 2008, 2010, 2011, 2012, 2015]',\n",
       "       '[2007, 2008, 2009, 2010, 2012, 2013]', '[2007, 2010]',\n",
       "       '[2007, 2009, 2010, 2012]', '[2009, 2010, 2013, 2014]',\n",
       "       '[2008, 2012]', '[2009, 2010, 2011, 2013, 2014]',\n",
       "       '[2007, 2008, 2010, 2012, 2013, 2014, 2015]',\n",
       "       '[2011, 2012, 2013, 2015]', '[2007, 2008, 2011, 2012]',\n",
       "       '[2007, 2008, 2009, 2010, 2014, 2015]', '[2010, 2012, 2013, 2014]',\n",
       "       '[2007, 2010, 2011, 2012, 2013]', '[2011, 2012, 2015]',\n",
       "       '[2009, 2015]', '[2007, 2008, 2012, 2013, 2014, 2015]',\n",
       "       '[2006, 2015]', '[2008, 2010, 2011, 2012, 2014, 2015]',\n",
       "       '[2009, 2014]', '[2006, 2007, 2008, 2010, 2011, 2012]',\n",
       "       '[2009, 2010, 2012, 2013, 2014, 2015]', '[2011, 2013, 2014]',\n",
       "       '[2008, 2009, 2010, 2012, 2013, 2014]',\n",
       "       '[2007, 2008, 2009, 2010, 2011, 2014, 2015]', '[2010, 2011, 2013]',\n",
       "       '[2007, 2012]', '[2009, 2013, 2014, 2015]',\n",
       "       '[2008, 2009, 2010, 2011, 2012, 2015]', '[2008, 2009, 2011]',\n",
       "       '[2007, 2008, 2009, 2010, 2011, 2012, 2013, 2015]',\n",
       "       '[2007, 2010, 2012]', '[2011, 2014, 2015]',\n",
       "       '[2011, 2012, 2014, 2015]', '[2008, 2010, 2012]',\n",
       "       '[2007, 2010, 2011, 2012]', '[2008, 2009, 2010, 2011, 2014]',\n",
       "       '[2008, 2015]', '[2007, 2008, 2009, 2012, 2015]',\n",
       "       '[2008, 2009, 2012]', '[2008, 2009, 2011, 2012]',\n",
       "       '[2009, 2010, 2011, 2012, 2015]', '[2007, 2010, 2011]',\n",
       "       '[2011, 2012, 2014]', '[2007, 2008, 2009, 2014, 2015]',\n",
       "       '[2008, 2011, 2012, 2013, 2014, 2015]',\n",
       "       '[2008, 2009, 2010, 2014, 2015]',\n",
       "       '[2007, 2008, 2009, 2010, 2011, 2013, 2014]', '[2010, 2014, 2015]',\n",
       "       '[2009, 2010, 2013, 2014, 2015]', '[2007, 2008, 2009, 2012]',\n",
       "       '[2010, 2011, 2013, 2014, 2015]', '[2008, 2013, 2014]',\n",
       "       '[2007, 2008, 2014]', '[2007, 2008, 2009, 2010, 2011, 2013]',\n",
       "       '[2008, 2009, 2012, 2013, 2014, 2015]',\n",
       "       '[2008, 2009, 2010, 2011, 2013]', '[2010, 2012, 2015]',\n",
       "       '[2009, 2010, 2015]', '[2010, 2014]', '[2007, 2008, 2009, 2015]',\n",
       "       '[2007, 2008, 2009, 2010, 2012]',\n",
       "       '[2008, 2009, 2010, 2011, 2013, 2014, 2015]',\n",
       "       '[2008, 2010, 2011, 2012]', '[2008, 2009, 2013, 2014]',\n",
       "       '[2009, 2010, 2011, 2012, 2013, 2015]',\n",
       "       '[2008, 2009, 2012, 2013, 2015]',\n",
       "       '[2008, 2009, 2010, 2012, 2013, 2014, 2015]',\n",
       "       '[2009, 2010, 2012, 2013]', '[2008, 2009, 2010, 2013, 2014, 2015]',\n",
       "       '[2010, 2013]', '[2010, 2011, 2013, 2014]',\n",
       "       '[2008, 2009, 2010, 2012]', '[2009, 2011, 2015]',\n",
       "       '[2008, 2009, 2010, 2013]', '[2008, 2014]', '[2010, 2012, 2013]',\n",
       "       '[2008, 2014, 2015]', '[2007, 2008, 2009, 2011, 2012]',\n",
       "       '[2010, 2012, 2014, 2015]', '[2007, 2008, 2010, 2011, 2012, 2013]',\n",
       "       '[2007, 2009, 2010, 2011, 2012, 2013]', '[2011, 2015]',\n",
       "       '[2009, 2010, 2011, 2013]',\n",
       "       '[2008, 2009, 2011, 2012, 2013, 2014, 2015]', '[2009, 2012, 2013]',\n",
       "       '[2006, 2008, 2010, 2011, 2012]', '[2009, 2011, 2014, 2015]',\n",
       "       '[2009, 2011, 2012]', '[2009, 2010, 2011, 2012, 2014]',\n",
       "       '[2008, 2009, 2013, 2014, 2015]', '[2010, 2011, 2014]',\n",
       "       '[2008, 2009, 2012, 2013]', '[2007, 2012, 2013, 2014, 2015]',\n",
       "       '[2009, 2010, 2012, 2013, 2014]', '[2008, 2009, 2015]',\n",
       "       '[2009, 2010, 2012, 2014]'], dtype=object)"
      ]
     },
     "execution_count": 84,
     "metadata": {},
     "output_type": "execute_result"
    }
   ],
   "source": [
    "#investigate ELITE column\n",
    "users.elite.unique()"
   ]
  },
  {
   "cell_type": "code",
   "execution_count": 85,
   "metadata": {
    "collapsed": true
   },
   "outputs": [],
   "source": [
    "#Convert string years values to list of years\n",
    "users['elite'] = users['elite'].apply(lambda x: x.translate(None,'[]'))"
   ]
  },
  {
   "cell_type": "code",
   "execution_count": 86,
   "metadata": {
    "collapsed": false
   },
   "outputs": [],
   "source": [
    "users['elite'] = users['elite'].apply(lambda x: x.split(',') if len(x) > 0 else list(x))"
   ]
  },
  {
   "cell_type": "code",
   "execution_count": 87,
   "metadata": {
    "collapsed": false
   },
   "outputs": [
    {
     "data": {
      "text/plain": [
       "0    [2005,  2006,  2007,  2008,  2009,  2010,  201...\n",
       "1    [2005,  2006,  2007,  2008,  2009,  2010,  201...\n",
       "2                                               [2005]\n",
       "3                                                   []\n",
       "4     [2005,  2006,  2007,  2008,  2010,  2011,  2012]\n",
       "Name: elite, dtype: object"
      ]
     },
     "execution_count": 87,
     "metadata": {},
     "output_type": "execute_result"
    }
   ],
   "source": [
    "users.elite.head()"
   ]
  },
  {
   "cell_type": "code",
   "execution_count": 88,
   "metadata": {
    "collapsed": true
   },
   "outputs": [],
   "source": [
    "#add column that computes number of years a user was elite\n",
    "users['n_yrs_elite'] = users['elite'].apply(lambda x: len(x))"
   ]
  },
  {
   "cell_type": "code",
   "execution_count": 89,
   "metadata": {
    "collapsed": false
   },
   "outputs": [
    {
     "data": {
      "text/plain": [
       "0     127583\n",
       "1       3935\n",
       "2       3571\n",
       "3       2853\n",
       "4       2535\n",
       "5       1572\n",
       "6       1131\n",
       "7        557\n",
       "8        270\n",
       "9        142\n",
       "10        46\n",
       "11        11\n",
       "Name: n_yrs_elite, dtype: int64"
      ]
     },
     "execution_count": 89,
     "metadata": {},
     "output_type": "execute_result"
    }
   ],
   "source": [
    "users.n_yrs_elite.value_counts()"
   ]
  },
  {
   "cell_type": "code",
   "execution_count": 90,
   "metadata": {
    "collapsed": false
   },
   "outputs": [
    {
     "name": "stdout",
     "output_type": "stream",
     "text": [
      "<class 'pandas.core.frame.DataFrame'>\n",
      "RangeIndex: 144206 entries, 0 to 144205\n",
      "Data columns (total 22 columns):\n",
      "yelping_since          144206 non-null object\n",
      "compliments.plain      47034 non-null float64\n",
      "review_count           144206 non-null int64\n",
      "compliments.cute       13133 non-null float64\n",
      "compliments.writer     33222 non-null float64\n",
      "fans                   144206 non-null int64\n",
      "compliments.note       39872 non-null float64\n",
      "compliments.hot        31748 non-null float64\n",
      "compliments.cool       41069 non-null float64\n",
      "compliments.profile    12368 non-null float64\n",
      "average_stars          144206 non-null float64\n",
      "compliments.more       25066 non-null float64\n",
      "elite                  144206 non-null object\n",
      "name                   144206 non-null object\n",
      "user_id                144206 non-null object\n",
      "votes.cool             144206 non-null int64\n",
      "compliments.list       7180 non-null float64\n",
      "votes.funny            144206 non-null int64\n",
      "compliments.photos     18759 non-null float64\n",
      "compliments.funny      30612 non-null float64\n",
      "votes.useful           144206 non-null int64\n",
      "n_yrs_elite            144206 non-null int64\n",
      "dtypes: float64(12), int64(6), object(4)\n",
      "memory usage: 24.2+ MB\n"
     ]
    }
   ],
   "source": [
    "users.info()"
   ]
  },
  {
   "cell_type": "code",
   "execution_count": 91,
   "metadata": {
    "collapsed": false
   },
   "outputs": [
    {
     "data": {
      "text/plain": [
       "yelping_since              0\n",
       "compliments.plain        652\n",
       "review_count               0\n",
       "compliments.cute        8158\n",
       "compliments.writer      1340\n",
       "fans                       0\n",
       "compliments.note        1156\n",
       "compliments.hot         1398\n",
       "compliments.cool         585\n",
       "compliments.profile     7607\n",
       "average_stars              0\n",
       "compliments.more        3515\n",
       "elite                      0\n",
       "name                       0\n",
       "user_id                    0\n",
       "votes.cool                 0\n",
       "compliments.list       10638\n",
       "votes.funny                0\n",
       "compliments.photos      5518\n",
       "compliments.funny       2627\n",
       "votes.useful               0\n",
       "n_yrs_elite                0\n",
       "dtype: int64"
      ]
     },
     "execution_count": 91,
     "metadata": {},
     "output_type": "execute_result"
    }
   ],
   "source": [
    "#check for presence of missing values of possible predictor variables among elite users\n",
    "users[users.n_yrs_elite > 0].isnull().sum(axis=0)"
   ]
  },
  {
   "cell_type": "code",
   "execution_count": 92,
   "metadata": {
    "collapsed": false
   },
   "outputs": [
    {
     "data": {
      "text/plain": [
       "yelping_since               0\n",
       "compliments.plain       96520\n",
       "review_count                0\n",
       "compliments.cute       122915\n",
       "compliments.writer     109644\n",
       "fans                        0\n",
       "compliments.note       103178\n",
       "compliments.hot        111060\n",
       "compliments.cool       102552\n",
       "compliments.profile    124231\n",
       "average_stars               0\n",
       "compliments.more       115625\n",
       "elite                       0\n",
       "name                        0\n",
       "user_id                     0\n",
       "votes.cool                  0\n",
       "compliments.list       126388\n",
       "votes.funny                 0\n",
       "compliments.photos     119929\n",
       "compliments.funny      110967\n",
       "votes.useful                0\n",
       "n_yrs_elite                 0\n",
       "dtype: int64"
      ]
     },
     "execution_count": 92,
     "metadata": {},
     "output_type": "execute_result"
    }
   ],
   "source": [
    "#check for presence of missing values of possible predictor variables among users who were never elite\n",
    "users[users.n_yrs_elite == 0].isnull().sum(axis=0)"
   ]
  },
  {
   "cell_type": "code",
   "execution_count": 93,
   "metadata": {
    "collapsed": true
   },
   "outputs": [],
   "source": [
    "#replace missing values of predictors with 0's (appears to be logical in this situation)\n",
    "users.fillna(0, inplace=True)"
   ]
  },
  {
   "cell_type": "code",
   "execution_count": 94,
   "metadata": {
    "collapsed": false
   },
   "outputs": [
    {
     "data": {
      "text/html": [
       "<div>\n",
       "<table border=\"1\" class=\"dataframe\">\n",
       "  <thead>\n",
       "    <tr style=\"text-align: right;\">\n",
       "      <th>compliments.plain</th>\n",
       "      <th>0.0</th>\n",
       "      <th>1.0</th>\n",
       "      <th>2.0</th>\n",
       "      <th>3.0</th>\n",
       "      <th>4.0</th>\n",
       "      <th>5.0</th>\n",
       "      <th>6.0</th>\n",
       "      <th>7.0</th>\n",
       "      <th>8.0</th>\n",
       "      <th>9.0</th>\n",
       "      <th>...</th>\n",
       "      <th>7902.0</th>\n",
       "      <th>8561.0</th>\n",
       "      <th>9061.0</th>\n",
       "      <th>9075.0</th>\n",
       "      <th>9964.0</th>\n",
       "      <th>10306.0</th>\n",
       "      <th>10423.0</th>\n",
       "      <th>10583.0</th>\n",
       "      <th>11693.0</th>\n",
       "      <th>13129.0</th>\n",
       "    </tr>\n",
       "    <tr>\n",
       "      <th>n_yrs_elite</th>\n",
       "      <th></th>\n",
       "      <th></th>\n",
       "      <th></th>\n",
       "      <th></th>\n",
       "      <th></th>\n",
       "      <th></th>\n",
       "      <th></th>\n",
       "      <th></th>\n",
       "      <th></th>\n",
       "      <th></th>\n",
       "      <th></th>\n",
       "      <th></th>\n",
       "      <th></th>\n",
       "      <th></th>\n",
       "      <th></th>\n",
       "      <th></th>\n",
       "      <th></th>\n",
       "      <th></th>\n",
       "      <th></th>\n",
       "      <th></th>\n",
       "      <th></th>\n",
       "    </tr>\n",
       "  </thead>\n",
       "  <tbody>\n",
       "    <tr>\n",
       "      <th>0</th>\n",
       "      <td>96520</td>\n",
       "      <td>16463</td>\n",
       "      <td>5873</td>\n",
       "      <td>2782</td>\n",
       "      <td>1514</td>\n",
       "      <td>996</td>\n",
       "      <td>619</td>\n",
       "      <td>470</td>\n",
       "      <td>377</td>\n",
       "      <td>274</td>\n",
       "      <td>...</td>\n",
       "      <td>0</td>\n",
       "      <td>0</td>\n",
       "      <td>0</td>\n",
       "      <td>0</td>\n",
       "      <td>0</td>\n",
       "      <td>0</td>\n",
       "      <td>0</td>\n",
       "      <td>0</td>\n",
       "      <td>0</td>\n",
       "      <td>0</td>\n",
       "    </tr>\n",
       "    <tr>\n",
       "      <th>1</th>\n",
       "      <td>426</td>\n",
       "      <td>518</td>\n",
       "      <td>484</td>\n",
       "      <td>399</td>\n",
       "      <td>322</td>\n",
       "      <td>244</td>\n",
       "      <td>195</td>\n",
       "      <td>161</td>\n",
       "      <td>134</td>\n",
       "      <td>113</td>\n",
       "      <td>...</td>\n",
       "      <td>0</td>\n",
       "      <td>0</td>\n",
       "      <td>0</td>\n",
       "      <td>0</td>\n",
       "      <td>0</td>\n",
       "      <td>0</td>\n",
       "      <td>0</td>\n",
       "      <td>0</td>\n",
       "      <td>0</td>\n",
       "      <td>0</td>\n",
       "    </tr>\n",
       "    <tr>\n",
       "      <th>2</th>\n",
       "      <td>139</td>\n",
       "      <td>227</td>\n",
       "      <td>238</td>\n",
       "      <td>235</td>\n",
       "      <td>241</td>\n",
       "      <td>223</td>\n",
       "      <td>177</td>\n",
       "      <td>160</td>\n",
       "      <td>162</td>\n",
       "      <td>124</td>\n",
       "      <td>...</td>\n",
       "      <td>0</td>\n",
       "      <td>0</td>\n",
       "      <td>0</td>\n",
       "      <td>0</td>\n",
       "      <td>0</td>\n",
       "      <td>0</td>\n",
       "      <td>0</td>\n",
       "      <td>0</td>\n",
       "      <td>0</td>\n",
       "      <td>0</td>\n",
       "    </tr>\n",
       "    <tr>\n",
       "      <th>3</th>\n",
       "      <td>56</td>\n",
       "      <td>68</td>\n",
       "      <td>119</td>\n",
       "      <td>140</td>\n",
       "      <td>131</td>\n",
       "      <td>159</td>\n",
       "      <td>121</td>\n",
       "      <td>111</td>\n",
       "      <td>110</td>\n",
       "      <td>108</td>\n",
       "      <td>...</td>\n",
       "      <td>0</td>\n",
       "      <td>0</td>\n",
       "      <td>0</td>\n",
       "      <td>0</td>\n",
       "      <td>0</td>\n",
       "      <td>0</td>\n",
       "      <td>0</td>\n",
       "      <td>0</td>\n",
       "      <td>0</td>\n",
       "      <td>0</td>\n",
       "    </tr>\n",
       "    <tr>\n",
       "      <th>4</th>\n",
       "      <td>25</td>\n",
       "      <td>29</td>\n",
       "      <td>74</td>\n",
       "      <td>82</td>\n",
       "      <td>89</td>\n",
       "      <td>106</td>\n",
       "      <td>89</td>\n",
       "      <td>105</td>\n",
       "      <td>100</td>\n",
       "      <td>68</td>\n",
       "      <td>...</td>\n",
       "      <td>0</td>\n",
       "      <td>0</td>\n",
       "      <td>0</td>\n",
       "      <td>0</td>\n",
       "      <td>1</td>\n",
       "      <td>0</td>\n",
       "      <td>0</td>\n",
       "      <td>0</td>\n",
       "      <td>0</td>\n",
       "      <td>1</td>\n",
       "    </tr>\n",
       "    <tr>\n",
       "      <th>5</th>\n",
       "      <td>3</td>\n",
       "      <td>8</td>\n",
       "      <td>22</td>\n",
       "      <td>22</td>\n",
       "      <td>33</td>\n",
       "      <td>28</td>\n",
       "      <td>33</td>\n",
       "      <td>48</td>\n",
       "      <td>55</td>\n",
       "      <td>34</td>\n",
       "      <td>...</td>\n",
       "      <td>0</td>\n",
       "      <td>0</td>\n",
       "      <td>0</td>\n",
       "      <td>0</td>\n",
       "      <td>0</td>\n",
       "      <td>0</td>\n",
       "      <td>0</td>\n",
       "      <td>0</td>\n",
       "      <td>0</td>\n",
       "      <td>0</td>\n",
       "    </tr>\n",
       "    <tr>\n",
       "      <th>6</th>\n",
       "      <td>3</td>\n",
       "      <td>1</td>\n",
       "      <td>7</td>\n",
       "      <td>8</td>\n",
       "      <td>20</td>\n",
       "      <td>18</td>\n",
       "      <td>21</td>\n",
       "      <td>16</td>\n",
       "      <td>20</td>\n",
       "      <td>20</td>\n",
       "      <td>...</td>\n",
       "      <td>0</td>\n",
       "      <td>1</td>\n",
       "      <td>0</td>\n",
       "      <td>0</td>\n",
       "      <td>0</td>\n",
       "      <td>0</td>\n",
       "      <td>0</td>\n",
       "      <td>0</td>\n",
       "      <td>0</td>\n",
       "      <td>0</td>\n",
       "    </tr>\n",
       "    <tr>\n",
       "      <th>7</th>\n",
       "      <td>0</td>\n",
       "      <td>0</td>\n",
       "      <td>1</td>\n",
       "      <td>0</td>\n",
       "      <td>2</td>\n",
       "      <td>2</td>\n",
       "      <td>3</td>\n",
       "      <td>5</td>\n",
       "      <td>5</td>\n",
       "      <td>7</td>\n",
       "      <td>...</td>\n",
       "      <td>1</td>\n",
       "      <td>0</td>\n",
       "      <td>0</td>\n",
       "      <td>0</td>\n",
       "      <td>0</td>\n",
       "      <td>0</td>\n",
       "      <td>1</td>\n",
       "      <td>1</td>\n",
       "      <td>1</td>\n",
       "      <td>0</td>\n",
       "    </tr>\n",
       "    <tr>\n",
       "      <th>8</th>\n",
       "      <td>0</td>\n",
       "      <td>0</td>\n",
       "      <td>0</td>\n",
       "      <td>0</td>\n",
       "      <td>0</td>\n",
       "      <td>0</td>\n",
       "      <td>4</td>\n",
       "      <td>0</td>\n",
       "      <td>2</td>\n",
       "      <td>2</td>\n",
       "      <td>...</td>\n",
       "      <td>0</td>\n",
       "      <td>0</td>\n",
       "      <td>0</td>\n",
       "      <td>1</td>\n",
       "      <td>0</td>\n",
       "      <td>1</td>\n",
       "      <td>0</td>\n",
       "      <td>0</td>\n",
       "      <td>0</td>\n",
       "      <td>0</td>\n",
       "    </tr>\n",
       "    <tr>\n",
       "      <th>9</th>\n",
       "      <td>0</td>\n",
       "      <td>0</td>\n",
       "      <td>0</td>\n",
       "      <td>0</td>\n",
       "      <td>0</td>\n",
       "      <td>0</td>\n",
       "      <td>1</td>\n",
       "      <td>0</td>\n",
       "      <td>0</td>\n",
       "      <td>1</td>\n",
       "      <td>...</td>\n",
       "      <td>0</td>\n",
       "      <td>0</td>\n",
       "      <td>1</td>\n",
       "      <td>0</td>\n",
       "      <td>0</td>\n",
       "      <td>0</td>\n",
       "      <td>0</td>\n",
       "      <td>0</td>\n",
       "      <td>0</td>\n",
       "      <td>0</td>\n",
       "    </tr>\n",
       "    <tr>\n",
       "      <th>10</th>\n",
       "      <td>0</td>\n",
       "      <td>0</td>\n",
       "      <td>0</td>\n",
       "      <td>0</td>\n",
       "      <td>0</td>\n",
       "      <td>0</td>\n",
       "      <td>0</td>\n",
       "      <td>1</td>\n",
       "      <td>0</td>\n",
       "      <td>0</td>\n",
       "      <td>...</td>\n",
       "      <td>0</td>\n",
       "      <td>0</td>\n",
       "      <td>0</td>\n",
       "      <td>0</td>\n",
       "      <td>0</td>\n",
       "      <td>0</td>\n",
       "      <td>0</td>\n",
       "      <td>0</td>\n",
       "      <td>0</td>\n",
       "      <td>0</td>\n",
       "    </tr>\n",
       "    <tr>\n",
       "      <th>11</th>\n",
       "      <td>0</td>\n",
       "      <td>0</td>\n",
       "      <td>0</td>\n",
       "      <td>0</td>\n",
       "      <td>0</td>\n",
       "      <td>0</td>\n",
       "      <td>0</td>\n",
       "      <td>0</td>\n",
       "      <td>0</td>\n",
       "      <td>0</td>\n",
       "      <td>...</td>\n",
       "      <td>0</td>\n",
       "      <td>0</td>\n",
       "      <td>0</td>\n",
       "      <td>0</td>\n",
       "      <td>0</td>\n",
       "      <td>0</td>\n",
       "      <td>0</td>\n",
       "      <td>0</td>\n",
       "      <td>0</td>\n",
       "      <td>0</td>\n",
       "    </tr>\n",
       "  </tbody>\n",
       "</table>\n",
       "<p>12 rows × 939 columns</p>\n",
       "</div>"
      ],
      "text/plain": [
       "compliments.plain  0.0      1.0      2.0      3.0      4.0      5.0      \\\n",
       "n_yrs_elite                                                               \n",
       "0                    96520    16463     5873     2782     1514      996   \n",
       "1                      426      518      484      399      322      244   \n",
       "2                      139      227      238      235      241      223   \n",
       "3                       56       68      119      140      131      159   \n",
       "4                       25       29       74       82       89      106   \n",
       "5                        3        8       22       22       33       28   \n",
       "6                        3        1        7        8       20       18   \n",
       "7                        0        0        1        0        2        2   \n",
       "8                        0        0        0        0        0        0   \n",
       "9                        0        0        0        0        0        0   \n",
       "10                       0        0        0        0        0        0   \n",
       "11                       0        0        0        0        0        0   \n",
       "\n",
       "compliments.plain  6.0      7.0      8.0      9.0       ...     7902.0   \\\n",
       "n_yrs_elite                                             ...               \n",
       "0                      619      470      377      274   ...           0   \n",
       "1                      195      161      134      113   ...           0   \n",
       "2                      177      160      162      124   ...           0   \n",
       "3                      121      111      110      108   ...           0   \n",
       "4                       89      105      100       68   ...           0   \n",
       "5                       33       48       55       34   ...           0   \n",
       "6                       21       16       20       20   ...           0   \n",
       "7                        3        5        5        7   ...           1   \n",
       "8                        4        0        2        2   ...           0   \n",
       "9                        1        0        0        1   ...           0   \n",
       "10                       0        1        0        0   ...           0   \n",
       "11                       0        0        0        0   ...           0   \n",
       "\n",
       "compliments.plain  8561.0   9061.0   9075.0   9964.0   10306.0  10423.0  \\\n",
       "n_yrs_elite                                                               \n",
       "0                        0        0        0        0        0        0   \n",
       "1                        0        0        0        0        0        0   \n",
       "2                        0        0        0        0        0        0   \n",
       "3                        0        0        0        0        0        0   \n",
       "4                        0        0        0        1        0        0   \n",
       "5                        0        0        0        0        0        0   \n",
       "6                        1        0        0        0        0        0   \n",
       "7                        0        0        0        0        0        1   \n",
       "8                        0        0        1        0        1        0   \n",
       "9                        0        1        0        0        0        0   \n",
       "10                       0        0        0        0        0        0   \n",
       "11                       0        0        0        0        0        0   \n",
       "\n",
       "compliments.plain  10583.0  11693.0  13129.0  \n",
       "n_yrs_elite                                   \n",
       "0                        0        0        0  \n",
       "1                        0        0        0  \n",
       "2                        0        0        0  \n",
       "3                        0        0        0  \n",
       "4                        0        0        1  \n",
       "5                        0        0        0  \n",
       "6                        0        0        0  \n",
       "7                        1        1        0  \n",
       "8                        0        0        0  \n",
       "9                        0        0        0  \n",
       "10                       0        0        0  \n",
       "11                       0        0        0  \n",
       "\n",
       "[12 rows x 939 columns]"
      ]
     },
     "execution_count": 94,
     "metadata": {},
     "output_type": "execute_result"
    }
   ],
   "source": [
    "#check for correlation between n_years_elite and one of the count variables\n",
    "pd.crosstab(users.n_yrs_elite, users['compliments.plain'])"
   ]
  },
  {
   "cell_type": "code",
   "execution_count": 95,
   "metadata": {
    "collapsed": false
   },
   "outputs": [],
   "source": [
    "#convert the \"counts\" metrics for users (reviews, votes, compliments) to per-year values\n",
    "col_filter = [col for col in list(users) if (col.startswith('votes')) | (col.startswith('review'))\n",
    "                 | (col.startswith('compliments'))]"
   ]
  },
  {
   "cell_type": "code",
   "execution_count": 96,
   "metadata": {
    "collapsed": false
   },
   "outputs": [
    {
     "data": {
      "text/plain": [
       "['compliments.plain',\n",
       " 'review_count',\n",
       " 'compliments.cute',\n",
       " 'compliments.writer',\n",
       " 'compliments.note',\n",
       " 'compliments.hot',\n",
       " 'compliments.cool',\n",
       " 'compliments.profile',\n",
       " 'compliments.more',\n",
       " 'votes.cool',\n",
       " 'compliments.list',\n",
       " 'votes.funny',\n",
       " 'compliments.photos',\n",
       " 'compliments.funny',\n",
       " 'votes.useful']"
      ]
     },
     "execution_count": 96,
     "metadata": {},
     "output_type": "execute_result"
    }
   ],
   "source": [
    "col_filter"
   ]
  },
  {
   "cell_type": "code",
   "execution_count": 97,
   "metadata": {
    "collapsed": false
   },
   "outputs": [],
   "source": [
    "users['compliments.plain'] = np.where(users.n_yrs_elite > 1, users['compliments.plain'] / users['n_yrs_elite'], users['compliments.plain'])\n",
    "users['review_count'] = np.where(users.n_yrs_elite > 1, users['review_count'] / users['n_yrs_elite'], users['review_count'])\n",
    "users['compliments.cute'] = np.where(users.n_yrs_elite > 1, users['compliments.cute'] / users['n_yrs_elite'], users['compliments.cute'])\n",
    "users['compliments.writer'] = np.where(users.n_yrs_elite > 1, users['compliments.writer'] / users['n_yrs_elite'], users['compliments.writer'])\n",
    "users['compliments.note'] = np.where(users.n_yrs_elite > 1, users['compliments.note'] / users['n_yrs_elite'], users['compliments.note'])\n",
    "users['compliments.hot'] = np.where(users.n_yrs_elite > 1, users['compliments.hot'] / users['n_yrs_elite'], users['compliments.hot'])\n",
    "users['compliments.cool'] = np.where(users.n_yrs_elite > 1, users['compliments.cool'] / users['n_yrs_elite'], users['compliments.cool'])\n",
    "users['compliments.profile'] = np.where(users.n_yrs_elite > 1, users['compliments.profile'] / users['n_yrs_elite'], users['compliments.profile'])\n",
    "users['compliments.more'] = np.where(users.n_yrs_elite > 1, users['compliments.more'] / users['n_yrs_elite'], users['compliments.more'])\n",
    "users['votes.cool'] = np.where(users.n_yrs_elite > 1, users['votes.cool'] / users['n_yrs_elite'], users['votes.cool'])\n",
    "users['compliments.list'] = np.where(users.n_yrs_elite > 1, users['compliments.list'] / users['n_yrs_elite'], users['compliments.list'])\n",
    "users['votes.funny'] = np.where(users.n_yrs_elite > 1, users['votes.funny'] / users['n_yrs_elite'], users['votes.funny'])\n",
    "users['compliments.photos'] = np.where(users.n_yrs_elite > 1, users['compliments.photos'] / users['n_yrs_elite'], users['compliments.photos'])\n",
    "users['compliments.funny'] = np.where(users.n_yrs_elite > 1, users['compliments.funny'] / users['n_yrs_elite'], users['compliments.funny'])\n",
    "users['votes.useful'] = np.where(users.n_yrs_elite > 1, users['votes.useful'] / users['n_yrs_elite'], users['votes.useful'])"
   ]
  },
  {
   "cell_type": "code",
   "execution_count": 98,
   "metadata": {
    "collapsed": true
   },
   "outputs": [],
   "source": [
    "#create binary column for whether a user is elite or not\n",
    "users['elite_bin'] = np.where(users.n_yrs_elite > 0, 1, 0)"
   ]
  },
  {
   "cell_type": "code",
   "execution_count": 99,
   "metadata": {
    "collapsed": false
   },
   "outputs": [
    {
     "data": {
      "text/html": [
       "<div>\n",
       "<table border=\"1\" class=\"dataframe\">\n",
       "  <thead>\n",
       "    <tr style=\"text-align: right;\">\n",
       "      <th></th>\n",
       "      <th>compliments.plain</th>\n",
       "      <th>review_count</th>\n",
       "      <th>compliments.cute</th>\n",
       "      <th>compliments.writer</th>\n",
       "      <th>compliments.note</th>\n",
       "      <th>compliments.hot</th>\n",
       "      <th>compliments.cool</th>\n",
       "      <th>compliments.profile</th>\n",
       "      <th>compliments.more</th>\n",
       "      <th>votes.cool</th>\n",
       "      <th>compliments.list</th>\n",
       "      <th>votes.funny</th>\n",
       "      <th>compliments.photos</th>\n",
       "      <th>compliments.funny</th>\n",
       "      <th>votes.useful</th>\n",
       "    </tr>\n",
       "  </thead>\n",
       "  <tbody>\n",
       "    <tr>\n",
       "      <th>0</th>\n",
       "      <td>87.181818</td>\n",
       "      <td>115.818182</td>\n",
       "      <td>18.727273</td>\n",
       "      <td>29.727273</td>\n",
       "      <td>55.545455</td>\n",
       "      <td>99.454545</td>\n",
       "      <td>149.272727</td>\n",
       "      <td>10.545455</td>\n",
       "      <td>12.181818</td>\n",
       "      <td>1008.454545</td>\n",
       "      <td>3.454545</td>\n",
       "      <td>698.272727</td>\n",
       "      <td>30.000000</td>\n",
       "      <td>52.727273</td>\n",
       "      <td>1290.818182</td>\n",
       "    </tr>\n",
       "    <tr>\n",
       "      <th>1</th>\n",
       "      <td>8.090909</td>\n",
       "      <td>40.181818</td>\n",
       "      <td>2.090909</td>\n",
       "      <td>2.181818</td>\n",
       "      <td>7.545455</td>\n",
       "      <td>9.181818</td>\n",
       "      <td>13.181818</td>\n",
       "      <td>0.818182</td>\n",
       "      <td>1.727273</td>\n",
       "      <td>66.545455</td>\n",
       "      <td>0.363636</td>\n",
       "      <td>82.545455</td>\n",
       "      <td>2.181818</td>\n",
       "      <td>10.909091</td>\n",
       "      <td>134.818182</td>\n",
       "    </tr>\n",
       "    <tr>\n",
       "      <th>2</th>\n",
       "      <td>2.000000</td>\n",
       "      <td>66.000000</td>\n",
       "      <td>2.000000</td>\n",
       "      <td>2.000000</td>\n",
       "      <td>1.000000</td>\n",
       "      <td>1.000000</td>\n",
       "      <td>1.000000</td>\n",
       "      <td>0.000000</td>\n",
       "      <td>1.000000</td>\n",
       "      <td>13.000000</td>\n",
       "      <td>0.000000</td>\n",
       "      <td>11.000000</td>\n",
       "      <td>0.000000</td>\n",
       "      <td>0.000000</td>\n",
       "      <td>34.000000</td>\n",
       "    </tr>\n",
       "    <tr>\n",
       "      <th>3</th>\n",
       "      <td>5.000000</td>\n",
       "      <td>101.000000</td>\n",
       "      <td>1.000000</td>\n",
       "      <td>3.000000</td>\n",
       "      <td>3.000000</td>\n",
       "      <td>5.000000</td>\n",
       "      <td>4.000000</td>\n",
       "      <td>1.000000</td>\n",
       "      <td>2.000000</td>\n",
       "      <td>49.000000</td>\n",
       "      <td>0.000000</td>\n",
       "      <td>53.000000</td>\n",
       "      <td>1.000000</td>\n",
       "      <td>8.000000</td>\n",
       "      <td>243.000000</td>\n",
       "    </tr>\n",
       "    <tr>\n",
       "      <th>4</th>\n",
       "      <td>14.857143</td>\n",
       "      <td>140.428571</td>\n",
       "      <td>11.714286</td>\n",
       "      <td>2.428571</td>\n",
       "      <td>12.142857</td>\n",
       "      <td>37.857143</td>\n",
       "      <td>30.285714</td>\n",
       "      <td>1.285714</td>\n",
       "      <td>2.285714</td>\n",
       "      <td>275.428571</td>\n",
       "      <td>0.428571</td>\n",
       "      <td>158.428571</td>\n",
       "      <td>8.142857</td>\n",
       "      <td>10.000000</td>\n",
       "      <td>343.428571</td>\n",
       "    </tr>\n",
       "  </tbody>\n",
       "</table>\n",
       "</div>"
      ],
      "text/plain": [
       "   compliments.plain  review_count  compliments.cute  compliments.writer  \\\n",
       "0          87.181818    115.818182         18.727273           29.727273   \n",
       "1           8.090909     40.181818          2.090909            2.181818   \n",
       "2           2.000000     66.000000          2.000000            2.000000   \n",
       "3           5.000000    101.000000          1.000000            3.000000   \n",
       "4          14.857143    140.428571         11.714286            2.428571   \n",
       "\n",
       "   compliments.note  compliments.hot  compliments.cool  compliments.profile  \\\n",
       "0         55.545455        99.454545        149.272727            10.545455   \n",
       "1          7.545455         9.181818         13.181818             0.818182   \n",
       "2          1.000000         1.000000          1.000000             0.000000   \n",
       "3          3.000000         5.000000          4.000000             1.000000   \n",
       "4         12.142857        37.857143         30.285714             1.285714   \n",
       "\n",
       "   compliments.more   votes.cool  compliments.list  votes.funny  \\\n",
       "0         12.181818  1008.454545          3.454545   698.272727   \n",
       "1          1.727273    66.545455          0.363636    82.545455   \n",
       "2          1.000000    13.000000          0.000000    11.000000   \n",
       "3          2.000000    49.000000          0.000000    53.000000   \n",
       "4          2.285714   275.428571          0.428571   158.428571   \n",
       "\n",
       "   compliments.photos  compliments.funny  votes.useful  \n",
       "0           30.000000          52.727273   1290.818182  \n",
       "1            2.181818          10.909091    134.818182  \n",
       "2            0.000000           0.000000     34.000000  \n",
       "3            1.000000           8.000000    243.000000  \n",
       "4            8.142857          10.000000    343.428571  "
      ]
     },
     "execution_count": 99,
     "metadata": {},
     "output_type": "execute_result"
    }
   ],
   "source": [
    "#define X design matrix\n",
    "X = users[col_filter]\n",
    "X.head()"
   ]
  },
  {
   "cell_type": "code",
   "execution_count": 100,
   "metadata": {
    "collapsed": false
   },
   "outputs": [],
   "source": [
    "#define target\n",
    "Y = users.elite_bin"
   ]
  },
  {
   "cell_type": "code",
   "execution_count": 103,
   "metadata": {
    "collapsed": false
   },
   "outputs": [],
   "source": [
    "#normalize predictors and create Train and Test sets (CV will be done too below)\n",
    "ss = StandardScaler()\n",
    "Xn = ss.fit_transform(X)\n",
    "\n",
    "X_train, X_test, Y_train, Y_test =  train_test_split(Xn, Y, test_size = 0.2, random_state=1234)"
   ]
  },
  {
   "cell_type": "code",
   "execution_count": 104,
   "metadata": {
    "collapsed": false
   },
   "outputs": [
    {
     "data": {
      "text/plain": [
       "LogisticRegression(C=1.0, class_weight=None, dual=False, fit_intercept=True,\n",
       "          intercept_scaling=1, max_iter=100, multi_class='ovr', n_jobs=1,\n",
       "          penalty='l2', random_state=None, solver='liblinear', tol=0.0001,\n",
       "          verbose=0, warm_start=False)"
      ]
     },
     "execution_count": 104,
     "metadata": {},
     "output_type": "execute_result"
    }
   ],
   "source": [
    "#fit logistic regression on training set to predict Elite / Not Elite\n",
    "logreg = LogisticRegression()\n",
    "logreg.fit(X_train, Y_train)"
   ]
  },
  {
   "cell_type": "code",
   "execution_count": 105,
   "metadata": {
    "collapsed": false
   },
   "outputs": [
    {
     "data": {
      "text/plain": [
       "0.9090357477202593"
      ]
     },
     "execution_count": 105,
     "metadata": {},
     "output_type": "execute_result"
    }
   ],
   "source": [
    "#compute accuracy on training data\n",
    "logreg.score(X_train, Y_train)"
   ]
  },
  {
   "cell_type": "code",
   "execution_count": 106,
   "metadata": {
    "collapsed": false
   },
   "outputs": [
    {
     "data": {
      "text/plain": [
       "0.90506899660217743"
      ]
     },
     "execution_count": 106,
     "metadata": {},
     "output_type": "execute_result"
    }
   ],
   "source": [
    "#compute accuracy on test data\n",
    "logreg.score(X_test, Y_test)"
   ]
  },
  {
   "cell_type": "code",
   "execution_count": 110,
   "metadata": {
    "collapsed": false
   },
   "outputs": [
    {
     "name": "stdout",
     "output_type": "stream",
     "text": [
      "[ 0.90898689  0.90610915  0.90676791  0.9074896   0.90658807]\n",
      "0.907188323662\n"
     ]
    }
   ],
   "source": [
    "#run model again, but with cross-validation\n",
    "logreg_scores = cross_val_score(logreg, Xn, Y, cv=5)\n",
    "print logreg_scores\n",
    "print np.mean(logreg_scores)"
   ]
  },
  {
   "cell_type": "code",
   "execution_count": 148,
   "metadata": {
    "collapsed": true
   },
   "outputs": [],
   "source": [
    "#output confusion matrix on test data\n",
    "Y_pred = logreg.predict(X_test)"
   ]
  },
  {
   "cell_type": "code",
   "execution_count": 150,
   "metadata": {
    "collapsed": false
   },
   "outputs": [
    {
     "data": {
      "text/plain": [
       "array([[25109,   374],\n",
       "       [ 2364,   995]])"
      ]
     },
     "execution_count": 150,
     "metadata": {},
     "output_type": "execute_result"
    }
   ],
   "source": [
    "confusion_matrix(Y_test, Y_pred)"
   ]
  },
  {
   "cell_type": "code",
   "execution_count": 112,
   "metadata": {
    "collapsed": false
   },
   "outputs": [
    {
     "data": {
      "text/html": [
       "<div>\n",
       "<table border=\"1\" class=\"dataframe\">\n",
       "  <thead>\n",
       "    <tr style=\"text-align: right;\">\n",
       "      <th></th>\n",
       "      <th>abs_coef</th>\n",
       "      <th>coef</th>\n",
       "      <th>variable</th>\n",
       "    </tr>\n",
       "  </thead>\n",
       "  <tbody>\n",
       "    <tr>\n",
       "      <th>3</th>\n",
       "      <td>4.464036</td>\n",
       "      <td>4.464036</td>\n",
       "      <td>compliments.writer</td>\n",
       "    </tr>\n",
       "    <tr>\n",
       "      <th>10</th>\n",
       "      <td>3.261229</td>\n",
       "      <td>3.261229</td>\n",
       "      <td>compliments.list</td>\n",
       "    </tr>\n",
       "    <tr>\n",
       "      <th>7</th>\n",
       "      <td>2.127138</td>\n",
       "      <td>-2.127138</td>\n",
       "      <td>compliments.profile</td>\n",
       "    </tr>\n",
       "    <tr>\n",
       "      <th>8</th>\n",
       "      <td>1.998754</td>\n",
       "      <td>1.998754</td>\n",
       "      <td>compliments.more</td>\n",
       "    </tr>\n",
       "    <tr>\n",
       "      <th>6</th>\n",
       "      <td>1.389984</td>\n",
       "      <td>1.389984</td>\n",
       "      <td>compliments.cool</td>\n",
       "    </tr>\n",
       "    <tr>\n",
       "      <th>12</th>\n",
       "      <td>1.280702</td>\n",
       "      <td>-1.280702</td>\n",
       "      <td>compliments.photos</td>\n",
       "    </tr>\n",
       "    <tr>\n",
       "      <th>11</th>\n",
       "      <td>1.218649</td>\n",
       "      <td>-1.218649</td>\n",
       "      <td>votes.funny</td>\n",
       "    </tr>\n",
       "    <tr>\n",
       "      <th>13</th>\n",
       "      <td>0.970283</td>\n",
       "      <td>-0.970283</td>\n",
       "      <td>compliments.funny</td>\n",
       "    </tr>\n",
       "    <tr>\n",
       "      <th>9</th>\n",
       "      <td>0.837906</td>\n",
       "      <td>0.837906</td>\n",
       "      <td>votes.cool</td>\n",
       "    </tr>\n",
       "    <tr>\n",
       "      <th>0</th>\n",
       "      <td>0.721563</td>\n",
       "      <td>-0.721563</td>\n",
       "      <td>compliments.plain</td>\n",
       "    </tr>\n",
       "    <tr>\n",
       "      <th>5</th>\n",
       "      <td>0.682188</td>\n",
       "      <td>-0.682188</td>\n",
       "      <td>compliments.hot</td>\n",
       "    </tr>\n",
       "    <tr>\n",
       "      <th>14</th>\n",
       "      <td>0.668061</td>\n",
       "      <td>0.668061</td>\n",
       "      <td>votes.useful</td>\n",
       "    </tr>\n",
       "    <tr>\n",
       "      <th>1</th>\n",
       "      <td>0.490313</td>\n",
       "      <td>0.490313</td>\n",
       "      <td>review_count</td>\n",
       "    </tr>\n",
       "    <tr>\n",
       "      <th>4</th>\n",
       "      <td>0.213879</td>\n",
       "      <td>0.213879</td>\n",
       "      <td>compliments.note</td>\n",
       "    </tr>\n",
       "    <tr>\n",
       "      <th>2</th>\n",
       "      <td>0.068864</td>\n",
       "      <td>0.068864</td>\n",
       "      <td>compliments.cute</td>\n",
       "    </tr>\n",
       "  </tbody>\n",
       "</table>\n",
       "</div>"
      ],
      "text/plain": [
       "    abs_coef      coef             variable\n",
       "3   4.464036  4.464036   compliments.writer\n",
       "10  3.261229  3.261229     compliments.list\n",
       "7   2.127138 -2.127138  compliments.profile\n",
       "8   1.998754  1.998754     compliments.more\n",
       "6   1.389984  1.389984     compliments.cool\n",
       "12  1.280702 -1.280702   compliments.photos\n",
       "11  1.218649 -1.218649          votes.funny\n",
       "13  0.970283 -0.970283    compliments.funny\n",
       "9   0.837906  0.837906           votes.cool\n",
       "0   0.721563 -0.721563    compliments.plain\n",
       "5   0.682188 -0.682188      compliments.hot\n",
       "14  0.668061  0.668061         votes.useful\n",
       "1   0.490313  0.490313         review_count\n",
       "4   0.213879  0.213879     compliments.note\n",
       "2   0.068864  0.068864     compliments.cute"
      ]
     },
     "execution_count": 112,
     "metadata": {},
     "output_type": "execute_result"
    }
   ],
   "source": [
    "#PRINT OUT LIST OF MOST IMPORTANT PREDICTORS\n",
    "coefs = pd.DataFrame({'coef':logreg.coef_[0], 'abs_coef':np.abs(logreg.coef_[0]),\n",
    "                      'variable':[col for col in X.columns]})\n",
    "coefs.sort_values('abs_coef', ascending=False, inplace=True)\n",
    "coefs"
   ]
  },
  {
   "cell_type": "code",
   "execution_count": 143,
   "metadata": {
    "collapsed": false
   },
   "outputs": [
    {
     "data": {
      "image/png": "[encoded data removed]",
      "text/plain": [
       "<matplotlib.figure.Figure at 0x110dbb7d0>"
      ]
     },
     "metadata": {
      "image/png": {
       "height": 359,
       "width": 594
      }
     },
     "output_type": "display_data"
    }
   ],
   "source": [
    "#Re-run prediction only using average stars value and time on Yelp\n",
    "users.average_stars.hist(bins=20);"
   ]
  },
  {
   "cell_type": "code",
   "execution_count": 120,
   "metadata": {
    "collapsed": false
   },
   "outputs": [
    {
     "data": {
      "text/plain": [
       "array(['2004-10', '2008-11', '2009-08', '2010-07', '2011-09', '2011-11',\n",
       "       '2012-04', '2012-07', '2012-10', '2013-07', '2013-10', '2014-04',\n",
       "       '2014-08', '2014-12', '2015-02', '2015-08', '2008-06', '2010-02',\n",
       "       '2010-08', '2010-10', '2011-01', '2012-02', '2012-03', '2012-06',\n",
       "       '2012-08', '2013-03', '2013-08', '2014-01', '2015-01', '2015-03',\n",
       "       '2007-06', '2008-02', '2011-05', '2011-07', '2011-10', '2012-11',\n",
       "       '2011-02', '2011-03', '2014-02', '2014-05', '2014-06', '2014-10',\n",
       "       '2013-02', '2015-09', '2015-10', '2012-01', '2013-01', '2013-06',\n",
       "       '2015-05', '2013-05', '2014-11', '2014-07', '2015-06', '2015-07',\n",
       "       '2010-09', '2013-09', '2014-09', '2013-12', '2009-04', '2015-04',\n",
       "       '2010-01', '2012-12', '2013-11', '2009-11', '2015-11', '2013-04',\n",
       "       '2014-03', '2004-11', '2007-03', '2008-09', '2010-04', '2004-12',\n",
       "       '2009-03', '2010-03', '2011-12', '2011-06', '2011-08', '2009-01',\n",
       "       '2009-07', '2009-09', '2010-11', '2009-10', '2010-12', '2005-01',\n",
       "       '2008-12', '2007-09', '2009-12', '2011-04', '2005-02', '2005-12',\n",
       "       '2010-06', '2015-12', '2005-03', '2008-03', '2005-04', '2005-05',\n",
       "       '2005-06', '2012-09', '2010-05', '2005-07', '2009-05', '2005-08',\n",
       "       '2007-08', '2005-09', '2007-12', '2005-10', '2007-11', '2012-05',\n",
       "       '2005-11', '2008-01', '2008-05', '2006-01', '2007-01', '2008-08',\n",
       "       '2006-02', '2006-03', '2008-10', '2009-06', '2006-09', '2008-04',\n",
       "       '2006-04', '2006-05', '2006-06', '2007-05', '2009-02', '2007-10',\n",
       "       '2006-07', '2007-04', '2006-08', '2006-10', '2007-07', '2006-11',\n",
       "       '2008-07', '2006-12', '2007-02'], dtype=object)"
      ]
     },
     "execution_count": 120,
     "metadata": {},
     "output_type": "execute_result"
    }
   ],
   "source": [
    "users.yelping_since.unique()"
   ]
  },
  {
   "cell_type": "code",
   "execution_count": 133,
   "metadata": {
    "collapsed": true
   },
   "outputs": [],
   "source": [
    "from datetime import datetime, date, timedelta\n",
    "from calendar import monthrange"
   ]
  },
  {
   "cell_type": "code",
   "execution_count": 124,
   "metadata": {
    "collapsed": true
   },
   "outputs": [],
   "source": [
    "users['started_yelp'] = users['yelping_since'].apply(lambda x: datetime.strptime(x, '%Y-%m'))"
   ]
  },
  {
   "cell_type": "code",
   "execution_count": 125,
   "metadata": {
    "collapsed": false
   },
   "outputs": [
    {
     "data": {
      "text/plain": [
       "array(['2004-10-01T00:00:00.000000000', '2008-11-01T00:00:00.000000000',\n",
       "       '2009-08-01T00:00:00.000000000', '2010-07-01T00:00:00.000000000',\n",
       "       '2011-09-01T00:00:00.000000000', '2011-11-01T00:00:00.000000000',\n",
       "       '2012-04-01T00:00:00.000000000', '2012-07-01T00:00:00.000000000',\n",
       "       '2012-10-01T00:00:00.000000000', '2013-07-01T00:00:00.000000000',\n",
       "       '2013-10-01T00:00:00.000000000', '2014-04-01T00:00:00.000000000',\n",
       "       '2014-08-01T00:00:00.000000000', '2014-12-01T00:00:00.000000000',\n",
       "       '2015-02-01T00:00:00.000000000', '2015-08-01T00:00:00.000000000',\n",
       "       '2008-06-01T00:00:00.000000000', '2010-02-01T00:00:00.000000000',\n",
       "       '2010-08-01T00:00:00.000000000', '2010-10-01T00:00:00.000000000',\n",
       "       '2011-01-01T00:00:00.000000000', '2012-02-01T00:00:00.000000000',\n",
       "       '2012-03-01T00:00:00.000000000', '2012-06-01T00:00:00.000000000',\n",
       "       '2012-08-01T00:00:00.000000000', '2013-03-01T00:00:00.000000000',\n",
       "       '2013-08-01T00:00:00.000000000', '2014-01-01T00:00:00.000000000',\n",
       "       '2015-01-01T00:00:00.000000000', '2015-03-01T00:00:00.000000000',\n",
       "       '2007-06-01T00:00:00.000000000', '2008-02-01T00:00:00.000000000',\n",
       "       '2011-05-01T00:00:00.000000000', '2011-07-01T00:00:00.000000000',\n",
       "       '2011-10-01T00:00:00.000000000', '2012-11-01T00:00:00.000000000',\n",
       "       '2011-02-01T00:00:00.000000000', '2011-03-01T00:00:00.000000000',\n",
       "       '2014-02-01T00:00:00.000000000', '2014-05-01T00:00:00.000000000',\n",
       "       '2014-06-01T00:00:00.000000000', '2014-10-01T00:00:00.000000000',\n",
       "       '2013-02-01T00:00:00.000000000', '2015-09-01T00:00:00.000000000',\n",
       "       '2015-10-01T00:00:00.000000000', '2012-01-01T00:00:00.000000000',\n",
       "       '2013-01-01T00:00:00.000000000', '2013-06-01T00:00:00.000000000',\n",
       "       '2015-05-01T00:00:00.000000000', '2013-05-01T00:00:00.000000000',\n",
       "       '2014-11-01T00:00:00.000000000', '2014-07-01T00:00:00.000000000',\n",
       "       '2015-06-01T00:00:00.000000000', '2015-07-01T00:00:00.000000000',\n",
       "       '2010-09-01T00:00:00.000000000', '2013-09-01T00:00:00.000000000',\n",
       "       '2014-09-01T00:00:00.000000000', '2013-12-01T00:00:00.000000000',\n",
       "       '2009-04-01T00:00:00.000000000', '2015-04-01T00:00:00.000000000',\n",
       "       '2010-01-01T00:00:00.000000000', '2012-12-01T00:00:00.000000000',\n",
       "       '2013-11-01T00:00:00.000000000', '2009-11-01T00:00:00.000000000',\n",
       "       '2015-11-01T00:00:00.000000000', '2013-04-01T00:00:00.000000000',\n",
       "       '2014-03-01T00:00:00.000000000', '2004-11-01T00:00:00.000000000',\n",
       "       '2007-03-01T00:00:00.000000000', '2008-09-01T00:00:00.000000000',\n",
       "       '2010-04-01T00:00:00.000000000', '2004-12-01T00:00:00.000000000',\n",
       "       '2009-03-01T00:00:00.000000000', '2010-03-01T00:00:00.000000000',\n",
       "       '2011-12-01T00:00:00.000000000', '2011-06-01T00:00:00.000000000',\n",
       "       '2011-08-01T00:00:00.000000000', '2009-01-01T00:00:00.000000000',\n",
       "       '2009-07-01T00:00:00.000000000', '2009-09-01T00:00:00.000000000',\n",
       "       '2010-11-01T00:00:00.000000000', '2009-10-01T00:00:00.000000000',\n",
       "       '2010-12-01T00:00:00.000000000', '2005-01-01T00:00:00.000000000',\n",
       "       '2008-12-01T00:00:00.000000000', '2007-09-01T00:00:00.000000000',\n",
       "       '2009-12-01T00:00:00.000000000', '2011-04-01T00:00:00.000000000',\n",
       "       '2005-02-01T00:00:00.000000000', '2005-12-01T00:00:00.000000000',\n",
       "       '2010-06-01T00:00:00.000000000', '2015-12-01T00:00:00.000000000',\n",
       "       '2005-03-01T00:00:00.000000000', '2008-03-01T00:00:00.000000000',\n",
       "       '2005-04-01T00:00:00.000000000', '2005-05-01T00:00:00.000000000',\n",
       "       '2005-06-01T00:00:00.000000000', '2012-09-01T00:00:00.000000000',\n",
       "       '2010-05-01T00:00:00.000000000', '2005-07-01T00:00:00.000000000',\n",
       "       '2009-05-01T00:00:00.000000000', '2005-08-01T00:00:00.000000000',\n",
       "       '2007-08-01T00:00:00.000000000', '2005-09-01T00:00:00.000000000',\n",
       "       '2007-12-01T00:00:00.000000000', '2005-10-01T00:00:00.000000000',\n",
       "       '2007-11-01T00:00:00.000000000', '2012-05-01T00:00:00.000000000',\n",
       "       '2005-11-01T00:00:00.000000000', '2008-01-01T00:00:00.000000000',\n",
       "       '2008-05-01T00:00:00.000000000', '2006-01-01T00:00:00.000000000',\n",
       "       '2007-01-01T00:00:00.000000000', '2008-08-01T00:00:00.000000000',\n",
       "       '2006-02-01T00:00:00.000000000', '2006-03-01T00:00:00.000000000',\n",
       "       '2008-10-01T00:00:00.000000000', '2009-06-01T00:00:00.000000000',\n",
       "       '2006-09-01T00:00:00.000000000', '2008-04-01T00:00:00.000000000',\n",
       "       '2006-04-01T00:00:00.000000000', '2006-05-01T00:00:00.000000000',\n",
       "       '2006-06-01T00:00:00.000000000', '2007-05-01T00:00:00.000000000',\n",
       "       '2009-02-01T00:00:00.000000000', '2007-10-01T00:00:00.000000000',\n",
       "       '2006-07-01T00:00:00.000000000', '2007-04-01T00:00:00.000000000',\n",
       "       '2006-08-01T00:00:00.000000000', '2006-10-01T00:00:00.000000000',\n",
       "       '2007-07-01T00:00:00.000000000', '2006-11-01T00:00:00.000000000',\n",
       "       '2008-07-01T00:00:00.000000000', '2006-12-01T00:00:00.000000000',\n",
       "       '2007-02-01T00:00:00.000000000'], dtype='datetime64[ns]')"
      ]
     },
     "execution_count": 125,
     "metadata": {},
     "output_type": "execute_result"
    }
   ],
   "source": [
    "users.started_yelp.unique()"
   ]
  },
  {
   "cell_type": "code",
   "execution_count": 140,
   "metadata": {
    "collapsed": true
   },
   "outputs": [],
   "source": [
    "def mos_on_yelp(d1):\n",
    "    d2 = datetime(2016,1,1)\n",
    "    #return abs(date2-date1).months\n",
    "    return abs((d1.year - d2.year)*12 + d1.month - d2.month)"
   ]
  },
  {
   "cell_type": "code",
   "execution_count": 141,
   "metadata": {
    "collapsed": false
   },
   "outputs": [],
   "source": [
    "users['months_on_yelp'] = users['started_yelp'].apply(lambda x: mos_on_yelp(x))"
   ]
  },
  {
   "cell_type": "code",
   "execution_count": 142,
   "metadata": {
    "collapsed": false
   },
   "outputs": [
    {
     "data": {
      "text/plain": [
       "array([135,  86,  77,  66,  52,  50,  45,  42,  39,  30,  27,  21,  17,\n",
       "        13,  11,   5,  91,  71,  65,  63,  60,  47,  46,  43,  41,  34,\n",
       "        29,  24,  12,  10, 103,  95,  56,  54,  51,  38,  59,  58,  23,\n",
       "        20,  19,  15,  35,   4,   3,  48,  36,  31,   8,  32,  14,  18,\n",
       "         7,   6,  64,  28,  16,  25,  81,   9,  72,  37,  26,  74,   2,\n",
       "        33,  22, 134, 106,  88,  69, 133,  82,  70,  49,  55,  53,  84,\n",
       "        78,  76,  62,  75,  61, 132,  85, 100,  73,  57, 131, 121,  67,\n",
       "         1, 130,  94, 129, 128, 127,  40,  68, 126,  80, 125, 101, 124,\n",
       "        97, 123,  98,  44, 122,  96,  92, 120, 108,  89, 119, 118,  87,\n",
       "        79, 112,  93, 117, 116, 115, 104,  83,  99, 114, 105, 113, 111,\n",
       "       102, 110,  90, 109, 107])"
      ]
     },
     "execution_count": 142,
     "metadata": {},
     "output_type": "execute_result"
    }
   ],
   "source": [
    "users.months_on_yelp.unique()"
   ]
  },
  {
   "cell_type": "code",
   "execution_count": 144,
   "metadata": {
    "collapsed": true
   },
   "outputs": [],
   "source": [
    "#identify predictors for model that does not use \"counts\" metrics for users (reviews, votes, compliments),\n",
    "X_nc = users[['months_on_yelp','average_stars']]"
   ]
  },
  {
   "cell_type": "code",
   "execution_count": 145,
   "metadata": {
    "collapsed": true
   },
   "outputs": [],
   "source": [
    "#normalize predictors\n",
    "ss = StandardScaler()\n",
    "X_nc_n = ss.fit_transform(X_nc)"
   ]
  },
  {
   "cell_type": "code",
   "execution_count": 146,
   "metadata": {
    "collapsed": false
   },
   "outputs": [
    {
     "name": "stdout",
     "output_type": "stream",
     "text": [
      "[ 0.88811456  0.88395396  0.88509812  0.88481276  0.88460472]\n",
      "0.885316821545\n"
     ]
    }
   ],
   "source": [
    "#run model again with cross-validation\n",
    "logreg_scores = cross_val_score(logreg, X_nc_n, Y, cv=5)\n",
    "print logreg_scores\n",
    "print np.mean(logreg_scores)"
   ]
  },
  {
   "cell_type": "markdown",
   "metadata": {},
   "source": [
    "The accuracy of the model with count variables is slightly better than that of the model that uses just Months on Yelp and Average Stars as predictors (90.7% vs. 88.5%)."
   ]
  },
  {
   "cell_type": "markdown",
   "metadata": {},
   "source": [
    "<img src=\"http://imgur.com/GCAf1UX.png\" style=\"float: left; margin: 25px 15px 0px 0px; height: 25px\">\n",
    "\n",
    "## 4. Find something interesting on your own\n",
    "\n",
    "---\n",
    "\n",
    "You want to impress your superiors at Yelp by doing some investigation into the data on your own. You want to do classification, but you're not sure on what.\n",
    "\n",
    "1. Create a hypothesis or hypotheses about the data based on whatever you are interested in, as long as it is predicting a category of some kind (classification).\n",
    "2. Explore the data visually (ideally related to this hypothesis).\n",
    "3. Build one or more classification models to predict your target variable. **Your modeling should include gridsearching to find optimal model parameters.**\n",
    "4. Evaluate the performance of your model. Explain why your model may have chosen those specific parameters during the gridsearch process.\n",
    "5. Write up what the model tells you. Does it validate or invalidate your hypothesis? Write this up as if for a non-technical audience."
   ]
  },
  {
   "cell_type": "markdown",
   "metadata": {},
   "source": [
    "HYPOTHESIS: Just like reviews, tips are not very reliable.  It's hard to rely on them as a consistent source of information.  Information provided in them is random, and so are the likes they receive.  Whether a tip receives at least one 'like' is not predicted strongly by tip's content, at least not by the 100 most two-word combinations."
   ]
  },
  {
   "cell_type": "code",
   "execution_count": 261,
   "metadata": {
    "collapsed": false
   },
   "outputs": [
    {
     "data": {
      "text/plain": [
       "count    101991.000000\n",
       "mean          0.015403\n",
       "std           0.137377\n",
       "min           0.000000\n",
       "25%           0.000000\n",
       "50%           0.000000\n",
       "75%           0.000000\n",
       "max           9.000000\n",
       "Name: likes, dtype: float64"
      ]
     },
     "execution_count": 261,
     "metadata": {},
     "output_type": "execute_result"
    }
   ],
   "source": [
    "tips.likes.describe()"
   ]
  },
  {
   "cell_type": "code",
   "execution_count": 262,
   "metadata": {
    "collapsed": true
   },
   "outputs": [],
   "source": [
    "tips['one_like'] = np.where(tips.likes > 0, 1, 0)"
   ]
  },
  {
   "cell_type": "code",
   "execution_count": 264,
   "metadata": {
    "collapsed": false
   },
   "outputs": [
    {
     "data": {
      "text/plain": [
       "0    100554\n",
       "1      1437\n",
       "Name: one_like, dtype: int64"
      ]
     },
     "execution_count": 264,
     "metadata": {},
     "output_type": "execute_result"
    }
   ],
   "source": [
    "tips.one_like.value_counts()"
   ]
  },
  {
   "cell_type": "code",
   "execution_count": 265,
   "metadata": {
    "collapsed": false
   },
   "outputs": [
    {
     "data": {
      "text/html": [
       "<div>\n",
       "<table border=\"1\" class=\"dataframe\">\n",
       "  <thead>\n",
       "    <tr style=\"text-align: right;\">\n",
       "      <th></th>\n",
       "      <th>likes</th>\n",
       "      <th>24 hours</th>\n",
       "      <th>amazing food</th>\n",
       "      <th>animal style</th>\n",
       "      <th>awesome food</th>\n",
       "      <th>awesome place</th>\n",
       "      <th>awesome service</th>\n",
       "      <th>beef hash</th>\n",
       "      <th>beer selection</th>\n",
       "      <th>best breakfast</th>\n",
       "      <th>...</th>\n",
       "      <th>service great</th>\n",
       "      <th>slow service</th>\n",
       "      <th>staff friendly</th>\n",
       "      <th>staff great</th>\n",
       "      <th>steak eggs</th>\n",
       "      <th>super friendly</th>\n",
       "      <th>sweet potato</th>\n",
       "      <th>velvet pancakes</th>\n",
       "      <th>worth wait</th>\n",
       "      <th>one_like</th>\n",
       "    </tr>\n",
       "  </thead>\n",
       "  <tbody>\n",
       "    <tr>\n",
       "      <th>count</th>\n",
       "      <td>101991.000000</td>\n",
       "      <td>101991.000000</td>\n",
       "      <td>101991.000000</td>\n",
       "      <td>101991.000000</td>\n",
       "      <td>101991.000000</td>\n",
       "      <td>101991.000000</td>\n",
       "      <td>101991.000000</td>\n",
       "      <td>101991.000000</td>\n",
       "      <td>101991.000000</td>\n",
       "      <td>101991.000000</td>\n",
       "      <td>...</td>\n",
       "      <td>101991.000000</td>\n",
       "      <td>101991.000000</td>\n",
       "      <td>101991.000000</td>\n",
       "      <td>101991.000000</td>\n",
       "      <td>101991.000000</td>\n",
       "      <td>101991.000000</td>\n",
       "      <td>101991.000000</td>\n",
       "      <td>101991.000000</td>\n",
       "      <td>101991.000000</td>\n",
       "      <td>101991.000000</td>\n",
       "    </tr>\n",
       "    <tr>\n",
       "      <th>mean</th>\n",
       "      <td>0.015403</td>\n",
       "      <td>0.001481</td>\n",
       "      <td>0.002432</td>\n",
       "      <td>0.002128</td>\n",
       "      <td>0.002226</td>\n",
       "      <td>0.001304</td>\n",
       "      <td>0.001245</td>\n",
       "      <td>0.001245</td>\n",
       "      <td>0.002216</td>\n",
       "      <td>0.002275</td>\n",
       "      <td>...</td>\n",
       "      <td>0.004167</td>\n",
       "      <td>0.001883</td>\n",
       "      <td>0.001549</td>\n",
       "      <td>0.001441</td>\n",
       "      <td>0.001500</td>\n",
       "      <td>0.001471</td>\n",
       "      <td>0.002549</td>\n",
       "      <td>0.002039</td>\n",
       "      <td>0.001784</td>\n",
       "      <td>0.014089</td>\n",
       "    </tr>\n",
       "    <tr>\n",
       "      <th>std</th>\n",
       "      <td>0.137377</td>\n",
       "      <td>0.038449</td>\n",
       "      <td>0.049251</td>\n",
       "      <td>0.047544</td>\n",
       "      <td>0.047332</td>\n",
       "      <td>0.036088</td>\n",
       "      <td>0.035266</td>\n",
       "      <td>0.035543</td>\n",
       "      <td>0.047229</td>\n",
       "      <td>0.047640</td>\n",
       "      <td>...</td>\n",
       "      <td>0.064570</td>\n",
       "      <td>0.043347</td>\n",
       "      <td>0.039329</td>\n",
       "      <td>0.037937</td>\n",
       "      <td>0.039206</td>\n",
       "      <td>0.038322</td>\n",
       "      <td>0.050620</td>\n",
       "      <td>0.045114</td>\n",
       "      <td>0.042206</td>\n",
       "      <td>0.117861</td>\n",
       "    </tr>\n",
       "    <tr>\n",
       "      <th>min</th>\n",
       "      <td>0.000000</td>\n",
       "      <td>0.000000</td>\n",
       "      <td>0.000000</td>\n",
       "      <td>0.000000</td>\n",
       "      <td>0.000000</td>\n",
       "      <td>0.000000</td>\n",
       "      <td>0.000000</td>\n",
       "      <td>0.000000</td>\n",
       "      <td>0.000000</td>\n",
       "      <td>0.000000</td>\n",
       "      <td>...</td>\n",
       "      <td>0.000000</td>\n",
       "      <td>0.000000</td>\n",
       "      <td>0.000000</td>\n",
       "      <td>0.000000</td>\n",
       "      <td>0.000000</td>\n",
       "      <td>0.000000</td>\n",
       "      <td>0.000000</td>\n",
       "      <td>0.000000</td>\n",
       "      <td>0.000000</td>\n",
       "      <td>0.000000</td>\n",
       "    </tr>\n",
       "    <tr>\n",
       "      <th>25%</th>\n",
       "      <td>0.000000</td>\n",
       "      <td>0.000000</td>\n",
       "      <td>0.000000</td>\n",
       "      <td>0.000000</td>\n",
       "      <td>0.000000</td>\n",
       "      <td>0.000000</td>\n",
       "      <td>0.000000</td>\n",
       "      <td>0.000000</td>\n",
       "      <td>0.000000</td>\n",
       "      <td>0.000000</td>\n",
       "      <td>...</td>\n",
       "      <td>0.000000</td>\n",
       "      <td>0.000000</td>\n",
       "      <td>0.000000</td>\n",
       "      <td>0.000000</td>\n",
       "      <td>0.000000</td>\n",
       "      <td>0.000000</td>\n",
       "      <td>0.000000</td>\n",
       "      <td>0.000000</td>\n",
       "      <td>0.000000</td>\n",
       "      <td>0.000000</td>\n",
       "    </tr>\n",
       "    <tr>\n",
       "      <th>50%</th>\n",
       "      <td>0.000000</td>\n",
       "      <td>0.000000</td>\n",
       "      <td>0.000000</td>\n",
       "      <td>0.000000</td>\n",
       "      <td>0.000000</td>\n",
       "      <td>0.000000</td>\n",
       "      <td>0.000000</td>\n",
       "      <td>0.000000</td>\n",
       "      <td>0.000000</td>\n",
       "      <td>0.000000</td>\n",
       "      <td>...</td>\n",
       "      <td>0.000000</td>\n",
       "      <td>0.000000</td>\n",
       "      <td>0.000000</td>\n",
       "      <td>0.000000</td>\n",
       "      <td>0.000000</td>\n",
       "      <td>0.000000</td>\n",
       "      <td>0.000000</td>\n",
       "      <td>0.000000</td>\n",
       "      <td>0.000000</td>\n",
       "      <td>0.000000</td>\n",
       "    </tr>\n",
       "    <tr>\n",
       "      <th>75%</th>\n",
       "      <td>0.000000</td>\n",
       "      <td>0.000000</td>\n",
       "      <td>0.000000</td>\n",
       "      <td>0.000000</td>\n",
       "      <td>0.000000</td>\n",
       "      <td>0.000000</td>\n",
       "      <td>0.000000</td>\n",
       "      <td>0.000000</td>\n",
       "      <td>0.000000</td>\n",
       "      <td>0.000000</td>\n",
       "      <td>...</td>\n",
       "      <td>0.000000</td>\n",
       "      <td>0.000000</td>\n",
       "      <td>0.000000</td>\n",
       "      <td>0.000000</td>\n",
       "      <td>0.000000</td>\n",
       "      <td>0.000000</td>\n",
       "      <td>0.000000</td>\n",
       "      <td>0.000000</td>\n",
       "      <td>0.000000</td>\n",
       "      <td>0.000000</td>\n",
       "    </tr>\n",
       "    <tr>\n",
       "      <th>max</th>\n",
       "      <td>9.000000</td>\n",
       "      <td>1.000000</td>\n",
       "      <td>1.000000</td>\n",
       "      <td>2.000000</td>\n",
       "      <td>2.000000</td>\n",
       "      <td>1.000000</td>\n",
       "      <td>1.000000</td>\n",
       "      <td>2.000000</td>\n",
       "      <td>2.000000</td>\n",
       "      <td>1.000000</td>\n",
       "      <td>...</td>\n",
       "      <td>2.000000</td>\n",
       "      <td>1.000000</td>\n",
       "      <td>1.000000</td>\n",
       "      <td>1.000000</td>\n",
       "      <td>2.000000</td>\n",
       "      <td>1.000000</td>\n",
       "      <td>2.000000</td>\n",
       "      <td>1.000000</td>\n",
       "      <td>1.000000</td>\n",
       "      <td>1.000000</td>\n",
       "    </tr>\n",
       "  </tbody>\n",
       "</table>\n",
       "<p>8 rows × 102 columns</p>\n",
       "</div>"
      ],
      "text/plain": [
       "               likes       24 hours   amazing food   animal style  \\\n",
       "count  101991.000000  101991.000000  101991.000000  101991.000000   \n",
       "mean        0.015403       0.001481       0.002432       0.002128   \n",
       "std         0.137377       0.038449       0.049251       0.047544   \n",
       "min         0.000000       0.000000       0.000000       0.000000   \n",
       "25%         0.000000       0.000000       0.000000       0.000000   \n",
       "50%         0.000000       0.000000       0.000000       0.000000   \n",
       "75%         0.000000       0.000000       0.000000       0.000000   \n",
       "max         9.000000       1.000000       1.000000       2.000000   \n",
       "\n",
       "        awesome food  awesome place  awesome service      beef hash  \\\n",
       "count  101991.000000  101991.000000    101991.000000  101991.000000   \n",
       "mean        0.002226       0.001304         0.001245       0.001245   \n",
       "std         0.047332       0.036088         0.035266       0.035543   \n",
       "min         0.000000       0.000000         0.000000       0.000000   \n",
       "25%         0.000000       0.000000         0.000000       0.000000   \n",
       "50%         0.000000       0.000000         0.000000       0.000000   \n",
       "75%         0.000000       0.000000         0.000000       0.000000   \n",
       "max         2.000000       1.000000         1.000000       2.000000   \n",
       "\n",
       "       beer selection  best breakfast      ...        service great  \\\n",
       "count   101991.000000   101991.000000      ...        101991.000000   \n",
       "mean         0.002216        0.002275      ...             0.004167   \n",
       "std          0.047229        0.047640      ...             0.064570   \n",
       "min          0.000000        0.000000      ...             0.000000   \n",
       "25%          0.000000        0.000000      ...             0.000000   \n",
       "50%          0.000000        0.000000      ...             0.000000   \n",
       "75%          0.000000        0.000000      ...             0.000000   \n",
       "max          2.000000        1.000000      ...             2.000000   \n",
       "\n",
       "        slow service  staff friendly    staff great     steak eggs  \\\n",
       "count  101991.000000   101991.000000  101991.000000  101991.000000   \n",
       "mean        0.001883        0.001549       0.001441       0.001500   \n",
       "std         0.043347        0.039329       0.037937       0.039206   \n",
       "min         0.000000        0.000000       0.000000       0.000000   \n",
       "25%         0.000000        0.000000       0.000000       0.000000   \n",
       "50%         0.000000        0.000000       0.000000       0.000000   \n",
       "75%         0.000000        0.000000       0.000000       0.000000   \n",
       "max         1.000000        1.000000       1.000000       2.000000   \n",
       "\n",
       "       super friendly   sweet potato  velvet pancakes     worth wait  \\\n",
       "count   101991.000000  101991.000000    101991.000000  101991.000000   \n",
       "mean         0.001471       0.002549         0.002039       0.001784   \n",
       "std          0.038322       0.050620         0.045114       0.042206   \n",
       "min          0.000000       0.000000         0.000000       0.000000   \n",
       "25%          0.000000       0.000000         0.000000       0.000000   \n",
       "50%          0.000000       0.000000         0.000000       0.000000   \n",
       "75%          0.000000       0.000000         0.000000       0.000000   \n",
       "max          1.000000       2.000000         1.000000       1.000000   \n",
       "\n",
       "            one_like  \n",
       "count  101991.000000  \n",
       "mean        0.014089  \n",
       "std         0.117861  \n",
       "min         0.000000  \n",
       "25%         0.000000  \n",
       "50%         0.000000  \n",
       "75%         0.000000  \n",
       "max         1.000000  \n",
       "\n",
       "[8 rows x 102 columns]"
      ]
     },
     "execution_count": 265,
     "metadata": {},
     "output_type": "execute_result"
    }
   ],
   "source": [
    "tips.describe()"
   ]
  },
  {
   "cell_type": "code",
   "execution_count": 272,
   "metadata": {
    "collapsed": false
   },
   "outputs": [],
   "source": [
    "Y = tips.one_like\n",
    "X = tips.drop(['one_like','likes','user_id','business_id','date'], axis=1)"
   ]
  },
  {
   "cell_type": "code",
   "execution_count": 273,
   "metadata": {
    "collapsed": false
   },
   "outputs": [],
   "source": [
    "ss = StandardScaler()\n",
    "Xn = ss.fit_transform(X)"
   ]
  },
  {
   "cell_type": "code",
   "execution_count": 276,
   "metadata": {
    "collapsed": false
   },
   "outputs": [
    {
     "name": "stdout",
     "output_type": "stream",
     "text": [
      "Fitting 5 folds for each of 20 candidates, totalling 100 fits\n"
     ]
    },
    {
     "ename": "KeyboardInterrupt",
     "evalue": "",
     "output_type": "error",
     "traceback": [
      "\u001b[0;31m---------------------------------------------------------------------------\u001b[0m",
      "\u001b[0;31mKeyboardInterrupt\u001b[0m                         Traceback (most recent call last)",
      "\u001b[0;32m<ipython-input-276-df916018fefd>\u001b[0m in \u001b[0;36m<module>\u001b[0;34m()\u001b[0m\n\u001b[1;32m      5\u001b[0m }\n\u001b[1;32m      6\u001b[0m \u001b[0mlr_gs\u001b[0m \u001b[0;34m=\u001b[0m \u001b[0mGridSearchCV\u001b[0m\u001b[0;34m(\u001b[0m\u001b[0mLogisticRegression\u001b[0m\u001b[0;34m(\u001b[0m\u001b[0;34m)\u001b[0m\u001b[0;34m,\u001b[0m \u001b[0mlr_params\u001b[0m\u001b[0;34m,\u001b[0m \u001b[0mcv\u001b[0m\u001b[0;34m=\u001b[0m\u001b[0;36m5\u001b[0m\u001b[0;34m,\u001b[0m \u001b[0mverbose\u001b[0m\u001b[0;34m=\u001b[0m\u001b[0;36m1\u001b[0m\u001b[0;34m)\u001b[0m\u001b[0;34m\u001b[0m\u001b[0m\n\u001b[0;32m----> 7\u001b[0;31m \u001b[0mlr_gs\u001b[0m\u001b[0;34m.\u001b[0m\u001b[0mfit\u001b[0m\u001b[0;34m(\u001b[0m\u001b[0mXn\u001b[0m\u001b[0;34m,\u001b[0m \u001b[0mY\u001b[0m\u001b[0;34m)\u001b[0m\u001b[0;34m\u001b[0m\u001b[0m\n\u001b[0m\u001b[1;32m      8\u001b[0m \u001b[0;32mprint\u001b[0m \u001b[0mlr_gs\u001b[0m\u001b[0;34m.\u001b[0m\u001b[0mbest_params_\u001b[0m\u001b[0;34m\u001b[0m\u001b[0m\n\u001b[1;32m      9\u001b[0m \u001b[0mbest_lr\u001b[0m \u001b[0;34m=\u001b[0m \u001b[0mlr_gs\u001b[0m\u001b[0;34m.\u001b[0m\u001b[0mbest_estimator_\u001b[0m\u001b[0;34m\u001b[0m\u001b[0m\n",
      "\u001b[0;32m/Users/sashakapralov/anaconda/envs/dsi/lib/python2.7/site-packages/sklearn/model_selection/_search.pyc\u001b[0m in \u001b[0;36mfit\u001b[0;34m(self, X, y, groups)\u001b[0m\n\u001b[1;32m    943\u001b[0m             \u001b[0mtrain\u001b[0m\u001b[0;34m/\u001b[0m\u001b[0mtest\u001b[0m \u001b[0mset\u001b[0m\u001b[0;34m.\u001b[0m\u001b[0;34m\u001b[0m\u001b[0m\n\u001b[1;32m    944\u001b[0m         \"\"\"\n\u001b[0;32m--> 945\u001b[0;31m         \u001b[0;32mreturn\u001b[0m \u001b[0mself\u001b[0m\u001b[0;34m.\u001b[0m\u001b[0m_fit\u001b[0m\u001b[0;34m(\u001b[0m\u001b[0mX\u001b[0m\u001b[0;34m,\u001b[0m \u001b[0my\u001b[0m\u001b[0;34m,\u001b[0m \u001b[0mgroups\u001b[0m\u001b[0;34m,\u001b[0m \u001b[0mParameterGrid\u001b[0m\u001b[0;34m(\u001b[0m\u001b[0mself\u001b[0m\u001b[0;34m.\u001b[0m\u001b[0mparam_grid\u001b[0m\u001b[0;34m)\u001b[0m\u001b[0;34m)\u001b[0m\u001b[0;34m\u001b[0m\u001b[0m\n\u001b[0m\u001b[1;32m    946\u001b[0m \u001b[0;34m\u001b[0m\u001b[0m\n\u001b[1;32m    947\u001b[0m \u001b[0;34m\u001b[0m\u001b[0m\n",
      "\u001b[0;32m/Users/sashakapralov/anaconda/envs/dsi/lib/python2.7/site-packages/sklearn/model_selection/_search.pyc\u001b[0m in \u001b[0;36m_fit\u001b[0;34m(self, X, y, groups, parameter_iterable)\u001b[0m\n\u001b[1;32m    562\u001b[0m                                   \u001b[0mreturn_times\u001b[0m\u001b[0;34m=\u001b[0m\u001b[0mTrue\u001b[0m\u001b[0;34m,\u001b[0m \u001b[0mreturn_parameters\u001b[0m\u001b[0;34m=\u001b[0m\u001b[0mTrue\u001b[0m\u001b[0;34m,\u001b[0m\u001b[0;34m\u001b[0m\u001b[0m\n\u001b[1;32m    563\u001b[0m                                   error_score=self.error_score)\n\u001b[0;32m--> 564\u001b[0;31m           \u001b[0;32mfor\u001b[0m \u001b[0mparameters\u001b[0m \u001b[0;32min\u001b[0m \u001b[0mparameter_iterable\u001b[0m\u001b[0;34m\u001b[0m\u001b[0m\n\u001b[0m\u001b[1;32m    565\u001b[0m           for train, test in cv_iter)\n\u001b[1;32m    566\u001b[0m \u001b[0;34m\u001b[0m\u001b[0m\n",
      "\u001b[0;32m/Users/sashakapralov/anaconda/envs/dsi/lib/python2.7/site-packages/sklearn/externals/joblib/parallel.pyc\u001b[0m in \u001b[0;36m__call__\u001b[0;34m(self, iterable)\u001b[0m\n\u001b[1;32m    756\u001b[0m             \u001b[0;31m# was dispatched. In particular this covers the edge\u001b[0m\u001b[0;34m\u001b[0m\u001b[0;34m\u001b[0m\u001b[0m\n\u001b[1;32m    757\u001b[0m             \u001b[0;31m# case of Parallel used with an exhausted iterator.\u001b[0m\u001b[0;34m\u001b[0m\u001b[0;34m\u001b[0m\u001b[0m\n\u001b[0;32m--> 758\u001b[0;31m             \u001b[0;32mwhile\u001b[0m \u001b[0mself\u001b[0m\u001b[0;34m.\u001b[0m\u001b[0mdispatch_one_batch\u001b[0m\u001b[0;34m(\u001b[0m\u001b[0miterator\u001b[0m\u001b[0;34m)\u001b[0m\u001b[0;34m:\u001b[0m\u001b[0;34m\u001b[0m\u001b[0m\n\u001b[0m\u001b[1;32m    759\u001b[0m                 \u001b[0mself\u001b[0m\u001b[0;34m.\u001b[0m\u001b[0m_iterating\u001b[0m \u001b[0;34m=\u001b[0m \u001b[0mTrue\u001b[0m\u001b[0;34m\u001b[0m\u001b[0m\n\u001b[1;32m    760\u001b[0m             \u001b[0;32melse\u001b[0m\u001b[0;34m:\u001b[0m\u001b[0;34m\u001b[0m\u001b[0m\n",
      "\u001b[0;32m/Users/sashakapralov/anaconda/envs/dsi/lib/python2.7/site-packages/sklearn/externals/joblib/parallel.pyc\u001b[0m in \u001b[0;36mdispatch_one_batch\u001b[0;34m(self, iterator)\u001b[0m\n\u001b[1;32m    606\u001b[0m                 \u001b[0;32mreturn\u001b[0m \u001b[0mFalse\u001b[0m\u001b[0;34m\u001b[0m\u001b[0m\n\u001b[1;32m    607\u001b[0m             \u001b[0;32melse\u001b[0m\u001b[0;34m:\u001b[0m\u001b[0;34m\u001b[0m\u001b[0m\n\u001b[0;32m--> 608\u001b[0;31m                 \u001b[0mself\u001b[0m\u001b[0;34m.\u001b[0m\u001b[0m_dispatch\u001b[0m\u001b[0;34m(\u001b[0m\u001b[0mtasks\u001b[0m\u001b[0;34m)\u001b[0m\u001b[0;34m\u001b[0m\u001b[0m\n\u001b[0m\u001b[1;32m    609\u001b[0m                 \u001b[0;32mreturn\u001b[0m \u001b[0mTrue\u001b[0m\u001b[0;34m\u001b[0m\u001b[0m\n\u001b[1;32m    610\u001b[0m \u001b[0;34m\u001b[0m\u001b[0m\n",
      "\u001b[0;32m/Users/sashakapralov/anaconda/envs/dsi/lib/python2.7/site-packages/sklearn/externals/joblib/parallel.pyc\u001b[0m in \u001b[0;36m_dispatch\u001b[0;34m(self, batch)\u001b[0m\n\u001b[1;32m    569\u001b[0m         \u001b[0mdispatch_timestamp\u001b[0m \u001b[0;34m=\u001b[0m \u001b[0mtime\u001b[0m\u001b[0;34m.\u001b[0m\u001b[0mtime\u001b[0m\u001b[0;34m(\u001b[0m\u001b[0;34m)\u001b[0m\u001b[0;34m\u001b[0m\u001b[0m\n\u001b[1;32m    570\u001b[0m         \u001b[0mcb\u001b[0m \u001b[0;34m=\u001b[0m \u001b[0mBatchCompletionCallBack\u001b[0m\u001b[0;34m(\u001b[0m\u001b[0mdispatch_timestamp\u001b[0m\u001b[0;34m,\u001b[0m \u001b[0mlen\u001b[0m\u001b[0;34m(\u001b[0m\u001b[0mbatch\u001b[0m\u001b[0;34m)\u001b[0m\u001b[0;34m,\u001b[0m \u001b[0mself\u001b[0m\u001b[0;34m)\u001b[0m\u001b[0;34m\u001b[0m\u001b[0m\n\u001b[0;32m--> 571\u001b[0;31m         \u001b[0mjob\u001b[0m \u001b[0;34m=\u001b[0m \u001b[0mself\u001b[0m\u001b[0;34m.\u001b[0m\u001b[0m_backend\u001b[0m\u001b[0;34m.\u001b[0m\u001b[0mapply_async\u001b[0m\u001b[0;34m(\u001b[0m\u001b[0mbatch\u001b[0m\u001b[0;34m,\u001b[0m \u001b[0mcallback\u001b[0m\u001b[0;34m=\u001b[0m\u001b[0mcb\u001b[0m\u001b[0;34m)\u001b[0m\u001b[0;34m\u001b[0m\u001b[0m\n\u001b[0m\u001b[1;32m    572\u001b[0m         \u001b[0mself\u001b[0m\u001b[0;34m.\u001b[0m\u001b[0m_jobs\u001b[0m\u001b[0;34m.\u001b[0m\u001b[0mappend\u001b[0m\u001b[0;34m(\u001b[0m\u001b[0mjob\u001b[0m\u001b[0;34m)\u001b[0m\u001b[0;34m\u001b[0m\u001b[0m\n\u001b[1;32m    573\u001b[0m \u001b[0;34m\u001b[0m\u001b[0m\n",
      "\u001b[0;32m/Users/sashakapralov/anaconda/envs/dsi/lib/python2.7/site-packages/sklearn/externals/joblib/_parallel_backends.pyc\u001b[0m in \u001b[0;36mapply_async\u001b[0;34m(self, func, callback)\u001b[0m\n\u001b[1;32m    107\u001b[0m     \u001b[0;32mdef\u001b[0m \u001b[0mapply_async\u001b[0m\u001b[0;34m(\u001b[0m\u001b[0mself\u001b[0m\u001b[0;34m,\u001b[0m \u001b[0mfunc\u001b[0m\u001b[0;34m,\u001b[0m \u001b[0mcallback\u001b[0m\u001b[0;34m=\u001b[0m\u001b[0mNone\u001b[0m\u001b[0;34m)\u001b[0m\u001b[0;34m:\u001b[0m\u001b[0;34m\u001b[0m\u001b[0m\n\u001b[1;32m    108\u001b[0m         \u001b[0;34m\"\"\"Schedule a func to be run\"\"\"\u001b[0m\u001b[0;34m\u001b[0m\u001b[0m\n\u001b[0;32m--> 109\u001b[0;31m         \u001b[0mresult\u001b[0m \u001b[0;34m=\u001b[0m \u001b[0mImmediateResult\u001b[0m\u001b[0;34m(\u001b[0m\u001b[0mfunc\u001b[0m\u001b[0;34m)\u001b[0m\u001b[0;34m\u001b[0m\u001b[0m\n\u001b[0m\u001b[1;32m    110\u001b[0m         \u001b[0;32mif\u001b[0m \u001b[0mcallback\u001b[0m\u001b[0;34m:\u001b[0m\u001b[0;34m\u001b[0m\u001b[0m\n\u001b[1;32m    111\u001b[0m             \u001b[0mcallback\u001b[0m\u001b[0;34m(\u001b[0m\u001b[0mresult\u001b[0m\u001b[0;34m)\u001b[0m\u001b[0;34m\u001b[0m\u001b[0m\n",
      "\u001b[0;32m/Users/sashakapralov/anaconda/envs/dsi/lib/python2.7/site-packages/sklearn/externals/joblib/_parallel_backends.pyc\u001b[0m in \u001b[0;36m__init__\u001b[0;34m(self, batch)\u001b[0m\n\u001b[1;32m    324\u001b[0m         \u001b[0;31m# Don't delay the application, to avoid keeping the input\u001b[0m\u001b[0;34m\u001b[0m\u001b[0;34m\u001b[0m\u001b[0m\n\u001b[1;32m    325\u001b[0m         \u001b[0;31m# arguments in memory\u001b[0m\u001b[0;34m\u001b[0m\u001b[0;34m\u001b[0m\u001b[0m\n\u001b[0;32m--> 326\u001b[0;31m         \u001b[0mself\u001b[0m\u001b[0;34m.\u001b[0m\u001b[0mresults\u001b[0m \u001b[0;34m=\u001b[0m \u001b[0mbatch\u001b[0m\u001b[0;34m(\u001b[0m\u001b[0;34m)\u001b[0m\u001b[0;34m\u001b[0m\u001b[0m\n\u001b[0m\u001b[1;32m    327\u001b[0m \u001b[0;34m\u001b[0m\u001b[0m\n\u001b[1;32m    328\u001b[0m     \u001b[0;32mdef\u001b[0m \u001b[0mget\u001b[0m\u001b[0;34m(\u001b[0m\u001b[0mself\u001b[0m\u001b[0;34m)\u001b[0m\u001b[0;34m:\u001b[0m\u001b[0;34m\u001b[0m\u001b[0m\n",
      "\u001b[0;32m/Users/sashakapralov/anaconda/envs/dsi/lib/python2.7/site-packages/sklearn/externals/joblib/parallel.pyc\u001b[0m in \u001b[0;36m__call__\u001b[0;34m(self)\u001b[0m\n\u001b[1;32m    129\u001b[0m \u001b[0;34m\u001b[0m\u001b[0m\n\u001b[1;32m    130\u001b[0m     \u001b[0;32mdef\u001b[0m \u001b[0m__call__\u001b[0m\u001b[0;34m(\u001b[0m\u001b[0mself\u001b[0m\u001b[0;34m)\u001b[0m\u001b[0;34m:\u001b[0m\u001b[0;34m\u001b[0m\u001b[0m\n\u001b[0;32m--> 131\u001b[0;31m         \u001b[0;32mreturn\u001b[0m \u001b[0;34m[\u001b[0m\u001b[0mfunc\u001b[0m\u001b[0;34m(\u001b[0m\u001b[0;34m*\u001b[0m\u001b[0margs\u001b[0m\u001b[0;34m,\u001b[0m \u001b[0;34m**\u001b[0m\u001b[0mkwargs\u001b[0m\u001b[0;34m)\u001b[0m \u001b[0;32mfor\u001b[0m \u001b[0mfunc\u001b[0m\u001b[0;34m,\u001b[0m \u001b[0margs\u001b[0m\u001b[0;34m,\u001b[0m \u001b[0mkwargs\u001b[0m \u001b[0;32min\u001b[0m \u001b[0mself\u001b[0m\u001b[0;34m.\u001b[0m\u001b[0mitems\u001b[0m\u001b[0;34m]\u001b[0m\u001b[0;34m\u001b[0m\u001b[0m\n\u001b[0m\u001b[1;32m    132\u001b[0m \u001b[0;34m\u001b[0m\u001b[0m\n\u001b[1;32m    133\u001b[0m     \u001b[0;32mdef\u001b[0m \u001b[0m__len__\u001b[0m\u001b[0;34m(\u001b[0m\u001b[0mself\u001b[0m\u001b[0;34m)\u001b[0m\u001b[0;34m:\u001b[0m\u001b[0;34m\u001b[0m\u001b[0m\n",
      "\u001b[0;32m/Users/sashakapralov/anaconda/envs/dsi/lib/python2.7/site-packages/sklearn/model_selection/_validation.pyc\u001b[0m in \u001b[0;36m_fit_and_score\u001b[0;34m(estimator, X, y, scorer, train, test, verbose, parameters, fit_params, return_train_score, return_parameters, return_n_test_samples, return_times, error_score)\u001b[0m\n\u001b[1;32m    236\u001b[0m             \u001b[0mestimator\u001b[0m\u001b[0;34m.\u001b[0m\u001b[0mfit\u001b[0m\u001b[0;34m(\u001b[0m\u001b[0mX_train\u001b[0m\u001b[0;34m,\u001b[0m \u001b[0;34m**\u001b[0m\u001b[0mfit_params\u001b[0m\u001b[0;34m)\u001b[0m\u001b[0;34m\u001b[0m\u001b[0m\n\u001b[1;32m    237\u001b[0m         \u001b[0;32melse\u001b[0m\u001b[0;34m:\u001b[0m\u001b[0;34m\u001b[0m\u001b[0m\n\u001b[0;32m--> 238\u001b[0;31m             \u001b[0mestimator\u001b[0m\u001b[0;34m.\u001b[0m\u001b[0mfit\u001b[0m\u001b[0;34m(\u001b[0m\u001b[0mX_train\u001b[0m\u001b[0;34m,\u001b[0m \u001b[0my_train\u001b[0m\u001b[0;34m,\u001b[0m \u001b[0;34m**\u001b[0m\u001b[0mfit_params\u001b[0m\u001b[0;34m)\u001b[0m\u001b[0;34m\u001b[0m\u001b[0m\n\u001b[0m\u001b[1;32m    239\u001b[0m \u001b[0;34m\u001b[0m\u001b[0m\n\u001b[1;32m    240\u001b[0m     \u001b[0;32mexcept\u001b[0m \u001b[0mException\u001b[0m \u001b[0;32mas\u001b[0m \u001b[0me\u001b[0m\u001b[0;34m:\u001b[0m\u001b[0;34m\u001b[0m\u001b[0m\n",
      "\u001b[0;32m/Users/sashakapralov/anaconda/envs/dsi/lib/python2.7/site-packages/sklearn/linear_model/logistic.pyc\u001b[0m in \u001b[0;36mfit\u001b[0;34m(self, X, y, sample_weight)\u001b[0m\n\u001b[1;32m   1184\u001b[0m                 \u001b[0mself\u001b[0m\u001b[0;34m.\u001b[0m\u001b[0mclass_weight\u001b[0m\u001b[0;34m,\u001b[0m \u001b[0mself\u001b[0m\u001b[0;34m.\u001b[0m\u001b[0mpenalty\u001b[0m\u001b[0;34m,\u001b[0m \u001b[0mself\u001b[0m\u001b[0;34m.\u001b[0m\u001b[0mdual\u001b[0m\u001b[0;34m,\u001b[0m \u001b[0mself\u001b[0m\u001b[0;34m.\u001b[0m\u001b[0mverbose\u001b[0m\u001b[0;34m,\u001b[0m\u001b[0;34m\u001b[0m\u001b[0m\n\u001b[1;32m   1185\u001b[0m                 \u001b[0mself\u001b[0m\u001b[0;34m.\u001b[0m\u001b[0mmax_iter\u001b[0m\u001b[0;34m,\u001b[0m \u001b[0mself\u001b[0m\u001b[0;34m.\u001b[0m\u001b[0mtol\u001b[0m\u001b[0;34m,\u001b[0m \u001b[0mself\u001b[0m\u001b[0;34m.\u001b[0m\u001b[0mrandom_state\u001b[0m\u001b[0;34m,\u001b[0m\u001b[0;34m\u001b[0m\u001b[0m\n\u001b[0;32m-> 1186\u001b[0;31m                 sample_weight=sample_weight)\n\u001b[0m\u001b[1;32m   1187\u001b[0m             \u001b[0mself\u001b[0m\u001b[0;34m.\u001b[0m\u001b[0mn_iter_\u001b[0m \u001b[0;34m=\u001b[0m \u001b[0mnp\u001b[0m\u001b[0;34m.\u001b[0m\u001b[0marray\u001b[0m\u001b[0;34m(\u001b[0m\u001b[0;34m[\u001b[0m\u001b[0mn_iter_\u001b[0m\u001b[0;34m]\u001b[0m\u001b[0;34m)\u001b[0m\u001b[0;34m\u001b[0m\u001b[0m\n\u001b[1;32m   1188\u001b[0m             \u001b[0;32mreturn\u001b[0m \u001b[0mself\u001b[0m\u001b[0;34m\u001b[0m\u001b[0m\n",
      "\u001b[0;32m/Users/sashakapralov/anaconda/envs/dsi/lib/python2.7/site-packages/sklearn/svm/base.pyc\u001b[0m in \u001b[0;36m_fit_liblinear\u001b[0;34m(X, y, C, fit_intercept, intercept_scaling, class_weight, penalty, dual, verbose, max_iter, tol, random_state, multi_class, loss, epsilon, sample_weight)\u001b[0m\n\u001b[1;32m    910\u001b[0m         \u001b[0mX\u001b[0m\u001b[0;34m,\u001b[0m \u001b[0my_ind\u001b[0m\u001b[0;34m,\u001b[0m \u001b[0msp\u001b[0m\u001b[0;34m.\u001b[0m\u001b[0misspmatrix\u001b[0m\u001b[0;34m(\u001b[0m\u001b[0mX\u001b[0m\u001b[0;34m)\u001b[0m\u001b[0;34m,\u001b[0m \u001b[0msolver_type\u001b[0m\u001b[0;34m,\u001b[0m \u001b[0mtol\u001b[0m\u001b[0;34m,\u001b[0m \u001b[0mbias\u001b[0m\u001b[0;34m,\u001b[0m \u001b[0mC\u001b[0m\u001b[0;34m,\u001b[0m\u001b[0;34m\u001b[0m\u001b[0m\n\u001b[1;32m    911\u001b[0m         \u001b[0mclass_weight_\u001b[0m\u001b[0;34m,\u001b[0m \u001b[0mmax_iter\u001b[0m\u001b[0;34m,\u001b[0m \u001b[0mrnd\u001b[0m\u001b[0;34m.\u001b[0m\u001b[0mrandint\u001b[0m\u001b[0;34m(\u001b[0m\u001b[0mnp\u001b[0m\u001b[0;34m.\u001b[0m\u001b[0miinfo\u001b[0m\u001b[0;34m(\u001b[0m\u001b[0;34m'i'\u001b[0m\u001b[0;34m)\u001b[0m\u001b[0;34m.\u001b[0m\u001b[0mmax\u001b[0m\u001b[0;34m)\u001b[0m\u001b[0;34m,\u001b[0m\u001b[0;34m\u001b[0m\u001b[0m\n\u001b[0;32m--> 912\u001b[0;31m         epsilon, sample_weight)\n\u001b[0m\u001b[1;32m    913\u001b[0m     \u001b[0;31m# Regarding rnd.randint(..) in the above signature:\u001b[0m\u001b[0;34m\u001b[0m\u001b[0;34m\u001b[0m\u001b[0m\n\u001b[1;32m    914\u001b[0m     \u001b[0;31m# seed for srand in range [0..INT_MAX); due to limitations in Numpy\u001b[0m\u001b[0;34m\u001b[0m\u001b[0;34m\u001b[0m\u001b[0m\n",
      "\u001b[0;31mKeyboardInterrupt\u001b[0m: "
     ]
    }
   ],
   "source": [
    "lr_params = {\n",
    "    'penalty':['l1','l2'],\n",
    "    'solver':['liblinear'],\n",
    "    'C':np.linspace(0.0001, 1000, 10)\n",
    "}\n",
    "lr_gs = GridSearchCV(LogisticRegression(), lr_params, cv=5, verbose=1)\n",
    "lr_gs.fit(Xn, Y)\n",
    "print lr_gs.best_params_\n",
    "best_lr = lr_gs.best_estimator_"
   ]
  },
  {
   "cell_type": "markdown",
   "metadata": {},
   "source": [
    "<img src=\"http://imgur.com/GCAf1UX.png\" style=\"float: left; margin: 25px 15px 0px 0px; height: 25px\">\n",
    "\n",
    "## 5. ROC and Precision-recall\n",
    "\n",
    "---\n",
    "\n",
    "Some categories have fewer overall businesses than others. Choose two categories of businesses to predict, one that makes your proportion of target classes as even as possible, and another that has very few businesses and thus makes the target varible imbalanced.\n",
    "\n",
    "1. Create two classification models predicting these categories. Optimize the models and choose variables as you see fit.\n",
    "- Make confusion matrices for your models. Describe the confusion matrices and explain what they tell you about your models' performance.\n",
    "- Make ROC curves for both models. What do the ROC curves describe and what do they tell you about your model?\n",
    "- Make Precision-Recall curves for the models. What do they describe? How do they compare to the ROC curves?\n",
    "- Explain when Precision-Recall may be preferable to ROC. Is that the case in either of your models?"
   ]
  },
  {
   "cell_type": "code",
   "execution_count": null,
   "metadata": {
    "collapsed": true
   },
   "outputs": [],
   "source": []
  },
  {
   "cell_type": "markdown",
   "metadata": {
    "collapsed": true
   },
   "source": [
    "## OOP, Stochastic Gradient Descent, and Linear Algebra\n",
    "\n",
    "---\n",
    "\n",
    "In this part of the project, you will implement machine learning algorithms we have covered in class from scratch. \n",
    "\n",
    "--- "
   ]
  },
  {
   "cell_type": "markdown",
   "metadata": {},
   "source": [
    "<img src=\"http://imgur.com/GCAf1UX.png\" style=\"float: left; margin: 25px 15px 0px 0px; height: 25px\">\n",
    "\n",
    "### 6. Implement the `LinearRegrssion` class using Stochastic Gradient Descent to include the following: \n",
    "\n",
    "- An option to regularize the model with Ridge Regression. The method should automatically calculate the best `alpha` for the user. The closed form solution for Ridge Regression may be helpful [Hint: Think of the `n_alphas` parameter in sklearn]\n",
    "\n",
    "\n",
    "Protip: Compare if your implemenation works by applying it on the Diabetes Dataset and seeing it how it compares to opensource implemenations in `sklearn` and `statsmodels`. \n",
    "\n",
    "http://statsmodels.sourceforge.net/devel/examples/#regression\n",
    "\n",
    "http://scikit-learn.org/stable/auto_examples/linear_model/plot_ols.html"
   ]
  },
  {
   "cell_type": "markdown",
   "metadata": {},
   "source": [
    "<img src=\"http://imgur.com/GCAf1UX.png\" style=\"float: left; margin: 25px 15px 0px 0px; height: 25px\">\n",
    "\n",
    "### 7. Extend the Binary `LogisticRegression` model to implement Multi-class classification that fits the model using Stochastic Gradient Descent. Include the following : \n",
    "\n",
    "- Use the program we coded in class that implemented Logistic regression for Binary classification and extend it to implement Multi-class classification \n",
    "  - [Binary Logistic regression program](https://github.com/ga-students/DSI-SF-5/blob/master/curriculum/week-04/logistic_regression/Logistic_regression.py)\n",
    "\n",
    "- An option to regularize the model with Ridge Regression. The method should automatically calculate the best `alpha` for the user. The closed form solution for Ridge Regression may be helpful [Hint: Think of the `n_alphas` parameter in sklear\n",
    "\n",
    "Check if the results of your `LogisticRegression` implementation matches with the Sklearn implementation: http://scikit-learn.org/stable/modules/generated/sklearn.linear_model.LogisticRegression.html"
   ]
  },
  {
   "cell_type": "code",
   "execution_count": null,
   "metadata": {
    "collapsed": true
   },
   "outputs": [],
   "source": []
  },
  {
   "cell_type": "markdown",
   "metadata": {},
   "source": [
    "<img src=\"http://imgur.com/GCAf1UX.png\" style=\"float: left; margin: 25px 15px 0px 0px; height: 25px\">\n",
    "### 8. Singular Value Decomposition \n",
    "\n",
    "- Read articles on image compression with SVD and use `numpy` apply it to images from the MNIST Datasets. To get the MNIST Datset, use the following comands. Note that the `mnist` data has shape `(70000, 784)`. You will need to convert it to 28x28 images [Hint: `np.reshape`]. \n",
    "       \n",
    "       from sklearn.datasets import fetch_mldata\n",
    "       mnist = fetch_mldata('MNIST original', data_home=custom_data_home)\n",
    "\n",
    "    https://inst.eecs.berkeley.edu/~ee127a/book/login/l_svd_apps_image.html\n",
    "\n",
    "    http://www.frankcleary.com/svdimage/\n",
    "    \n",
    "    \n",
    "- Apply Logistic Regression to classify MNIST Images. This may require having the images be `784` dimensions rather than `28x28`. Compare results of the classifier on a test set when you apply it on the raw dataset vs. the compressed version of dataset from SVD. "
   ]
  },
  {
   "cell_type": "code",
   "execution_count": 216,
   "metadata": {
    "collapsed": true
   },
   "outputs": [],
   "source": [
    "from sklearn.datasets import fetch_mldata"
   ]
  },
  {
   "cell_type": "code",
   "execution_count": 217,
   "metadata": {
    "collapsed": false
   },
   "outputs": [],
   "source": [
    "#files stored under Users/sashakapralov/scikit-learn-data\n",
    "mnist = fetch_mldata('MNIST original')"
   ]
  },
  {
   "cell_type": "code",
   "execution_count": 218,
   "metadata": {
    "collapsed": false
   },
   "outputs": [
    {
     "name": "stdout",
     "output_type": "stream",
     "text": [
      "<class 'sklearn.datasets.base.Bunch'>\n"
     ]
    }
   ],
   "source": [
    "print type(mnist)"
   ]
  },
  {
   "cell_type": "code",
   "execution_count": 219,
   "metadata": {
    "collapsed": true
   },
   "outputs": [],
   "source": [
    "x = mnist.data\n",
    "y = mnist.target"
   ]
  },
  {
   "cell_type": "code",
   "execution_count": 220,
   "metadata": {
    "collapsed": false
   },
   "outputs": [
    {
     "data": {
      "text/plain": [
       "array([ 0.,  0.,  0., ...,  9.,  9.,  9.])"
      ]
     },
     "execution_count": 220,
     "metadata": {},
     "output_type": "execute_result"
    }
   ],
   "source": [
    "y"
   ]
  },
  {
   "cell_type": "code",
   "execution_count": 19,
   "metadata": {
    "collapsed": false
   },
   "outputs": [
    {
     "name": "stdout",
     "output_type": "stream",
     "text": [
      "<type 'numpy.ndarray'>\n"
     ]
    }
   ],
   "source": [
    "print type(x)"
   ]
  },
  {
   "cell_type": "code",
   "execution_count": 20,
   "metadata": {
    "collapsed": false
   },
   "outputs": [
    {
     "data": {
      "text/plain": [
       "(70000, 784)"
      ]
     },
     "execution_count": 20,
     "metadata": {},
     "output_type": "execute_result"
    }
   ],
   "source": [
    "x.shape"
   ]
  },
  {
   "cell_type": "code",
   "execution_count": 21,
   "metadata": {
    "collapsed": false
   },
   "outputs": [
    {
     "data": {
      "text/plain": [
       "(70000,)"
      ]
     },
     "execution_count": 21,
     "metadata": {},
     "output_type": "execute_result"
    }
   ],
   "source": [
    "y.shape"
   ]
  },
  {
   "cell_type": "code",
   "execution_count": 275,
   "metadata": {
    "collapsed": true
   },
   "outputs": [],
   "source": [
    "lr = LogisticRegression()"
   ]
  },
  {
   "cell_type": "markdown",
   "metadata": {},
   "source": [
    "## Optional: Interview Practice"
   ]
  },
  {
   "cell_type": "markdown",
   "metadata": {},
   "source": [
    "## Coding Questions \n",
    "- Implement Binary Search in Python and write down the algorithmic complexity of the Binary Search Algorithm.\n",
    "\n",
    "\n",
    "- Implement Merge Sort in Python [Hint: First implement the `merge` function that combines two sorted arrays into one sorted array linear time]. What is the time complexity of `mergesort` ?\n",
    "\n",
    "\n",
    "- Find the closest pair from two sorted arrays. Given two sorted arrays and a number x, find the pair whose sum is closest to x and the pair has an element from each array. We are given two arrays ar1[0…m-1] and ar2[0..n-1] and a number x, we need to find the pair ar1[i] + ar2[j] such that absolute value of (ar1[i] + ar2[j] – x) is minimum. What is the time complexity of this algorithm?"
   ]
  },
  {
   "cell_type": "markdown",
   "metadata": {},
   "source": [
    "## Probability  and Statistics Questions \n",
    "\n",
    "- In any 15-minute interval, there is a 20% probability that you will see at least one shooting star. What is the probability that you see at least one shooting star in the period of an hour?\n",
    "\n",
    "\n",
    "- A certain couple tells you that they have two children, at least one of which is a girl. What is the probability that they have two girls?\n"
   ]
  },
  {
   "cell_type": "markdown",
   "metadata": {},
   "source": [
    "## Interview Questions Related to Material\n",
    "\n",
    "- Explain what is bias-variance tradeoff to a non-technical person. Why is it a useful framework? How do you detect bias in your models? How about you variance? \n",
    "\n",
    "\n",
    "- Explain why cross-validation is important. \n",
    "\n",
    "\n",
    "- What is regularization? What are the advantages/disadvantages of different types of regularization schemes? \n",
    "\n",
    "\n",
    "- What are the loss functions associated with linear regression, logistic regression, and KNN? \n",
    "\n",
    "\n",
    "- Can you give examples of feature engineering on datasets you have worked with? "
   ]
  }
 ],
 "metadata": {
  "anaconda-cloud": {},
  "kernelspec": {
   "display_name": "Python [conda env:dsi]",
   "language": "python",
   "name": "conda-env-dsi-py"
  },
  "language_info": {
   "codemirror_mode": {
    "name": "ipython",
    "version": 2
   },
   "file_extension": ".py",
   "mimetype": "text/x-python",
   "name": "python",
   "nbconvert_exporter": "python",
   "pygments_lexer": "ipython2",
   "version": "2.7.12"
  }
 },
 "nbformat": 4,
 "nbformat_minor": 0
}
